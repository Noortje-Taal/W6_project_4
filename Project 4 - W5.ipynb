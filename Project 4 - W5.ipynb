{
 "cells": [
  {
   "cell_type": "code",
   "execution_count": 1,
   "metadata": {},
   "outputs": [],
   "source": [
    "# PROJECT 4 \n",
    "    # E-commerce data: https://www.kaggle.com/carrie1/ecommerce-data \n",
    "        # 1. BASIC E-COMM INSIGHTS \n",
    "        # 2. DESCRIBE DATA \n",
    "        # 3. PLOT CLTV & REVENUE OVER TIME  \n",
    "        # 4. IS CLTV PREDICTOR FOR REVENUE?  \n",
    "        # 5. PREDICTION MODEL CLTV \n",
    "        # 6. PRODUCT CATEGORY: UNIT PRICE    "
   ]
  },
  {
   "cell_type": "code",
   "execution_count": 2,
   "metadata": {},
   "outputs": [
    {
     "data": {
      "text/html": [
       "        <script type=\"text/javascript\">\n",
       "        window.PlotlyConfig = {MathJaxConfig: 'local'};\n",
       "        if (window.MathJax) {MathJax.Hub.Config({SVG: {font: \"STIX-Web\"}});}\n",
       "        if (typeof require !== 'undefined') {\n",
       "        require.undef(\"plotly\");\n",
       "        requirejs.config({\n",
       "            paths: {\n",
       "                'plotly': ['https://cdn.plot.ly/plotly-latest.min']\n",
       "            }\n",
       "        });\n",
       "        require(['plotly'], function(Plotly) {\n",
       "            window._Plotly = Plotly;\n",
       "        });\n",
       "        }\n",
       "        </script>\n",
       "        "
      ]
     },
     "metadata": {},
     "output_type": "display_data"
    }
   ],
   "source": [
    "# Import Libraries\n",
    "\n",
    "'''\n",
    "L.S. First of all: Well done! This was a very interesting and well-excecuted project. You started off with a very clear\n",
    "idea on how to approach this kind of question and, fortunatly, you found a corresponding data set that gave you some interesting,\n",
    "albeit limited (due to the time span of the data) insights. The data exploration looks quite good and, I think, gave you some\n",
    "valuable information regarding the scope and limitations of the data. The presentation was also very good! You presented nice plots\n",
    "and were able to back-up your claims with statistical tests. The code quality is good as well. \n",
    "'''\n",
    "\n",
    "\n",
    "import pandas as pd \n",
    "import numpy as np\n",
    "import seaborn as sns\n",
    "import matplotlib.pyplot as plt\n",
    "%matplotlib inline \n",
    "import chart_studio.plotly as py\n",
    "import cufflinks as cf\n",
    "cf.go_offline()\n",
    "from ipywidgets import interact\n",
    "from scipy import stats \n",
    "import plotly.express as px\n",
    "import plotly.graph_objs as go\n",
    "import statsmodels.api as sm\n",
    "from pandas.plotting import lag_plot\n",
    "from statsmodels.tsa.stattools import adfuller\n",
    "from statsmodels.tsa.arima_model import ARMA\n",
    "from statsmodels.tools.eval_measures import rmse"
   ]
  },
  {
   "cell_type": "code",
   "execution_count": 3,
   "metadata": {},
   "outputs": [
    {
     "data": {
      "text/html": [
       "<div>\n",
       "<style scoped>\n",
       "    .dataframe tbody tr th:only-of-type {\n",
       "        vertical-align: middle;\n",
       "    }\n",
       "\n",
       "    .dataframe tbody tr th {\n",
       "        vertical-align: top;\n",
       "    }\n",
       "\n",
       "    .dataframe thead th {\n",
       "        text-align: right;\n",
       "    }\n",
       "</style>\n",
       "<table border=\"1\" class=\"dataframe\">\n",
       "  <thead>\n",
       "    <tr style=\"text-align: right;\">\n",
       "      <th></th>\n",
       "      <th>InvoiceNo</th>\n",
       "      <th>StockCode</th>\n",
       "      <th>Description</th>\n",
       "      <th>Quantity</th>\n",
       "      <th>InvoiceDate</th>\n",
       "      <th>UnitPrice</th>\n",
       "      <th>CustomerID</th>\n",
       "      <th>Country</th>\n",
       "    </tr>\n",
       "  </thead>\n",
       "  <tbody>\n",
       "    <tr>\n",
       "      <th>0</th>\n",
       "      <td>536365</td>\n",
       "      <td>85123A</td>\n",
       "      <td>WHITE HANGING HEART T-LIGHT HOLDER</td>\n",
       "      <td>6</td>\n",
       "      <td>12/1/2010 8:26</td>\n",
       "      <td>2.55</td>\n",
       "      <td>17850.0</td>\n",
       "      <td>United Kingdom</td>\n",
       "    </tr>\n",
       "    <tr>\n",
       "      <th>1</th>\n",
       "      <td>536365</td>\n",
       "      <td>71053</td>\n",
       "      <td>WHITE METAL LANTERN</td>\n",
       "      <td>6</td>\n",
       "      <td>12/1/2010 8:26</td>\n",
       "      <td>3.39</td>\n",
       "      <td>17850.0</td>\n",
       "      <td>United Kingdom</td>\n",
       "    </tr>\n",
       "    <tr>\n",
       "      <th>2</th>\n",
       "      <td>536365</td>\n",
       "      <td>84406B</td>\n",
       "      <td>CREAM CUPID HEARTS COAT HANGER</td>\n",
       "      <td>8</td>\n",
       "      <td>12/1/2010 8:26</td>\n",
       "      <td>2.75</td>\n",
       "      <td>17850.0</td>\n",
       "      <td>United Kingdom</td>\n",
       "    </tr>\n",
       "    <tr>\n",
       "      <th>3</th>\n",
       "      <td>536365</td>\n",
       "      <td>84029G</td>\n",
       "      <td>KNITTED UNION FLAG HOT WATER BOTTLE</td>\n",
       "      <td>6</td>\n",
       "      <td>12/1/2010 8:26</td>\n",
       "      <td>3.39</td>\n",
       "      <td>17850.0</td>\n",
       "      <td>United Kingdom</td>\n",
       "    </tr>\n",
       "    <tr>\n",
       "      <th>4</th>\n",
       "      <td>536365</td>\n",
       "      <td>84029E</td>\n",
       "      <td>RED WOOLLY HOTTIE WHITE HEART.</td>\n",
       "      <td>6</td>\n",
       "      <td>12/1/2010 8:26</td>\n",
       "      <td>3.39</td>\n",
       "      <td>17850.0</td>\n",
       "      <td>United Kingdom</td>\n",
       "    </tr>\n",
       "  </tbody>\n",
       "</table>\n",
       "</div>"
      ],
      "text/plain": [
       "  InvoiceNo StockCode                          Description  Quantity  \\\n",
       "0    536365    85123A   WHITE HANGING HEART T-LIGHT HOLDER         6   \n",
       "1    536365     71053                  WHITE METAL LANTERN         6   \n",
       "2    536365    84406B       CREAM CUPID HEARTS COAT HANGER         8   \n",
       "3    536365    84029G  KNITTED UNION FLAG HOT WATER BOTTLE         6   \n",
       "4    536365    84029E       RED WOOLLY HOTTIE WHITE HEART.         6   \n",
       "\n",
       "      InvoiceDate  UnitPrice  CustomerID         Country  \n",
       "0  12/1/2010 8:26       2.55     17850.0  United Kingdom  \n",
       "1  12/1/2010 8:26       3.39     17850.0  United Kingdom  \n",
       "2  12/1/2010 8:26       2.75     17850.0  United Kingdom  \n",
       "3  12/1/2010 8:26       3.39     17850.0  United Kingdom  \n",
       "4  12/1/2010 8:26       3.39     17850.0  United Kingdom  "
      ]
     },
     "execution_count": 3,
     "metadata": {},
     "output_type": "execute_result"
    }
   ],
   "source": [
    "# import data and encode 'cp1252'\n",
    "data = pd.read_csv('data.csv', encoding='cp1252')\n",
    "data.head() "
   ]
  },
  {
   "cell_type": "code",
   "execution_count": 4,
   "metadata": {},
   "outputs": [],
   "source": [
    "# DATA CLEANING"
   ]
  },
  {
   "cell_type": "code",
   "execution_count": 5,
   "metadata": {},
   "outputs": [
    {
     "data": {
      "text/html": [
       "<div>\n",
       "<style scoped>\n",
       "    .dataframe tbody tr th:only-of-type {\n",
       "        vertical-align: middle;\n",
       "    }\n",
       "\n",
       "    .dataframe tbody tr th {\n",
       "        vertical-align: top;\n",
       "    }\n",
       "\n",
       "    .dataframe thead th {\n",
       "        text-align: right;\n",
       "    }\n",
       "</style>\n",
       "<table border=\"1\" class=\"dataframe\">\n",
       "  <thead>\n",
       "    <tr style=\"text-align: right;\">\n",
       "      <th></th>\n",
       "      <th>InvoiceNo</th>\n",
       "      <th>StockCode</th>\n",
       "      <th>Description</th>\n",
       "      <th>Quantity</th>\n",
       "      <th>InvoiceDate</th>\n",
       "      <th>UnitPrice</th>\n",
       "      <th>CustomerID</th>\n",
       "      <th>Country</th>\n",
       "    </tr>\n",
       "  </thead>\n",
       "  <tbody>\n",
       "    <tr>\n",
       "      <th>0</th>\n",
       "      <td>536365</td>\n",
       "      <td>85123A</td>\n",
       "      <td>WHITE HANGING HEART T-LIGHT HOLDER</td>\n",
       "      <td>6</td>\n",
       "      <td>12/1/2010 8:26</td>\n",
       "      <td>2.55</td>\n",
       "      <td>17850</td>\n",
       "      <td>United Kingdom</td>\n",
       "    </tr>\n",
       "    <tr>\n",
       "      <th>1</th>\n",
       "      <td>536365</td>\n",
       "      <td>71053</td>\n",
       "      <td>WHITE METAL LANTERN</td>\n",
       "      <td>6</td>\n",
       "      <td>12/1/2010 8:26</td>\n",
       "      <td>3.39</td>\n",
       "      <td>17850</td>\n",
       "      <td>United Kingdom</td>\n",
       "    </tr>\n",
       "    <tr>\n",
       "      <th>2</th>\n",
       "      <td>536365</td>\n",
       "      <td>84406B</td>\n",
       "      <td>CREAM CUPID HEARTS COAT HANGER</td>\n",
       "      <td>8</td>\n",
       "      <td>12/1/2010 8:26</td>\n",
       "      <td>2.75</td>\n",
       "      <td>17850</td>\n",
       "      <td>United Kingdom</td>\n",
       "    </tr>\n",
       "    <tr>\n",
       "      <th>3</th>\n",
       "      <td>536365</td>\n",
       "      <td>84029G</td>\n",
       "      <td>KNITTED UNION FLAG HOT WATER BOTTLE</td>\n",
       "      <td>6</td>\n",
       "      <td>12/1/2010 8:26</td>\n",
       "      <td>3.39</td>\n",
       "      <td>17850</td>\n",
       "      <td>United Kingdom</td>\n",
       "    </tr>\n",
       "    <tr>\n",
       "      <th>4</th>\n",
       "      <td>536365</td>\n",
       "      <td>84029E</td>\n",
       "      <td>RED WOOLLY HOTTIE WHITE HEART.</td>\n",
       "      <td>6</td>\n",
       "      <td>12/1/2010 8:26</td>\n",
       "      <td>3.39</td>\n",
       "      <td>17850</td>\n",
       "      <td>United Kingdom</td>\n",
       "    </tr>\n",
       "  </tbody>\n",
       "</table>\n",
       "</div>"
      ],
      "text/plain": [
       "  InvoiceNo StockCode                          Description  Quantity  \\\n",
       "0    536365    85123A   WHITE HANGING HEART T-LIGHT HOLDER         6   \n",
       "1    536365     71053                  WHITE METAL LANTERN         6   \n",
       "2    536365    84406B       CREAM CUPID HEARTS COAT HANGER         8   \n",
       "3    536365    84029G  KNITTED UNION FLAG HOT WATER BOTTLE         6   \n",
       "4    536365    84029E       RED WOOLLY HOTTIE WHITE HEART.         6   \n",
       "\n",
       "      InvoiceDate  UnitPrice CustomerID         Country  \n",
       "0  12/1/2010 8:26       2.55      17850  United Kingdom  \n",
       "1  12/1/2010 8:26       3.39      17850  United Kingdom  \n",
       "2  12/1/2010 8:26       2.75      17850  United Kingdom  \n",
       "3  12/1/2010 8:26       3.39      17850  United Kingdom  \n",
       "4  12/1/2010 8:26       3.39      17850  United Kingdom  "
      ]
     },
     "execution_count": 5,
     "metadata": {},
     "output_type": "execute_result"
    }
   ],
   "source": [
    "# I first checked the data with following code: \n",
    "    # data.describe() >> unusual descriptive statistics? \n",
    "    # data.dtypes >> are the types correct? \n",
    "    # data[data.isnull().any(axis=1)].shape[0] >> how many rows with missing values in it? \n",
    "\n",
    "# filtering out negative Quantity and UnitPrices \n",
    "data2 = data[(data.Quantity > 0) & (data.UnitPrice > 0)]\n",
    "\n",
    "# filtering out rows with missing values \n",
    "data3 = data2.dropna()\n",
    "\n",
    "# make CustomerID an object instead of float \n",
    "data3['CustomerID'] = data3['CustomerID'].astype(object) \n",
    "\n",
    "# filtered descriptions with ‘DOTCOM POSTAGE’ & 'POSTAGE' & 'Manual' out (outliers + no direct indicator of sales)\n",
    "data4 = data3[(data3.Description != 'Manual') & (data3.Description != 'POSTAGE') \n",
    "                & (data3.Description !='DOTCOM POSTAGE')]\n",
    "\n",
    "# filtered out 2 extreme outliers (Quantity > 7000) \n",
    "data4 = data4[data4['Quantity'] < 7000] \n",
    "data4.head()"
   ]
  },
  {
   "cell_type": "code",
   "execution_count": 6,
   "metadata": {},
   "outputs": [],
   "source": [
    "# 1. BASIC E-COMM INSIGHTS:\n",
    "    # AVERAGE ORDER VALUE PER CUSTOMER \n",
    "    # AVERAGE PURCHASE FREQUENCY PER CUSTOMER \n",
    "    # AVERAGE RETURN RATE \n",
    "    # AVERAGE CHURN RATE \n",
    "    # AVERAGE CLTV (WITHOUT MARGIN) \n",
    "    # AVERAGE CLTV (WITH MARGIN) "
   ]
  },
  {
   "cell_type": "code",
   "execution_count": 7,
   "metadata": {},
   "outputs": [
    {
     "data": {
      "text/html": [
       "<div>\n",
       "<style scoped>\n",
       "    .dataframe tbody tr th:only-of-type {\n",
       "        vertical-align: middle;\n",
       "    }\n",
       "\n",
       "    .dataframe tbody tr th {\n",
       "        vertical-align: top;\n",
       "    }\n",
       "\n",
       "    .dataframe thead th {\n",
       "        text-align: right;\n",
       "    }\n",
       "</style>\n",
       "<table border=\"1\" class=\"dataframe\">\n",
       "  <thead>\n",
       "    <tr style=\"text-align: right;\">\n",
       "      <th></th>\n",
       "      <th>orders</th>\n",
       "      <th>quantity</th>\n",
       "      <th>revenue</th>\n",
       "    </tr>\n",
       "    <tr>\n",
       "      <th>customer_id</th>\n",
       "      <th></th>\n",
       "      <th></th>\n",
       "      <th></th>\n",
       "    </tr>\n",
       "  </thead>\n",
       "  <tbody>\n",
       "    <tr>\n",
       "      <th>12347.0</th>\n",
       "      <td>182</td>\n",
       "      <td>2458</td>\n",
       "      <td>4310.00</td>\n",
       "    </tr>\n",
       "    <tr>\n",
       "      <th>12348.0</th>\n",
       "      <td>27</td>\n",
       "      <td>2332</td>\n",
       "      <td>1437.24</td>\n",
       "    </tr>\n",
       "    <tr>\n",
       "      <th>12349.0</th>\n",
       "      <td>72</td>\n",
       "      <td>630</td>\n",
       "      <td>1457.55</td>\n",
       "    </tr>\n",
       "    <tr>\n",
       "      <th>12350.0</th>\n",
       "      <td>16</td>\n",
       "      <td>196</td>\n",
       "      <td>294.40</td>\n",
       "    </tr>\n",
       "    <tr>\n",
       "      <th>12352.0</th>\n",
       "      <td>77</td>\n",
       "      <td>526</td>\n",
       "      <td>1385.74</td>\n",
       "    </tr>\n",
       "  </tbody>\n",
       "</table>\n",
       "</div>"
      ],
      "text/plain": [
       "             orders  quantity  revenue\n",
       "customer_id                           \n",
       "12347.0         182      2458  4310.00\n",
       "12348.0          27      2332  1437.24\n",
       "12349.0          72       630  1457.55\n",
       "12350.0          16       196   294.40\n",
       "12352.0          77       526  1385.74"
      ]
     },
     "execution_count": 7,
     "metadata": {},
     "output_type": "execute_result"
    }
   ],
   "source": [
    "# select columns for calculations & change order\n",
    "data5 = data4[['CustomerID', 'InvoiceNo', 'Quantity', 'UnitPrice']]\n",
    "\n",
    "# change col names \n",
    "col_names = ['customer_id', 'order_id', 'quantity', 'unit_price']\n",
    "data5.columns = col_names\n",
    "data5.head()\n",
    "\n",
    "# make column revenue \n",
    "data5['revenue'] = data5['quantity']*data5['unit_price'] \n",
    "\n",
    "# make df1: total orders per customer (hoeveel bestellingen)\n",
    "df1 = pd.DataFrame(data5.groupby('customer_id')['order_id'].count())\n",
    "colorder = ['orders']\n",
    "df1.columns = colorder \n",
    "\n",
    "# make df2: total quantity per customer (hoeveel stuks)\n",
    "df2 = pd.DataFrame(data5.groupby('customer_id')['quantity'].sum())\n",
    "\n",
    "# make df3: total revenue per customer (opbrengst) \n",
    "df3 = pd.DataFrame(data5.groupby('customer_id')['revenue'].sum())\n",
    "\n",
    "# merge all dataframes \n",
    "df4 = pd.concat([df1, df2, df3], axis=1)\n",
    "df4.head() "
   ]
  },
  {
   "cell_type": "code",
   "execution_count": 8,
   "metadata": {},
   "outputs": [
    {
     "name": "stdout",
     "output_type": "stream",
     "text": [
      "the average order value is: 21.49\n",
      "\n",
      "the average purchase frequency is: 91\n",
      "\n",
      "the average return rate is: 0.98 this means that 98 % returns\n",
      "the average churn rate is: 0.02 this means that 2 % do not return\n",
      "\n",
      "the average CLTV without taking into account the profit margin is: 118364.78\n",
      "the average CLTV taking into account an average profit margin of 40% is: 47345.91\n"
     ]
    }
   ],
   "source": [
    "# average order value: total revenue / total orders \n",
    "avg_order_value = df4['revenue'].sum() / df4['orders'].sum() \n",
    "print('the average order value is:', round(avg_order_value,2))\n",
    "\n",
    "# average purchase frequency (average orders): mean orders \n",
    "avg_purchase_freq = df4['orders'].mean() \n",
    "print('\\nthe average purchase frequency is:', round(avg_purchase_freq))\n",
    "\n",
    "# average retrun_rate & churn rate\n",
    "retrun_rate = df4[df4.orders>1].shape[0]  / df4['orders'].shape[0]\n",
    "churn_rate = 1 - retrun_rate \n",
    "print('\\nthe average return rate is:', round(retrun_rate,2), 'this means that', int(round(retrun_rate,2)*100), '% returns')\n",
    "print('the average churn rate is:', round(churn_rate,2), 'this means that', int(round(churn_rate,2)*100), '% do not return')\n",
    "\n",
    "# avg CLTV & avg CLTV marge (I took an average gross profit margin of 40%)\n",
    "cltv_no_margin = (avg_order_value*avg_purchase_freq) / churn_rate\n",
    "cltv_margin = cltv_no_margin*0.40 \n",
    "\n",
    "print('\\nthe average CLTV without taking into account the profit margin is:', round(cltv_no_margin,2)) \n",
    "print('the average CLTV taking into account an average profit margin of 40% is:', round(cltv_margin,2))"
   ]
  },
  {
   "cell_type": "code",
   "execution_count": 9,
   "metadata": {},
   "outputs": [],
   "source": [
    "# DESCRIBE DATA "
   ]
  },
  {
   "cell_type": "code",
   "execution_count": 10,
   "metadata": {},
   "outputs": [
    {
     "data": {
      "text/html": [
       "<div>\n",
       "<style scoped>\n",
       "    .dataframe tbody tr th:only-of-type {\n",
       "        vertical-align: middle;\n",
       "    }\n",
       "\n",
       "    .dataframe tbody tr th {\n",
       "        vertical-align: top;\n",
       "    }\n",
       "\n",
       "    .dataframe thead th {\n",
       "        text-align: right;\n",
       "    }\n",
       "</style>\n",
       "<table border=\"1\" class=\"dataframe\">\n",
       "  <thead>\n",
       "    <tr style=\"text-align: right;\">\n",
       "      <th></th>\n",
       "      <th>InvoiceNo</th>\n",
       "      <th>StockCode</th>\n",
       "      <th>Description</th>\n",
       "      <th>Quantity</th>\n",
       "      <th>UnitPrice</th>\n",
       "      <th>CustomerID</th>\n",
       "      <th>Country</th>\n",
       "      <th>Date</th>\n",
       "      <th>Revenue</th>\n",
       "    </tr>\n",
       "  </thead>\n",
       "  <tbody>\n",
       "    <tr>\n",
       "      <th>0</th>\n",
       "      <td>536365</td>\n",
       "      <td>85123A</td>\n",
       "      <td>WHITE HANGING HEART T-LIGHT HOLDER</td>\n",
       "      <td>6</td>\n",
       "      <td>2.55</td>\n",
       "      <td>17850</td>\n",
       "      <td>United Kingdom</td>\n",
       "      <td>2010-12-01</td>\n",
       "      <td>15.30</td>\n",
       "    </tr>\n",
       "    <tr>\n",
       "      <th>1</th>\n",
       "      <td>536365</td>\n",
       "      <td>71053</td>\n",
       "      <td>WHITE METAL LANTERN</td>\n",
       "      <td>6</td>\n",
       "      <td>3.39</td>\n",
       "      <td>17850</td>\n",
       "      <td>United Kingdom</td>\n",
       "      <td>2010-12-01</td>\n",
       "      <td>20.34</td>\n",
       "    </tr>\n",
       "    <tr>\n",
       "      <th>2</th>\n",
       "      <td>536365</td>\n",
       "      <td>84406B</td>\n",
       "      <td>CREAM CUPID HEARTS COAT HANGER</td>\n",
       "      <td>8</td>\n",
       "      <td>2.75</td>\n",
       "      <td>17850</td>\n",
       "      <td>United Kingdom</td>\n",
       "      <td>2010-12-01</td>\n",
       "      <td>22.00</td>\n",
       "    </tr>\n",
       "    <tr>\n",
       "      <th>3</th>\n",
       "      <td>536365</td>\n",
       "      <td>84029G</td>\n",
       "      <td>KNITTED UNION FLAG HOT WATER BOTTLE</td>\n",
       "      <td>6</td>\n",
       "      <td>3.39</td>\n",
       "      <td>17850</td>\n",
       "      <td>United Kingdom</td>\n",
       "      <td>2010-12-01</td>\n",
       "      <td>20.34</td>\n",
       "    </tr>\n",
       "    <tr>\n",
       "      <th>4</th>\n",
       "      <td>536365</td>\n",
       "      <td>84029E</td>\n",
       "      <td>RED WOOLLY HOTTIE WHITE HEART.</td>\n",
       "      <td>6</td>\n",
       "      <td>3.39</td>\n",
       "      <td>17850</td>\n",
       "      <td>United Kingdom</td>\n",
       "      <td>2010-12-01</td>\n",
       "      <td>20.34</td>\n",
       "    </tr>\n",
       "  </tbody>\n",
       "</table>\n",
       "</div>"
      ],
      "text/plain": [
       "  InvoiceNo StockCode                          Description  Quantity  \\\n",
       "0    536365    85123A   WHITE HANGING HEART T-LIGHT HOLDER         6   \n",
       "1    536365     71053                  WHITE METAL LANTERN         6   \n",
       "2    536365    84406B       CREAM CUPID HEARTS COAT HANGER         8   \n",
       "3    536365    84029G  KNITTED UNION FLAG HOT WATER BOTTLE         6   \n",
       "4    536365    84029E       RED WOOLLY HOTTIE WHITE HEART.         6   \n",
       "\n",
       "   UnitPrice CustomerID         Country       Date  Revenue  \n",
       "0       2.55      17850  United Kingdom 2010-12-01    15.30  \n",
       "1       3.39      17850  United Kingdom 2010-12-01    20.34  \n",
       "2       2.75      17850  United Kingdom 2010-12-01    22.00  \n",
       "3       3.39      17850  United Kingdom 2010-12-01    20.34  \n",
       "4       3.39      17850  United Kingdom 2010-12-01    20.34  "
      ]
     },
     "execution_count": 10,
     "metadata": {},
     "output_type": "execute_result"
    }
   ],
   "source": [
    "# prepare df for descriptive plots \n",
    "# make datetime object of InvoiceDate (with only date) and call it Date \n",
    "data4['Date_Time'] = pd.to_datetime(data4['InvoiceDate'])\n",
    "data4['Date1'] = data4['Date_Time'].dt.date\n",
    "data4['Date'] = pd.to_datetime(data4['Date1'])\n",
    "data4 = data4.drop(['InvoiceDate', 'Date_Time', 'Date1'], axis=1)\n",
    "\n",
    "# make revenue column \n",
    "data4['Revenue'] = data4['Quantity']*data4['UnitPrice']\n",
    "data4.head()"
   ]
  },
  {
   "cell_type": "code",
   "execution_count": 11,
   "metadata": {},
   "outputs": [
    {
     "data": {
      "application/vnd.plotly.v1+json": {
       "config": {
        "linkText": "Export to plot.ly",
        "plotlyServerURL": "https://plot.ly",
        "showLink": true
       },
       "data": [
        {
         "marker": {
          "color": "rgba(255, 0, 136, 0.6)",
          "line": {
           "color": "rgba(255, 0, 136, 1.0)",
           "width": 1
          }
         },
         "name": "Count",
         "orientation": "v",
         "text": "",
         "type": "bar",
         "x": [
          "United Kingdom",
          "Germany",
          "France",
          "EIRE",
          "Spain",
          "Netherlands",
          "Belgium",
          "Switzerland",
          "Portugal",
          "Australia"
         ],
         "y": [
          354028,
          8658,
          8036,
          7234,
          2422,
          2322,
          1935,
          1810,
          1425,
          1181
         ]
        }
       ],
       "layout": {
        "legend": {
         "bgcolor": "#F5F6F9",
         "font": {
          "color": "#4D5663"
         }
        },
        "paper_bgcolor": "#F5F6F9",
        "plot_bgcolor": "#F5F6F9",
        "template": {
         "data": {
          "bar": [
           {
            "error_x": {
             "color": "#2a3f5f"
            },
            "error_y": {
             "color": "#2a3f5f"
            },
            "marker": {
             "line": {
              "color": "#E5ECF6",
              "width": 0.5
             }
            },
            "type": "bar"
           }
          ],
          "barpolar": [
           {
            "marker": {
             "line": {
              "color": "#E5ECF6",
              "width": 0.5
             }
            },
            "type": "barpolar"
           }
          ],
          "carpet": [
           {
            "aaxis": {
             "endlinecolor": "#2a3f5f",
             "gridcolor": "white",
             "linecolor": "white",
             "minorgridcolor": "white",
             "startlinecolor": "#2a3f5f"
            },
            "baxis": {
             "endlinecolor": "#2a3f5f",
             "gridcolor": "white",
             "linecolor": "white",
             "minorgridcolor": "white",
             "startlinecolor": "#2a3f5f"
            },
            "type": "carpet"
           }
          ],
          "choropleth": [
           {
            "colorbar": {
             "outlinewidth": 0,
             "ticks": ""
            },
            "type": "choropleth"
           }
          ],
          "contour": [
           {
            "colorbar": {
             "outlinewidth": 0,
             "ticks": ""
            },
            "colorscale": [
             [
              0,
              "#0d0887"
             ],
             [
              0.1111111111111111,
              "#46039f"
             ],
             [
              0.2222222222222222,
              "#7201a8"
             ],
             [
              0.3333333333333333,
              "#9c179e"
             ],
             [
              0.4444444444444444,
              "#bd3786"
             ],
             [
              0.5555555555555556,
              "#d8576b"
             ],
             [
              0.6666666666666666,
              "#ed7953"
             ],
             [
              0.7777777777777778,
              "#fb9f3a"
             ],
             [
              0.8888888888888888,
              "#fdca26"
             ],
             [
              1,
              "#f0f921"
             ]
            ],
            "type": "contour"
           }
          ],
          "contourcarpet": [
           {
            "colorbar": {
             "outlinewidth": 0,
             "ticks": ""
            },
            "type": "contourcarpet"
           }
          ],
          "heatmap": [
           {
            "colorbar": {
             "outlinewidth": 0,
             "ticks": ""
            },
            "colorscale": [
             [
              0,
              "#0d0887"
             ],
             [
              0.1111111111111111,
              "#46039f"
             ],
             [
              0.2222222222222222,
              "#7201a8"
             ],
             [
              0.3333333333333333,
              "#9c179e"
             ],
             [
              0.4444444444444444,
              "#bd3786"
             ],
             [
              0.5555555555555556,
              "#d8576b"
             ],
             [
              0.6666666666666666,
              "#ed7953"
             ],
             [
              0.7777777777777778,
              "#fb9f3a"
             ],
             [
              0.8888888888888888,
              "#fdca26"
             ],
             [
              1,
              "#f0f921"
             ]
            ],
            "type": "heatmap"
           }
          ],
          "heatmapgl": [
           {
            "colorbar": {
             "outlinewidth": 0,
             "ticks": ""
            },
            "colorscale": [
             [
              0,
              "#0d0887"
             ],
             [
              0.1111111111111111,
              "#46039f"
             ],
             [
              0.2222222222222222,
              "#7201a8"
             ],
             [
              0.3333333333333333,
              "#9c179e"
             ],
             [
              0.4444444444444444,
              "#bd3786"
             ],
             [
              0.5555555555555556,
              "#d8576b"
             ],
             [
              0.6666666666666666,
              "#ed7953"
             ],
             [
              0.7777777777777778,
              "#fb9f3a"
             ],
             [
              0.8888888888888888,
              "#fdca26"
             ],
             [
              1,
              "#f0f921"
             ]
            ],
            "type": "heatmapgl"
           }
          ],
          "histogram": [
           {
            "marker": {
             "colorbar": {
              "outlinewidth": 0,
              "ticks": ""
             }
            },
            "type": "histogram"
           }
          ],
          "histogram2d": [
           {
            "colorbar": {
             "outlinewidth": 0,
             "ticks": ""
            },
            "colorscale": [
             [
              0,
              "#0d0887"
             ],
             [
              0.1111111111111111,
              "#46039f"
             ],
             [
              0.2222222222222222,
              "#7201a8"
             ],
             [
              0.3333333333333333,
              "#9c179e"
             ],
             [
              0.4444444444444444,
              "#bd3786"
             ],
             [
              0.5555555555555556,
              "#d8576b"
             ],
             [
              0.6666666666666666,
              "#ed7953"
             ],
             [
              0.7777777777777778,
              "#fb9f3a"
             ],
             [
              0.8888888888888888,
              "#fdca26"
             ],
             [
              1,
              "#f0f921"
             ]
            ],
            "type": "histogram2d"
           }
          ],
          "histogram2dcontour": [
           {
            "colorbar": {
             "outlinewidth": 0,
             "ticks": ""
            },
            "colorscale": [
             [
              0,
              "#0d0887"
             ],
             [
              0.1111111111111111,
              "#46039f"
             ],
             [
              0.2222222222222222,
              "#7201a8"
             ],
             [
              0.3333333333333333,
              "#9c179e"
             ],
             [
              0.4444444444444444,
              "#bd3786"
             ],
             [
              0.5555555555555556,
              "#d8576b"
             ],
             [
              0.6666666666666666,
              "#ed7953"
             ],
             [
              0.7777777777777778,
              "#fb9f3a"
             ],
             [
              0.8888888888888888,
              "#fdca26"
             ],
             [
              1,
              "#f0f921"
             ]
            ],
            "type": "histogram2dcontour"
           }
          ],
          "mesh3d": [
           {
            "colorbar": {
             "outlinewidth": 0,
             "ticks": ""
            },
            "type": "mesh3d"
           }
          ],
          "parcoords": [
           {
            "line": {
             "colorbar": {
              "outlinewidth": 0,
              "ticks": ""
             }
            },
            "type": "parcoords"
           }
          ],
          "scatter": [
           {
            "marker": {
             "colorbar": {
              "outlinewidth": 0,
              "ticks": ""
             }
            },
            "type": "scatter"
           }
          ],
          "scatter3d": [
           {
            "line": {
             "colorbar": {
              "outlinewidth": 0,
              "ticks": ""
             }
            },
            "marker": {
             "colorbar": {
              "outlinewidth": 0,
              "ticks": ""
             }
            },
            "type": "scatter3d"
           }
          ],
          "scattercarpet": [
           {
            "marker": {
             "colorbar": {
              "outlinewidth": 0,
              "ticks": ""
             }
            },
            "type": "scattercarpet"
           }
          ],
          "scattergeo": [
           {
            "marker": {
             "colorbar": {
              "outlinewidth": 0,
              "ticks": ""
             }
            },
            "type": "scattergeo"
           }
          ],
          "scattergl": [
           {
            "marker": {
             "colorbar": {
              "outlinewidth": 0,
              "ticks": ""
             }
            },
            "type": "scattergl"
           }
          ],
          "scattermapbox": [
           {
            "marker": {
             "colorbar": {
              "outlinewidth": 0,
              "ticks": ""
             }
            },
            "type": "scattermapbox"
           }
          ],
          "scatterpolar": [
           {
            "marker": {
             "colorbar": {
              "outlinewidth": 0,
              "ticks": ""
             }
            },
            "type": "scatterpolar"
           }
          ],
          "scatterpolargl": [
           {
            "marker": {
             "colorbar": {
              "outlinewidth": 0,
              "ticks": ""
             }
            },
            "type": "scatterpolargl"
           }
          ],
          "scatterternary": [
           {
            "marker": {
             "colorbar": {
              "outlinewidth": 0,
              "ticks": ""
             }
            },
            "type": "scatterternary"
           }
          ],
          "surface": [
           {
            "colorbar": {
             "outlinewidth": 0,
             "ticks": ""
            },
            "colorscale": [
             [
              0,
              "#0d0887"
             ],
             [
              0.1111111111111111,
              "#46039f"
             ],
             [
              0.2222222222222222,
              "#7201a8"
             ],
             [
              0.3333333333333333,
              "#9c179e"
             ],
             [
              0.4444444444444444,
              "#bd3786"
             ],
             [
              0.5555555555555556,
              "#d8576b"
             ],
             [
              0.6666666666666666,
              "#ed7953"
             ],
             [
              0.7777777777777778,
              "#fb9f3a"
             ],
             [
              0.8888888888888888,
              "#fdca26"
             ],
             [
              1,
              "#f0f921"
             ]
            ],
            "type": "surface"
           }
          ],
          "table": [
           {
            "cells": {
             "fill": {
              "color": "#EBF0F8"
             },
             "line": {
              "color": "white"
             }
            },
            "header": {
             "fill": {
              "color": "#C8D4E3"
             },
             "line": {
              "color": "white"
             }
            },
            "type": "table"
           }
          ]
         },
         "layout": {
          "annotationdefaults": {
           "arrowcolor": "#2a3f5f",
           "arrowhead": 0,
           "arrowwidth": 1
          },
          "colorscale": {
           "diverging": [
            [
             0,
             "#8e0152"
            ],
            [
             0.1,
             "#c51b7d"
            ],
            [
             0.2,
             "#de77ae"
            ],
            [
             0.3,
             "#f1b6da"
            ],
            [
             0.4,
             "#fde0ef"
            ],
            [
             0.5,
             "#f7f7f7"
            ],
            [
             0.6,
             "#e6f5d0"
            ],
            [
             0.7,
             "#b8e186"
            ],
            [
             0.8,
             "#7fbc41"
            ],
            [
             0.9,
             "#4d9221"
            ],
            [
             1,
             "#276419"
            ]
           ],
           "sequential": [
            [
             0,
             "#0d0887"
            ],
            [
             0.1111111111111111,
             "#46039f"
            ],
            [
             0.2222222222222222,
             "#7201a8"
            ],
            [
             0.3333333333333333,
             "#9c179e"
            ],
            [
             0.4444444444444444,
             "#bd3786"
            ],
            [
             0.5555555555555556,
             "#d8576b"
            ],
            [
             0.6666666666666666,
             "#ed7953"
            ],
            [
             0.7777777777777778,
             "#fb9f3a"
            ],
            [
             0.8888888888888888,
             "#fdca26"
            ],
            [
             1,
             "#f0f921"
            ]
           ],
           "sequentialminus": [
            [
             0,
             "#0d0887"
            ],
            [
             0.1111111111111111,
             "#46039f"
            ],
            [
             0.2222222222222222,
             "#7201a8"
            ],
            [
             0.3333333333333333,
             "#9c179e"
            ],
            [
             0.4444444444444444,
             "#bd3786"
            ],
            [
             0.5555555555555556,
             "#d8576b"
            ],
            [
             0.6666666666666666,
             "#ed7953"
            ],
            [
             0.7777777777777778,
             "#fb9f3a"
            ],
            [
             0.8888888888888888,
             "#fdca26"
            ],
            [
             1,
             "#f0f921"
            ]
           ]
          },
          "colorway": [
           "#636efa",
           "#EF553B",
           "#00cc96",
           "#ab63fa",
           "#FFA15A",
           "#19d3f3",
           "#FF6692",
           "#B6E880",
           "#FF97FF",
           "#FECB52"
          ],
          "font": {
           "color": "#2a3f5f"
          },
          "geo": {
           "bgcolor": "white",
           "lakecolor": "white",
           "landcolor": "#E5ECF6",
           "showlakes": true,
           "showland": true,
           "subunitcolor": "white"
          },
          "hoverlabel": {
           "align": "left"
          },
          "hovermode": "closest",
          "mapbox": {
           "style": "light"
          },
          "paper_bgcolor": "white",
          "plot_bgcolor": "#E5ECF6",
          "polar": {
           "angularaxis": {
            "gridcolor": "white",
            "linecolor": "white",
            "ticks": ""
           },
           "bgcolor": "#E5ECF6",
           "radialaxis": {
            "gridcolor": "white",
            "linecolor": "white",
            "ticks": ""
           }
          },
          "scene": {
           "xaxis": {
            "backgroundcolor": "#E5ECF6",
            "gridcolor": "white",
            "gridwidth": 2,
            "linecolor": "white",
            "showbackground": true,
            "ticks": "",
            "zerolinecolor": "white"
           },
           "yaxis": {
            "backgroundcolor": "#E5ECF6",
            "gridcolor": "white",
            "gridwidth": 2,
            "linecolor": "white",
            "showbackground": true,
            "ticks": "",
            "zerolinecolor": "white"
           },
           "zaxis": {
            "backgroundcolor": "#E5ECF6",
            "gridcolor": "white",
            "gridwidth": 2,
            "linecolor": "white",
            "showbackground": true,
            "ticks": "",
            "zerolinecolor": "white"
           }
          },
          "shapedefaults": {
           "line": {
            "color": "#2a3f5f"
           }
          },
          "ternary": {
           "aaxis": {
            "gridcolor": "white",
            "linecolor": "white",
            "ticks": ""
           },
           "baxis": {
            "gridcolor": "white",
            "linecolor": "white",
            "ticks": ""
           },
           "bgcolor": "#E5ECF6",
           "caxis": {
            "gridcolor": "white",
            "linecolor": "white",
            "ticks": ""
           }
          },
          "title": {
           "x": 0.05
          },
          "xaxis": {
           "automargin": true,
           "gridcolor": "white",
           "linecolor": "white",
           "ticks": "",
           "zerolinecolor": "white",
           "zerolinewidth": 2
          },
          "yaxis": {
           "automargin": true,
           "gridcolor": "white",
           "linecolor": "white",
           "ticks": "",
           "zerolinecolor": "white",
           "zerolinewidth": 2
          }
         }
        },
        "title": {
         "font": {
          "color": "#4D5663"
         },
         "text": "Top 10 Countries most Orders"
        },
        "xaxis": {
         "gridcolor": "#E1E5ED",
         "showgrid": true,
         "tickfont": {
          "color": "#4D5663"
         },
         "title": {
          "font": {
           "color": "#4D5663"
          },
          "text": "Countries"
         },
         "zerolinecolor": "#E1E5ED"
        },
        "yaxis": {
         "gridcolor": "#E1E5ED",
         "showgrid": true,
         "tickfont": {
          "color": "#4D5663"
         },
         "title": {
          "font": {
           "color": "#4D5663"
          },
          "text": "Orders"
         },
         "zerolinecolor": "#E1E5ED"
        }
       }
      },
      "text/html": [
       "<div>\n",
       "        \n",
       "        \n",
       "            <div id=\"975ab116-e03a-45f7-8167-66c9a5edc647\" class=\"plotly-graph-div\" style=\"height:525px; width:100%;\"></div>\n",
       "            <script type=\"text/javascript\">\n",
       "                require([\"plotly\"], function(Plotly) {\n",
       "                    window.PLOTLYENV=window.PLOTLYENV || {};\n",
       "                    window.PLOTLYENV.BASE_URL='https://plot.ly';\n",
       "                    \n",
       "                if (document.getElementById(\"975ab116-e03a-45f7-8167-66c9a5edc647\")) {\n",
       "                    Plotly.newPlot(\n",
       "                        '975ab116-e03a-45f7-8167-66c9a5edc647',\n",
       "                        [{\"marker\": {\"color\": \"rgba(255, 0, 136, 0.6)\", \"line\": {\"color\": \"rgba(255, 0, 136, 1.0)\", \"width\": 1}}, \"name\": \"Count\", \"orientation\": \"v\", \"text\": \"\", \"type\": \"bar\", \"x\": [\"United Kingdom\", \"Germany\", \"France\", \"EIRE\", \"Spain\", \"Netherlands\", \"Belgium\", \"Switzerland\", \"Portugal\", \"Australia\"], \"y\": [354028, 8658, 8036, 7234, 2422, 2322, 1935, 1810, 1425, 1181]}],\n",
       "                        {\"legend\": {\"bgcolor\": \"#F5F6F9\", \"font\": {\"color\": \"#4D5663\"}}, \"paper_bgcolor\": \"#F5F6F9\", \"plot_bgcolor\": \"#F5F6F9\", \"template\": {\"data\": {\"bar\": [{\"error_x\": {\"color\": \"#2a3f5f\"}, \"error_y\": {\"color\": \"#2a3f5f\"}, \"marker\": {\"line\": {\"color\": \"#E5ECF6\", \"width\": 0.5}}, \"type\": \"bar\"}], \"barpolar\": [{\"marker\": {\"line\": {\"color\": \"#E5ECF6\", \"width\": 0.5}}, \"type\": \"barpolar\"}], \"carpet\": [{\"aaxis\": {\"endlinecolor\": \"#2a3f5f\", \"gridcolor\": \"white\", \"linecolor\": \"white\", \"minorgridcolor\": \"white\", \"startlinecolor\": \"#2a3f5f\"}, \"baxis\": {\"endlinecolor\": \"#2a3f5f\", \"gridcolor\": \"white\", \"linecolor\": \"white\", \"minorgridcolor\": \"white\", \"startlinecolor\": \"#2a3f5f\"}, \"type\": \"carpet\"}], \"choropleth\": [{\"colorbar\": {\"outlinewidth\": 0, \"ticks\": \"\"}, \"type\": \"choropleth\"}], \"contour\": [{\"colorbar\": {\"outlinewidth\": 0, \"ticks\": \"\"}, \"colorscale\": [[0.0, \"#0d0887\"], [0.1111111111111111, \"#46039f\"], [0.2222222222222222, \"#7201a8\"], [0.3333333333333333, \"#9c179e\"], [0.4444444444444444, \"#bd3786\"], [0.5555555555555556, \"#d8576b\"], [0.6666666666666666, \"#ed7953\"], [0.7777777777777778, \"#fb9f3a\"], [0.8888888888888888, \"#fdca26\"], [1.0, \"#f0f921\"]], \"type\": \"contour\"}], \"contourcarpet\": [{\"colorbar\": {\"outlinewidth\": 0, \"ticks\": \"\"}, \"type\": \"contourcarpet\"}], \"heatmap\": [{\"colorbar\": {\"outlinewidth\": 0, \"ticks\": \"\"}, \"colorscale\": [[0.0, \"#0d0887\"], [0.1111111111111111, \"#46039f\"], [0.2222222222222222, \"#7201a8\"], [0.3333333333333333, \"#9c179e\"], [0.4444444444444444, \"#bd3786\"], [0.5555555555555556, \"#d8576b\"], [0.6666666666666666, \"#ed7953\"], [0.7777777777777778, \"#fb9f3a\"], [0.8888888888888888, \"#fdca26\"], [1.0, \"#f0f921\"]], \"type\": \"heatmap\"}], \"heatmapgl\": [{\"colorbar\": {\"outlinewidth\": 0, \"ticks\": \"\"}, \"colorscale\": [[0.0, \"#0d0887\"], [0.1111111111111111, \"#46039f\"], [0.2222222222222222, \"#7201a8\"], [0.3333333333333333, \"#9c179e\"], [0.4444444444444444, \"#bd3786\"], [0.5555555555555556, \"#d8576b\"], [0.6666666666666666, \"#ed7953\"], [0.7777777777777778, \"#fb9f3a\"], [0.8888888888888888, \"#fdca26\"], [1.0, \"#f0f921\"]], \"type\": \"heatmapgl\"}], \"histogram\": [{\"marker\": {\"colorbar\": {\"outlinewidth\": 0, \"ticks\": \"\"}}, \"type\": \"histogram\"}], \"histogram2d\": [{\"colorbar\": {\"outlinewidth\": 0, \"ticks\": \"\"}, \"colorscale\": [[0.0, \"#0d0887\"], [0.1111111111111111, \"#46039f\"], [0.2222222222222222, \"#7201a8\"], [0.3333333333333333, \"#9c179e\"], [0.4444444444444444, \"#bd3786\"], [0.5555555555555556, \"#d8576b\"], [0.6666666666666666, \"#ed7953\"], [0.7777777777777778, \"#fb9f3a\"], [0.8888888888888888, \"#fdca26\"], [1.0, \"#f0f921\"]], \"type\": \"histogram2d\"}], \"histogram2dcontour\": [{\"colorbar\": {\"outlinewidth\": 0, \"ticks\": \"\"}, \"colorscale\": [[0.0, \"#0d0887\"], [0.1111111111111111, \"#46039f\"], [0.2222222222222222, \"#7201a8\"], [0.3333333333333333, \"#9c179e\"], [0.4444444444444444, \"#bd3786\"], [0.5555555555555556, \"#d8576b\"], [0.6666666666666666, \"#ed7953\"], [0.7777777777777778, \"#fb9f3a\"], [0.8888888888888888, \"#fdca26\"], [1.0, \"#f0f921\"]], \"type\": \"histogram2dcontour\"}], \"mesh3d\": [{\"colorbar\": {\"outlinewidth\": 0, \"ticks\": \"\"}, \"type\": \"mesh3d\"}], \"parcoords\": [{\"line\": {\"colorbar\": {\"outlinewidth\": 0, \"ticks\": \"\"}}, \"type\": \"parcoords\"}], \"scatter\": [{\"marker\": {\"colorbar\": {\"outlinewidth\": 0, \"ticks\": \"\"}}, \"type\": \"scatter\"}], \"scatter3d\": [{\"line\": {\"colorbar\": {\"outlinewidth\": 0, \"ticks\": \"\"}}, \"marker\": {\"colorbar\": {\"outlinewidth\": 0, \"ticks\": \"\"}}, \"type\": \"scatter3d\"}], \"scattercarpet\": [{\"marker\": {\"colorbar\": {\"outlinewidth\": 0, \"ticks\": \"\"}}, \"type\": \"scattercarpet\"}], \"scattergeo\": [{\"marker\": {\"colorbar\": {\"outlinewidth\": 0, \"ticks\": \"\"}}, \"type\": \"scattergeo\"}], \"scattergl\": [{\"marker\": {\"colorbar\": {\"outlinewidth\": 0, \"ticks\": \"\"}}, \"type\": \"scattergl\"}], \"scattermapbox\": [{\"marker\": {\"colorbar\": {\"outlinewidth\": 0, \"ticks\": \"\"}}, \"type\": \"scattermapbox\"}], \"scatterpolar\": [{\"marker\": {\"colorbar\": {\"outlinewidth\": 0, \"ticks\": \"\"}}, \"type\": \"scatterpolar\"}], \"scatterpolargl\": [{\"marker\": {\"colorbar\": {\"outlinewidth\": 0, \"ticks\": \"\"}}, \"type\": \"scatterpolargl\"}], \"scatterternary\": [{\"marker\": {\"colorbar\": {\"outlinewidth\": 0, \"ticks\": \"\"}}, \"type\": \"scatterternary\"}], \"surface\": [{\"colorbar\": {\"outlinewidth\": 0, \"ticks\": \"\"}, \"colorscale\": [[0.0, \"#0d0887\"], [0.1111111111111111, \"#46039f\"], [0.2222222222222222, \"#7201a8\"], [0.3333333333333333, \"#9c179e\"], [0.4444444444444444, \"#bd3786\"], [0.5555555555555556, \"#d8576b\"], [0.6666666666666666, \"#ed7953\"], [0.7777777777777778, \"#fb9f3a\"], [0.8888888888888888, \"#fdca26\"], [1.0, \"#f0f921\"]], \"type\": \"surface\"}], \"table\": [{\"cells\": {\"fill\": {\"color\": \"#EBF0F8\"}, \"line\": {\"color\": \"white\"}}, \"header\": {\"fill\": {\"color\": \"#C8D4E3\"}, \"line\": {\"color\": \"white\"}}, \"type\": \"table\"}]}, \"layout\": {\"annotationdefaults\": {\"arrowcolor\": \"#2a3f5f\", \"arrowhead\": 0, \"arrowwidth\": 1}, \"colorscale\": {\"diverging\": [[0, \"#8e0152\"], [0.1, \"#c51b7d\"], [0.2, \"#de77ae\"], [0.3, \"#f1b6da\"], [0.4, \"#fde0ef\"], [0.5, \"#f7f7f7\"], [0.6, \"#e6f5d0\"], [0.7, \"#b8e186\"], [0.8, \"#7fbc41\"], [0.9, \"#4d9221\"], [1, \"#276419\"]], \"sequential\": [[0.0, \"#0d0887\"], [0.1111111111111111, \"#46039f\"], [0.2222222222222222, \"#7201a8\"], [0.3333333333333333, \"#9c179e\"], [0.4444444444444444, \"#bd3786\"], [0.5555555555555556, \"#d8576b\"], [0.6666666666666666, \"#ed7953\"], [0.7777777777777778, \"#fb9f3a\"], [0.8888888888888888, \"#fdca26\"], [1.0, \"#f0f921\"]], \"sequentialminus\": [[0.0, \"#0d0887\"], [0.1111111111111111, \"#46039f\"], [0.2222222222222222, \"#7201a8\"], [0.3333333333333333, \"#9c179e\"], [0.4444444444444444, \"#bd3786\"], [0.5555555555555556, \"#d8576b\"], [0.6666666666666666, \"#ed7953\"], [0.7777777777777778, \"#fb9f3a\"], [0.8888888888888888, \"#fdca26\"], [1.0, \"#f0f921\"]]}, \"colorway\": [\"#636efa\", \"#EF553B\", \"#00cc96\", \"#ab63fa\", \"#FFA15A\", \"#19d3f3\", \"#FF6692\", \"#B6E880\", \"#FF97FF\", \"#FECB52\"], \"font\": {\"color\": \"#2a3f5f\"}, \"geo\": {\"bgcolor\": \"white\", \"lakecolor\": \"white\", \"landcolor\": \"#E5ECF6\", \"showlakes\": true, \"showland\": true, \"subunitcolor\": \"white\"}, \"hoverlabel\": {\"align\": \"left\"}, \"hovermode\": \"closest\", \"mapbox\": {\"style\": \"light\"}, \"paper_bgcolor\": \"white\", \"plot_bgcolor\": \"#E5ECF6\", \"polar\": {\"angularaxis\": {\"gridcolor\": \"white\", \"linecolor\": \"white\", \"ticks\": \"\"}, \"bgcolor\": \"#E5ECF6\", \"radialaxis\": {\"gridcolor\": \"white\", \"linecolor\": \"white\", \"ticks\": \"\"}}, \"scene\": {\"xaxis\": {\"backgroundcolor\": \"#E5ECF6\", \"gridcolor\": \"white\", \"gridwidth\": 2, \"linecolor\": \"white\", \"showbackground\": true, \"ticks\": \"\", \"zerolinecolor\": \"white\"}, \"yaxis\": {\"backgroundcolor\": \"#E5ECF6\", \"gridcolor\": \"white\", \"gridwidth\": 2, \"linecolor\": \"white\", \"showbackground\": true, \"ticks\": \"\", \"zerolinecolor\": \"white\"}, \"zaxis\": {\"backgroundcolor\": \"#E5ECF6\", \"gridcolor\": \"white\", \"gridwidth\": 2, \"linecolor\": \"white\", \"showbackground\": true, \"ticks\": \"\", \"zerolinecolor\": \"white\"}}, \"shapedefaults\": {\"line\": {\"color\": \"#2a3f5f\"}}, \"ternary\": {\"aaxis\": {\"gridcolor\": \"white\", \"linecolor\": \"white\", \"ticks\": \"\"}, \"baxis\": {\"gridcolor\": \"white\", \"linecolor\": \"white\", \"ticks\": \"\"}, \"bgcolor\": \"#E5ECF6\", \"caxis\": {\"gridcolor\": \"white\", \"linecolor\": \"white\", \"ticks\": \"\"}}, \"title\": {\"x\": 0.05}, \"xaxis\": {\"automargin\": true, \"gridcolor\": \"white\", \"linecolor\": \"white\", \"ticks\": \"\", \"zerolinecolor\": \"white\", \"zerolinewidth\": 2}, \"yaxis\": {\"automargin\": true, \"gridcolor\": \"white\", \"linecolor\": \"white\", \"ticks\": \"\", \"zerolinecolor\": \"white\", \"zerolinewidth\": 2}}}, \"title\": {\"font\": {\"color\": \"#4D5663\"}, \"text\": \"Top 10 Countries most Orders\"}, \"xaxis\": {\"gridcolor\": \"#E1E5ED\", \"showgrid\": true, \"tickfont\": {\"color\": \"#4D5663\"}, \"title\": {\"font\": {\"color\": \"#4D5663\"}, \"text\": \"Countries\"}, \"zerolinecolor\": \"#E1E5ED\"}, \"yaxis\": {\"gridcolor\": \"#E1E5ED\", \"showgrid\": true, \"tickfont\": {\"color\": \"#4D5663\"}, \"title\": {\"font\": {\"color\": \"#4D5663\"}, \"text\": \"Orders\"}, \"zerolinecolor\": \"#E1E5ED\"}},\n",
       "                        {\"showLink\": true, \"linkText\": \"Export to plot.ly\", \"plotlyServerURL\": \"https://plot.ly\", \"responsive\": true}\n",
       "                    ).then(function(){\n",
       "                            \n",
       "var gd = document.getElementById('975ab116-e03a-45f7-8167-66c9a5edc647');\n",
       "var x = new MutationObserver(function (mutations, observer) {{\n",
       "        var display = window.getComputedStyle(gd).display;\n",
       "        if (!display || display === 'none') {{\n",
       "            console.log([gd, 'removed!']);\n",
       "            Plotly.purge(gd);\n",
       "            observer.disconnect();\n",
       "        }}\n",
       "}});\n",
       "\n",
       "// Listen for the removal of the full notebook cells\n",
       "var notebookContainer = gd.closest('#notebook-container');\n",
       "if (notebookContainer) {{\n",
       "    x.observe(notebookContainer, {childList: true});\n",
       "}}\n",
       "\n",
       "// Listen for the clearing of the current output cell\n",
       "var outputEl = gd.closest('.output');\n",
       "if (outputEl) {{\n",
       "    x.observe(outputEl, {childList: true});\n",
       "}}\n",
       "\n",
       "                        })\n",
       "                };\n",
       "                });\n",
       "            </script>\n",
       "        </div>"
      ]
     },
     "metadata": {},
     "output_type": "display_data"
    }
   ],
   "source": [
    "# visualize top 10 countries with highest number of invoices / orders \n",
    "df = pd.DataFrame(data4['Country'].value_counts().head(10))\n",
    "df1 = df.reset_index()\n",
    "colnames = ['Country', 'Count']\n",
    "df1.columns = colnames \n",
    "\n",
    "df1.iplot(kind='bar', x='Country', xTitle='Countries', yTitle='Orders', \n",
    "           title='Top 10 Countries most Orders', color='pink') "
   ]
  },
  {
   "cell_type": "code",
   "execution_count": 12,
   "metadata": {},
   "outputs": [
    {
     "data": {
      "application/vnd.plotly.v1+json": {
       "config": {
        "linkText": "Export to plot.ly",
        "plotlyServerURL": "https://plot.ly",
        "showLink": true
       },
       "data": [
        {
         "marker": {
          "color": "rgba(255, 0, 136, 0.6)",
          "line": {
           "color": "rgba(255, 0, 136, 1.0)",
           "width": 1
          }
         },
         "name": "Revenue",
         "orientation": "v",
         "text": "",
         "type": "bar",
         "x": [
          "Netherlands",
          "Australia",
          "Japan",
          "Sweden",
          "Denmark",
          "Lithuania",
          "Singapore",
          "Lebanon",
          "EIRE",
          "Brazil"
         ],
         "y": [
          122.26069767441857,
          116.99518204911058,
          116.56190031152651,
          86.07320093457946,
          49.622179836512245,
          47.45885714285714,
          42.42041860465117,
          37.64177777777778,
          36.24157589162271,
          35.737500000000004
         ]
        }
       ],
       "layout": {
        "legend": {
         "bgcolor": "#F5F6F9",
         "font": {
          "color": "#4D5663"
         }
        },
        "paper_bgcolor": "#F5F6F9",
        "plot_bgcolor": "#F5F6F9",
        "template": {
         "data": {
          "bar": [
           {
            "error_x": {
             "color": "#2a3f5f"
            },
            "error_y": {
             "color": "#2a3f5f"
            },
            "marker": {
             "line": {
              "color": "#E5ECF6",
              "width": 0.5
             }
            },
            "type": "bar"
           }
          ],
          "barpolar": [
           {
            "marker": {
             "line": {
              "color": "#E5ECF6",
              "width": 0.5
             }
            },
            "type": "barpolar"
           }
          ],
          "carpet": [
           {
            "aaxis": {
             "endlinecolor": "#2a3f5f",
             "gridcolor": "white",
             "linecolor": "white",
             "minorgridcolor": "white",
             "startlinecolor": "#2a3f5f"
            },
            "baxis": {
             "endlinecolor": "#2a3f5f",
             "gridcolor": "white",
             "linecolor": "white",
             "minorgridcolor": "white",
             "startlinecolor": "#2a3f5f"
            },
            "type": "carpet"
           }
          ],
          "choropleth": [
           {
            "colorbar": {
             "outlinewidth": 0,
             "ticks": ""
            },
            "type": "choropleth"
           }
          ],
          "contour": [
           {
            "colorbar": {
             "outlinewidth": 0,
             "ticks": ""
            },
            "colorscale": [
             [
              0,
              "#0d0887"
             ],
             [
              0.1111111111111111,
              "#46039f"
             ],
             [
              0.2222222222222222,
              "#7201a8"
             ],
             [
              0.3333333333333333,
              "#9c179e"
             ],
             [
              0.4444444444444444,
              "#bd3786"
             ],
             [
              0.5555555555555556,
              "#d8576b"
             ],
             [
              0.6666666666666666,
              "#ed7953"
             ],
             [
              0.7777777777777778,
              "#fb9f3a"
             ],
             [
              0.8888888888888888,
              "#fdca26"
             ],
             [
              1,
              "#f0f921"
             ]
            ],
            "type": "contour"
           }
          ],
          "contourcarpet": [
           {
            "colorbar": {
             "outlinewidth": 0,
             "ticks": ""
            },
            "type": "contourcarpet"
           }
          ],
          "heatmap": [
           {
            "colorbar": {
             "outlinewidth": 0,
             "ticks": ""
            },
            "colorscale": [
             [
              0,
              "#0d0887"
             ],
             [
              0.1111111111111111,
              "#46039f"
             ],
             [
              0.2222222222222222,
              "#7201a8"
             ],
             [
              0.3333333333333333,
              "#9c179e"
             ],
             [
              0.4444444444444444,
              "#bd3786"
             ],
             [
              0.5555555555555556,
              "#d8576b"
             ],
             [
              0.6666666666666666,
              "#ed7953"
             ],
             [
              0.7777777777777778,
              "#fb9f3a"
             ],
             [
              0.8888888888888888,
              "#fdca26"
             ],
             [
              1,
              "#f0f921"
             ]
            ],
            "type": "heatmap"
           }
          ],
          "heatmapgl": [
           {
            "colorbar": {
             "outlinewidth": 0,
             "ticks": ""
            },
            "colorscale": [
             [
              0,
              "#0d0887"
             ],
             [
              0.1111111111111111,
              "#46039f"
             ],
             [
              0.2222222222222222,
              "#7201a8"
             ],
             [
              0.3333333333333333,
              "#9c179e"
             ],
             [
              0.4444444444444444,
              "#bd3786"
             ],
             [
              0.5555555555555556,
              "#d8576b"
             ],
             [
              0.6666666666666666,
              "#ed7953"
             ],
             [
              0.7777777777777778,
              "#fb9f3a"
             ],
             [
              0.8888888888888888,
              "#fdca26"
             ],
             [
              1,
              "#f0f921"
             ]
            ],
            "type": "heatmapgl"
           }
          ],
          "histogram": [
           {
            "marker": {
             "colorbar": {
              "outlinewidth": 0,
              "ticks": ""
             }
            },
            "type": "histogram"
           }
          ],
          "histogram2d": [
           {
            "colorbar": {
             "outlinewidth": 0,
             "ticks": ""
            },
            "colorscale": [
             [
              0,
              "#0d0887"
             ],
             [
              0.1111111111111111,
              "#46039f"
             ],
             [
              0.2222222222222222,
              "#7201a8"
             ],
             [
              0.3333333333333333,
              "#9c179e"
             ],
             [
              0.4444444444444444,
              "#bd3786"
             ],
             [
              0.5555555555555556,
              "#d8576b"
             ],
             [
              0.6666666666666666,
              "#ed7953"
             ],
             [
              0.7777777777777778,
              "#fb9f3a"
             ],
             [
              0.8888888888888888,
              "#fdca26"
             ],
             [
              1,
              "#f0f921"
             ]
            ],
            "type": "histogram2d"
           }
          ],
          "histogram2dcontour": [
           {
            "colorbar": {
             "outlinewidth": 0,
             "ticks": ""
            },
            "colorscale": [
             [
              0,
              "#0d0887"
             ],
             [
              0.1111111111111111,
              "#46039f"
             ],
             [
              0.2222222222222222,
              "#7201a8"
             ],
             [
              0.3333333333333333,
              "#9c179e"
             ],
             [
              0.4444444444444444,
              "#bd3786"
             ],
             [
              0.5555555555555556,
              "#d8576b"
             ],
             [
              0.6666666666666666,
              "#ed7953"
             ],
             [
              0.7777777777777778,
              "#fb9f3a"
             ],
             [
              0.8888888888888888,
              "#fdca26"
             ],
             [
              1,
              "#f0f921"
             ]
            ],
            "type": "histogram2dcontour"
           }
          ],
          "mesh3d": [
           {
            "colorbar": {
             "outlinewidth": 0,
             "ticks": ""
            },
            "type": "mesh3d"
           }
          ],
          "parcoords": [
           {
            "line": {
             "colorbar": {
              "outlinewidth": 0,
              "ticks": ""
             }
            },
            "type": "parcoords"
           }
          ],
          "scatter": [
           {
            "marker": {
             "colorbar": {
              "outlinewidth": 0,
              "ticks": ""
             }
            },
            "type": "scatter"
           }
          ],
          "scatter3d": [
           {
            "line": {
             "colorbar": {
              "outlinewidth": 0,
              "ticks": ""
             }
            },
            "marker": {
             "colorbar": {
              "outlinewidth": 0,
              "ticks": ""
             }
            },
            "type": "scatter3d"
           }
          ],
          "scattercarpet": [
           {
            "marker": {
             "colorbar": {
              "outlinewidth": 0,
              "ticks": ""
             }
            },
            "type": "scattercarpet"
           }
          ],
          "scattergeo": [
           {
            "marker": {
             "colorbar": {
              "outlinewidth": 0,
              "ticks": ""
             }
            },
            "type": "scattergeo"
           }
          ],
          "scattergl": [
           {
            "marker": {
             "colorbar": {
              "outlinewidth": 0,
              "ticks": ""
             }
            },
            "type": "scattergl"
           }
          ],
          "scattermapbox": [
           {
            "marker": {
             "colorbar": {
              "outlinewidth": 0,
              "ticks": ""
             }
            },
            "type": "scattermapbox"
           }
          ],
          "scatterpolar": [
           {
            "marker": {
             "colorbar": {
              "outlinewidth": 0,
              "ticks": ""
             }
            },
            "type": "scatterpolar"
           }
          ],
          "scatterpolargl": [
           {
            "marker": {
             "colorbar": {
              "outlinewidth": 0,
              "ticks": ""
             }
            },
            "type": "scatterpolargl"
           }
          ],
          "scatterternary": [
           {
            "marker": {
             "colorbar": {
              "outlinewidth": 0,
              "ticks": ""
             }
            },
            "type": "scatterternary"
           }
          ],
          "surface": [
           {
            "colorbar": {
             "outlinewidth": 0,
             "ticks": ""
            },
            "colorscale": [
             [
              0,
              "#0d0887"
             ],
             [
              0.1111111111111111,
              "#46039f"
             ],
             [
              0.2222222222222222,
              "#7201a8"
             ],
             [
              0.3333333333333333,
              "#9c179e"
             ],
             [
              0.4444444444444444,
              "#bd3786"
             ],
             [
              0.5555555555555556,
              "#d8576b"
             ],
             [
              0.6666666666666666,
              "#ed7953"
             ],
             [
              0.7777777777777778,
              "#fb9f3a"
             ],
             [
              0.8888888888888888,
              "#fdca26"
             ],
             [
              1,
              "#f0f921"
             ]
            ],
            "type": "surface"
           }
          ],
          "table": [
           {
            "cells": {
             "fill": {
              "color": "#EBF0F8"
             },
             "line": {
              "color": "white"
             }
            },
            "header": {
             "fill": {
              "color": "#C8D4E3"
             },
             "line": {
              "color": "white"
             }
            },
            "type": "table"
           }
          ]
         },
         "layout": {
          "annotationdefaults": {
           "arrowcolor": "#2a3f5f",
           "arrowhead": 0,
           "arrowwidth": 1
          },
          "colorscale": {
           "diverging": [
            [
             0,
             "#8e0152"
            ],
            [
             0.1,
             "#c51b7d"
            ],
            [
             0.2,
             "#de77ae"
            ],
            [
             0.3,
             "#f1b6da"
            ],
            [
             0.4,
             "#fde0ef"
            ],
            [
             0.5,
             "#f7f7f7"
            ],
            [
             0.6,
             "#e6f5d0"
            ],
            [
             0.7,
             "#b8e186"
            ],
            [
             0.8,
             "#7fbc41"
            ],
            [
             0.9,
             "#4d9221"
            ],
            [
             1,
             "#276419"
            ]
           ],
           "sequential": [
            [
             0,
             "#0d0887"
            ],
            [
             0.1111111111111111,
             "#46039f"
            ],
            [
             0.2222222222222222,
             "#7201a8"
            ],
            [
             0.3333333333333333,
             "#9c179e"
            ],
            [
             0.4444444444444444,
             "#bd3786"
            ],
            [
             0.5555555555555556,
             "#d8576b"
            ],
            [
             0.6666666666666666,
             "#ed7953"
            ],
            [
             0.7777777777777778,
             "#fb9f3a"
            ],
            [
             0.8888888888888888,
             "#fdca26"
            ],
            [
             1,
             "#f0f921"
            ]
           ],
           "sequentialminus": [
            [
             0,
             "#0d0887"
            ],
            [
             0.1111111111111111,
             "#46039f"
            ],
            [
             0.2222222222222222,
             "#7201a8"
            ],
            [
             0.3333333333333333,
             "#9c179e"
            ],
            [
             0.4444444444444444,
             "#bd3786"
            ],
            [
             0.5555555555555556,
             "#d8576b"
            ],
            [
             0.6666666666666666,
             "#ed7953"
            ],
            [
             0.7777777777777778,
             "#fb9f3a"
            ],
            [
             0.8888888888888888,
             "#fdca26"
            ],
            [
             1,
             "#f0f921"
            ]
           ]
          },
          "colorway": [
           "#636efa",
           "#EF553B",
           "#00cc96",
           "#ab63fa",
           "#FFA15A",
           "#19d3f3",
           "#FF6692",
           "#B6E880",
           "#FF97FF",
           "#FECB52"
          ],
          "font": {
           "color": "#2a3f5f"
          },
          "geo": {
           "bgcolor": "white",
           "lakecolor": "white",
           "landcolor": "#E5ECF6",
           "showlakes": true,
           "showland": true,
           "subunitcolor": "white"
          },
          "hoverlabel": {
           "align": "left"
          },
          "hovermode": "closest",
          "mapbox": {
           "style": "light"
          },
          "paper_bgcolor": "white",
          "plot_bgcolor": "#E5ECF6",
          "polar": {
           "angularaxis": {
            "gridcolor": "white",
            "linecolor": "white",
            "ticks": ""
           },
           "bgcolor": "#E5ECF6",
           "radialaxis": {
            "gridcolor": "white",
            "linecolor": "white",
            "ticks": ""
           }
          },
          "scene": {
           "xaxis": {
            "backgroundcolor": "#E5ECF6",
            "gridcolor": "white",
            "gridwidth": 2,
            "linecolor": "white",
            "showbackground": true,
            "ticks": "",
            "zerolinecolor": "white"
           },
           "yaxis": {
            "backgroundcolor": "#E5ECF6",
            "gridcolor": "white",
            "gridwidth": 2,
            "linecolor": "white",
            "showbackground": true,
            "ticks": "",
            "zerolinecolor": "white"
           },
           "zaxis": {
            "backgroundcolor": "#E5ECF6",
            "gridcolor": "white",
            "gridwidth": 2,
            "linecolor": "white",
            "showbackground": true,
            "ticks": "",
            "zerolinecolor": "white"
           }
          },
          "shapedefaults": {
           "line": {
            "color": "#2a3f5f"
           }
          },
          "ternary": {
           "aaxis": {
            "gridcolor": "white",
            "linecolor": "white",
            "ticks": ""
           },
           "baxis": {
            "gridcolor": "white",
            "linecolor": "white",
            "ticks": ""
           },
           "bgcolor": "#E5ECF6",
           "caxis": {
            "gridcolor": "white",
            "linecolor": "white",
            "ticks": ""
           }
          },
          "title": {
           "x": 0.05
          },
          "xaxis": {
           "automargin": true,
           "gridcolor": "white",
           "linecolor": "white",
           "ticks": "",
           "zerolinecolor": "white",
           "zerolinewidth": 2
          },
          "yaxis": {
           "automargin": true,
           "gridcolor": "white",
           "linecolor": "white",
           "ticks": "",
           "zerolinecolor": "white",
           "zerolinewidth": 2
          }
         }
        },
        "title": {
         "font": {
          "color": "#4D5663"
         },
         "text": "Top 10 Countries highest average Revenue"
        },
        "xaxis": {
         "gridcolor": "#E1E5ED",
         "showgrid": true,
         "tickfont": {
          "color": "#4D5663"
         },
         "title": {
          "font": {
           "color": "#4D5663"
          },
          "text": "Countries"
         },
         "zerolinecolor": "#E1E5ED"
        },
        "yaxis": {
         "gridcolor": "#E1E5ED",
         "showgrid": true,
         "tickfont": {
          "color": "#4D5663"
         },
         "title": {
          "font": {
           "color": "#4D5663"
          },
          "text": "Average revenue"
         },
         "zerolinecolor": "#E1E5ED"
        }
       }
      },
      "text/html": [
       "<div>\n",
       "        \n",
       "        \n",
       "            <div id=\"86b08921-7123-4501-a7b5-88a6bb813a5f\" class=\"plotly-graph-div\" style=\"height:525px; width:100%;\"></div>\n",
       "            <script type=\"text/javascript\">\n",
       "                require([\"plotly\"], function(Plotly) {\n",
       "                    window.PLOTLYENV=window.PLOTLYENV || {};\n",
       "                    window.PLOTLYENV.BASE_URL='https://plot.ly';\n",
       "                    \n",
       "                if (document.getElementById(\"86b08921-7123-4501-a7b5-88a6bb813a5f\")) {\n",
       "                    Plotly.newPlot(\n",
       "                        '86b08921-7123-4501-a7b5-88a6bb813a5f',\n",
       "                        [{\"marker\": {\"color\": \"rgba(255, 0, 136, 0.6)\", \"line\": {\"color\": \"rgba(255, 0, 136, 1.0)\", \"width\": 1}}, \"name\": \"Revenue\", \"orientation\": \"v\", \"text\": \"\", \"type\": \"bar\", \"x\": [\"Netherlands\", \"Australia\", \"Japan\", \"Sweden\", \"Denmark\", \"Lithuania\", \"Singapore\", \"Lebanon\", \"EIRE\", \"Brazil\"], \"y\": [122.26069767441857, 116.99518204911058, 116.56190031152651, 86.07320093457946, 49.622179836512245, 47.45885714285714, 42.42041860465117, 37.64177777777778, 36.24157589162271, 35.737500000000004]}],\n",
       "                        {\"legend\": {\"bgcolor\": \"#F5F6F9\", \"font\": {\"color\": \"#4D5663\"}}, \"paper_bgcolor\": \"#F5F6F9\", \"plot_bgcolor\": \"#F5F6F9\", \"template\": {\"data\": {\"bar\": [{\"error_x\": {\"color\": \"#2a3f5f\"}, \"error_y\": {\"color\": \"#2a3f5f\"}, \"marker\": {\"line\": {\"color\": \"#E5ECF6\", \"width\": 0.5}}, \"type\": \"bar\"}], \"barpolar\": [{\"marker\": {\"line\": {\"color\": \"#E5ECF6\", \"width\": 0.5}}, \"type\": \"barpolar\"}], \"carpet\": [{\"aaxis\": {\"endlinecolor\": \"#2a3f5f\", \"gridcolor\": \"white\", \"linecolor\": \"white\", \"minorgridcolor\": \"white\", \"startlinecolor\": \"#2a3f5f\"}, \"baxis\": {\"endlinecolor\": \"#2a3f5f\", \"gridcolor\": \"white\", \"linecolor\": \"white\", \"minorgridcolor\": \"white\", \"startlinecolor\": \"#2a3f5f\"}, \"type\": \"carpet\"}], \"choropleth\": [{\"colorbar\": {\"outlinewidth\": 0, \"ticks\": \"\"}, \"type\": \"choropleth\"}], \"contour\": [{\"colorbar\": {\"outlinewidth\": 0, \"ticks\": \"\"}, \"colorscale\": [[0.0, \"#0d0887\"], [0.1111111111111111, \"#46039f\"], [0.2222222222222222, \"#7201a8\"], [0.3333333333333333, \"#9c179e\"], [0.4444444444444444, \"#bd3786\"], [0.5555555555555556, \"#d8576b\"], [0.6666666666666666, \"#ed7953\"], [0.7777777777777778, \"#fb9f3a\"], [0.8888888888888888, \"#fdca26\"], [1.0, \"#f0f921\"]], \"type\": \"contour\"}], \"contourcarpet\": [{\"colorbar\": {\"outlinewidth\": 0, \"ticks\": \"\"}, \"type\": \"contourcarpet\"}], \"heatmap\": [{\"colorbar\": {\"outlinewidth\": 0, \"ticks\": \"\"}, \"colorscale\": [[0.0, \"#0d0887\"], [0.1111111111111111, \"#46039f\"], [0.2222222222222222, \"#7201a8\"], [0.3333333333333333, \"#9c179e\"], [0.4444444444444444, \"#bd3786\"], [0.5555555555555556, \"#d8576b\"], [0.6666666666666666, \"#ed7953\"], [0.7777777777777778, \"#fb9f3a\"], [0.8888888888888888, \"#fdca26\"], [1.0, \"#f0f921\"]], \"type\": \"heatmap\"}], \"heatmapgl\": [{\"colorbar\": {\"outlinewidth\": 0, \"ticks\": \"\"}, \"colorscale\": [[0.0, \"#0d0887\"], [0.1111111111111111, \"#46039f\"], [0.2222222222222222, \"#7201a8\"], [0.3333333333333333, \"#9c179e\"], [0.4444444444444444, \"#bd3786\"], [0.5555555555555556, \"#d8576b\"], [0.6666666666666666, \"#ed7953\"], [0.7777777777777778, \"#fb9f3a\"], [0.8888888888888888, \"#fdca26\"], [1.0, \"#f0f921\"]], \"type\": \"heatmapgl\"}], \"histogram\": [{\"marker\": {\"colorbar\": {\"outlinewidth\": 0, \"ticks\": \"\"}}, \"type\": \"histogram\"}], \"histogram2d\": [{\"colorbar\": {\"outlinewidth\": 0, \"ticks\": \"\"}, \"colorscale\": [[0.0, \"#0d0887\"], [0.1111111111111111, \"#46039f\"], [0.2222222222222222, \"#7201a8\"], [0.3333333333333333, \"#9c179e\"], [0.4444444444444444, \"#bd3786\"], [0.5555555555555556, \"#d8576b\"], [0.6666666666666666, \"#ed7953\"], [0.7777777777777778, \"#fb9f3a\"], [0.8888888888888888, \"#fdca26\"], [1.0, \"#f0f921\"]], \"type\": \"histogram2d\"}], \"histogram2dcontour\": [{\"colorbar\": {\"outlinewidth\": 0, \"ticks\": \"\"}, \"colorscale\": [[0.0, \"#0d0887\"], [0.1111111111111111, \"#46039f\"], [0.2222222222222222, \"#7201a8\"], [0.3333333333333333, \"#9c179e\"], [0.4444444444444444, \"#bd3786\"], [0.5555555555555556, \"#d8576b\"], [0.6666666666666666, \"#ed7953\"], [0.7777777777777778, \"#fb9f3a\"], [0.8888888888888888, \"#fdca26\"], [1.0, \"#f0f921\"]], \"type\": \"histogram2dcontour\"}], \"mesh3d\": [{\"colorbar\": {\"outlinewidth\": 0, \"ticks\": \"\"}, \"type\": \"mesh3d\"}], \"parcoords\": [{\"line\": {\"colorbar\": {\"outlinewidth\": 0, \"ticks\": \"\"}}, \"type\": \"parcoords\"}], \"scatter\": [{\"marker\": {\"colorbar\": {\"outlinewidth\": 0, \"ticks\": \"\"}}, \"type\": \"scatter\"}], \"scatter3d\": [{\"line\": {\"colorbar\": {\"outlinewidth\": 0, \"ticks\": \"\"}}, \"marker\": {\"colorbar\": {\"outlinewidth\": 0, \"ticks\": \"\"}}, \"type\": \"scatter3d\"}], \"scattercarpet\": [{\"marker\": {\"colorbar\": {\"outlinewidth\": 0, \"ticks\": \"\"}}, \"type\": \"scattercarpet\"}], \"scattergeo\": [{\"marker\": {\"colorbar\": {\"outlinewidth\": 0, \"ticks\": \"\"}}, \"type\": \"scattergeo\"}], \"scattergl\": [{\"marker\": {\"colorbar\": {\"outlinewidth\": 0, \"ticks\": \"\"}}, \"type\": \"scattergl\"}], \"scattermapbox\": [{\"marker\": {\"colorbar\": {\"outlinewidth\": 0, \"ticks\": \"\"}}, \"type\": \"scattermapbox\"}], \"scatterpolar\": [{\"marker\": {\"colorbar\": {\"outlinewidth\": 0, \"ticks\": \"\"}}, \"type\": \"scatterpolar\"}], \"scatterpolargl\": [{\"marker\": {\"colorbar\": {\"outlinewidth\": 0, \"ticks\": \"\"}}, \"type\": \"scatterpolargl\"}], \"scatterternary\": [{\"marker\": {\"colorbar\": {\"outlinewidth\": 0, \"ticks\": \"\"}}, \"type\": \"scatterternary\"}], \"surface\": [{\"colorbar\": {\"outlinewidth\": 0, \"ticks\": \"\"}, \"colorscale\": [[0.0, \"#0d0887\"], [0.1111111111111111, \"#46039f\"], [0.2222222222222222, \"#7201a8\"], [0.3333333333333333, \"#9c179e\"], [0.4444444444444444, \"#bd3786\"], [0.5555555555555556, \"#d8576b\"], [0.6666666666666666, \"#ed7953\"], [0.7777777777777778, \"#fb9f3a\"], [0.8888888888888888, \"#fdca26\"], [1.0, \"#f0f921\"]], \"type\": \"surface\"}], \"table\": [{\"cells\": {\"fill\": {\"color\": \"#EBF0F8\"}, \"line\": {\"color\": \"white\"}}, \"header\": {\"fill\": {\"color\": \"#C8D4E3\"}, \"line\": {\"color\": \"white\"}}, \"type\": \"table\"}]}, \"layout\": {\"annotationdefaults\": {\"arrowcolor\": \"#2a3f5f\", \"arrowhead\": 0, \"arrowwidth\": 1}, \"colorscale\": {\"diverging\": [[0, \"#8e0152\"], [0.1, \"#c51b7d\"], [0.2, \"#de77ae\"], [0.3, \"#f1b6da\"], [0.4, \"#fde0ef\"], [0.5, \"#f7f7f7\"], [0.6, \"#e6f5d0\"], [0.7, \"#b8e186\"], [0.8, \"#7fbc41\"], [0.9, \"#4d9221\"], [1, \"#276419\"]], \"sequential\": [[0.0, \"#0d0887\"], [0.1111111111111111, \"#46039f\"], [0.2222222222222222, \"#7201a8\"], [0.3333333333333333, \"#9c179e\"], [0.4444444444444444, \"#bd3786\"], [0.5555555555555556, \"#d8576b\"], [0.6666666666666666, \"#ed7953\"], [0.7777777777777778, \"#fb9f3a\"], [0.8888888888888888, \"#fdca26\"], [1.0, \"#f0f921\"]], \"sequentialminus\": [[0.0, \"#0d0887\"], [0.1111111111111111, \"#46039f\"], [0.2222222222222222, \"#7201a8\"], [0.3333333333333333, \"#9c179e\"], [0.4444444444444444, \"#bd3786\"], [0.5555555555555556, \"#d8576b\"], [0.6666666666666666, \"#ed7953\"], [0.7777777777777778, \"#fb9f3a\"], [0.8888888888888888, \"#fdca26\"], [1.0, \"#f0f921\"]]}, \"colorway\": [\"#636efa\", \"#EF553B\", \"#00cc96\", \"#ab63fa\", \"#FFA15A\", \"#19d3f3\", \"#FF6692\", \"#B6E880\", \"#FF97FF\", \"#FECB52\"], \"font\": {\"color\": \"#2a3f5f\"}, \"geo\": {\"bgcolor\": \"white\", \"lakecolor\": \"white\", \"landcolor\": \"#E5ECF6\", \"showlakes\": true, \"showland\": true, \"subunitcolor\": \"white\"}, \"hoverlabel\": {\"align\": \"left\"}, \"hovermode\": \"closest\", \"mapbox\": {\"style\": \"light\"}, \"paper_bgcolor\": \"white\", \"plot_bgcolor\": \"#E5ECF6\", \"polar\": {\"angularaxis\": {\"gridcolor\": \"white\", \"linecolor\": \"white\", \"ticks\": \"\"}, \"bgcolor\": \"#E5ECF6\", \"radialaxis\": {\"gridcolor\": \"white\", \"linecolor\": \"white\", \"ticks\": \"\"}}, \"scene\": {\"xaxis\": {\"backgroundcolor\": \"#E5ECF6\", \"gridcolor\": \"white\", \"gridwidth\": 2, \"linecolor\": \"white\", \"showbackground\": true, \"ticks\": \"\", \"zerolinecolor\": \"white\"}, \"yaxis\": {\"backgroundcolor\": \"#E5ECF6\", \"gridcolor\": \"white\", \"gridwidth\": 2, \"linecolor\": \"white\", \"showbackground\": true, \"ticks\": \"\", \"zerolinecolor\": \"white\"}, \"zaxis\": {\"backgroundcolor\": \"#E5ECF6\", \"gridcolor\": \"white\", \"gridwidth\": 2, \"linecolor\": \"white\", \"showbackground\": true, \"ticks\": \"\", \"zerolinecolor\": \"white\"}}, \"shapedefaults\": {\"line\": {\"color\": \"#2a3f5f\"}}, \"ternary\": {\"aaxis\": {\"gridcolor\": \"white\", \"linecolor\": \"white\", \"ticks\": \"\"}, \"baxis\": {\"gridcolor\": \"white\", \"linecolor\": \"white\", \"ticks\": \"\"}, \"bgcolor\": \"#E5ECF6\", \"caxis\": {\"gridcolor\": \"white\", \"linecolor\": \"white\", \"ticks\": \"\"}}, \"title\": {\"x\": 0.05}, \"xaxis\": {\"automargin\": true, \"gridcolor\": \"white\", \"linecolor\": \"white\", \"ticks\": \"\", \"zerolinecolor\": \"white\", \"zerolinewidth\": 2}, \"yaxis\": {\"automargin\": true, \"gridcolor\": \"white\", \"linecolor\": \"white\", \"ticks\": \"\", \"zerolinecolor\": \"white\", \"zerolinewidth\": 2}}}, \"title\": {\"font\": {\"color\": \"#4D5663\"}, \"text\": \"Top 10 Countries highest average Revenue\"}, \"xaxis\": {\"gridcolor\": \"#E1E5ED\", \"showgrid\": true, \"tickfont\": {\"color\": \"#4D5663\"}, \"title\": {\"font\": {\"color\": \"#4D5663\"}, \"text\": \"Countries\"}, \"zerolinecolor\": \"#E1E5ED\"}, \"yaxis\": {\"gridcolor\": \"#E1E5ED\", \"showgrid\": true, \"tickfont\": {\"color\": \"#4D5663\"}, \"title\": {\"font\": {\"color\": \"#4D5663\"}, \"text\": \"Average revenue\"}, \"zerolinecolor\": \"#E1E5ED\"}},\n",
       "                        {\"showLink\": true, \"linkText\": \"Export to plot.ly\", \"plotlyServerURL\": \"https://plot.ly\", \"responsive\": true}\n",
       "                    ).then(function(){\n",
       "                            \n",
       "var gd = document.getElementById('86b08921-7123-4501-a7b5-88a6bb813a5f');\n",
       "var x = new MutationObserver(function (mutations, observer) {{\n",
       "        var display = window.getComputedStyle(gd).display;\n",
       "        if (!display || display === 'none') {{\n",
       "            console.log([gd, 'removed!']);\n",
       "            Plotly.purge(gd);\n",
       "            observer.disconnect();\n",
       "        }}\n",
       "}});\n",
       "\n",
       "// Listen for the removal of the full notebook cells\n",
       "var notebookContainer = gd.closest('#notebook-container');\n",
       "if (notebookContainer) {{\n",
       "    x.observe(notebookContainer, {childList: true});\n",
       "}}\n",
       "\n",
       "// Listen for the clearing of the current output cell\n",
       "var outputEl = gd.closest('.output');\n",
       "if (outputEl) {{\n",
       "    x.observe(outputEl, {childList: true});\n",
       "}}\n",
       "\n",
       "                        })\n",
       "                };\n",
       "                });\n",
       "            </script>\n",
       "        </div>"
      ]
     },
     "metadata": {},
     "output_type": "display_data"
    }
   ],
   "source": [
    "# visualize top 10 countries with highest average revenue  \n",
    "df = data4[['Country', 'Revenue']].groupby(['Country']).agg('mean') \n",
    "df2 = df.reset_index()\n",
    "df3 = df2.sort_values(by='Revenue', ascending=False).head(10)\n",
    "\n",
    "df3.iplot(kind='bar', x='Country', xTitle='Countries', yTitle='Average revenue', \n",
    "           title='Top 10 Countries highest average Revenue', color='pink') "
   ]
  },
  {
   "cell_type": "code",
   "execution_count": 13,
   "metadata": {},
   "outputs": [],
   "source": [
    "# visualize top 10 countries with lowest average revenue  \n",
    "#df = data4[['Country', 'Revenue']].groupby(['Country']).agg('mean') \n",
    "#df2 = df.reset_index()\n",
    "#df3 = df2.sort_values(by='Revenue', ascending=True).head(10) \n",
    "\n",
    "#df3.iplot(kind='bar', x='Country', xTitle='Countries', yTitle='Average revenue', \n",
    "           #title='Top 10 countries with lowest avg revenue', color='pink')"
   ]
  },
  {
   "cell_type": "code",
   "execution_count": 14,
   "metadata": {},
   "outputs": [],
   "source": [
    "# visualize top 10 product highest unitprice \n",
    "#df = data4[['Description', 'UnitPrice']].groupby(['Description']).agg('mean') \n",
    "#df2 = df.reset_index() \n",
    "#df3 = df2.sort_values(by='UnitPrice', ascending=False).head(10)\n",
    "\n",
    "#df3.iplot(kind='bar', x='Description', xTitle='Products', yTitle='Unit price', \n",
    "           #title='Top 10 products with highest unit price', color='pink')"
   ]
  },
  {
   "cell_type": "code",
   "execution_count": 15,
   "metadata": {},
   "outputs": [],
   "source": [
    "# visualize top 10 product lowest avg unitprice \n",
    "#df = data4[['Description', 'UnitPrice']].groupby(['Description']).agg('mean') \n",
    "#df2 = df.reset_index() \n",
    "#df3 = df2.sort_values(by='UnitPrice', ascending=True).head(10)\n",
    "\n",
    "#df3.iplot(kind='bar', x='Description', xTitle='Products', yTitle='Unit price', \n",
    "           #title='Top 10 products with lowest unit price', color='pink')"
   ]
  },
  {
   "cell_type": "code",
   "execution_count": 16,
   "metadata": {},
   "outputs": [],
   "source": [
    "# visualize top 10 product highest avg revenue \n",
    "#df = data4[['Description', 'Revenue']].groupby(['Description']).agg('mean') \n",
    "#df2 = df.reset_index() \n",
    "#df3 = df2.sort_values(by='Revenue', ascending=False).head(10)\n",
    "\n",
    "#df3.iplot(kind='bar', x='Description', xTitle='Products', yTitle='Revenue', \n",
    "           #title='Top 10 products with highest avg revenue', color='pink') "
   ]
  },
  {
   "cell_type": "code",
   "execution_count": 17,
   "metadata": {},
   "outputs": [],
   "source": [
    "# visualize top 10 product lowest revenue \n",
    "#df = data4[['Description', 'Revenue']].groupby(['Description']).agg('mean') \n",
    "#df2 = df.reset_index() \n",
    "#df3 = df2.sort_values(by='Revenue', ascending=True).head(10)\n",
    "\n",
    "#df3.iplot(kind='bar', x='Description', xTitle='Products', yTitle='Revenue', \n",
    "           #title='Top 10 products with lowest avg revenue', color='pink') "
   ]
  },
  {
   "cell_type": "code",
   "execution_count": 18,
   "metadata": {},
   "outputs": [],
   "source": [
    "# PLOT CLTV & REVENUE OVER TIME    "
   ]
  },
  {
   "cell_type": "code",
   "execution_count": 19,
   "metadata": {},
   "outputs": [
    {
     "name": "stdout",
     "output_type": "stream",
     "text": [
      "The outlier array: (array([ 26,  29, 149, 235]),)\n",
      "The cltv value of the first outlier is: 71.81\n",
      "The cltv value of the second: 49.39\n",
      "The cltv value of the third: 84.2\n",
      "The cltv value of the fourth: 71.71\n"
     ]
    },
    {
     "data": {
      "application/vnd.plotly.v1+json": {
       "config": {
        "linkText": "Export to plot.ly",
        "plotlyServerURL": "https://plot.ly",
        "showLink": true
       },
       "data": [
        {
         "line": {
          "color": "rgba(255, 0, 136, 1.0)",
          "dash": "solid",
          "shape": "linear",
          "width": 1.3
         },
         "mode": "lines",
         "name": "Revenue",
         "text": "",
         "type": "scatter",
         "x": [
          "2010-12-01",
          "2010-12-02",
          "2010-12-03",
          "2010-12-05",
          "2010-12-06",
          "2010-12-07",
          "2010-12-08",
          "2010-12-09",
          "2010-12-10",
          "2010-12-12",
          "2010-12-13",
          "2010-12-14",
          "2010-12-15",
          "2010-12-16",
          "2010-12-17",
          "2010-12-19",
          "2010-12-20",
          "2010-12-21",
          "2010-12-22",
          "2010-12-23",
          "2011-01-04",
          "2011-01-05",
          "2011-01-06",
          "2011-01-07",
          "2011-01-09",
          "2011-01-10",
          "2011-01-12",
          "2011-01-13",
          "2011-01-16",
          "2011-01-17",
          "2011-01-18",
          "2011-01-19",
          "2011-01-20",
          "2011-01-21",
          "2011-01-23",
          "2011-01-24",
          "2011-01-25",
          "2011-01-26",
          "2011-01-27",
          "2011-01-28",
          "2011-01-30",
          "2011-01-31",
          "2011-02-01",
          "2011-02-02",
          "2011-02-03",
          "2011-02-04",
          "2011-02-06",
          "2011-02-07",
          "2011-02-08",
          "2011-02-09",
          "2011-02-10",
          "2011-02-11",
          "2011-02-13",
          "2011-02-14",
          "2011-02-15",
          "2011-02-16",
          "2011-02-17",
          "2011-02-18",
          "2011-02-20",
          "2011-02-21",
          "2011-02-22",
          "2011-02-23",
          "2011-02-24",
          "2011-02-25",
          "2011-02-27",
          "2011-02-28",
          "2011-03-01",
          "2011-03-02",
          "2011-03-03",
          "2011-03-04",
          "2011-03-06",
          "2011-03-07",
          "2011-03-08",
          "2011-03-09",
          "2011-03-10",
          "2011-03-11",
          "2011-03-13",
          "2011-03-14",
          "2011-03-15",
          "2011-03-16",
          "2011-03-17",
          "2011-03-18",
          "2011-03-20",
          "2011-03-21",
          "2011-03-22",
          "2011-03-23",
          "2011-03-24",
          "2011-03-25",
          "2011-03-27",
          "2011-03-28",
          "2011-03-29",
          "2011-03-30",
          "2011-03-31",
          "2011-04-01",
          "2011-04-03",
          "2011-04-04",
          "2011-04-05",
          "2011-04-06",
          "2011-04-07",
          "2011-04-08",
          "2011-04-10",
          "2011-04-11",
          "2011-04-12",
          "2011-04-13",
          "2011-04-14",
          "2011-04-15",
          "2011-04-17",
          "2011-04-18",
          "2011-04-19",
          "2011-04-20",
          "2011-04-21",
          "2011-04-26",
          "2011-04-27",
          "2011-04-28",
          "2011-05-01",
          "2011-05-03",
          "2011-05-04",
          "2011-05-05",
          "2011-05-06",
          "2011-05-08",
          "2011-05-09",
          "2011-05-10",
          "2011-05-11",
          "2011-05-12",
          "2011-05-13",
          "2011-05-15",
          "2011-05-16",
          "2011-05-17",
          "2011-05-18",
          "2011-05-19",
          "2011-05-20",
          "2011-05-22",
          "2011-05-23",
          "2011-05-24",
          "2011-05-25",
          "2011-05-26",
          "2011-05-27",
          "2011-05-29",
          "2011-05-31",
          "2011-06-01",
          "2011-06-02",
          "2011-06-03",
          "2011-06-05",
          "2011-06-06",
          "2011-06-07",
          "2011-06-08",
          "2011-06-09",
          "2011-06-12",
          "2011-06-13",
          "2011-06-14",
          "2011-06-15",
          "2011-06-16",
          "2011-06-17",
          "2011-06-19",
          "2011-06-20",
          "2011-06-21",
          "2011-06-22",
          "2011-06-23",
          "2011-06-24",
          "2011-06-26",
          "2011-06-27",
          "2011-06-28",
          "2011-06-29",
          "2011-06-30",
          "2011-07-01",
          "2011-07-03",
          "2011-07-04",
          "2011-07-05",
          "2011-07-06",
          "2011-07-07",
          "2011-07-08",
          "2011-07-10",
          "2011-07-11",
          "2011-07-12",
          "2011-07-13",
          "2011-07-14",
          "2011-07-15",
          "2011-07-17",
          "2011-07-18",
          "2011-07-19",
          "2011-07-20",
          "2011-07-21",
          "2011-07-22",
          "2011-07-24",
          "2011-07-25",
          "2011-07-26",
          "2011-07-27",
          "2011-07-28",
          "2011-07-29",
          "2011-07-31",
          "2011-08-01",
          "2011-08-02",
          "2011-08-03",
          "2011-08-04",
          "2011-08-05",
          "2011-08-07",
          "2011-08-08",
          "2011-08-09",
          "2011-08-10",
          "2011-08-11",
          "2011-08-12",
          "2011-08-14",
          "2011-08-15",
          "2011-08-16",
          "2011-08-17",
          "2011-08-18",
          "2011-08-19",
          "2011-08-21",
          "2011-08-22",
          "2011-08-23",
          "2011-08-24",
          "2011-08-25",
          "2011-08-26",
          "2011-08-28",
          "2011-08-30",
          "2011-08-31",
          "2011-09-01",
          "2011-09-02",
          "2011-09-04",
          "2011-09-05",
          "2011-09-06",
          "2011-09-07",
          "2011-09-08",
          "2011-09-09",
          "2011-09-11",
          "2011-09-12",
          "2011-09-13",
          "2011-09-14",
          "2011-09-15",
          "2011-09-16",
          "2011-09-18",
          "2011-09-19",
          "2011-09-21",
          "2011-09-22",
          "2011-09-23",
          "2011-09-25",
          "2011-09-26",
          "2011-09-27",
          "2011-09-28",
          "2011-09-29",
          "2011-09-30",
          "2011-10-02",
          "2011-10-03",
          "2011-10-04",
          "2011-10-05",
          "2011-10-06",
          "2011-10-07",
          "2011-10-09",
          "2011-10-10",
          "2011-10-11",
          "2011-10-12",
          "2011-10-13",
          "2011-10-14",
          "2011-10-16",
          "2011-10-17",
          "2011-10-18",
          "2011-10-19",
          "2011-10-20",
          "2011-10-21",
          "2011-10-23",
          "2011-10-24",
          "2011-10-25",
          "2011-10-26",
          "2011-10-27",
          "2011-10-28",
          "2011-10-30",
          "2011-10-31",
          "2011-11-01",
          "2011-11-02",
          "2011-11-03",
          "2011-11-04",
          "2011-11-06",
          "2011-11-07",
          "2011-11-08",
          "2011-11-09",
          "2011-11-10",
          "2011-11-11",
          "2011-11-13",
          "2011-11-14",
          "2011-11-15",
          "2011-11-16",
          "2011-11-17",
          "2011-11-18",
          "2011-11-20",
          "2011-11-21",
          "2011-11-22",
          "2011-11-23",
          "2011-11-24",
          "2011-11-25",
          "2011-11-27",
          "2011-11-28",
          "2011-11-29",
          "2011-11-30",
          "2011-12-01",
          "2011-12-02",
          "2011-12-04",
          "2011-12-05",
          "2011-12-06",
          "2011-12-07",
          "2011-12-08",
          "2011-12-09"
         ],
         "y": [
          23.89,
          23.66,
          21.57,
          11.62,
          16.05,
          48.4,
          20.03,
          21.7,
          24.02,
          12.05,
          21.74,
          18.12,
          23.54,
          29.32,
          26.97,
          14.9,
          23.5,
          40.06,
          22.52,
          16.57,
          16.04,
          27.45,
          27.18,
          21.83,
          14.27,
          19.22,
          18.77,
          20.56,
          11.29,
          17.08,
          19.08,
          22.63,
          21.95,
          35.23,
          11.98,
          22.97,
          20.04,
          17.41,
          16.92,
          26.67,
          9.27,
          18.57,
          21.45,
          17.15,
          25.88,
          24.48,
          12.39,
          24.54,
          22.74,
          26.92,
          21.46,
          35.13,
          9.38,
          32.69,
          36.33,
          23.42,
          16.57,
          23.96,
          11.21,
          33.93,
          25.48,
          19.99,
          19.34,
          22.53,
          11.75,
          15.21,
          20.23,
          21,
          35.75,
          19.46,
          12.18,
          18.4,
          18.69,
          19.94,
          27.12,
          27,
          7.72,
          23.86,
          17.63,
          25.66,
          30.75,
          22.77,
          16.54,
          16.47,
          15.38,
          20.33,
          23.59,
          27.2,
          12.88,
          15.03,
          35.35,
          22.99,
          25.21,
          21.55,
          9.62,
          19.03,
          29.5,
          15.92,
          12.91,
          20.26,
          10.59,
          17.61,
          22.03,
          24.02,
          24.03,
          22.81,
          13.15,
          30.81,
          15.67,
          28.17,
          19.97,
          17.79,
          22.5,
          20.83,
          15.28,
          21.05,
          23.92,
          20.84,
          23.52,
          12.52,
          20.41,
          22.7,
          21.73,
          33.55,
          23.33,
          12.69,
          30.21,
          35.48,
          28.27,
          20.66,
          26.52,
          15.47,
          21.88,
          30.47,
          21.6,
          37.04,
          25.06,
          11.64,
          19.64,
          21.92,
          27.22,
          23.15,
          16.2,
          15.52,
          23.32,
          20.34,
          30.57,
          11.64,
          17.24,
          32.71,
          34.89,
          25.45,
          22.18,
          19.36,
          22.16,
          20.18,
          20.73,
          14.23,
          21.75,
          10.43,
          17.06,
          38.11,
          22.67,
          35.02,
          14.62,
          10.09,
          32.93,
          32.33,
          18.53,
          22.25,
          22.34,
          7.37,
          18.67,
          24.04,
          15.9,
          22.7,
          15.45,
          14.18,
          18.27,
          31.3,
          22.03,
          22.96,
          19.28,
          25.07,
          18.06,
          20.52,
          26.99,
          41.59,
          18.3,
          26.29,
          19.51,
          22.12,
          19.84,
          42.52,
          15.67,
          14.35,
          18.08,
          29.27,
          26.51,
          36.53,
          25.36,
          10.63,
          18.73,
          17.1,
          33.91,
          36.61,
          21.06,
          13.71,
          23.39,
          16.57,
          25.24,
          18.72,
          27.92,
          9.03,
          22.66,
          26.74,
          26.38,
          26.43,
          12.89,
          25.81,
          24.24,
          22.34,
          16.48,
          19.62,
          17.43,
          19.38,
          25.42,
          19.4,
          43.75,
          18.63,
          12.39,
          33.68,
          22.1,
          23.6,
          16.73,
          15.78,
          18.8,
          21.32,
          18.28,
          19.92,
          27.55,
          8.16,
          33.3,
          18.77,
          34.2,
          22.74,
          25.01,
          10.05,
          15.57,
          25.73,
          18.9,
          16.74,
          21.1,
          17.66,
          19.13,
          18.14,
          16.92,
          26.49,
          45.69,
          7.14,
          20.02,
          16.96,
          19.58,
          20.98,
          25.99,
          11.8,
          17.57,
          16.79,
          22,
          30.82,
          22.54,
          12.47,
          16.5,
          16.53,
          28.11,
          21.87,
          15.14,
          10.48,
          19.63,
          21.46,
          17.63,
          18.25,
          16.77,
          9.7,
          19.14,
          17.39,
          21.54,
          15.77,
          15.46,
          7.04,
          18.12,
          17.86,
          19.41,
          20.75,
          22.47,
          10.41,
          16.64,
          17.93,
          31.81,
          19.86,
          25.73
         ]
        }
       ],
       "layout": {
        "legend": {
         "bgcolor": "#F5F6F9",
         "font": {
          "color": "#4D5663"
         }
        },
        "paper_bgcolor": "#F5F6F9",
        "plot_bgcolor": "#F5F6F9",
        "template": {
         "data": {
          "bar": [
           {
            "error_x": {
             "color": "#2a3f5f"
            },
            "error_y": {
             "color": "#2a3f5f"
            },
            "marker": {
             "line": {
              "color": "#E5ECF6",
              "width": 0.5
             }
            },
            "type": "bar"
           }
          ],
          "barpolar": [
           {
            "marker": {
             "line": {
              "color": "#E5ECF6",
              "width": 0.5
             }
            },
            "type": "barpolar"
           }
          ],
          "carpet": [
           {
            "aaxis": {
             "endlinecolor": "#2a3f5f",
             "gridcolor": "white",
             "linecolor": "white",
             "minorgridcolor": "white",
             "startlinecolor": "#2a3f5f"
            },
            "baxis": {
             "endlinecolor": "#2a3f5f",
             "gridcolor": "white",
             "linecolor": "white",
             "minorgridcolor": "white",
             "startlinecolor": "#2a3f5f"
            },
            "type": "carpet"
           }
          ],
          "choropleth": [
           {
            "colorbar": {
             "outlinewidth": 0,
             "ticks": ""
            },
            "type": "choropleth"
           }
          ],
          "contour": [
           {
            "colorbar": {
             "outlinewidth": 0,
             "ticks": ""
            },
            "colorscale": [
             [
              0,
              "#0d0887"
             ],
             [
              0.1111111111111111,
              "#46039f"
             ],
             [
              0.2222222222222222,
              "#7201a8"
             ],
             [
              0.3333333333333333,
              "#9c179e"
             ],
             [
              0.4444444444444444,
              "#bd3786"
             ],
             [
              0.5555555555555556,
              "#d8576b"
             ],
             [
              0.6666666666666666,
              "#ed7953"
             ],
             [
              0.7777777777777778,
              "#fb9f3a"
             ],
             [
              0.8888888888888888,
              "#fdca26"
             ],
             [
              1,
              "#f0f921"
             ]
            ],
            "type": "contour"
           }
          ],
          "contourcarpet": [
           {
            "colorbar": {
             "outlinewidth": 0,
             "ticks": ""
            },
            "type": "contourcarpet"
           }
          ],
          "heatmap": [
           {
            "colorbar": {
             "outlinewidth": 0,
             "ticks": ""
            },
            "colorscale": [
             [
              0,
              "#0d0887"
             ],
             [
              0.1111111111111111,
              "#46039f"
             ],
             [
              0.2222222222222222,
              "#7201a8"
             ],
             [
              0.3333333333333333,
              "#9c179e"
             ],
             [
              0.4444444444444444,
              "#bd3786"
             ],
             [
              0.5555555555555556,
              "#d8576b"
             ],
             [
              0.6666666666666666,
              "#ed7953"
             ],
             [
              0.7777777777777778,
              "#fb9f3a"
             ],
             [
              0.8888888888888888,
              "#fdca26"
             ],
             [
              1,
              "#f0f921"
             ]
            ],
            "type": "heatmap"
           }
          ],
          "heatmapgl": [
           {
            "colorbar": {
             "outlinewidth": 0,
             "ticks": ""
            },
            "colorscale": [
             [
              0,
              "#0d0887"
             ],
             [
              0.1111111111111111,
              "#46039f"
             ],
             [
              0.2222222222222222,
              "#7201a8"
             ],
             [
              0.3333333333333333,
              "#9c179e"
             ],
             [
              0.4444444444444444,
              "#bd3786"
             ],
             [
              0.5555555555555556,
              "#d8576b"
             ],
             [
              0.6666666666666666,
              "#ed7953"
             ],
             [
              0.7777777777777778,
              "#fb9f3a"
             ],
             [
              0.8888888888888888,
              "#fdca26"
             ],
             [
              1,
              "#f0f921"
             ]
            ],
            "type": "heatmapgl"
           }
          ],
          "histogram": [
           {
            "marker": {
             "colorbar": {
              "outlinewidth": 0,
              "ticks": ""
             }
            },
            "type": "histogram"
           }
          ],
          "histogram2d": [
           {
            "colorbar": {
             "outlinewidth": 0,
             "ticks": ""
            },
            "colorscale": [
             [
              0,
              "#0d0887"
             ],
             [
              0.1111111111111111,
              "#46039f"
             ],
             [
              0.2222222222222222,
              "#7201a8"
             ],
             [
              0.3333333333333333,
              "#9c179e"
             ],
             [
              0.4444444444444444,
              "#bd3786"
             ],
             [
              0.5555555555555556,
              "#d8576b"
             ],
             [
              0.6666666666666666,
              "#ed7953"
             ],
             [
              0.7777777777777778,
              "#fb9f3a"
             ],
             [
              0.8888888888888888,
              "#fdca26"
             ],
             [
              1,
              "#f0f921"
             ]
            ],
            "type": "histogram2d"
           }
          ],
          "histogram2dcontour": [
           {
            "colorbar": {
             "outlinewidth": 0,
             "ticks": ""
            },
            "colorscale": [
             [
              0,
              "#0d0887"
             ],
             [
              0.1111111111111111,
              "#46039f"
             ],
             [
              0.2222222222222222,
              "#7201a8"
             ],
             [
              0.3333333333333333,
              "#9c179e"
             ],
             [
              0.4444444444444444,
              "#bd3786"
             ],
             [
              0.5555555555555556,
              "#d8576b"
             ],
             [
              0.6666666666666666,
              "#ed7953"
             ],
             [
              0.7777777777777778,
              "#fb9f3a"
             ],
             [
              0.8888888888888888,
              "#fdca26"
             ],
             [
              1,
              "#f0f921"
             ]
            ],
            "type": "histogram2dcontour"
           }
          ],
          "mesh3d": [
           {
            "colorbar": {
             "outlinewidth": 0,
             "ticks": ""
            },
            "type": "mesh3d"
           }
          ],
          "parcoords": [
           {
            "line": {
             "colorbar": {
              "outlinewidth": 0,
              "ticks": ""
             }
            },
            "type": "parcoords"
           }
          ],
          "scatter": [
           {
            "marker": {
             "colorbar": {
              "outlinewidth": 0,
              "ticks": ""
             }
            },
            "type": "scatter"
           }
          ],
          "scatter3d": [
           {
            "line": {
             "colorbar": {
              "outlinewidth": 0,
              "ticks": ""
             }
            },
            "marker": {
             "colorbar": {
              "outlinewidth": 0,
              "ticks": ""
             }
            },
            "type": "scatter3d"
           }
          ],
          "scattercarpet": [
           {
            "marker": {
             "colorbar": {
              "outlinewidth": 0,
              "ticks": ""
             }
            },
            "type": "scattercarpet"
           }
          ],
          "scattergeo": [
           {
            "marker": {
             "colorbar": {
              "outlinewidth": 0,
              "ticks": ""
             }
            },
            "type": "scattergeo"
           }
          ],
          "scattergl": [
           {
            "marker": {
             "colorbar": {
              "outlinewidth": 0,
              "ticks": ""
             }
            },
            "type": "scattergl"
           }
          ],
          "scattermapbox": [
           {
            "marker": {
             "colorbar": {
              "outlinewidth": 0,
              "ticks": ""
             }
            },
            "type": "scattermapbox"
           }
          ],
          "scatterpolar": [
           {
            "marker": {
             "colorbar": {
              "outlinewidth": 0,
              "ticks": ""
             }
            },
            "type": "scatterpolar"
           }
          ],
          "scatterpolargl": [
           {
            "marker": {
             "colorbar": {
              "outlinewidth": 0,
              "ticks": ""
             }
            },
            "type": "scatterpolargl"
           }
          ],
          "scatterternary": [
           {
            "marker": {
             "colorbar": {
              "outlinewidth": 0,
              "ticks": ""
             }
            },
            "type": "scatterternary"
           }
          ],
          "surface": [
           {
            "colorbar": {
             "outlinewidth": 0,
             "ticks": ""
            },
            "colorscale": [
             [
              0,
              "#0d0887"
             ],
             [
              0.1111111111111111,
              "#46039f"
             ],
             [
              0.2222222222222222,
              "#7201a8"
             ],
             [
              0.3333333333333333,
              "#9c179e"
             ],
             [
              0.4444444444444444,
              "#bd3786"
             ],
             [
              0.5555555555555556,
              "#d8576b"
             ],
             [
              0.6666666666666666,
              "#ed7953"
             ],
             [
              0.7777777777777778,
              "#fb9f3a"
             ],
             [
              0.8888888888888888,
              "#fdca26"
             ],
             [
              1,
              "#f0f921"
             ]
            ],
            "type": "surface"
           }
          ],
          "table": [
           {
            "cells": {
             "fill": {
              "color": "#EBF0F8"
             },
             "line": {
              "color": "white"
             }
            },
            "header": {
             "fill": {
              "color": "#C8D4E3"
             },
             "line": {
              "color": "white"
             }
            },
            "type": "table"
           }
          ]
         },
         "layout": {
          "annotationdefaults": {
           "arrowcolor": "#2a3f5f",
           "arrowhead": 0,
           "arrowwidth": 1
          },
          "colorscale": {
           "diverging": [
            [
             0,
             "#8e0152"
            ],
            [
             0.1,
             "#c51b7d"
            ],
            [
             0.2,
             "#de77ae"
            ],
            [
             0.3,
             "#f1b6da"
            ],
            [
             0.4,
             "#fde0ef"
            ],
            [
             0.5,
             "#f7f7f7"
            ],
            [
             0.6,
             "#e6f5d0"
            ],
            [
             0.7,
             "#b8e186"
            ],
            [
             0.8,
             "#7fbc41"
            ],
            [
             0.9,
             "#4d9221"
            ],
            [
             1,
             "#276419"
            ]
           ],
           "sequential": [
            [
             0,
             "#0d0887"
            ],
            [
             0.1111111111111111,
             "#46039f"
            ],
            [
             0.2222222222222222,
             "#7201a8"
            ],
            [
             0.3333333333333333,
             "#9c179e"
            ],
            [
             0.4444444444444444,
             "#bd3786"
            ],
            [
             0.5555555555555556,
             "#d8576b"
            ],
            [
             0.6666666666666666,
             "#ed7953"
            ],
            [
             0.7777777777777778,
             "#fb9f3a"
            ],
            [
             0.8888888888888888,
             "#fdca26"
            ],
            [
             1,
             "#f0f921"
            ]
           ],
           "sequentialminus": [
            [
             0,
             "#0d0887"
            ],
            [
             0.1111111111111111,
             "#46039f"
            ],
            [
             0.2222222222222222,
             "#7201a8"
            ],
            [
             0.3333333333333333,
             "#9c179e"
            ],
            [
             0.4444444444444444,
             "#bd3786"
            ],
            [
             0.5555555555555556,
             "#d8576b"
            ],
            [
             0.6666666666666666,
             "#ed7953"
            ],
            [
             0.7777777777777778,
             "#fb9f3a"
            ],
            [
             0.8888888888888888,
             "#fdca26"
            ],
            [
             1,
             "#f0f921"
            ]
           ]
          },
          "colorway": [
           "#636efa",
           "#EF553B",
           "#00cc96",
           "#ab63fa",
           "#FFA15A",
           "#19d3f3",
           "#FF6692",
           "#B6E880",
           "#FF97FF",
           "#FECB52"
          ],
          "font": {
           "color": "#2a3f5f"
          },
          "geo": {
           "bgcolor": "white",
           "lakecolor": "white",
           "landcolor": "#E5ECF6",
           "showlakes": true,
           "showland": true,
           "subunitcolor": "white"
          },
          "hoverlabel": {
           "align": "left"
          },
          "hovermode": "closest",
          "mapbox": {
           "style": "light"
          },
          "paper_bgcolor": "white",
          "plot_bgcolor": "#E5ECF6",
          "polar": {
           "angularaxis": {
            "gridcolor": "white",
            "linecolor": "white",
            "ticks": ""
           },
           "bgcolor": "#E5ECF6",
           "radialaxis": {
            "gridcolor": "white",
            "linecolor": "white",
            "ticks": ""
           }
          },
          "scene": {
           "xaxis": {
            "backgroundcolor": "#E5ECF6",
            "gridcolor": "white",
            "gridwidth": 2,
            "linecolor": "white",
            "showbackground": true,
            "ticks": "",
            "zerolinecolor": "white"
           },
           "yaxis": {
            "backgroundcolor": "#E5ECF6",
            "gridcolor": "white",
            "gridwidth": 2,
            "linecolor": "white",
            "showbackground": true,
            "ticks": "",
            "zerolinecolor": "white"
           },
           "zaxis": {
            "backgroundcolor": "#E5ECF6",
            "gridcolor": "white",
            "gridwidth": 2,
            "linecolor": "white",
            "showbackground": true,
            "ticks": "",
            "zerolinecolor": "white"
           }
          },
          "shapedefaults": {
           "line": {
            "color": "#2a3f5f"
           }
          },
          "ternary": {
           "aaxis": {
            "gridcolor": "white",
            "linecolor": "white",
            "ticks": ""
           },
           "baxis": {
            "gridcolor": "white",
            "linecolor": "white",
            "ticks": ""
           },
           "bgcolor": "#E5ECF6",
           "caxis": {
            "gridcolor": "white",
            "linecolor": "white",
            "ticks": ""
           }
          },
          "title": {
           "x": 0.05
          },
          "xaxis": {
           "automargin": true,
           "gridcolor": "white",
           "linecolor": "white",
           "ticks": "",
           "zerolinecolor": "white",
           "zerolinewidth": 2
          },
          "yaxis": {
           "automargin": true,
           "gridcolor": "white",
           "linecolor": "white",
           "ticks": "",
           "zerolinecolor": "white",
           "zerolinewidth": 2
          }
         }
        },
        "title": {
         "font": {
          "color": "#4D5663"
         },
         "text": "Average Revenue over Time"
        },
        "xaxis": {
         "gridcolor": "#E1E5ED",
         "showgrid": true,
         "tickfont": {
          "color": "#4D5663"
         },
         "title": {
          "font": {
           "color": "#4D5663"
          },
          "text": "Time"
         },
         "zerolinecolor": "#E1E5ED"
        },
        "yaxis": {
         "gridcolor": "#E1E5ED",
         "showgrid": true,
         "tickfont": {
          "color": "#4D5663"
         },
         "title": {
          "font": {
           "color": "#4D5663"
          },
          "text": "Revenue"
         },
         "zerolinecolor": "#E1E5ED"
        }
       }
      },
      "text/html": [
       "<div>\n",
       "        \n",
       "        \n",
       "            <div id=\"9f65cdeb-8f7d-4e40-8979-4167c4779945\" class=\"plotly-graph-div\" style=\"height:525px; width:100%;\"></div>\n",
       "            <script type=\"text/javascript\">\n",
       "                require([\"plotly\"], function(Plotly) {\n",
       "                    window.PLOTLYENV=window.PLOTLYENV || {};\n",
       "                    window.PLOTLYENV.BASE_URL='https://plot.ly';\n",
       "                    \n",
       "                if (document.getElementById(\"9f65cdeb-8f7d-4e40-8979-4167c4779945\")) {\n",
       "                    Plotly.newPlot(\n",
       "                        '9f65cdeb-8f7d-4e40-8979-4167c4779945',\n",
       "                        [{\"line\": {\"color\": \"rgba(255, 0, 136, 1.0)\", \"dash\": \"solid\", \"shape\": \"linear\", \"width\": 1.3}, \"mode\": \"lines\", \"name\": \"Revenue\", \"text\": \"\", \"type\": \"scatter\", \"x\": [\"2010-12-01\", \"2010-12-02\", \"2010-12-03\", \"2010-12-05\", \"2010-12-06\", \"2010-12-07\", \"2010-12-08\", \"2010-12-09\", \"2010-12-10\", \"2010-12-12\", \"2010-12-13\", \"2010-12-14\", \"2010-12-15\", \"2010-12-16\", \"2010-12-17\", \"2010-12-19\", \"2010-12-20\", \"2010-12-21\", \"2010-12-22\", \"2010-12-23\", \"2011-01-04\", \"2011-01-05\", \"2011-01-06\", \"2011-01-07\", \"2011-01-09\", \"2011-01-10\", \"2011-01-12\", \"2011-01-13\", \"2011-01-16\", \"2011-01-17\", \"2011-01-18\", \"2011-01-19\", \"2011-01-20\", \"2011-01-21\", \"2011-01-23\", \"2011-01-24\", \"2011-01-25\", \"2011-01-26\", \"2011-01-27\", \"2011-01-28\", \"2011-01-30\", \"2011-01-31\", \"2011-02-01\", \"2011-02-02\", \"2011-02-03\", \"2011-02-04\", \"2011-02-06\", \"2011-02-07\", \"2011-02-08\", \"2011-02-09\", \"2011-02-10\", \"2011-02-11\", \"2011-02-13\", \"2011-02-14\", \"2011-02-15\", \"2011-02-16\", \"2011-02-17\", \"2011-02-18\", \"2011-02-20\", \"2011-02-21\", \"2011-02-22\", \"2011-02-23\", \"2011-02-24\", \"2011-02-25\", \"2011-02-27\", \"2011-02-28\", \"2011-03-01\", \"2011-03-02\", \"2011-03-03\", \"2011-03-04\", \"2011-03-06\", \"2011-03-07\", \"2011-03-08\", \"2011-03-09\", \"2011-03-10\", \"2011-03-11\", \"2011-03-13\", \"2011-03-14\", \"2011-03-15\", \"2011-03-16\", \"2011-03-17\", \"2011-03-18\", \"2011-03-20\", \"2011-03-21\", \"2011-03-22\", \"2011-03-23\", \"2011-03-24\", \"2011-03-25\", \"2011-03-27\", \"2011-03-28\", \"2011-03-29\", \"2011-03-30\", \"2011-03-31\", \"2011-04-01\", \"2011-04-03\", \"2011-04-04\", \"2011-04-05\", \"2011-04-06\", \"2011-04-07\", \"2011-04-08\", \"2011-04-10\", \"2011-04-11\", \"2011-04-12\", \"2011-04-13\", \"2011-04-14\", \"2011-04-15\", \"2011-04-17\", \"2011-04-18\", \"2011-04-19\", \"2011-04-20\", \"2011-04-21\", \"2011-04-26\", \"2011-04-27\", \"2011-04-28\", \"2011-05-01\", \"2011-05-03\", \"2011-05-04\", \"2011-05-05\", \"2011-05-06\", \"2011-05-08\", \"2011-05-09\", \"2011-05-10\", \"2011-05-11\", \"2011-05-12\", \"2011-05-13\", \"2011-05-15\", \"2011-05-16\", \"2011-05-17\", \"2011-05-18\", \"2011-05-19\", \"2011-05-20\", \"2011-05-22\", \"2011-05-23\", \"2011-05-24\", \"2011-05-25\", \"2011-05-26\", \"2011-05-27\", \"2011-05-29\", \"2011-05-31\", \"2011-06-01\", \"2011-06-02\", \"2011-06-03\", \"2011-06-05\", \"2011-06-06\", \"2011-06-07\", \"2011-06-08\", \"2011-06-09\", \"2011-06-12\", \"2011-06-13\", \"2011-06-14\", \"2011-06-15\", \"2011-06-16\", \"2011-06-17\", \"2011-06-19\", \"2011-06-20\", \"2011-06-21\", \"2011-06-22\", \"2011-06-23\", \"2011-06-24\", \"2011-06-26\", \"2011-06-27\", \"2011-06-28\", \"2011-06-29\", \"2011-06-30\", \"2011-07-01\", \"2011-07-03\", \"2011-07-04\", \"2011-07-05\", \"2011-07-06\", \"2011-07-07\", \"2011-07-08\", \"2011-07-10\", \"2011-07-11\", \"2011-07-12\", \"2011-07-13\", \"2011-07-14\", \"2011-07-15\", \"2011-07-17\", \"2011-07-18\", \"2011-07-19\", \"2011-07-20\", \"2011-07-21\", \"2011-07-22\", \"2011-07-24\", \"2011-07-25\", \"2011-07-26\", \"2011-07-27\", \"2011-07-28\", \"2011-07-29\", \"2011-07-31\", \"2011-08-01\", \"2011-08-02\", \"2011-08-03\", \"2011-08-04\", \"2011-08-05\", \"2011-08-07\", \"2011-08-08\", \"2011-08-09\", \"2011-08-10\", \"2011-08-11\", \"2011-08-12\", \"2011-08-14\", \"2011-08-15\", \"2011-08-16\", \"2011-08-17\", \"2011-08-18\", \"2011-08-19\", \"2011-08-21\", \"2011-08-22\", \"2011-08-23\", \"2011-08-24\", \"2011-08-25\", \"2011-08-26\", \"2011-08-28\", \"2011-08-30\", \"2011-08-31\", \"2011-09-01\", \"2011-09-02\", \"2011-09-04\", \"2011-09-05\", \"2011-09-06\", \"2011-09-07\", \"2011-09-08\", \"2011-09-09\", \"2011-09-11\", \"2011-09-12\", \"2011-09-13\", \"2011-09-14\", \"2011-09-15\", \"2011-09-16\", \"2011-09-18\", \"2011-09-19\", \"2011-09-21\", \"2011-09-22\", \"2011-09-23\", \"2011-09-25\", \"2011-09-26\", \"2011-09-27\", \"2011-09-28\", \"2011-09-29\", \"2011-09-30\", \"2011-10-02\", \"2011-10-03\", \"2011-10-04\", \"2011-10-05\", \"2011-10-06\", \"2011-10-07\", \"2011-10-09\", \"2011-10-10\", \"2011-10-11\", \"2011-10-12\", \"2011-10-13\", \"2011-10-14\", \"2011-10-16\", \"2011-10-17\", \"2011-10-18\", \"2011-10-19\", \"2011-10-20\", \"2011-10-21\", \"2011-10-23\", \"2011-10-24\", \"2011-10-25\", \"2011-10-26\", \"2011-10-27\", \"2011-10-28\", \"2011-10-30\", \"2011-10-31\", \"2011-11-01\", \"2011-11-02\", \"2011-11-03\", \"2011-11-04\", \"2011-11-06\", \"2011-11-07\", \"2011-11-08\", \"2011-11-09\", \"2011-11-10\", \"2011-11-11\", \"2011-11-13\", \"2011-11-14\", \"2011-11-15\", \"2011-11-16\", \"2011-11-17\", \"2011-11-18\", \"2011-11-20\", \"2011-11-21\", \"2011-11-22\", \"2011-11-23\", \"2011-11-24\", \"2011-11-25\", \"2011-11-27\", \"2011-11-28\", \"2011-11-29\", \"2011-11-30\", \"2011-12-01\", \"2011-12-02\", \"2011-12-04\", \"2011-12-05\", \"2011-12-06\", \"2011-12-07\", \"2011-12-08\", \"2011-12-09\"], \"y\": [23.89, 23.66, 21.57, 11.62, 16.05, 48.4, 20.03, 21.7, 24.02, 12.05, 21.74, 18.12, 23.54, 29.32, 26.97, 14.9, 23.5, 40.06, 22.52, 16.57, 16.04, 27.45, 27.18, 21.83, 14.27, 19.22, 18.77, 20.56, 11.29, 17.08, 19.08, 22.63, 21.95, 35.23, 11.98, 22.97, 20.04, 17.41, 16.92, 26.67, 9.27, 18.57, 21.45, 17.15, 25.88, 24.48, 12.39, 24.54, 22.74, 26.92, 21.46, 35.13, 9.38, 32.69, 36.33, 23.42, 16.57, 23.96, 11.21, 33.93, 25.48, 19.99, 19.34, 22.53, 11.75, 15.21, 20.23, 21.0, 35.75, 19.46, 12.18, 18.4, 18.69, 19.94, 27.12, 27.0, 7.72, 23.86, 17.63, 25.66, 30.75, 22.77, 16.54, 16.47, 15.38, 20.33, 23.59, 27.2, 12.88, 15.03, 35.35, 22.99, 25.21, 21.55, 9.62, 19.03, 29.5, 15.92, 12.91, 20.26, 10.59, 17.61, 22.03, 24.02, 24.03, 22.81, 13.15, 30.81, 15.67, 28.17, 19.97, 17.79, 22.5, 20.83, 15.28, 21.05, 23.92, 20.84, 23.52, 12.52, 20.41, 22.7, 21.73, 33.55, 23.33, 12.69, 30.21, 35.48, 28.27, 20.66, 26.52, 15.47, 21.88, 30.47, 21.6, 37.04, 25.06, 11.64, 19.64, 21.92, 27.22, 23.15, 16.2, 15.52, 23.32, 20.34, 30.57, 11.64, 17.24, 32.71, 34.89, 25.45, 22.18, 19.36, 22.16, 20.18, 20.73, 14.23, 21.75, 10.43, 17.06, 38.11, 22.67, 35.02, 14.62, 10.09, 32.93, 32.33, 18.53, 22.25, 22.34, 7.37, 18.67, 24.04, 15.9, 22.7, 15.45, 14.18, 18.27, 31.3, 22.03, 22.96, 19.28, 25.07, 18.06, 20.52, 26.99, 41.59, 18.3, 26.29, 19.51, 22.12, 19.84, 42.52, 15.67, 14.35, 18.08, 29.27, 26.51, 36.53, 25.36, 10.63, 18.73, 17.1, 33.91, 36.61, 21.06, 13.71, 23.39, 16.57, 25.24, 18.72, 27.92, 9.03, 22.66, 26.74, 26.38, 26.43, 12.89, 25.81, 24.24, 22.34, 16.48, 19.62, 17.43, 19.38, 25.42, 19.4, 43.75, 18.63, 12.39, 33.68, 22.1, 23.6, 16.73, 15.78, 18.8, 21.32, 18.28, 19.92, 27.55, 8.16, 33.3, 18.77, 34.2, 22.74, 25.01, 10.05, 15.57, 25.73, 18.9, 16.74, 21.1, 17.66, 19.13, 18.14, 16.92, 26.49, 45.69, 7.14, 20.02, 16.96, 19.58, 20.98, 25.99, 11.8, 17.57, 16.79, 22.0, 30.82, 22.54, 12.47, 16.5, 16.53, 28.11, 21.87, 15.14, 10.48, 19.63, 21.46, 17.63, 18.25, 16.77, 9.7, 19.14, 17.39, 21.54, 15.77, 15.46, 7.04, 18.12, 17.86, 19.41, 20.75, 22.47, 10.41, 16.64, 17.93, 31.81, 19.86, 25.73]}],\n",
       "                        {\"legend\": {\"bgcolor\": \"#F5F6F9\", \"font\": {\"color\": \"#4D5663\"}}, \"paper_bgcolor\": \"#F5F6F9\", \"plot_bgcolor\": \"#F5F6F9\", \"template\": {\"data\": {\"bar\": [{\"error_x\": {\"color\": \"#2a3f5f\"}, \"error_y\": {\"color\": \"#2a3f5f\"}, \"marker\": {\"line\": {\"color\": \"#E5ECF6\", \"width\": 0.5}}, \"type\": \"bar\"}], \"barpolar\": [{\"marker\": {\"line\": {\"color\": \"#E5ECF6\", \"width\": 0.5}}, \"type\": \"barpolar\"}], \"carpet\": [{\"aaxis\": {\"endlinecolor\": \"#2a3f5f\", \"gridcolor\": \"white\", \"linecolor\": \"white\", \"minorgridcolor\": \"white\", \"startlinecolor\": \"#2a3f5f\"}, \"baxis\": {\"endlinecolor\": \"#2a3f5f\", \"gridcolor\": \"white\", \"linecolor\": \"white\", \"minorgridcolor\": \"white\", \"startlinecolor\": \"#2a3f5f\"}, \"type\": \"carpet\"}], \"choropleth\": [{\"colorbar\": {\"outlinewidth\": 0, \"ticks\": \"\"}, \"type\": \"choropleth\"}], \"contour\": [{\"colorbar\": {\"outlinewidth\": 0, \"ticks\": \"\"}, \"colorscale\": [[0.0, \"#0d0887\"], [0.1111111111111111, \"#46039f\"], [0.2222222222222222, \"#7201a8\"], [0.3333333333333333, \"#9c179e\"], [0.4444444444444444, \"#bd3786\"], [0.5555555555555556, \"#d8576b\"], [0.6666666666666666, \"#ed7953\"], [0.7777777777777778, \"#fb9f3a\"], [0.8888888888888888, \"#fdca26\"], [1.0, \"#f0f921\"]], \"type\": \"contour\"}], \"contourcarpet\": [{\"colorbar\": {\"outlinewidth\": 0, \"ticks\": \"\"}, \"type\": \"contourcarpet\"}], \"heatmap\": [{\"colorbar\": {\"outlinewidth\": 0, \"ticks\": \"\"}, \"colorscale\": [[0.0, \"#0d0887\"], [0.1111111111111111, \"#46039f\"], [0.2222222222222222, \"#7201a8\"], [0.3333333333333333, \"#9c179e\"], [0.4444444444444444, \"#bd3786\"], [0.5555555555555556, \"#d8576b\"], [0.6666666666666666, \"#ed7953\"], [0.7777777777777778, \"#fb9f3a\"], [0.8888888888888888, \"#fdca26\"], [1.0, \"#f0f921\"]], \"type\": \"heatmap\"}], \"heatmapgl\": [{\"colorbar\": {\"outlinewidth\": 0, \"ticks\": \"\"}, \"colorscale\": [[0.0, \"#0d0887\"], [0.1111111111111111, \"#46039f\"], [0.2222222222222222, \"#7201a8\"], [0.3333333333333333, \"#9c179e\"], [0.4444444444444444, \"#bd3786\"], [0.5555555555555556, \"#d8576b\"], [0.6666666666666666, \"#ed7953\"], [0.7777777777777778, \"#fb9f3a\"], [0.8888888888888888, \"#fdca26\"], [1.0, \"#f0f921\"]], \"type\": \"heatmapgl\"}], \"histogram\": [{\"marker\": {\"colorbar\": {\"outlinewidth\": 0, \"ticks\": \"\"}}, \"type\": \"histogram\"}], \"histogram2d\": [{\"colorbar\": {\"outlinewidth\": 0, \"ticks\": \"\"}, \"colorscale\": [[0.0, \"#0d0887\"], [0.1111111111111111, \"#46039f\"], [0.2222222222222222, \"#7201a8\"], [0.3333333333333333, \"#9c179e\"], [0.4444444444444444, \"#bd3786\"], [0.5555555555555556, \"#d8576b\"], [0.6666666666666666, \"#ed7953\"], [0.7777777777777778, \"#fb9f3a\"], [0.8888888888888888, \"#fdca26\"], [1.0, \"#f0f921\"]], \"type\": \"histogram2d\"}], \"histogram2dcontour\": [{\"colorbar\": {\"outlinewidth\": 0, \"ticks\": \"\"}, \"colorscale\": [[0.0, \"#0d0887\"], [0.1111111111111111, \"#46039f\"], [0.2222222222222222, \"#7201a8\"], [0.3333333333333333, \"#9c179e\"], [0.4444444444444444, \"#bd3786\"], [0.5555555555555556, \"#d8576b\"], [0.6666666666666666, \"#ed7953\"], [0.7777777777777778, \"#fb9f3a\"], [0.8888888888888888, \"#fdca26\"], [1.0, \"#f0f921\"]], \"type\": \"histogram2dcontour\"}], \"mesh3d\": [{\"colorbar\": {\"outlinewidth\": 0, \"ticks\": \"\"}, \"type\": \"mesh3d\"}], \"parcoords\": [{\"line\": {\"colorbar\": {\"outlinewidth\": 0, \"ticks\": \"\"}}, \"type\": \"parcoords\"}], \"scatter\": [{\"marker\": {\"colorbar\": {\"outlinewidth\": 0, \"ticks\": \"\"}}, \"type\": \"scatter\"}], \"scatter3d\": [{\"line\": {\"colorbar\": {\"outlinewidth\": 0, \"ticks\": \"\"}}, \"marker\": {\"colorbar\": {\"outlinewidth\": 0, \"ticks\": \"\"}}, \"type\": \"scatter3d\"}], \"scattercarpet\": [{\"marker\": {\"colorbar\": {\"outlinewidth\": 0, \"ticks\": \"\"}}, \"type\": \"scattercarpet\"}], \"scattergeo\": [{\"marker\": {\"colorbar\": {\"outlinewidth\": 0, \"ticks\": \"\"}}, \"type\": \"scattergeo\"}], \"scattergl\": [{\"marker\": {\"colorbar\": {\"outlinewidth\": 0, \"ticks\": \"\"}}, \"type\": \"scattergl\"}], \"scattermapbox\": [{\"marker\": {\"colorbar\": {\"outlinewidth\": 0, \"ticks\": \"\"}}, \"type\": \"scattermapbox\"}], \"scatterpolar\": [{\"marker\": {\"colorbar\": {\"outlinewidth\": 0, \"ticks\": \"\"}}, \"type\": \"scatterpolar\"}], \"scatterpolargl\": [{\"marker\": {\"colorbar\": {\"outlinewidth\": 0, \"ticks\": \"\"}}, \"type\": \"scatterpolargl\"}], \"scatterternary\": [{\"marker\": {\"colorbar\": {\"outlinewidth\": 0, \"ticks\": \"\"}}, \"type\": \"scatterternary\"}], \"surface\": [{\"colorbar\": {\"outlinewidth\": 0, \"ticks\": \"\"}, \"colorscale\": [[0.0, \"#0d0887\"], [0.1111111111111111, \"#46039f\"], [0.2222222222222222, \"#7201a8\"], [0.3333333333333333, \"#9c179e\"], [0.4444444444444444, \"#bd3786\"], [0.5555555555555556, \"#d8576b\"], [0.6666666666666666, \"#ed7953\"], [0.7777777777777778, \"#fb9f3a\"], [0.8888888888888888, \"#fdca26\"], [1.0, \"#f0f921\"]], \"type\": \"surface\"}], \"table\": [{\"cells\": {\"fill\": {\"color\": \"#EBF0F8\"}, \"line\": {\"color\": \"white\"}}, \"header\": {\"fill\": {\"color\": \"#C8D4E3\"}, \"line\": {\"color\": \"white\"}}, \"type\": \"table\"}]}, \"layout\": {\"annotationdefaults\": {\"arrowcolor\": \"#2a3f5f\", \"arrowhead\": 0, \"arrowwidth\": 1}, \"colorscale\": {\"diverging\": [[0, \"#8e0152\"], [0.1, \"#c51b7d\"], [0.2, \"#de77ae\"], [0.3, \"#f1b6da\"], [0.4, \"#fde0ef\"], [0.5, \"#f7f7f7\"], [0.6, \"#e6f5d0\"], [0.7, \"#b8e186\"], [0.8, \"#7fbc41\"], [0.9, \"#4d9221\"], [1, \"#276419\"]], \"sequential\": [[0.0, \"#0d0887\"], [0.1111111111111111, \"#46039f\"], [0.2222222222222222, \"#7201a8\"], [0.3333333333333333, \"#9c179e\"], [0.4444444444444444, \"#bd3786\"], [0.5555555555555556, \"#d8576b\"], [0.6666666666666666, \"#ed7953\"], [0.7777777777777778, \"#fb9f3a\"], [0.8888888888888888, \"#fdca26\"], [1.0, \"#f0f921\"]], \"sequentialminus\": [[0.0, \"#0d0887\"], [0.1111111111111111, \"#46039f\"], [0.2222222222222222, \"#7201a8\"], [0.3333333333333333, \"#9c179e\"], [0.4444444444444444, \"#bd3786\"], [0.5555555555555556, \"#d8576b\"], [0.6666666666666666, \"#ed7953\"], [0.7777777777777778, \"#fb9f3a\"], [0.8888888888888888, \"#fdca26\"], [1.0, \"#f0f921\"]]}, \"colorway\": [\"#636efa\", \"#EF553B\", \"#00cc96\", \"#ab63fa\", \"#FFA15A\", \"#19d3f3\", \"#FF6692\", \"#B6E880\", \"#FF97FF\", \"#FECB52\"], \"font\": {\"color\": \"#2a3f5f\"}, \"geo\": {\"bgcolor\": \"white\", \"lakecolor\": \"white\", \"landcolor\": \"#E5ECF6\", \"showlakes\": true, \"showland\": true, \"subunitcolor\": \"white\"}, \"hoverlabel\": {\"align\": \"left\"}, \"hovermode\": \"closest\", \"mapbox\": {\"style\": \"light\"}, \"paper_bgcolor\": \"white\", \"plot_bgcolor\": \"#E5ECF6\", \"polar\": {\"angularaxis\": {\"gridcolor\": \"white\", \"linecolor\": \"white\", \"ticks\": \"\"}, \"bgcolor\": \"#E5ECF6\", \"radialaxis\": {\"gridcolor\": \"white\", \"linecolor\": \"white\", \"ticks\": \"\"}}, \"scene\": {\"xaxis\": {\"backgroundcolor\": \"#E5ECF6\", \"gridcolor\": \"white\", \"gridwidth\": 2, \"linecolor\": \"white\", \"showbackground\": true, \"ticks\": \"\", \"zerolinecolor\": \"white\"}, \"yaxis\": {\"backgroundcolor\": \"#E5ECF6\", \"gridcolor\": \"white\", \"gridwidth\": 2, \"linecolor\": \"white\", \"showbackground\": true, \"ticks\": \"\", \"zerolinecolor\": \"white\"}, \"zaxis\": {\"backgroundcolor\": \"#E5ECF6\", \"gridcolor\": \"white\", \"gridwidth\": 2, \"linecolor\": \"white\", \"showbackground\": true, \"ticks\": \"\", \"zerolinecolor\": \"white\"}}, \"shapedefaults\": {\"line\": {\"color\": \"#2a3f5f\"}}, \"ternary\": {\"aaxis\": {\"gridcolor\": \"white\", \"linecolor\": \"white\", \"ticks\": \"\"}, \"baxis\": {\"gridcolor\": \"white\", \"linecolor\": \"white\", \"ticks\": \"\"}, \"bgcolor\": \"#E5ECF6\", \"caxis\": {\"gridcolor\": \"white\", \"linecolor\": \"white\", \"ticks\": \"\"}}, \"title\": {\"x\": 0.05}, \"xaxis\": {\"automargin\": true, \"gridcolor\": \"white\", \"linecolor\": \"white\", \"ticks\": \"\", \"zerolinecolor\": \"white\", \"zerolinewidth\": 2}, \"yaxis\": {\"automargin\": true, \"gridcolor\": \"white\", \"linecolor\": \"white\", \"ticks\": \"\", \"zerolinecolor\": \"white\", \"zerolinewidth\": 2}}}, \"title\": {\"font\": {\"color\": \"#4D5663\"}, \"text\": \"Average Revenue over Time\"}, \"xaxis\": {\"gridcolor\": \"#E1E5ED\", \"showgrid\": true, \"tickfont\": {\"color\": \"#4D5663\"}, \"title\": {\"font\": {\"color\": \"#4D5663\"}, \"text\": \"Time\"}, \"zerolinecolor\": \"#E1E5ED\"}, \"yaxis\": {\"gridcolor\": \"#E1E5ED\", \"showgrid\": true, \"tickfont\": {\"color\": \"#4D5663\"}, \"title\": {\"font\": {\"color\": \"#4D5663\"}, \"text\": \"Revenue\"}, \"zerolinecolor\": \"#E1E5ED\"}},\n",
       "                        {\"showLink\": true, \"linkText\": \"Export to plot.ly\", \"plotlyServerURL\": \"https://plot.ly\", \"responsive\": true}\n",
       "                    ).then(function(){\n",
       "                            \n",
       "var gd = document.getElementById('9f65cdeb-8f7d-4e40-8979-4167c4779945');\n",
       "var x = new MutationObserver(function (mutations, observer) {{\n",
       "        var display = window.getComputedStyle(gd).display;\n",
       "        if (!display || display === 'none') {{\n",
       "            console.log([gd, 'removed!']);\n",
       "            Plotly.purge(gd);\n",
       "            observer.disconnect();\n",
       "        }}\n",
       "}});\n",
       "\n",
       "// Listen for the removal of the full notebook cells\n",
       "var notebookContainer = gd.closest('#notebook-container');\n",
       "if (notebookContainer) {{\n",
       "    x.observe(notebookContainer, {childList: true});\n",
       "}}\n",
       "\n",
       "// Listen for the clearing of the current output cell\n",
       "var outputEl = gd.closest('.output');\n",
       "if (outputEl) {{\n",
       "    x.observe(outputEl, {childList: true});\n",
       "}}\n",
       "\n",
       "                        })\n",
       "                };\n",
       "                });\n",
       "            </script>\n",
       "        </div>"
      ]
     },
     "metadata": {},
     "output_type": "display_data"
    }
   ],
   "source": [
    "# create df: total revenue per date\n",
    "revenue_date_not_round = data4.groupby('Date')['Revenue'].mean().reset_index()\n",
    "revenue_date = revenue_date_not_round.round(2)\n",
    "\n",
    "# check for outliers: any z-score greater than 3 or less than -3 is considered to be an outlier \n",
    "z_1 = np.abs(stats.zscore(revenue_date.Revenue))\n",
    " \n",
    "print('The outlier array:', np.where((z_1 > 3) | (z_1 < -3))) # array contains the list of row numbers\n",
    "print('The cltv value of the first outlier is:', revenue_date.Revenue[26])\n",
    "print('The cltv value of the second:', revenue_date.Revenue[29])\n",
    "print('The cltv value of the third:', revenue_date.Revenue[149])\n",
    "print('The cltv value of the fourth:', revenue_date.Revenue[235])\n",
    "\n",
    "# line_plot + remove outliers \n",
    "revenue_date_result = revenue_date[(revenue_date.Revenue != 71.81) & (revenue_date.Revenue != 49.39) \n",
    "                                   & (revenue_date.Revenue != 84.2) & (revenue_date.Revenue != 71.71)] \n",
    "\n",
    "revenue_date_result.iplot(kind='line', x='Date', xTitle='Time', yTitle='Revenue', \n",
    "           title='Average Revenue over Time', color='pink') "
   ]
  },
  {
   "cell_type": "code",
   "execution_count": 20,
   "metadata": {},
   "outputs": [
    {
     "name": "stdout",
     "output_type": "stream",
     "text": [
      "The outlier array: (array([ 26,  53, 149]),)\n",
      "The cltv value of the first outlier is: 358782.24\n",
      "The cltv value of the second: 288594.4\n",
      "The cltv value of the third: 793786.76\n"
     ]
    },
    {
     "data": {
      "application/vnd.plotly.v1+json": {
       "config": {
        "linkText": "Export to plot.ly",
        "plotlyServerURL": "https://plot.ly",
        "showLink": true
       },
       "data": [
        {
         "line": {
          "color": "rgba(255, 0, 136, 1.0)",
          "dash": "solid",
          "shape": "linear",
          "width": 1.3
         },
         "mode": "lines",
         "name": "cltv",
         "text": "",
         "type": "scatter",
         "x": [
          "2010-12-01",
          "2010-12-02",
          "2010-12-03",
          "2010-12-05",
          "2010-12-06",
          "2010-12-07",
          "2010-12-08",
          "2010-12-09",
          "2010-12-10",
          "2010-12-12",
          "2010-12-13",
          "2010-12-14",
          "2010-12-15",
          "2010-12-16",
          "2010-12-17",
          "2010-12-19",
          "2010-12-20",
          "2010-12-21",
          "2010-12-22",
          "2010-12-23",
          "2011-01-04",
          "2011-01-05",
          "2011-01-06",
          "2011-01-07",
          "2011-01-09",
          "2011-01-10",
          "2011-01-12",
          "2011-01-13",
          "2011-01-14",
          "2011-01-16",
          "2011-01-17",
          "2011-01-18",
          "2011-01-19",
          "2011-01-20",
          "2011-01-21",
          "2011-01-23",
          "2011-01-24",
          "2011-01-25",
          "2011-01-26",
          "2011-01-27",
          "2011-01-28",
          "2011-01-30",
          "2011-01-31",
          "2011-02-01",
          "2011-02-02",
          "2011-02-03",
          "2011-02-04",
          "2011-02-06",
          "2011-02-07",
          "2011-02-08",
          "2011-02-09",
          "2011-02-10",
          "2011-02-13",
          "2011-02-14",
          "2011-02-15",
          "2011-02-16",
          "2011-02-17",
          "2011-02-18",
          "2011-02-20",
          "2011-02-21",
          "2011-02-22",
          "2011-02-23",
          "2011-02-24",
          "2011-02-25",
          "2011-02-27",
          "2011-02-28",
          "2011-03-01",
          "2011-03-02",
          "2011-03-03",
          "2011-03-04",
          "2011-03-06",
          "2011-03-07",
          "2011-03-08",
          "2011-03-09",
          "2011-03-10",
          "2011-03-11",
          "2011-03-13",
          "2011-03-14",
          "2011-03-15",
          "2011-03-16",
          "2011-03-17",
          "2011-03-18",
          "2011-03-20",
          "2011-03-21",
          "2011-03-22",
          "2011-03-23",
          "2011-03-24",
          "2011-03-25",
          "2011-03-27",
          "2011-03-28",
          "2011-03-29",
          "2011-03-30",
          "2011-03-31",
          "2011-04-01",
          "2011-04-03",
          "2011-04-04",
          "2011-04-05",
          "2011-04-06",
          "2011-04-07",
          "2011-04-08",
          "2011-04-10",
          "2011-04-11",
          "2011-04-12",
          "2011-04-13",
          "2011-04-14",
          "2011-04-15",
          "2011-04-17",
          "2011-04-18",
          "2011-04-19",
          "2011-04-20",
          "2011-04-21",
          "2011-04-26",
          "2011-04-27",
          "2011-04-28",
          "2011-05-01",
          "2011-05-03",
          "2011-05-04",
          "2011-05-05",
          "2011-05-06",
          "2011-05-08",
          "2011-05-09",
          "2011-05-10",
          "2011-05-11",
          "2011-05-12",
          "2011-05-13",
          "2011-05-15",
          "2011-05-16",
          "2011-05-17",
          "2011-05-18",
          "2011-05-19",
          "2011-05-20",
          "2011-05-22",
          "2011-05-23",
          "2011-05-24",
          "2011-05-25",
          "2011-05-26",
          "2011-05-27",
          "2011-05-29",
          "2011-05-31",
          "2011-06-01",
          "2011-06-02",
          "2011-06-03",
          "2011-06-05",
          "2011-06-06",
          "2011-06-07",
          "2011-06-08",
          "2011-06-09",
          "2011-06-12",
          "2011-06-13",
          "2011-06-14",
          "2011-06-15",
          "2011-06-16",
          "2011-06-17",
          "2011-06-19",
          "2011-06-20",
          "2011-06-21",
          "2011-06-22",
          "2011-06-23",
          "2011-06-24",
          "2011-06-26",
          "2011-06-27",
          "2011-06-28",
          "2011-06-29",
          "2011-06-30",
          "2011-07-01",
          "2011-07-03",
          "2011-07-04",
          "2011-07-05",
          "2011-07-06",
          "2011-07-07",
          "2011-07-08",
          "2011-07-10",
          "2011-07-11",
          "2011-07-12",
          "2011-07-13",
          "2011-07-14",
          "2011-07-15",
          "2011-07-17",
          "2011-07-18",
          "2011-07-19",
          "2011-07-20",
          "2011-07-21",
          "2011-07-22",
          "2011-07-24",
          "2011-07-25",
          "2011-07-26",
          "2011-07-27",
          "2011-07-28",
          "2011-07-29",
          "2011-07-31",
          "2011-08-01",
          "2011-08-02",
          "2011-08-03",
          "2011-08-04",
          "2011-08-05",
          "2011-08-07",
          "2011-08-08",
          "2011-08-09",
          "2011-08-10",
          "2011-08-11",
          "2011-08-12",
          "2011-08-14",
          "2011-08-15",
          "2011-08-16",
          "2011-08-17",
          "2011-08-18",
          "2011-08-19",
          "2011-08-21",
          "2011-08-22",
          "2011-08-23",
          "2011-08-24",
          "2011-08-25",
          "2011-08-26",
          "2011-08-28",
          "2011-08-30",
          "2011-08-31",
          "2011-09-01",
          "2011-09-02",
          "2011-09-04",
          "2011-09-05",
          "2011-09-06",
          "2011-09-07",
          "2011-09-08",
          "2011-09-09",
          "2011-09-11",
          "2011-09-12",
          "2011-09-13",
          "2011-09-14",
          "2011-09-15",
          "2011-09-16",
          "2011-09-18",
          "2011-09-19",
          "2011-09-20",
          "2011-09-21",
          "2011-09-22",
          "2011-09-23",
          "2011-09-25",
          "2011-09-26",
          "2011-09-27",
          "2011-09-28",
          "2011-09-29",
          "2011-09-30",
          "2011-10-02",
          "2011-10-03",
          "2011-10-04",
          "2011-10-05",
          "2011-10-06",
          "2011-10-07",
          "2011-10-09",
          "2011-10-10",
          "2011-10-11",
          "2011-10-12",
          "2011-10-13",
          "2011-10-14",
          "2011-10-16",
          "2011-10-17",
          "2011-10-18",
          "2011-10-19",
          "2011-10-20",
          "2011-10-21",
          "2011-10-23",
          "2011-10-24",
          "2011-10-25",
          "2011-10-26",
          "2011-10-27",
          "2011-10-28",
          "2011-10-30",
          "2011-10-31",
          "2011-11-01",
          "2011-11-02",
          "2011-11-03",
          "2011-11-04",
          "2011-11-06",
          "2011-11-07",
          "2011-11-08",
          "2011-11-09",
          "2011-11-10",
          "2011-11-11",
          "2011-11-13",
          "2011-11-14",
          "2011-11-15",
          "2011-11-16",
          "2011-11-17",
          "2011-11-18",
          "2011-11-20",
          "2011-11-21",
          "2011-11-22",
          "2011-11-23",
          "2011-11-24",
          "2011-11-25",
          "2011-11-27",
          "2011-11-28",
          "2011-11-29",
          "2011-11-30",
          "2011-12-01",
          "2011-12-02",
          "2011-12-04",
          "2011-12-05",
          "2011-12-06",
          "2011-12-07",
          "2011-12-08",
          "2011-12-09"
         ],
         "y": [
          105016.12,
          113909.91,
          147541.7,
          62092.55,
          66770.95,
          176214.34,
          105160.23,
          214986.4,
          78496.37,
          68073.72,
          73143.65,
          90293.52,
          74093.33,
          96229.75,
          100340.86,
          48557.77,
          97360.03,
          137206.47,
          157982.06,
          77124.5,
          60204.13,
          219886.85,
          107771.7,
          124702.55,
          49056.18,
          83512.24,
          85142.49,
          102885.98,
          95596.56,
          115012.02,
          75678.17,
          98169.96,
          56591.89,
          77522.97,
          70121.31,
          42555.48,
          62735.61,
          68399.04,
          96327.4,
          46481.97,
          78309.13,
          26850.36,
          81898.75,
          97772.15,
          67975.93,
          102369.64,
          125642.89,
          35921.05,
          167175.44,
          96750.49,
          48056.52,
          82026.77,
          27247.18,
          191114.83,
          114272.9,
          107360.95,
          54194.05,
          72124.08,
          63545.64,
          93674.9,
          223736,
          98332.1,
          52685.21,
          141440.02,
          46684.62,
          48616.4,
          73344.72,
          200664.79,
          125351.86,
          66694.47,
          46383.42,
          86224.46,
          68733.99,
          97670.47,
          96729.21,
          115927.04,
          20301.1,
          106121.66,
          66225.53,
          120028.35,
          156641.1,
          89330.94,
          83969.46,
          76006.73,
          58242.53,
          102088.92,
          101044.01,
          152533.48,
          57947.81,
          98108.85,
          69387.5,
          110175.01,
          75222.65,
          97321.45,
          55002.04,
          77372.27,
          172434.21,
          47711.31,
          75577.35,
          77399.35,
          44224.5,
          101048.16,
          59385.23,
          104463.69,
          104799.51,
          64721.97,
          59943.93,
          235799.22,
          88124.21,
          122507.97,
          97385.37,
          113037.14,
          190314.45,
          59195.8,
          46289.46,
          90054.83,
          81813.75,
          104636.48,
          101978.05,
          43166.48,
          91107,
          78016.92,
          103713.53,
          123883.59,
          122691.62,
          41546.61,
          92572.52,
          112972.27,
          79175.41,
          72851.83,
          106498.57,
          64210.78,
          122410.52,
          147924.42,
          131462.12,
          121395.43,
          238036.57,
          56061.59,
          132472.46,
          86439.67,
          83717.71,
          165367.14,
          66442.09,
          49617.29,
          94920.08,
          77541.61,
          86676.99,
          40678.54,
          64015.95,
          155302.21,
          73156.68,
          103343.26,
          93434.15,
          66404.51,
          172083.59,
          62838.01,
          73990.44,
          43831.71,
          73826.59,
          36393.23,
          106054.65,
          162486.73,
          72335.61,
          94398.06,
          67690.94,
          34703.32,
          165608.06,
          134362.76,
          94744.73,
          112007.49,
          75209.51,
          26915.42,
          62473.42,
          116908.09,
          51677.68,
          79045.58,
          73719.86,
          47692.57,
          56731.03,
          109699.77,
          121093.08,
          124082.19,
          81414.29,
          86321.73,
          64010.36,
          58459.92,
          139224.27,
          173176.58,
          72484.7,
          103552.81,
          95262.52,
          118146.77,
          77245.07,
          131798.72,
          68241.42,
          49797.22,
          94437.21,
          56294.38,
          86421.81,
          82644.42,
          93147.9,
          42353.12,
          49098.69,
          51173.68,
          130301.44,
          109345.98,
          71194.12,
          97624.57,
          113191.86,
          80586.41,
          112642.04,
          75471.22,
          119135.05,
          58254.21,
          130479,
          123783.62,
          97273.33,
          167522.99,
          40182.24,
          109204.83,
          78070.44,
          86666.72,
          78855.33,
          75178.15,
          72103.72,
          62533.55,
          103272.2,
          82816.26,
          96076.78,
          50849.39,
          68240.94,
          135453.27,
          122299.04,
          72538.86,
          59590.91,
          53676.22,
          50932.66,
          72027.08,
          85819.63,
          101866.14,
          78436.68,
          142097.24,
          37974.05,
          188830.16,
          148406.96,
          84469.41,
          74620.66,
          93005.97,
          34768.92,
          105160.71,
          73400.74,
          59424.14,
          48497.03,
          63159.92,
          53339.68,
          97923.97,
          96020.37,
          60094.96,
          65950.36,
          124346.26,
          18914.89,
          88388.73,
          93127.91,
          119706.95,
          69039.83,
          136921.29,
          49948.43,
          70346.25,
          59568.76,
          123280.43,
          164833.84,
          129643.49,
          51932.05,
          73744.62,
          59760.55,
          140074.38,
          97849.11,
          63695.72,
          40696.86,
          75302,
          87023.77,
          96391.72,
          84142.34,
          96114.12,
          39395.74,
          65664.07,
          144056.21,
          86980.31,
          59813.24,
          77635.73,
          23204.68,
          96896.27,
          154955.6,
          69686.16,
          96414.91,
          168685.67,
          42894.46,
          73134.24,
          88777.73,
          214843.63,
          92981.84,
          140412.56
         ]
        }
       ],
       "layout": {
        "legend": {
         "bgcolor": "#F5F6F9",
         "font": {
          "color": "#4D5663"
         }
        },
        "paper_bgcolor": "#F5F6F9",
        "plot_bgcolor": "#F5F6F9",
        "template": {
         "data": {
          "bar": [
           {
            "error_x": {
             "color": "#2a3f5f"
            },
            "error_y": {
             "color": "#2a3f5f"
            },
            "marker": {
             "line": {
              "color": "#E5ECF6",
              "width": 0.5
             }
            },
            "type": "bar"
           }
          ],
          "barpolar": [
           {
            "marker": {
             "line": {
              "color": "#E5ECF6",
              "width": 0.5
             }
            },
            "type": "barpolar"
           }
          ],
          "carpet": [
           {
            "aaxis": {
             "endlinecolor": "#2a3f5f",
             "gridcolor": "white",
             "linecolor": "white",
             "minorgridcolor": "white",
             "startlinecolor": "#2a3f5f"
            },
            "baxis": {
             "endlinecolor": "#2a3f5f",
             "gridcolor": "white",
             "linecolor": "white",
             "minorgridcolor": "white",
             "startlinecolor": "#2a3f5f"
            },
            "type": "carpet"
           }
          ],
          "choropleth": [
           {
            "colorbar": {
             "outlinewidth": 0,
             "ticks": ""
            },
            "type": "choropleth"
           }
          ],
          "contour": [
           {
            "colorbar": {
             "outlinewidth": 0,
             "ticks": ""
            },
            "colorscale": [
             [
              0,
              "#0d0887"
             ],
             [
              0.1111111111111111,
              "#46039f"
             ],
             [
              0.2222222222222222,
              "#7201a8"
             ],
             [
              0.3333333333333333,
              "#9c179e"
             ],
             [
              0.4444444444444444,
              "#bd3786"
             ],
             [
              0.5555555555555556,
              "#d8576b"
             ],
             [
              0.6666666666666666,
              "#ed7953"
             ],
             [
              0.7777777777777778,
              "#fb9f3a"
             ],
             [
              0.8888888888888888,
              "#fdca26"
             ],
             [
              1,
              "#f0f921"
             ]
            ],
            "type": "contour"
           }
          ],
          "contourcarpet": [
           {
            "colorbar": {
             "outlinewidth": 0,
             "ticks": ""
            },
            "type": "contourcarpet"
           }
          ],
          "heatmap": [
           {
            "colorbar": {
             "outlinewidth": 0,
             "ticks": ""
            },
            "colorscale": [
             [
              0,
              "#0d0887"
             ],
             [
              0.1111111111111111,
              "#46039f"
             ],
             [
              0.2222222222222222,
              "#7201a8"
             ],
             [
              0.3333333333333333,
              "#9c179e"
             ],
             [
              0.4444444444444444,
              "#bd3786"
             ],
             [
              0.5555555555555556,
              "#d8576b"
             ],
             [
              0.6666666666666666,
              "#ed7953"
             ],
             [
              0.7777777777777778,
              "#fb9f3a"
             ],
             [
              0.8888888888888888,
              "#fdca26"
             ],
             [
              1,
              "#f0f921"
             ]
            ],
            "type": "heatmap"
           }
          ],
          "heatmapgl": [
           {
            "colorbar": {
             "outlinewidth": 0,
             "ticks": ""
            },
            "colorscale": [
             [
              0,
              "#0d0887"
             ],
             [
              0.1111111111111111,
              "#46039f"
             ],
             [
              0.2222222222222222,
              "#7201a8"
             ],
             [
              0.3333333333333333,
              "#9c179e"
             ],
             [
              0.4444444444444444,
              "#bd3786"
             ],
             [
              0.5555555555555556,
              "#d8576b"
             ],
             [
              0.6666666666666666,
              "#ed7953"
             ],
             [
              0.7777777777777778,
              "#fb9f3a"
             ],
             [
              0.8888888888888888,
              "#fdca26"
             ],
             [
              1,
              "#f0f921"
             ]
            ],
            "type": "heatmapgl"
           }
          ],
          "histogram": [
           {
            "marker": {
             "colorbar": {
              "outlinewidth": 0,
              "ticks": ""
             }
            },
            "type": "histogram"
           }
          ],
          "histogram2d": [
           {
            "colorbar": {
             "outlinewidth": 0,
             "ticks": ""
            },
            "colorscale": [
             [
              0,
              "#0d0887"
             ],
             [
              0.1111111111111111,
              "#46039f"
             ],
             [
              0.2222222222222222,
              "#7201a8"
             ],
             [
              0.3333333333333333,
              "#9c179e"
             ],
             [
              0.4444444444444444,
              "#bd3786"
             ],
             [
              0.5555555555555556,
              "#d8576b"
             ],
             [
              0.6666666666666666,
              "#ed7953"
             ],
             [
              0.7777777777777778,
              "#fb9f3a"
             ],
             [
              0.8888888888888888,
              "#fdca26"
             ],
             [
              1,
              "#f0f921"
             ]
            ],
            "type": "histogram2d"
           }
          ],
          "histogram2dcontour": [
           {
            "colorbar": {
             "outlinewidth": 0,
             "ticks": ""
            },
            "colorscale": [
             [
              0,
              "#0d0887"
             ],
             [
              0.1111111111111111,
              "#46039f"
             ],
             [
              0.2222222222222222,
              "#7201a8"
             ],
             [
              0.3333333333333333,
              "#9c179e"
             ],
             [
              0.4444444444444444,
              "#bd3786"
             ],
             [
              0.5555555555555556,
              "#d8576b"
             ],
             [
              0.6666666666666666,
              "#ed7953"
             ],
             [
              0.7777777777777778,
              "#fb9f3a"
             ],
             [
              0.8888888888888888,
              "#fdca26"
             ],
             [
              1,
              "#f0f921"
             ]
            ],
            "type": "histogram2dcontour"
           }
          ],
          "mesh3d": [
           {
            "colorbar": {
             "outlinewidth": 0,
             "ticks": ""
            },
            "type": "mesh3d"
           }
          ],
          "parcoords": [
           {
            "line": {
             "colorbar": {
              "outlinewidth": 0,
              "ticks": ""
             }
            },
            "type": "parcoords"
           }
          ],
          "scatter": [
           {
            "marker": {
             "colorbar": {
              "outlinewidth": 0,
              "ticks": ""
             }
            },
            "type": "scatter"
           }
          ],
          "scatter3d": [
           {
            "line": {
             "colorbar": {
              "outlinewidth": 0,
              "ticks": ""
             }
            },
            "marker": {
             "colorbar": {
              "outlinewidth": 0,
              "ticks": ""
             }
            },
            "type": "scatter3d"
           }
          ],
          "scattercarpet": [
           {
            "marker": {
             "colorbar": {
              "outlinewidth": 0,
              "ticks": ""
             }
            },
            "type": "scattercarpet"
           }
          ],
          "scattergeo": [
           {
            "marker": {
             "colorbar": {
              "outlinewidth": 0,
              "ticks": ""
             }
            },
            "type": "scattergeo"
           }
          ],
          "scattergl": [
           {
            "marker": {
             "colorbar": {
              "outlinewidth": 0,
              "ticks": ""
             }
            },
            "type": "scattergl"
           }
          ],
          "scattermapbox": [
           {
            "marker": {
             "colorbar": {
              "outlinewidth": 0,
              "ticks": ""
             }
            },
            "type": "scattermapbox"
           }
          ],
          "scatterpolar": [
           {
            "marker": {
             "colorbar": {
              "outlinewidth": 0,
              "ticks": ""
             }
            },
            "type": "scatterpolar"
           }
          ],
          "scatterpolargl": [
           {
            "marker": {
             "colorbar": {
              "outlinewidth": 0,
              "ticks": ""
             }
            },
            "type": "scatterpolargl"
           }
          ],
          "scatterternary": [
           {
            "marker": {
             "colorbar": {
              "outlinewidth": 0,
              "ticks": ""
             }
            },
            "type": "scatterternary"
           }
          ],
          "surface": [
           {
            "colorbar": {
             "outlinewidth": 0,
             "ticks": ""
            },
            "colorscale": [
             [
              0,
              "#0d0887"
             ],
             [
              0.1111111111111111,
              "#46039f"
             ],
             [
              0.2222222222222222,
              "#7201a8"
             ],
             [
              0.3333333333333333,
              "#9c179e"
             ],
             [
              0.4444444444444444,
              "#bd3786"
             ],
             [
              0.5555555555555556,
              "#d8576b"
             ],
             [
              0.6666666666666666,
              "#ed7953"
             ],
             [
              0.7777777777777778,
              "#fb9f3a"
             ],
             [
              0.8888888888888888,
              "#fdca26"
             ],
             [
              1,
              "#f0f921"
             ]
            ],
            "type": "surface"
           }
          ],
          "table": [
           {
            "cells": {
             "fill": {
              "color": "#EBF0F8"
             },
             "line": {
              "color": "white"
             }
            },
            "header": {
             "fill": {
              "color": "#C8D4E3"
             },
             "line": {
              "color": "white"
             }
            },
            "type": "table"
           }
          ]
         },
         "layout": {
          "annotationdefaults": {
           "arrowcolor": "#2a3f5f",
           "arrowhead": 0,
           "arrowwidth": 1
          },
          "colorscale": {
           "diverging": [
            [
             0,
             "#8e0152"
            ],
            [
             0.1,
             "#c51b7d"
            ],
            [
             0.2,
             "#de77ae"
            ],
            [
             0.3,
             "#f1b6da"
            ],
            [
             0.4,
             "#fde0ef"
            ],
            [
             0.5,
             "#f7f7f7"
            ],
            [
             0.6,
             "#e6f5d0"
            ],
            [
             0.7,
             "#b8e186"
            ],
            [
             0.8,
             "#7fbc41"
            ],
            [
             0.9,
             "#4d9221"
            ],
            [
             1,
             "#276419"
            ]
           ],
           "sequential": [
            [
             0,
             "#0d0887"
            ],
            [
             0.1111111111111111,
             "#46039f"
            ],
            [
             0.2222222222222222,
             "#7201a8"
            ],
            [
             0.3333333333333333,
             "#9c179e"
            ],
            [
             0.4444444444444444,
             "#bd3786"
            ],
            [
             0.5555555555555556,
             "#d8576b"
            ],
            [
             0.6666666666666666,
             "#ed7953"
            ],
            [
             0.7777777777777778,
             "#fb9f3a"
            ],
            [
             0.8888888888888888,
             "#fdca26"
            ],
            [
             1,
             "#f0f921"
            ]
           ],
           "sequentialminus": [
            [
             0,
             "#0d0887"
            ],
            [
             0.1111111111111111,
             "#46039f"
            ],
            [
             0.2222222222222222,
             "#7201a8"
            ],
            [
             0.3333333333333333,
             "#9c179e"
            ],
            [
             0.4444444444444444,
             "#bd3786"
            ],
            [
             0.5555555555555556,
             "#d8576b"
            ],
            [
             0.6666666666666666,
             "#ed7953"
            ],
            [
             0.7777777777777778,
             "#fb9f3a"
            ],
            [
             0.8888888888888888,
             "#fdca26"
            ],
            [
             1,
             "#f0f921"
            ]
           ]
          },
          "colorway": [
           "#636efa",
           "#EF553B",
           "#00cc96",
           "#ab63fa",
           "#FFA15A",
           "#19d3f3",
           "#FF6692",
           "#B6E880",
           "#FF97FF",
           "#FECB52"
          ],
          "font": {
           "color": "#2a3f5f"
          },
          "geo": {
           "bgcolor": "white",
           "lakecolor": "white",
           "landcolor": "#E5ECF6",
           "showlakes": true,
           "showland": true,
           "subunitcolor": "white"
          },
          "hoverlabel": {
           "align": "left"
          },
          "hovermode": "closest",
          "mapbox": {
           "style": "light"
          },
          "paper_bgcolor": "white",
          "plot_bgcolor": "#E5ECF6",
          "polar": {
           "angularaxis": {
            "gridcolor": "white",
            "linecolor": "white",
            "ticks": ""
           },
           "bgcolor": "#E5ECF6",
           "radialaxis": {
            "gridcolor": "white",
            "linecolor": "white",
            "ticks": ""
           }
          },
          "scene": {
           "xaxis": {
            "backgroundcolor": "#E5ECF6",
            "gridcolor": "white",
            "gridwidth": 2,
            "linecolor": "white",
            "showbackground": true,
            "ticks": "",
            "zerolinecolor": "white"
           },
           "yaxis": {
            "backgroundcolor": "#E5ECF6",
            "gridcolor": "white",
            "gridwidth": 2,
            "linecolor": "white",
            "showbackground": true,
            "ticks": "",
            "zerolinecolor": "white"
           },
           "zaxis": {
            "backgroundcolor": "#E5ECF6",
            "gridcolor": "white",
            "gridwidth": 2,
            "linecolor": "white",
            "showbackground": true,
            "ticks": "",
            "zerolinecolor": "white"
           }
          },
          "shapedefaults": {
           "line": {
            "color": "#2a3f5f"
           }
          },
          "ternary": {
           "aaxis": {
            "gridcolor": "white",
            "linecolor": "white",
            "ticks": ""
           },
           "baxis": {
            "gridcolor": "white",
            "linecolor": "white",
            "ticks": ""
           },
           "bgcolor": "#E5ECF6",
           "caxis": {
            "gridcolor": "white",
            "linecolor": "white",
            "ticks": ""
           }
          },
          "title": {
           "x": 0.05
          },
          "xaxis": {
           "automargin": true,
           "gridcolor": "white",
           "linecolor": "white",
           "ticks": "",
           "zerolinecolor": "white",
           "zerolinewidth": 2
          },
          "yaxis": {
           "automargin": true,
           "gridcolor": "white",
           "linecolor": "white",
           "ticks": "",
           "zerolinecolor": "white",
           "zerolinewidth": 2
          }
         }
        },
        "title": {
         "font": {
          "color": "#4D5663"
         },
         "text": "Average Customer Lifetime Value over Time"
        },
        "xaxis": {
         "gridcolor": "#E1E5ED",
         "showgrid": true,
         "tickfont": {
          "color": "#4D5663"
         },
         "title": {
          "font": {
           "color": "#4D5663"
          },
          "text": "Time"
         },
         "zerolinecolor": "#E1E5ED"
        },
        "yaxis": {
         "gridcolor": "#E1E5ED",
         "showgrid": true,
         "tickfont": {
          "color": "#4D5663"
         },
         "title": {
          "font": {
           "color": "#4D5663"
          },
          "text": "CLTV"
         },
         "zerolinecolor": "#E1E5ED"
        }
       }
      },
      "text/html": [
       "<div>\n",
       "        \n",
       "        \n",
       "            <div id=\"4cbe44e1-7d37-4d45-9cfe-5aec8f458e1f\" class=\"plotly-graph-div\" style=\"height:525px; width:100%;\"></div>\n",
       "            <script type=\"text/javascript\">\n",
       "                require([\"plotly\"], function(Plotly) {\n",
       "                    window.PLOTLYENV=window.PLOTLYENV || {};\n",
       "                    window.PLOTLYENV.BASE_URL='https://plot.ly';\n",
       "                    \n",
       "                if (document.getElementById(\"4cbe44e1-7d37-4d45-9cfe-5aec8f458e1f\")) {\n",
       "                    Plotly.newPlot(\n",
       "                        '4cbe44e1-7d37-4d45-9cfe-5aec8f458e1f',\n",
       "                        [{\"line\": {\"color\": \"rgba(255, 0, 136, 1.0)\", \"dash\": \"solid\", \"shape\": \"linear\", \"width\": 1.3}, \"mode\": \"lines\", \"name\": \"cltv\", \"text\": \"\", \"type\": \"scatter\", \"x\": [\"2010-12-01\", \"2010-12-02\", \"2010-12-03\", \"2010-12-05\", \"2010-12-06\", \"2010-12-07\", \"2010-12-08\", \"2010-12-09\", \"2010-12-10\", \"2010-12-12\", \"2010-12-13\", \"2010-12-14\", \"2010-12-15\", \"2010-12-16\", \"2010-12-17\", \"2010-12-19\", \"2010-12-20\", \"2010-12-21\", \"2010-12-22\", \"2010-12-23\", \"2011-01-04\", \"2011-01-05\", \"2011-01-06\", \"2011-01-07\", \"2011-01-09\", \"2011-01-10\", \"2011-01-12\", \"2011-01-13\", \"2011-01-14\", \"2011-01-16\", \"2011-01-17\", \"2011-01-18\", \"2011-01-19\", \"2011-01-20\", \"2011-01-21\", \"2011-01-23\", \"2011-01-24\", \"2011-01-25\", \"2011-01-26\", \"2011-01-27\", \"2011-01-28\", \"2011-01-30\", \"2011-01-31\", \"2011-02-01\", \"2011-02-02\", \"2011-02-03\", \"2011-02-04\", \"2011-02-06\", \"2011-02-07\", \"2011-02-08\", \"2011-02-09\", \"2011-02-10\", \"2011-02-13\", \"2011-02-14\", \"2011-02-15\", \"2011-02-16\", \"2011-02-17\", \"2011-02-18\", \"2011-02-20\", \"2011-02-21\", \"2011-02-22\", \"2011-02-23\", \"2011-02-24\", \"2011-02-25\", \"2011-02-27\", \"2011-02-28\", \"2011-03-01\", \"2011-03-02\", \"2011-03-03\", \"2011-03-04\", \"2011-03-06\", \"2011-03-07\", \"2011-03-08\", \"2011-03-09\", \"2011-03-10\", \"2011-03-11\", \"2011-03-13\", \"2011-03-14\", \"2011-03-15\", \"2011-03-16\", \"2011-03-17\", \"2011-03-18\", \"2011-03-20\", \"2011-03-21\", \"2011-03-22\", \"2011-03-23\", \"2011-03-24\", \"2011-03-25\", \"2011-03-27\", \"2011-03-28\", \"2011-03-29\", \"2011-03-30\", \"2011-03-31\", \"2011-04-01\", \"2011-04-03\", \"2011-04-04\", \"2011-04-05\", \"2011-04-06\", \"2011-04-07\", \"2011-04-08\", \"2011-04-10\", \"2011-04-11\", \"2011-04-12\", \"2011-04-13\", \"2011-04-14\", \"2011-04-15\", \"2011-04-17\", \"2011-04-18\", \"2011-04-19\", \"2011-04-20\", \"2011-04-21\", \"2011-04-26\", \"2011-04-27\", \"2011-04-28\", \"2011-05-01\", \"2011-05-03\", \"2011-05-04\", \"2011-05-05\", \"2011-05-06\", \"2011-05-08\", \"2011-05-09\", \"2011-05-10\", \"2011-05-11\", \"2011-05-12\", \"2011-05-13\", \"2011-05-15\", \"2011-05-16\", \"2011-05-17\", \"2011-05-18\", \"2011-05-19\", \"2011-05-20\", \"2011-05-22\", \"2011-05-23\", \"2011-05-24\", \"2011-05-25\", \"2011-05-26\", \"2011-05-27\", \"2011-05-29\", \"2011-05-31\", \"2011-06-01\", \"2011-06-02\", \"2011-06-03\", \"2011-06-05\", \"2011-06-06\", \"2011-06-07\", \"2011-06-08\", \"2011-06-09\", \"2011-06-12\", \"2011-06-13\", \"2011-06-14\", \"2011-06-15\", \"2011-06-16\", \"2011-06-17\", \"2011-06-19\", \"2011-06-20\", \"2011-06-21\", \"2011-06-22\", \"2011-06-23\", \"2011-06-24\", \"2011-06-26\", \"2011-06-27\", \"2011-06-28\", \"2011-06-29\", \"2011-06-30\", \"2011-07-01\", \"2011-07-03\", \"2011-07-04\", \"2011-07-05\", \"2011-07-06\", \"2011-07-07\", \"2011-07-08\", \"2011-07-10\", \"2011-07-11\", \"2011-07-12\", \"2011-07-13\", \"2011-07-14\", \"2011-07-15\", \"2011-07-17\", \"2011-07-18\", \"2011-07-19\", \"2011-07-20\", \"2011-07-21\", \"2011-07-22\", \"2011-07-24\", \"2011-07-25\", \"2011-07-26\", \"2011-07-27\", \"2011-07-28\", \"2011-07-29\", \"2011-07-31\", \"2011-08-01\", \"2011-08-02\", \"2011-08-03\", \"2011-08-04\", \"2011-08-05\", \"2011-08-07\", \"2011-08-08\", \"2011-08-09\", \"2011-08-10\", \"2011-08-11\", \"2011-08-12\", \"2011-08-14\", \"2011-08-15\", \"2011-08-16\", \"2011-08-17\", \"2011-08-18\", \"2011-08-19\", \"2011-08-21\", \"2011-08-22\", \"2011-08-23\", \"2011-08-24\", \"2011-08-25\", \"2011-08-26\", \"2011-08-28\", \"2011-08-30\", \"2011-08-31\", \"2011-09-01\", \"2011-09-02\", \"2011-09-04\", \"2011-09-05\", \"2011-09-06\", \"2011-09-07\", \"2011-09-08\", \"2011-09-09\", \"2011-09-11\", \"2011-09-12\", \"2011-09-13\", \"2011-09-14\", \"2011-09-15\", \"2011-09-16\", \"2011-09-18\", \"2011-09-19\", \"2011-09-20\", \"2011-09-21\", \"2011-09-22\", \"2011-09-23\", \"2011-09-25\", \"2011-09-26\", \"2011-09-27\", \"2011-09-28\", \"2011-09-29\", \"2011-09-30\", \"2011-10-02\", \"2011-10-03\", \"2011-10-04\", \"2011-10-05\", \"2011-10-06\", \"2011-10-07\", \"2011-10-09\", \"2011-10-10\", \"2011-10-11\", \"2011-10-12\", \"2011-10-13\", \"2011-10-14\", \"2011-10-16\", \"2011-10-17\", \"2011-10-18\", \"2011-10-19\", \"2011-10-20\", \"2011-10-21\", \"2011-10-23\", \"2011-10-24\", \"2011-10-25\", \"2011-10-26\", \"2011-10-27\", \"2011-10-28\", \"2011-10-30\", \"2011-10-31\", \"2011-11-01\", \"2011-11-02\", \"2011-11-03\", \"2011-11-04\", \"2011-11-06\", \"2011-11-07\", \"2011-11-08\", \"2011-11-09\", \"2011-11-10\", \"2011-11-11\", \"2011-11-13\", \"2011-11-14\", \"2011-11-15\", \"2011-11-16\", \"2011-11-17\", \"2011-11-18\", \"2011-11-20\", \"2011-11-21\", \"2011-11-22\", \"2011-11-23\", \"2011-11-24\", \"2011-11-25\", \"2011-11-27\", \"2011-11-28\", \"2011-11-29\", \"2011-11-30\", \"2011-12-01\", \"2011-12-02\", \"2011-12-04\", \"2011-12-05\", \"2011-12-06\", \"2011-12-07\", \"2011-12-08\", \"2011-12-09\"], \"y\": [105016.12, 113909.91, 147541.7, 62092.55, 66770.95, 176214.34, 105160.23, 214986.4, 78496.37, 68073.72, 73143.65, 90293.52, 74093.33, 96229.75, 100340.86, 48557.77, 97360.03, 137206.47, 157982.06, 77124.5, 60204.13, 219886.85, 107771.7, 124702.55, 49056.18, 83512.24, 85142.49, 102885.98, 95596.56, 115012.02, 75678.17, 98169.96, 56591.89, 77522.97, 70121.31, 42555.48, 62735.61, 68399.04, 96327.4, 46481.97, 78309.13, 26850.36, 81898.75, 97772.15, 67975.93, 102369.64, 125642.89, 35921.05, 167175.44, 96750.49, 48056.52, 82026.77, 27247.18, 191114.83, 114272.9, 107360.95, 54194.05, 72124.08, 63545.64, 93674.9, 223736.0, 98332.1, 52685.21, 141440.02, 46684.62, 48616.4, 73344.72, 200664.79, 125351.86, 66694.47, 46383.42, 86224.46, 68733.99, 97670.47, 96729.21, 115927.04, 20301.1, 106121.66, 66225.53, 120028.35, 156641.1, 89330.94, 83969.46, 76006.73, 58242.53, 102088.92, 101044.01, 152533.48, 57947.81, 98108.85, 69387.5, 110175.01, 75222.65, 97321.45, 55002.04, 77372.27, 172434.21, 47711.31, 75577.35, 77399.35, 44224.5, 101048.16, 59385.23, 104463.69, 104799.51, 64721.97, 59943.93, 235799.22, 88124.21, 122507.97, 97385.37, 113037.14, 190314.45, 59195.8, 46289.46, 90054.83, 81813.75, 104636.48, 101978.05, 43166.48, 91107.0, 78016.92, 103713.53, 123883.59, 122691.62, 41546.61, 92572.52, 112972.27, 79175.41, 72851.83, 106498.57, 64210.78, 122410.52, 147924.42, 131462.12, 121395.43, 238036.57, 56061.59, 132472.46, 86439.67, 83717.71, 165367.14, 66442.09, 49617.29, 94920.08, 77541.61, 86676.99, 40678.54, 64015.95, 155302.21, 73156.68, 103343.26, 93434.15, 66404.51, 172083.59, 62838.01, 73990.44, 43831.71, 73826.59, 36393.23, 106054.65, 162486.73, 72335.61, 94398.06, 67690.94, 34703.32, 165608.06, 134362.76, 94744.73, 112007.49, 75209.51, 26915.42, 62473.42, 116908.09, 51677.68, 79045.58, 73719.86, 47692.57, 56731.03, 109699.77, 121093.08, 124082.19, 81414.29, 86321.73, 64010.36, 58459.92, 139224.27, 173176.58, 72484.7, 103552.81, 95262.52, 118146.77, 77245.07, 131798.72, 68241.42, 49797.22, 94437.21, 56294.38, 86421.81, 82644.42, 93147.9, 42353.12, 49098.69, 51173.68, 130301.44, 109345.98, 71194.12, 97624.57, 113191.86, 80586.41, 112642.04, 75471.22, 119135.05, 58254.21, 130479.0, 123783.62, 97273.33, 167522.99, 40182.24, 109204.83, 78070.44, 86666.72, 78855.33, 75178.15, 72103.72, 62533.55, 103272.2, 82816.26, 96076.78, 50849.39, 68240.94, 135453.27, 122299.04, 72538.86, 59590.91, 53676.22, 50932.66, 72027.08, 85819.63, 101866.14, 78436.68, 142097.24, 37974.05, 188830.16, 148406.96, 84469.41, 74620.66, 93005.97, 34768.92, 105160.71, 73400.74, 59424.14, 48497.03, 63159.92, 53339.68, 97923.97, 96020.37, 60094.96, 65950.36, 124346.26, 18914.89, 88388.73, 93127.91, 119706.95, 69039.83, 136921.29, 49948.43, 70346.25, 59568.76, 123280.43, 164833.84, 129643.49, 51932.05, 73744.62, 59760.55, 140074.38, 97849.11, 63695.72, 40696.86, 75302.0, 87023.77, 96391.72, 84142.34, 96114.12, 39395.74, 65664.07, 144056.21, 86980.31, 59813.24, 77635.73, 23204.68, 96896.27, 154955.6, 69686.16, 96414.91, 168685.67, 42894.46, 73134.24, 88777.73, 214843.63, 92981.84, 140412.56]}],\n",
       "                        {\"legend\": {\"bgcolor\": \"#F5F6F9\", \"font\": {\"color\": \"#4D5663\"}}, \"paper_bgcolor\": \"#F5F6F9\", \"plot_bgcolor\": \"#F5F6F9\", \"template\": {\"data\": {\"bar\": [{\"error_x\": {\"color\": \"#2a3f5f\"}, \"error_y\": {\"color\": \"#2a3f5f\"}, \"marker\": {\"line\": {\"color\": \"#E5ECF6\", \"width\": 0.5}}, \"type\": \"bar\"}], \"barpolar\": [{\"marker\": {\"line\": {\"color\": \"#E5ECF6\", \"width\": 0.5}}, \"type\": \"barpolar\"}], \"carpet\": [{\"aaxis\": {\"endlinecolor\": \"#2a3f5f\", \"gridcolor\": \"white\", \"linecolor\": \"white\", \"minorgridcolor\": \"white\", \"startlinecolor\": \"#2a3f5f\"}, \"baxis\": {\"endlinecolor\": \"#2a3f5f\", \"gridcolor\": \"white\", \"linecolor\": \"white\", \"minorgridcolor\": \"white\", \"startlinecolor\": \"#2a3f5f\"}, \"type\": \"carpet\"}], \"choropleth\": [{\"colorbar\": {\"outlinewidth\": 0, \"ticks\": \"\"}, \"type\": \"choropleth\"}], \"contour\": [{\"colorbar\": {\"outlinewidth\": 0, \"ticks\": \"\"}, \"colorscale\": [[0.0, \"#0d0887\"], [0.1111111111111111, \"#46039f\"], [0.2222222222222222, \"#7201a8\"], [0.3333333333333333, \"#9c179e\"], [0.4444444444444444, \"#bd3786\"], [0.5555555555555556, \"#d8576b\"], [0.6666666666666666, \"#ed7953\"], [0.7777777777777778, \"#fb9f3a\"], [0.8888888888888888, \"#fdca26\"], [1.0, \"#f0f921\"]], \"type\": \"contour\"}], \"contourcarpet\": [{\"colorbar\": {\"outlinewidth\": 0, \"ticks\": \"\"}, \"type\": \"contourcarpet\"}], \"heatmap\": [{\"colorbar\": {\"outlinewidth\": 0, \"ticks\": \"\"}, \"colorscale\": [[0.0, \"#0d0887\"], [0.1111111111111111, \"#46039f\"], [0.2222222222222222, \"#7201a8\"], [0.3333333333333333, \"#9c179e\"], [0.4444444444444444, \"#bd3786\"], [0.5555555555555556, \"#d8576b\"], [0.6666666666666666, \"#ed7953\"], [0.7777777777777778, \"#fb9f3a\"], [0.8888888888888888, \"#fdca26\"], [1.0, \"#f0f921\"]], \"type\": \"heatmap\"}], \"heatmapgl\": [{\"colorbar\": {\"outlinewidth\": 0, \"ticks\": \"\"}, \"colorscale\": [[0.0, \"#0d0887\"], [0.1111111111111111, \"#46039f\"], [0.2222222222222222, \"#7201a8\"], [0.3333333333333333, \"#9c179e\"], [0.4444444444444444, \"#bd3786\"], [0.5555555555555556, \"#d8576b\"], [0.6666666666666666, \"#ed7953\"], [0.7777777777777778, \"#fb9f3a\"], [0.8888888888888888, \"#fdca26\"], [1.0, \"#f0f921\"]], \"type\": \"heatmapgl\"}], \"histogram\": [{\"marker\": {\"colorbar\": {\"outlinewidth\": 0, \"ticks\": \"\"}}, \"type\": \"histogram\"}], \"histogram2d\": [{\"colorbar\": {\"outlinewidth\": 0, \"ticks\": \"\"}, \"colorscale\": [[0.0, \"#0d0887\"], [0.1111111111111111, \"#46039f\"], [0.2222222222222222, \"#7201a8\"], [0.3333333333333333, \"#9c179e\"], [0.4444444444444444, \"#bd3786\"], [0.5555555555555556, \"#d8576b\"], [0.6666666666666666, \"#ed7953\"], [0.7777777777777778, \"#fb9f3a\"], [0.8888888888888888, \"#fdca26\"], [1.0, \"#f0f921\"]], \"type\": \"histogram2d\"}], \"histogram2dcontour\": [{\"colorbar\": {\"outlinewidth\": 0, \"ticks\": \"\"}, \"colorscale\": [[0.0, \"#0d0887\"], [0.1111111111111111, \"#46039f\"], [0.2222222222222222, \"#7201a8\"], [0.3333333333333333, \"#9c179e\"], [0.4444444444444444, \"#bd3786\"], [0.5555555555555556, \"#d8576b\"], [0.6666666666666666, \"#ed7953\"], [0.7777777777777778, \"#fb9f3a\"], [0.8888888888888888, \"#fdca26\"], [1.0, \"#f0f921\"]], \"type\": \"histogram2dcontour\"}], \"mesh3d\": [{\"colorbar\": {\"outlinewidth\": 0, \"ticks\": \"\"}, \"type\": \"mesh3d\"}], \"parcoords\": [{\"line\": {\"colorbar\": {\"outlinewidth\": 0, \"ticks\": \"\"}}, \"type\": \"parcoords\"}], \"scatter\": [{\"marker\": {\"colorbar\": {\"outlinewidth\": 0, \"ticks\": \"\"}}, \"type\": \"scatter\"}], \"scatter3d\": [{\"line\": {\"colorbar\": {\"outlinewidth\": 0, \"ticks\": \"\"}}, \"marker\": {\"colorbar\": {\"outlinewidth\": 0, \"ticks\": \"\"}}, \"type\": \"scatter3d\"}], \"scattercarpet\": [{\"marker\": {\"colorbar\": {\"outlinewidth\": 0, \"ticks\": \"\"}}, \"type\": \"scattercarpet\"}], \"scattergeo\": [{\"marker\": {\"colorbar\": {\"outlinewidth\": 0, \"ticks\": \"\"}}, \"type\": \"scattergeo\"}], \"scattergl\": [{\"marker\": {\"colorbar\": {\"outlinewidth\": 0, \"ticks\": \"\"}}, \"type\": \"scattergl\"}], \"scattermapbox\": [{\"marker\": {\"colorbar\": {\"outlinewidth\": 0, \"ticks\": \"\"}}, \"type\": \"scattermapbox\"}], \"scatterpolar\": [{\"marker\": {\"colorbar\": {\"outlinewidth\": 0, \"ticks\": \"\"}}, \"type\": \"scatterpolar\"}], \"scatterpolargl\": [{\"marker\": {\"colorbar\": {\"outlinewidth\": 0, \"ticks\": \"\"}}, \"type\": \"scatterpolargl\"}], \"scatterternary\": [{\"marker\": {\"colorbar\": {\"outlinewidth\": 0, \"ticks\": \"\"}}, \"type\": \"scatterternary\"}], \"surface\": [{\"colorbar\": {\"outlinewidth\": 0, \"ticks\": \"\"}, \"colorscale\": [[0.0, \"#0d0887\"], [0.1111111111111111, \"#46039f\"], [0.2222222222222222, \"#7201a8\"], [0.3333333333333333, \"#9c179e\"], [0.4444444444444444, \"#bd3786\"], [0.5555555555555556, \"#d8576b\"], [0.6666666666666666, \"#ed7953\"], [0.7777777777777778, \"#fb9f3a\"], [0.8888888888888888, \"#fdca26\"], [1.0, \"#f0f921\"]], \"type\": \"surface\"}], \"table\": [{\"cells\": {\"fill\": {\"color\": \"#EBF0F8\"}, \"line\": {\"color\": \"white\"}}, \"header\": {\"fill\": {\"color\": \"#C8D4E3\"}, \"line\": {\"color\": \"white\"}}, \"type\": \"table\"}]}, \"layout\": {\"annotationdefaults\": {\"arrowcolor\": \"#2a3f5f\", \"arrowhead\": 0, \"arrowwidth\": 1}, \"colorscale\": {\"diverging\": [[0, \"#8e0152\"], [0.1, \"#c51b7d\"], [0.2, \"#de77ae\"], [0.3, \"#f1b6da\"], [0.4, \"#fde0ef\"], [0.5, \"#f7f7f7\"], [0.6, \"#e6f5d0\"], [0.7, \"#b8e186\"], [0.8, \"#7fbc41\"], [0.9, \"#4d9221\"], [1, \"#276419\"]], \"sequential\": [[0.0, \"#0d0887\"], [0.1111111111111111, \"#46039f\"], [0.2222222222222222, \"#7201a8\"], [0.3333333333333333, \"#9c179e\"], [0.4444444444444444, \"#bd3786\"], [0.5555555555555556, \"#d8576b\"], [0.6666666666666666, \"#ed7953\"], [0.7777777777777778, \"#fb9f3a\"], [0.8888888888888888, \"#fdca26\"], [1.0, \"#f0f921\"]], \"sequentialminus\": [[0.0, \"#0d0887\"], [0.1111111111111111, \"#46039f\"], [0.2222222222222222, \"#7201a8\"], [0.3333333333333333, \"#9c179e\"], [0.4444444444444444, \"#bd3786\"], [0.5555555555555556, \"#d8576b\"], [0.6666666666666666, \"#ed7953\"], [0.7777777777777778, \"#fb9f3a\"], [0.8888888888888888, \"#fdca26\"], [1.0, \"#f0f921\"]]}, \"colorway\": [\"#636efa\", \"#EF553B\", \"#00cc96\", \"#ab63fa\", \"#FFA15A\", \"#19d3f3\", \"#FF6692\", \"#B6E880\", \"#FF97FF\", \"#FECB52\"], \"font\": {\"color\": \"#2a3f5f\"}, \"geo\": {\"bgcolor\": \"white\", \"lakecolor\": \"white\", \"landcolor\": \"#E5ECF6\", \"showlakes\": true, \"showland\": true, \"subunitcolor\": \"white\"}, \"hoverlabel\": {\"align\": \"left\"}, \"hovermode\": \"closest\", \"mapbox\": {\"style\": \"light\"}, \"paper_bgcolor\": \"white\", \"plot_bgcolor\": \"#E5ECF6\", \"polar\": {\"angularaxis\": {\"gridcolor\": \"white\", \"linecolor\": \"white\", \"ticks\": \"\"}, \"bgcolor\": \"#E5ECF6\", \"radialaxis\": {\"gridcolor\": \"white\", \"linecolor\": \"white\", \"ticks\": \"\"}}, \"scene\": {\"xaxis\": {\"backgroundcolor\": \"#E5ECF6\", \"gridcolor\": \"white\", \"gridwidth\": 2, \"linecolor\": \"white\", \"showbackground\": true, \"ticks\": \"\", \"zerolinecolor\": \"white\"}, \"yaxis\": {\"backgroundcolor\": \"#E5ECF6\", \"gridcolor\": \"white\", \"gridwidth\": 2, \"linecolor\": \"white\", \"showbackground\": true, \"ticks\": \"\", \"zerolinecolor\": \"white\"}, \"zaxis\": {\"backgroundcolor\": \"#E5ECF6\", \"gridcolor\": \"white\", \"gridwidth\": 2, \"linecolor\": \"white\", \"showbackground\": true, \"ticks\": \"\", \"zerolinecolor\": \"white\"}}, \"shapedefaults\": {\"line\": {\"color\": \"#2a3f5f\"}}, \"ternary\": {\"aaxis\": {\"gridcolor\": \"white\", \"linecolor\": \"white\", \"ticks\": \"\"}, \"baxis\": {\"gridcolor\": \"white\", \"linecolor\": \"white\", \"ticks\": \"\"}, \"bgcolor\": \"#E5ECF6\", \"caxis\": {\"gridcolor\": \"white\", \"linecolor\": \"white\", \"ticks\": \"\"}}, \"title\": {\"x\": 0.05}, \"xaxis\": {\"automargin\": true, \"gridcolor\": \"white\", \"linecolor\": \"white\", \"ticks\": \"\", \"zerolinecolor\": \"white\", \"zerolinewidth\": 2}, \"yaxis\": {\"automargin\": true, \"gridcolor\": \"white\", \"linecolor\": \"white\", \"ticks\": \"\", \"zerolinecolor\": \"white\", \"zerolinewidth\": 2}}}, \"title\": {\"font\": {\"color\": \"#4D5663\"}, \"text\": \"Average Customer Lifetime Value over Time\"}, \"xaxis\": {\"gridcolor\": \"#E1E5ED\", \"showgrid\": true, \"tickfont\": {\"color\": \"#4D5663\"}, \"title\": {\"font\": {\"color\": \"#4D5663\"}, \"text\": \"Time\"}, \"zerolinecolor\": \"#E1E5ED\"}, \"yaxis\": {\"gridcolor\": \"#E1E5ED\", \"showgrid\": true, \"tickfont\": {\"color\": \"#4D5663\"}, \"title\": {\"font\": {\"color\": \"#4D5663\"}, \"text\": \"CLTV\"}, \"zerolinecolor\": \"#E1E5ED\"}},\n",
       "                        {\"showLink\": true, \"linkText\": \"Export to plot.ly\", \"plotlyServerURL\": \"https://plot.ly\", \"responsive\": true}\n",
       "                    ).then(function(){\n",
       "                            \n",
       "var gd = document.getElementById('4cbe44e1-7d37-4d45-9cfe-5aec8f458e1f');\n",
       "var x = new MutationObserver(function (mutations, observer) {{\n",
       "        var display = window.getComputedStyle(gd).display;\n",
       "        if (!display || display === 'none') {{\n",
       "            console.log([gd, 'removed!']);\n",
       "            Plotly.purge(gd);\n",
       "            observer.disconnect();\n",
       "        }}\n",
       "}});\n",
       "\n",
       "// Listen for the removal of the full notebook cells\n",
       "var notebookContainer = gd.closest('#notebook-container');\n",
       "if (notebookContainer) {{\n",
       "    x.observe(notebookContainer, {childList: true});\n",
       "}}\n",
       "\n",
       "// Listen for the clearing of the current output cell\n",
       "var outputEl = gd.closest('.output');\n",
       "if (outputEl) {{\n",
       "    x.observe(outputEl, {childList: true});\n",
       "}}\n",
       "\n",
       "                        })\n",
       "                };\n",
       "                });\n",
       "            </script>\n",
       "        </div>"
      ]
     },
     "metadata": {},
     "output_type": "display_data"
    }
   ],
   "source": [
    "# create df: calculate avg cltv per customerID per date\n",
    "# create 2 df's for cltv calculation per customer per date: Revenue_sum & Orders_sum \n",
    "df1 = data4.groupby(['CustomerID', 'Date'])['Revenue'].sum().reset_index()\n",
    "cols1 = ['CustomerID', 'Date', 'Revenue_sum']\n",
    "df1.columns = cols1\n",
    "\n",
    "df2 = data4.groupby(['CustomerID', 'Date'])['InvoiceNo'].count().reset_index()\n",
    "cols2 = ['CustomerID', 'Date', 'Orders_sum'] \n",
    "df2.columns = cols2\n",
    "df2\n",
    "\n",
    "# merge df1 & df2 on CustomerID & Date \n",
    "df3 = df1.merge(df2, on=['CustomerID', 'Date']) \n",
    "\n",
    "# make colum CLTV per customer ID (by calculation with avg gross profit margin of 40%) \n",
    "df3['cltv'] = round((((df3.Revenue_sum/df3.Orders_sum)*avg_purchase_freq) / churn_rate)*0.40,2)\n",
    "\n",
    "# select columns CustomerID, Date & cltv from df3 \n",
    "df4 = df3[['CustomerID', 'Date', 'cltv']] \n",
    "\n",
    "# create df avg CLTV over per date \n",
    "cltv_date_not_round = df4.groupby('Date')['cltv'].mean().reset_index()\n",
    "cltv_date = cltv_date_not_round.round(2) \n",
    "\n",
    "# check for outliers: any z-score greater than 3 or less than -3 is considered to be an outlier\n",
    "z_2 = np.abs(stats.zscore(cltv_date.cltv))\n",
    " \n",
    "print('The outlier array:', np.where((z_2 > 3) | (z_2 < -3))) # array contains the list of row numbers\n",
    "print('The cltv value of the first outlier is:', cltv_date.cltv[26])\n",
    "print('The cltv value of the second:', cltv_date.cltv[53])\n",
    "print('The cltv value of the third:', cltv_date.cltv[149])\n",
    "\n",
    "# line plot + remove outliers \n",
    "cltv_date_result = cltv_date[(cltv_date.cltv != 358782.24) & (cltv_date.cltv != 288594.4) \n",
    "                             & (cltv_date.cltv != 793786.76)] \n",
    "\n",
    "cltv_date_result.iplot(kind='line', x='Date', xTitle='Time', yTitle='CLTV', \n",
    "           title='Average Customer Lifetime Value over Time', color='pink') "
   ]
  },
  {
   "cell_type": "code",
   "execution_count": 21,
   "metadata": {},
   "outputs": [],
   "source": [
    "# IS AVG CLTV PREDICTOR FOR AVG REVENUE? "
   ]
  },
  {
   "cell_type": "code",
   "execution_count": 22,
   "metadata": {},
   "outputs": [
    {
     "data": {
      "text/html": [
       "<div>\n",
       "<style scoped>\n",
       "    .dataframe tbody tr th:only-of-type {\n",
       "        vertical-align: middle;\n",
       "    }\n",
       "\n",
       "    .dataframe tbody tr th {\n",
       "        vertical-align: top;\n",
       "    }\n",
       "\n",
       "    .dataframe thead th {\n",
       "        text-align: right;\n",
       "    }\n",
       "</style>\n",
       "<table border=\"1\" class=\"dataframe\">\n",
       "  <thead>\n",
       "    <tr style=\"text-align: right;\">\n",
       "      <th></th>\n",
       "      <th>Date</th>\n",
       "      <th>Revenue</th>\n",
       "      <th>cltv</th>\n",
       "    </tr>\n",
       "  </thead>\n",
       "  <tbody>\n",
       "    <tr>\n",
       "      <th>0</th>\n",
       "      <td>2010-12-01</td>\n",
       "      <td>23.89</td>\n",
       "      <td>105016.12</td>\n",
       "    </tr>\n",
       "    <tr>\n",
       "      <th>1</th>\n",
       "      <td>2010-12-02</td>\n",
       "      <td>23.66</td>\n",
       "      <td>113909.91</td>\n",
       "    </tr>\n",
       "    <tr>\n",
       "      <th>2</th>\n",
       "      <td>2010-12-03</td>\n",
       "      <td>21.57</td>\n",
       "      <td>147541.70</td>\n",
       "    </tr>\n",
       "    <tr>\n",
       "      <th>3</th>\n",
       "      <td>2010-12-05</td>\n",
       "      <td>11.62</td>\n",
       "      <td>62092.55</td>\n",
       "    </tr>\n",
       "    <tr>\n",
       "      <th>4</th>\n",
       "      <td>2010-12-06</td>\n",
       "      <td>16.05</td>\n",
       "      <td>66770.95</td>\n",
       "    </tr>\n",
       "  </tbody>\n",
       "</table>\n",
       "</div>"
      ],
      "text/plain": [
       "        Date  Revenue       cltv\n",
       "0 2010-12-01    23.89  105016.12\n",
       "1 2010-12-02    23.66  113909.91\n",
       "2 2010-12-03    21.57  147541.70\n",
       "3 2010-12-05    11.62   62092.55\n",
       "4 2010-12-06    16.05   66770.95"
      ]
     },
     "execution_count": 22,
     "metadata": {},
     "output_type": "execute_result"
    }
   ],
   "source": [
    "# merge revenue_date_result & cltv_date_result\n",
    "result = revenue_date_result.merge(cltv_date_result, on='Date')\n",
    "result2 = result.round(2) \n",
    "result2.head()"
   ]
  },
  {
   "cell_type": "code",
   "execution_count": 23,
   "metadata": {},
   "outputs": [
    {
     "data": {
      "text/html": [
       "<div>\n",
       "<style scoped>\n",
       "    .dataframe tbody tr th:only-of-type {\n",
       "        vertical-align: middle;\n",
       "    }\n",
       "\n",
       "    .dataframe tbody tr th {\n",
       "        vertical-align: top;\n",
       "    }\n",
       "\n",
       "    .dataframe thead th {\n",
       "        text-align: right;\n",
       "    }\n",
       "</style>\n",
       "<table border=\"1\" class=\"dataframe\">\n",
       "  <thead>\n",
       "    <tr style=\"text-align: right;\">\n",
       "      <th></th>\n",
       "      <th>Revenue</th>\n",
       "      <th>cltv</th>\n",
       "    </tr>\n",
       "  </thead>\n",
       "  <tbody>\n",
       "    <tr>\n",
       "      <th>Revenue</th>\n",
       "      <td>1.000000</td>\n",
       "      <td>0.602772</td>\n",
       "    </tr>\n",
       "    <tr>\n",
       "      <th>cltv</th>\n",
       "      <td>0.602772</td>\n",
       "      <td>1.000000</td>\n",
       "    </tr>\n",
       "  </tbody>\n",
       "</table>\n",
       "</div>"
      ],
      "text/plain": [
       "          Revenue      cltv\n",
       "Revenue  1.000000  0.602772\n",
       "cltv     0.602772  1.000000"
      ]
     },
     "execution_count": 23,
     "metadata": {},
     "output_type": "execute_result"
    }
   ],
   "source": [
    "# correlation matrix result2\n",
    "result2.corr() "
   ]
  },
  {
   "cell_type": "code",
   "execution_count": 24,
   "metadata": {},
   "outputs": [
    {
     "data": {
      "image/png": "[encoded data removed]",
      "text/plain": [
       "<Figure size 360x360 with 6 Axes>"
      ]
     },
     "metadata": {
      "needs_background": "light"
     },
     "output_type": "display_data"
    }
   ],
   "source": [
    "# scatterplots result2\n",
    "sns.pairplot(result2); "
   ]
  },
  {
   "cell_type": "code",
   "execution_count": 25,
   "metadata": {},
   "outputs": [
    {
     "data": {
      "text/html": [
       "<table class=\"simpletable\">\n",
       "<caption>OLS Regression Results</caption>\n",
       "<tr>\n",
       "  <th>Dep. Variable:</th>         <td>Revenue</td>     <th>  R-squared:         </th> <td>   0.896</td> \n",
       "</tr>\n",
       "<tr>\n",
       "  <th>Model:</th>                   <td>OLS</td>       <th>  Adj. R-squared:    </th> <td>   0.896</td> \n",
       "</tr>\n",
       "<tr>\n",
       "  <th>Method:</th>             <td>Least Squares</td>  <th>  F-statistic:       </th> <td>   2585.</td> \n",
       "</tr>\n",
       "<tr>\n",
       "  <th>Date:</th>             <td>Thu, 07 Nov 2019</td> <th>  Prob (F-statistic):</th> <td>3.38e-149</td>\n",
       "</tr>\n",
       "<tr>\n",
       "  <th>Time:</th>                 <td>16:35:56</td>     <th>  Log-Likelihood:    </th> <td> -1019.5</td> \n",
       "</tr>\n",
       "<tr>\n",
       "  <th>No. Observations:</th>      <td>   300</td>      <th>  AIC:               </th> <td>   2041.</td> \n",
       "</tr>\n",
       "<tr>\n",
       "  <th>Df Residuals:</th>          <td>   299</td>      <th>  BIC:               </th> <td>   2045.</td> \n",
       "</tr>\n",
       "<tr>\n",
       "  <th>Df Model:</th>              <td>     1</td>      <th>                     </th>     <td> </td>    \n",
       "</tr>\n",
       "<tr>\n",
       "  <th>Covariance Type:</th>      <td>nonrobust</td>    <th>                     </th>     <td> </td>    \n",
       "</tr>\n",
       "</table>\n",
       "<table class=\"simpletable\">\n",
       "<tr>\n",
       "    <td></td>      <th>coef</th>     <th>std err</th>      <th>t</th>      <th>P>|t|</th>  <th>[0.025</th>    <th>0.975]</th>  \n",
       "</tr>\n",
       "<tr>\n",
       "  <th>cltv</th> <td>    0.0002</td> <td>  4.2e-06</td> <td>   50.844</td> <td> 0.000</td> <td>    0.000</td> <td>    0.000</td>\n",
       "</tr>\n",
       "</table>\n",
       "<table class=\"simpletable\">\n",
       "<tr>\n",
       "  <th>Omnibus:</th>       <td>41.888</td> <th>  Durbin-Watson:     </th> <td>   1.890</td>\n",
       "</tr>\n",
       "<tr>\n",
       "  <th>Prob(Omnibus):</th> <td> 0.000</td> <th>  Jarque-Bera (JB):  </th> <td> 103.380</td>\n",
       "</tr>\n",
       "<tr>\n",
       "  <th>Skew:</th>          <td>-0.663</td> <th>  Prob(JB):          </th> <td>3.56e-23</td>\n",
       "</tr>\n",
       "<tr>\n",
       "  <th>Kurtosis:</th>      <td> 5.551</td> <th>  Cond. No.          </th> <td>    1.00</td>\n",
       "</tr>\n",
       "</table><br/><br/>Warnings:<br/>[1] Standard Errors assume that the covariance matrix of the errors is correctly specified."
      ],
      "text/plain": [
       "<class 'statsmodels.iolib.summary.Summary'>\n",
       "\"\"\"\n",
       "                            OLS Regression Results                            \n",
       "==============================================================================\n",
       "Dep. Variable:                Revenue   R-squared:                       0.896\n",
       "Model:                            OLS   Adj. R-squared:                  0.896\n",
       "Method:                 Least Squares   F-statistic:                     2585.\n",
       "Date:                Thu, 07 Nov 2019   Prob (F-statistic):          3.38e-149\n",
       "Time:                        16:35:56   Log-Likelihood:                -1019.5\n",
       "No. Observations:                 300   AIC:                             2041.\n",
       "Df Residuals:                     299   BIC:                             2045.\n",
       "Df Model:                           1                                         \n",
       "Covariance Type:            nonrobust                                         \n",
       "==============================================================================\n",
       "                 coef    std err          t      P>|t|      [0.025      0.975]\n",
       "------------------------------------------------------------------------------\n",
       "cltv           0.0002    4.2e-06     50.844      0.000       0.000       0.000\n",
       "==============================================================================\n",
       "Omnibus:                       41.888   Durbin-Watson:                   1.890\n",
       "Prob(Omnibus):                  0.000   Jarque-Bera (JB):              103.380\n",
       "Skew:                          -0.663   Prob(JB):                     3.56e-23\n",
       "Kurtosis:                       5.551   Cond. No.                         1.00\n",
       "==============================================================================\n",
       "\n",
       "Warnings:\n",
       "[1] Standard Errors assume that the covariance matrix of the errors is correctly specified.\n",
       "\"\"\""
      ]
     },
     "execution_count": 25,
     "metadata": {},
     "output_type": "execute_result"
    }
   ],
   "source": [
    "# get R^2 of model \n",
    "X = result2.cltv\n",
    "Y = result2.Revenue \n",
    "\n",
    "model = sm.OLS(Y,X) \n",
    "results = model.fit() \n",
    "results.summary() "
   ]
  },
  {
   "cell_type": "code",
   "execution_count": 26,
   "metadata": {},
   "outputs": [
    {
     "name": "stdout",
     "output_type": "stream",
     "text": [
      "y = 0.000107 * x + 11.5\n"
     ]
    }
   ],
   "source": [
    "# get the slope and intercept for regression formula \n",
    "x = result2.cltv\n",
    "y = result2.Revenue \n",
    "slope, intercept, r_value, p_value, std_err = stats.linregress(x,y)\n",
    "\n",
    "print('y =', round(slope,6),'* x +', round(intercept, 2))"
   ]
  },
  {
   "cell_type": "code",
   "execution_count": 41,
   "metadata": {},
   "outputs": [
    {
     "data": {
      "application/vnd.plotly.v1+json": {
       "config": {
        "plotlyServerURL": "https://plot.ly"
       },
       "data": [
        {
         "marker": {
          "color": "rgb(93, 151, 201)"
         },
         "mode": "markers",
         "name": "Data",
         "type": "scatter",
         "x": [
          105016.12,
          113909.91,
          147541.7,
          62092.55,
          66770.95,
          176214.34,
          105160.23,
          214986.4,
          78496.37,
          68073.72,
          73143.65,
          90293.52,
          74093.33,
          96229.75,
          100340.86,
          48557.77,
          97360.03,
          137206.47,
          157982.06,
          77124.5,
          60204.13,
          219886.85,
          107771.7,
          124702.55,
          49056.18,
          83512.24,
          85142.49,
          102885.98,
          115012.02,
          75678.17,
          98169.96,
          56591.89,
          77522.97,
          70121.31,
          42555.48,
          62735.61,
          68399.04,
          96327.4,
          46481.97,
          78309.13,
          26850.36,
          81898.75,
          97772.15,
          67975.93,
          102369.64,
          125642.89,
          35921.05,
          167175.44,
          96750.49,
          48056.52,
          82026.77,
          27247.18,
          191114.83,
          114272.9,
          107360.95,
          54194.05,
          72124.08,
          63545.64,
          93674.9,
          223736,
          98332.1,
          52685.21,
          141440.02,
          46684.62,
          48616.4,
          73344.72,
          200664.79,
          125351.86,
          66694.47,
          46383.42,
          86224.46,
          68733.99,
          97670.47,
          96729.21,
          115927.04,
          20301.1,
          106121.66,
          66225.53,
          120028.35,
          156641.1,
          89330.94,
          83969.46,
          76006.73,
          58242.53,
          102088.92,
          101044.01,
          152533.48,
          57947.81,
          98108.85,
          69387.5,
          110175.01,
          75222.65,
          97321.45,
          55002.04,
          77372.27,
          172434.21,
          47711.31,
          75577.35,
          77399.35,
          44224.5,
          101048.16,
          59385.23,
          104463.69,
          104799.51,
          64721.97,
          59943.93,
          235799.22,
          88124.21,
          122507.97,
          97385.37,
          113037.14,
          190314.45,
          59195.8,
          46289.46,
          90054.83,
          81813.75,
          104636.48,
          101978.05,
          43166.48,
          91107,
          78016.92,
          103713.53,
          123883.59,
          122691.62,
          41546.61,
          92572.52,
          112972.27,
          79175.41,
          72851.83,
          106498.57,
          64210.78,
          122410.52,
          147924.42,
          131462.12,
          121395.43,
          238036.57,
          56061.59,
          132472.46,
          86439.67,
          83717.71,
          165367.14,
          66442.09,
          49617.29,
          94920.08,
          77541.61,
          86676.99,
          40678.54,
          64015.95,
          155302.21,
          73156.68,
          103343.26,
          93434.15,
          66404.51,
          172083.59,
          62838.01,
          73990.44,
          43831.71,
          73826.59,
          36393.23,
          106054.65,
          162486.73,
          72335.61,
          94398.06,
          67690.94,
          34703.32,
          165608.06,
          134362.76,
          94744.73,
          112007.49,
          75209.51,
          26915.42,
          62473.42,
          116908.09,
          51677.68,
          79045.58,
          73719.86,
          47692.57,
          56731.03,
          109699.77,
          121093.08,
          124082.19,
          81414.29,
          86321.73,
          64010.36,
          58459.92,
          139224.27,
          173176.58,
          72484.7,
          103552.81,
          95262.52,
          118146.77,
          77245.07,
          131798.72,
          68241.42,
          49797.22,
          94437.21,
          56294.38,
          86421.81,
          82644.42,
          93147.9,
          42353.12,
          49098.69,
          51173.68,
          130301.44,
          109345.98,
          71194.12,
          97624.57,
          113191.86,
          80586.41,
          112642.04,
          75471.22,
          119135.05,
          58254.21,
          130479,
          123783.62,
          97273.33,
          167522.99,
          40182.24,
          109204.83,
          78070.44,
          86666.72,
          78855.33,
          75178.15,
          72103.72,
          62533.55,
          103272.2,
          82816.26,
          96076.78,
          50849.39,
          68240.94,
          135453.27,
          72538.86,
          59590.91,
          53676.22,
          50932.66,
          72027.08,
          85819.63,
          101866.14,
          78436.68,
          142097.24,
          37974.05,
          188830.16,
          148406.96,
          84469.41,
          74620.66,
          93005.97,
          34768.92,
          105160.71,
          73400.74,
          59424.14,
          48497.03,
          63159.92,
          53339.68,
          97923.97,
          96020.37,
          60094.96,
          65950.36,
          124346.26,
          18914.89,
          88388.73,
          93127.91,
          119706.95,
          69039.83,
          136921.29,
          49948.43,
          70346.25,
          59568.76,
          123280.43,
          164833.84,
          129643.49,
          51932.05,
          73744.62,
          59760.55,
          140074.38,
          97849.11,
          63695.72,
          40696.86,
          75302,
          87023.77,
          96391.72,
          84142.34,
          96114.12,
          39395.74,
          65664.07,
          144056.21,
          86980.31,
          59813.24,
          77635.73,
          23204.68,
          96896.27,
          154955.6,
          69686.16,
          96414.91,
          168685.67,
          42894.46,
          73134.24,
          88777.73,
          214843.63,
          92981.84,
          140412.56
         ],
         "y": [
          23.89,
          23.66,
          21.57,
          11.62,
          16.05,
          48.4,
          20.03,
          21.7,
          24.02,
          12.05,
          21.74,
          18.12,
          23.54,
          29.32,
          26.97,
          14.9,
          23.5,
          40.06,
          22.52,
          16.57,
          16.04,
          27.45,
          27.18,
          21.83,
          14.27,
          19.22,
          18.77,
          20.56,
          11.29,
          17.08,
          19.08,
          22.63,
          21.95,
          35.23,
          11.98,
          22.97,
          20.04,
          17.41,
          16.92,
          26.67,
          9.27,
          18.57,
          21.45,
          17.15,
          25.88,
          24.48,
          12.39,
          24.54,
          22.74,
          26.92,
          21.46,
          9.38,
          32.69,
          36.33,
          23.42,
          16.57,
          23.96,
          11.21,
          33.93,
          25.48,
          19.99,
          19.34,
          22.53,
          11.75,
          15.21,
          20.23,
          21,
          35.75,
          19.46,
          12.18,
          18.4,
          18.69,
          19.94,
          27.12,
          27,
          7.72,
          23.86,
          17.63,
          25.66,
          30.75,
          22.77,
          16.54,
          16.47,
          15.38,
          20.33,
          23.59,
          27.2,
          12.88,
          15.03,
          35.35,
          22.99,
          25.21,
          21.55,
          9.62,
          19.03,
          29.5,
          15.92,
          12.91,
          20.26,
          10.59,
          17.61,
          22.03,
          24.02,
          24.03,
          22.81,
          13.15,
          30.81,
          15.67,
          28.17,
          19.97,
          17.79,
          22.5,
          20.83,
          15.28,
          21.05,
          23.92,
          20.84,
          23.52,
          12.52,
          20.41,
          22.7,
          21.73,
          33.55,
          23.33,
          12.69,
          30.21,
          35.48,
          28.27,
          20.66,
          26.52,
          15.47,
          21.88,
          30.47,
          21.6,
          37.04,
          25.06,
          11.64,
          19.64,
          21.92,
          27.22,
          23.15,
          16.2,
          15.52,
          23.32,
          20.34,
          30.57,
          11.64,
          17.24,
          32.71,
          34.89,
          25.45,
          22.18,
          19.36,
          22.16,
          20.18,
          20.73,
          14.23,
          21.75,
          10.43,
          17.06,
          38.11,
          22.67,
          35.02,
          14.62,
          10.09,
          32.93,
          32.33,
          18.53,
          22.25,
          22.34,
          7.37,
          18.67,
          24.04,
          15.9,
          22.7,
          15.45,
          14.18,
          18.27,
          31.3,
          22.03,
          22.96,
          19.28,
          25.07,
          18.06,
          20.52,
          26.99,
          41.59,
          18.3,
          26.29,
          19.51,
          22.12,
          19.84,
          42.52,
          15.67,
          14.35,
          18.08,
          29.27,
          26.51,
          36.53,
          25.36,
          10.63,
          18.73,
          17.1,
          33.91,
          36.61,
          21.06,
          13.71,
          23.39,
          16.57,
          25.24,
          18.72,
          27.92,
          9.03,
          22.66,
          26.74,
          26.38,
          26.43,
          12.89,
          25.81,
          24.24,
          22.34,
          16.48,
          19.62,
          17.43,
          19.38,
          25.42,
          19.4,
          43.75,
          18.63,
          12.39,
          33.68,
          22.1,
          23.6,
          16.73,
          15.78,
          18.8,
          21.32,
          18.28,
          19.92,
          27.55,
          8.16,
          33.3,
          18.77,
          34.2,
          22.74,
          25.01,
          10.05,
          15.57,
          25.73,
          18.9,
          16.74,
          21.1,
          17.66,
          19.13,
          18.14,
          16.92,
          26.49,
          45.69,
          7.14,
          20.02,
          16.96,
          19.58,
          20.98,
          25.99,
          11.8,
          17.57,
          16.79,
          22,
          30.82,
          22.54,
          12.47,
          16.5,
          16.53,
          28.11,
          21.87,
          15.14,
          10.48,
          19.63,
          21.46,
          17.63,
          18.25,
          16.77,
          9.7,
          19.14,
          17.39,
          21.54,
          15.77,
          15.46,
          7.04,
          18.12,
          17.86,
          19.41,
          20.75,
          22.47,
          10.41,
          16.64,
          17.93,
          31.81,
          19.86,
          25.73
         ]
        },
        {
         "marker": {
          "color": "rgb(235, 120, 179)"
         },
         "mode": "lines",
         "name": "Fit",
         "type": "scatter",
         "x": [
          105016.12,
          113909.91,
          147541.7,
          62092.55,
          66770.95,
          176214.34,
          105160.23,
          214986.4,
          78496.37,
          68073.72,
          73143.65,
          90293.52,
          74093.33,
          96229.75,
          100340.86,
          48557.77,
          97360.03,
          137206.47,
          157982.06,
          77124.5,
          60204.13,
          219886.85,
          107771.7,
          124702.55,
          49056.18,
          83512.24,
          85142.49,
          102885.98,
          115012.02,
          75678.17,
          98169.96,
          56591.89,
          77522.97,
          70121.31,
          42555.48,
          62735.61,
          68399.04,
          96327.4,
          46481.97,
          78309.13,
          26850.36,
          81898.75,
          97772.15,
          67975.93,
          102369.64,
          125642.89,
          35921.05,
          167175.44,
          96750.49,
          48056.52,
          82026.77,
          27247.18,
          191114.83,
          114272.9,
          107360.95,
          54194.05,
          72124.08,
          63545.64,
          93674.9,
          223736,
          98332.1,
          52685.21,
          141440.02,
          46684.62,
          48616.4,
          73344.72,
          200664.79,
          125351.86,
          66694.47,
          46383.42,
          86224.46,
          68733.99,
          97670.47,
          96729.21,
          115927.04,
          20301.1,
          106121.66,
          66225.53,
          120028.35,
          156641.1,
          89330.94,
          83969.46,
          76006.73,
          58242.53,
          102088.92,
          101044.01,
          152533.48,
          57947.81,
          98108.85,
          69387.5,
          110175.01,
          75222.65,
          97321.45,
          55002.04,
          77372.27,
          172434.21,
          47711.31,
          75577.35,
          77399.35,
          44224.5,
          101048.16,
          59385.23,
          104463.69,
          104799.51,
          64721.97,
          59943.93,
          235799.22,
          88124.21,
          122507.97,
          97385.37,
          113037.14,
          190314.45,
          59195.8,
          46289.46,
          90054.83,
          81813.75,
          104636.48,
          101978.05,
          43166.48,
          91107,
          78016.92,
          103713.53,
          123883.59,
          122691.62,
          41546.61,
          92572.52,
          112972.27,
          79175.41,
          72851.83,
          106498.57,
          64210.78,
          122410.52,
          147924.42,
          131462.12,
          121395.43,
          238036.57,
          56061.59,
          132472.46,
          86439.67,
          83717.71,
          165367.14,
          66442.09,
          49617.29,
          94920.08,
          77541.61,
          86676.99,
          40678.54,
          64015.95,
          155302.21,
          73156.68,
          103343.26,
          93434.15,
          66404.51,
          172083.59,
          62838.01,
          73990.44,
          43831.71,
          73826.59,
          36393.23,
          106054.65,
          162486.73,
          72335.61,
          94398.06,
          67690.94,
          34703.32,
          165608.06,
          134362.76,
          94744.73,
          112007.49,
          75209.51,
          26915.42,
          62473.42,
          116908.09,
          51677.68,
          79045.58,
          73719.86,
          47692.57,
          56731.03,
          109699.77,
          121093.08,
          124082.19,
          81414.29,
          86321.73,
          64010.36,
          58459.92,
          139224.27,
          173176.58,
          72484.7,
          103552.81,
          95262.52,
          118146.77,
          77245.07,
          131798.72,
          68241.42,
          49797.22,
          94437.21,
          56294.38,
          86421.81,
          82644.42,
          93147.9,
          42353.12,
          49098.69,
          51173.68,
          130301.44,
          109345.98,
          71194.12,
          97624.57,
          113191.86,
          80586.41,
          112642.04,
          75471.22,
          119135.05,
          58254.21,
          130479,
          123783.62,
          97273.33,
          167522.99,
          40182.24,
          109204.83,
          78070.44,
          86666.72,
          78855.33,
          75178.15,
          72103.72,
          62533.55,
          103272.2,
          82816.26,
          96076.78,
          50849.39,
          68240.94,
          135453.27,
          72538.86,
          59590.91,
          53676.22,
          50932.66,
          72027.08,
          85819.63,
          101866.14,
          78436.68,
          142097.24,
          37974.05,
          188830.16,
          148406.96,
          84469.41,
          74620.66,
          93005.97,
          34768.92,
          105160.71,
          73400.74,
          59424.14,
          48497.03,
          63159.92,
          53339.68,
          97923.97,
          96020.37,
          60094.96,
          65950.36,
          124346.26,
          18914.89,
          88388.73,
          93127.91,
          119706.95,
          69039.83,
          136921.29,
          49948.43,
          70346.25,
          59568.76,
          123280.43,
          164833.84,
          129643.49,
          51932.05,
          73744.62,
          59760.55,
          140074.38,
          97849.11,
          63695.72,
          40696.86,
          75302,
          87023.77,
          96391.72,
          84142.34,
          96114.12,
          39395.74,
          65664.07,
          144056.21,
          86980.31,
          59813.24,
          77635.73,
          23204.68,
          96896.27,
          154955.6,
          69686.16,
          96414.91,
          168685.67,
          42894.46,
          73134.24,
          88777.73,
          214843.63,
          92981.84,
          140412.56
         ],
         "y": [
          22.790626490592114,
          23.74649497227022,
          27.361103372447968,
          18.177375257529064,
          18.680190716931957,
          30.442722441765195,
          22.806114848974158,
          34.60978621589662,
          19.940391307730486,
          18.820207153330365,
          19.36510266933808,
          21.208301148038036,
          19.467170424443616,
          21.846303074887217,
          22.288148505655393,
          16.722711991537047,
          21.967780985594704,
          26.250314765128252,
          28.483190925827664,
          19.79294828355747,
          17.974415534152353,
          35.136466708806786,
          23.086785054122686,
          24.90644415142763,
          16.776279077104974,
          20.47947667417098,
          20.65468933292003,
          22.561687681877068,
          23.864945285617203,
          19.637502600546576,
          22.054828977436827,
          17.586186627886644,
          19.835774223218095,
          19.040273822815394,
          16.077610203784957,
          18.24648873848914,
          18.855171227640586,
          21.856798100881296,
          16.499613425653727,
          19.92026751185613,
          14.389687596103368,
          20.30606531225409,
          22.012073971899664,
          18.809697080704034,
          22.50619355262175,
          25.007508081210226,
          15.364568572388254,
          29.471258125760407,
          21.902270098298956,
          16.66883967428634,
          20.31982438268688,
          14.432336200455337,
          32.044166680111246,
          23.785507665415025,
          23.042639309861883,
          17.328476508791518,
          19.255523420461667,
          18.333547477925727,
          21.5717181577242,
          35.55015774111711,
          22.072255127100725,
          17.166312504481187,
          26.705319550558123,
          16.521393425834983,
          16.72901330617128,
          19.386712857526806,
          33.07055765238366,
          24.976229357041703,
          18.671970956685904,
          16.489021671309473,
          20.770975080741966,
          18.89117029529769,
          22.001145817848688,
          21.89998301019702,
          23.96328792448152,
          13.685799690911638,
          22.90944544642921,
          18.621571187206513,
          24.404080090992224,
          28.339069983103464,
          21.104846953246646,
          20.528616825579192,
          19.67281489691743,
          17.7635907211469,
          22.476022905442463,
          22.363720216128876,
          27.897599643382083,
          17.731915410742655,
          22.04826112245989,
          18.961406899879254,
          23.345083066634988,
          19.588545158244244,
          21.9636345636505,
          17.41531599730104,
          19.81957759836088,
          30.036449399153906,
          16.63173790343723,
          19.626666875807988,
          19.822488046941725,
          16.256989704907692,
          22.36416624129913,
          17.886403483086813,
          22.731253554494742,
          22.767346126223686,
          18.459974655883876,
          17.946450293357074,
          36.84666370601497,
          20.975152506571447,
          24.670579592839992,
          21.970504426031876,
          23.65269319206693,
          31.95814508354044,
          17.866044314893692,
          16.478923231551114,
          21.182647714811957,
          20.296929856959707,
          22.749824322969054,
          22.464107047460246,
          16.14327800595988,
          21.295730679483626,
          19.88886196607293,
          22.650629399863746,
          24.81842565180541,
          24.690317550073093,
          15.96918094751619,
          21.453238825872162,
          23.645721227538147,
          20.013371773178704,
          19.33373903917329,
          22.949954204723404,
          18.40503402774345,
          24.660106062034842,
          27.402236565980516,
          25.632935322536554,
          24.55100830539042,
          37.08712501075485,
          17.529192134444152,
          25.74152256844394,
          20.7941049787879,
          20.50155975651612,
          29.27690937506824,
          18.64484617777771,
          16.836584904401818,
          21.705545054470797,
          19.837777574826184,
          20.819611169969818,
          15.875884304252708,
          18.38409448944928,
          28.195171515584665,
          19.366503080896734,
          22.61083428184196,
          21.545843324052164,
          18.640807231778144,
          29.998766183444296,
          18.25749427522026,
          19.456112224499627,
          16.21477422861262,
          19.43850229097039,
          15.415316563928279,
          22.902243483378896,
          28.96733458936828,
          19.278257807031327,
          21.649440461849924,
          18.779067511241138,
          15.233691890322017,
          29.30280247965086,
          25.944684346596578,
          21.686699147578206,
          23.54203058566855,
          19.58713292433168,
          14.396679981061633,
          18.21830962056403,
          24.068727199970407,
          17.05802726597824,
          19.99941817128612,
          19.427031383398987,
          16.62972380423468,
          17.601140830823827,
          23.294006198704366,
          24.51851295352857,
          24.839770374410875,
          20.253997516113884,
          20.78142926587708,
          18.38349369891874,
          17.786954916752148,
          26.46717972622246,
          30.11623631617616,
          19.294281395617677,
          22.633355866041235,
          21.742349116953257,
          24.20185550307685,
          19.805906658202694,
          25.669111725502315,
          18.83823086924646,
          16.85592305112086,
          21.653648145082574,
          17.554211459596853,
          20.792185458416633,
          20.386206899893658,
          21.515078334899016,
          16.055861371627643,
          16.78084787951161,
          17.00385938987977,
          25.508190143112017,
          23.255982284250244,
          19.155575090984428,
          21.99621267198972,
          23.6693218702216,
          20.165020331065477,
          23.61022944633974,
          19.615260453803366,
          24.30807182964548,
          17.764846040180295,
          25.527273571842265,
          24.807681281619764,
          21.958462821194434,
          29.508611390319974,
          15.822543992927969,
          23.24081205466434,
          19.894614078630056,
          20.81850739201837,
          19.978970872818394,
          19.583762478707776,
          19.2533352102288,
          18.22477214911522,
          22.603197041215857,
          20.40467556622056,
          21.829862479635665,
          16.96900601579253,
          18.83817928079303,
          26.061887938985734,
          19.300102292779368,
          17.908509135380328,
          17.272822240378687,
          16.977955537702687,
          19.245098253831607,
          20.72746559407343,
          22.452079414495604,
          19.933976068594937,
          26.7759548908943,
          15.585216686733785,
          31.798619613671015,
          27.454098008307007,
          20.582349424101864,
          19.523845714330527,
          21.49982427407629,
          15.240742312290388,
          22.806166437427585,
          19.39273365994553,
          17.890585372092747,
          16.716183902659623,
          18.29209185655926,
          17.236652285969605,
          22.02839096981488,
          21.823799761598536,
          17.962682385276025,
          18.591997031519973,
          24.868151547111907,
          13.536815461692486,
          21.00358204344757,
          21.51292989076567,
          24.36953732238499,
          18.92404073820633,
          26.21966477523587,
          16.872174488709845,
          19.064449461802674,
          17.906128543206556,
          24.75360046103646,
          29.219592453791826,
          25.437476345336258,
          17.085365922016265,
          19.429692487788266,
          17.926741354629026,
          26.558546101520214,
          22.020345320599144,
          18.34967746769727,
          15.87785326355851,
          19.597073374451416,
          20.856881678052012,
          21.863710953640528,
          20.547197266888524,
          21.833875631408517,
          15.738014162468758,
          18.561227743329045,
          26.98649704216535,
          20.852210773497966,
          17.932404262152097,
          19.847893210735684,
          13.9978646942489,
          21.917937941508548,
          28.15791927841306,
          18.99350566550538,
          21.86620332079673,
          29.63357152163379,
          16.114042399498956,
          19.36409132069902,
          21.045390185912453,
          34.594441875280395,
          21.497230879532133,
          26.594892316478504
         ]
        }
       ],
       "layout": {
        "annotations": [
         {
          "font": {
           "size": 15
          },
          "showarrow": false,
          "text": "$ R^2 = 0.896, y = 0.000107 * x + 11.54$",
          "x": 50000,
          "y": 48
         }
        ],
        "plot_bgcolor": "rgb(240, 240, 240)",
        "template": {
         "data": {
          "bar": [
           {
            "error_x": {
             "color": "#2a3f5f"
            },
            "error_y": {
             "color": "#2a3f5f"
            },
            "marker": {
             "line": {
              "color": "#E5ECF6",
              "width": 0.5
             }
            },
            "type": "bar"
           }
          ],
          "barpolar": [
           {
            "marker": {
             "line": {
              "color": "#E5ECF6",
              "width": 0.5
             }
            },
            "type": "barpolar"
           }
          ],
          "carpet": [
           {
            "aaxis": {
             "endlinecolor": "#2a3f5f",
             "gridcolor": "white",
             "linecolor": "white",
             "minorgridcolor": "white",
             "startlinecolor": "#2a3f5f"
            },
            "baxis": {
             "endlinecolor": "#2a3f5f",
             "gridcolor": "white",
             "linecolor": "white",
             "minorgridcolor": "white",
             "startlinecolor": "#2a3f5f"
            },
            "type": "carpet"
           }
          ],
          "choropleth": [
           {
            "colorbar": {
             "outlinewidth": 0,
             "ticks": ""
            },
            "type": "choropleth"
           }
          ],
          "contour": [
           {
            "colorbar": {
             "outlinewidth": 0,
             "ticks": ""
            },
            "colorscale": [
             [
              0,
              "#0d0887"
             ],
             [
              0.1111111111111111,
              "#46039f"
             ],
             [
              0.2222222222222222,
              "#7201a8"
             ],
             [
              0.3333333333333333,
              "#9c179e"
             ],
             [
              0.4444444444444444,
              "#bd3786"
             ],
             [
              0.5555555555555556,
              "#d8576b"
             ],
             [
              0.6666666666666666,
              "#ed7953"
             ],
             [
              0.7777777777777778,
              "#fb9f3a"
             ],
             [
              0.8888888888888888,
              "#fdca26"
             ],
             [
              1,
              "#f0f921"
             ]
            ],
            "type": "contour"
           }
          ],
          "contourcarpet": [
           {
            "colorbar": {
             "outlinewidth": 0,
             "ticks": ""
            },
            "type": "contourcarpet"
           }
          ],
          "heatmap": [
           {
            "colorbar": {
             "outlinewidth": 0,
             "ticks": ""
            },
            "colorscale": [
             [
              0,
              "#0d0887"
             ],
             [
              0.1111111111111111,
              "#46039f"
             ],
             [
              0.2222222222222222,
              "#7201a8"
             ],
             [
              0.3333333333333333,
              "#9c179e"
             ],
             [
              0.4444444444444444,
              "#bd3786"
             ],
             [
              0.5555555555555556,
              "#d8576b"
             ],
             [
              0.6666666666666666,
              "#ed7953"
             ],
             [
              0.7777777777777778,
              "#fb9f3a"
             ],
             [
              0.8888888888888888,
              "#fdca26"
             ],
             [
              1,
              "#f0f921"
             ]
            ],
            "type": "heatmap"
           }
          ],
          "heatmapgl": [
           {
            "colorbar": {
             "outlinewidth": 0,
             "ticks": ""
            },
            "colorscale": [
             [
              0,
              "#0d0887"
             ],
             [
              0.1111111111111111,
              "#46039f"
             ],
             [
              0.2222222222222222,
              "#7201a8"
             ],
             [
              0.3333333333333333,
              "#9c179e"
             ],
             [
              0.4444444444444444,
              "#bd3786"
             ],
             [
              0.5555555555555556,
              "#d8576b"
             ],
             [
              0.6666666666666666,
              "#ed7953"
             ],
             [
              0.7777777777777778,
              "#fb9f3a"
             ],
             [
              0.8888888888888888,
              "#fdca26"
             ],
             [
              1,
              "#f0f921"
             ]
            ],
            "type": "heatmapgl"
           }
          ],
          "histogram": [
           {
            "marker": {
             "colorbar": {
              "outlinewidth": 0,
              "ticks": ""
             }
            },
            "type": "histogram"
           }
          ],
          "histogram2d": [
           {
            "colorbar": {
             "outlinewidth": 0,
             "ticks": ""
            },
            "colorscale": [
             [
              0,
              "#0d0887"
             ],
             [
              0.1111111111111111,
              "#46039f"
             ],
             [
              0.2222222222222222,
              "#7201a8"
             ],
             [
              0.3333333333333333,
              "#9c179e"
             ],
             [
              0.4444444444444444,
              "#bd3786"
             ],
             [
              0.5555555555555556,
              "#d8576b"
             ],
             [
              0.6666666666666666,
              "#ed7953"
             ],
             [
              0.7777777777777778,
              "#fb9f3a"
             ],
             [
              0.8888888888888888,
              "#fdca26"
             ],
             [
              1,
              "#f0f921"
             ]
            ],
            "type": "histogram2d"
           }
          ],
          "histogram2dcontour": [
           {
            "colorbar": {
             "outlinewidth": 0,
             "ticks": ""
            },
            "colorscale": [
             [
              0,
              "#0d0887"
             ],
             [
              0.1111111111111111,
              "#46039f"
             ],
             [
              0.2222222222222222,
              "#7201a8"
             ],
             [
              0.3333333333333333,
              "#9c179e"
             ],
             [
              0.4444444444444444,
              "#bd3786"
             ],
             [
              0.5555555555555556,
              "#d8576b"
             ],
             [
              0.6666666666666666,
              "#ed7953"
             ],
             [
              0.7777777777777778,
              "#fb9f3a"
             ],
             [
              0.8888888888888888,
              "#fdca26"
             ],
             [
              1,
              "#f0f921"
             ]
            ],
            "type": "histogram2dcontour"
           }
          ],
          "mesh3d": [
           {
            "colorbar": {
             "outlinewidth": 0,
             "ticks": ""
            },
            "type": "mesh3d"
           }
          ],
          "parcoords": [
           {
            "line": {
             "colorbar": {
              "outlinewidth": 0,
              "ticks": ""
             }
            },
            "type": "parcoords"
           }
          ],
          "scatter": [
           {
            "marker": {
             "colorbar": {
              "outlinewidth": 0,
              "ticks": ""
             }
            },
            "type": "scatter"
           }
          ],
          "scatter3d": [
           {
            "line": {
             "colorbar": {
              "outlinewidth": 0,
              "ticks": ""
             }
            },
            "marker": {
             "colorbar": {
              "outlinewidth": 0,
              "ticks": ""
             }
            },
            "type": "scatter3d"
           }
          ],
          "scattercarpet": [
           {
            "marker": {
             "colorbar": {
              "outlinewidth": 0,
              "ticks": ""
             }
            },
            "type": "scattercarpet"
           }
          ],
          "scattergeo": [
           {
            "marker": {
             "colorbar": {
              "outlinewidth": 0,
              "ticks": ""
             }
            },
            "type": "scattergeo"
           }
          ],
          "scattergl": [
           {
            "marker": {
             "colorbar": {
              "outlinewidth": 0,
              "ticks": ""
             }
            },
            "type": "scattergl"
           }
          ],
          "scattermapbox": [
           {
            "marker": {
             "colorbar": {
              "outlinewidth": 0,
              "ticks": ""
             }
            },
            "type": "scattermapbox"
           }
          ],
          "scatterpolar": [
           {
            "marker": {
             "colorbar": {
              "outlinewidth": 0,
              "ticks": ""
             }
            },
            "type": "scatterpolar"
           }
          ],
          "scatterpolargl": [
           {
            "marker": {
             "colorbar": {
              "outlinewidth": 0,
              "ticks": ""
             }
            },
            "type": "scatterpolargl"
           }
          ],
          "scatterternary": [
           {
            "marker": {
             "colorbar": {
              "outlinewidth": 0,
              "ticks": ""
             }
            },
            "type": "scatterternary"
           }
          ],
          "surface": [
           {
            "colorbar": {
             "outlinewidth": 0,
             "ticks": ""
            },
            "colorscale": [
             [
              0,
              "#0d0887"
             ],
             [
              0.1111111111111111,
              "#46039f"
             ],
             [
              0.2222222222222222,
              "#7201a8"
             ],
             [
              0.3333333333333333,
              "#9c179e"
             ],
             [
              0.4444444444444444,
              "#bd3786"
             ],
             [
              0.5555555555555556,
              "#d8576b"
             ],
             [
              0.6666666666666666,
              "#ed7953"
             ],
             [
              0.7777777777777778,
              "#fb9f3a"
             ],
             [
              0.8888888888888888,
              "#fdca26"
             ],
             [
              1,
              "#f0f921"
             ]
            ],
            "type": "surface"
           }
          ],
          "table": [
           {
            "cells": {
             "fill": {
              "color": "#EBF0F8"
             },
             "line": {
              "color": "white"
             }
            },
            "header": {
             "fill": {
              "color": "#C8D4E3"
             },
             "line": {
              "color": "white"
             }
            },
            "type": "table"
           }
          ]
         },
         "layout": {
          "annotationdefaults": {
           "arrowcolor": "#2a3f5f",
           "arrowhead": 0,
           "arrowwidth": 1
          },
          "colorscale": {
           "diverging": [
            [
             0,
             "#8e0152"
            ],
            [
             0.1,
             "#c51b7d"
            ],
            [
             0.2,
             "#de77ae"
            ],
            [
             0.3,
             "#f1b6da"
            ],
            [
             0.4,
             "#fde0ef"
            ],
            [
             0.5,
             "#f7f7f7"
            ],
            [
             0.6,
             "#e6f5d0"
            ],
            [
             0.7,
             "#b8e186"
            ],
            [
             0.8,
             "#7fbc41"
            ],
            [
             0.9,
             "#4d9221"
            ],
            [
             1,
             "#276419"
            ]
           ],
           "sequential": [
            [
             0,
             "#0d0887"
            ],
            [
             0.1111111111111111,
             "#46039f"
            ],
            [
             0.2222222222222222,
             "#7201a8"
            ],
            [
             0.3333333333333333,
             "#9c179e"
            ],
            [
             0.4444444444444444,
             "#bd3786"
            ],
            [
             0.5555555555555556,
             "#d8576b"
            ],
            [
             0.6666666666666666,
             "#ed7953"
            ],
            [
             0.7777777777777778,
             "#fb9f3a"
            ],
            [
             0.8888888888888888,
             "#fdca26"
            ],
            [
             1,
             "#f0f921"
            ]
           ],
           "sequentialminus": [
            [
             0,
             "#0d0887"
            ],
            [
             0.1111111111111111,
             "#46039f"
            ],
            [
             0.2222222222222222,
             "#7201a8"
            ],
            [
             0.3333333333333333,
             "#9c179e"
            ],
            [
             0.4444444444444444,
             "#bd3786"
            ],
            [
             0.5555555555555556,
             "#d8576b"
            ],
            [
             0.6666666666666666,
             "#ed7953"
            ],
            [
             0.7777777777777778,
             "#fb9f3a"
            ],
            [
             0.8888888888888888,
             "#fdca26"
            ],
            [
             1,
             "#f0f921"
            ]
           ]
          },
          "colorway": [
           "#636efa",
           "#EF553B",
           "#00cc96",
           "#ab63fa",
           "#FFA15A",
           "#19d3f3",
           "#FF6692",
           "#B6E880",
           "#FF97FF",
           "#FECB52"
          ],
          "font": {
           "color": "#2a3f5f"
          },
          "geo": {
           "bgcolor": "white",
           "lakecolor": "white",
           "landcolor": "#E5ECF6",
           "showlakes": true,
           "showland": true,
           "subunitcolor": "white"
          },
          "hoverlabel": {
           "align": "left"
          },
          "hovermode": "closest",
          "mapbox": {
           "style": "light"
          },
          "paper_bgcolor": "white",
          "plot_bgcolor": "#E5ECF6",
          "polar": {
           "angularaxis": {
            "gridcolor": "white",
            "linecolor": "white",
            "ticks": ""
           },
           "bgcolor": "#E5ECF6",
           "radialaxis": {
            "gridcolor": "white",
            "linecolor": "white",
            "ticks": ""
           }
          },
          "scene": {
           "xaxis": {
            "backgroundcolor": "#E5ECF6",
            "gridcolor": "white",
            "gridwidth": 2,
            "linecolor": "white",
            "showbackground": true,
            "ticks": "",
            "zerolinecolor": "white"
           },
           "yaxis": {
            "backgroundcolor": "#E5ECF6",
            "gridcolor": "white",
            "gridwidth": 2,
            "linecolor": "white",
            "showbackground": true,
            "ticks": "",
            "zerolinecolor": "white"
           },
           "zaxis": {
            "backgroundcolor": "#E5ECF6",
            "gridcolor": "white",
            "gridwidth": 2,
            "linecolor": "white",
            "showbackground": true,
            "ticks": "",
            "zerolinecolor": "white"
           }
          },
          "shapedefaults": {
           "line": {
            "color": "#2a3f5f"
           }
          },
          "ternary": {
           "aaxis": {
            "gridcolor": "white",
            "linecolor": "white",
            "ticks": ""
           },
           "baxis": {
            "gridcolor": "white",
            "linecolor": "white",
            "ticks": ""
           },
           "bgcolor": "#E5ECF6",
           "caxis": {
            "gridcolor": "white",
            "linecolor": "white",
            "ticks": ""
           }
          },
          "title": {
           "x": 0.05
          },
          "xaxis": {
           "automargin": true,
           "gridcolor": "white",
           "linecolor": "white",
           "ticks": "",
           "zerolinecolor": "white",
           "zerolinewidth": 2
          },
          "yaxis": {
           "automargin": true,
           "gridcolor": "white",
           "linecolor": "white",
           "ticks": "",
           "zerolinecolor": "white",
           "zerolinewidth": 2
          }
         }
        },
        "title": {
         "text": "Linear Fit between Customer Lifetime Value & Revenue"
        },
        "xaxis": {
         "gridcolor": "rgb(255,255,255)",
         "title": {
          "text": "Customer Lifetime Value"
         },
         "zerolinecolor": "rgb(255,255,255)"
        },
        "yaxis": {
         "gridcolor": "rgb(255,255,255)",
         "title": {
          "text": "Revenue"
         },
         "zerolinecolor": "rgb(255,255,255)"
        }
       }
      },
      "text/html": [
       "<div>\n",
       "        \n",
       "        \n",
       "            <div id=\"24e1f369-9958-4634-93e4-b9c4a648b825\" class=\"plotly-graph-div\" style=\"height:525px; width:100%;\"></div>\n",
       "            <script type=\"text/javascript\">\n",
       "                require([\"plotly\"], function(Plotly) {\n",
       "                    window.PLOTLYENV=window.PLOTLYENV || {};\n",
       "                    \n",
       "                if (document.getElementById(\"24e1f369-9958-4634-93e4-b9c4a648b825\")) {\n",
       "                    Plotly.newPlot(\n",
       "                        '24e1f369-9958-4634-93e4-b9c4a648b825',\n",
       "                        [{\"marker\": {\"color\": \"rgb(93, 151, 201)\"}, \"mode\": \"markers\", \"name\": \"Data\", \"type\": \"scatter\", \"x\": [105016.12, 113909.91, 147541.7, 62092.55, 66770.95, 176214.34, 105160.23, 214986.4, 78496.37, 68073.72, 73143.65, 90293.52, 74093.33, 96229.75, 100340.86, 48557.77, 97360.03, 137206.47, 157982.06, 77124.5, 60204.13, 219886.85, 107771.7, 124702.55, 49056.18, 83512.24, 85142.49, 102885.98, 115012.02, 75678.17, 98169.96, 56591.89, 77522.97, 70121.31, 42555.48, 62735.61, 68399.04, 96327.4, 46481.97, 78309.13, 26850.36, 81898.75, 97772.15, 67975.93, 102369.64, 125642.89, 35921.05, 167175.44, 96750.49, 48056.52, 82026.77, 27247.18, 191114.83, 114272.9, 107360.95, 54194.05, 72124.08, 63545.64, 93674.9, 223736.0, 98332.1, 52685.21, 141440.02, 46684.62, 48616.4, 73344.72, 200664.79, 125351.86, 66694.47, 46383.42, 86224.46, 68733.99, 97670.47, 96729.21, 115927.04, 20301.1, 106121.66, 66225.53, 120028.35, 156641.1, 89330.94, 83969.46, 76006.73, 58242.53, 102088.92, 101044.01, 152533.48, 57947.81, 98108.85, 69387.5, 110175.01, 75222.65, 97321.45, 55002.04, 77372.27, 172434.21, 47711.31, 75577.35, 77399.35, 44224.5, 101048.16, 59385.23, 104463.69, 104799.51, 64721.97, 59943.93, 235799.22, 88124.21, 122507.97, 97385.37, 113037.14, 190314.45, 59195.8, 46289.46, 90054.83, 81813.75, 104636.48, 101978.05, 43166.48, 91107.0, 78016.92, 103713.53, 123883.59, 122691.62, 41546.61, 92572.52, 112972.27, 79175.41, 72851.83, 106498.57, 64210.78, 122410.52, 147924.42, 131462.12, 121395.43, 238036.57, 56061.59, 132472.46, 86439.67, 83717.71, 165367.14, 66442.09, 49617.29, 94920.08, 77541.61, 86676.99, 40678.54, 64015.95, 155302.21, 73156.68, 103343.26, 93434.15, 66404.51, 172083.59, 62838.01, 73990.44, 43831.71, 73826.59, 36393.23, 106054.65, 162486.73, 72335.61, 94398.06, 67690.94, 34703.32, 165608.06, 134362.76, 94744.73, 112007.49, 75209.51, 26915.42, 62473.42, 116908.09, 51677.68, 79045.58, 73719.86, 47692.57, 56731.03, 109699.77, 121093.08, 124082.19, 81414.29, 86321.73, 64010.36, 58459.92, 139224.27, 173176.58, 72484.7, 103552.81, 95262.52, 118146.77, 77245.07, 131798.72, 68241.42, 49797.22, 94437.21, 56294.38, 86421.81, 82644.42, 93147.9, 42353.12, 49098.69, 51173.68, 130301.44, 109345.98, 71194.12, 97624.57, 113191.86, 80586.41, 112642.04, 75471.22, 119135.05, 58254.21, 130479.0, 123783.62, 97273.33, 167522.99, 40182.24, 109204.83, 78070.44, 86666.72, 78855.33, 75178.15, 72103.72, 62533.55, 103272.2, 82816.26, 96076.78, 50849.39, 68240.94, 135453.27, 72538.86, 59590.91, 53676.22, 50932.66, 72027.08, 85819.63, 101866.14, 78436.68, 142097.24, 37974.05, 188830.16, 148406.96, 84469.41, 74620.66, 93005.97, 34768.92, 105160.71, 73400.74, 59424.14, 48497.03, 63159.92, 53339.68, 97923.97, 96020.37, 60094.96, 65950.36, 124346.26, 18914.89, 88388.73, 93127.91, 119706.95, 69039.83, 136921.29, 49948.43, 70346.25, 59568.76, 123280.43, 164833.84, 129643.49, 51932.05, 73744.62, 59760.55, 140074.38, 97849.11, 63695.72, 40696.86, 75302.0, 87023.77, 96391.72, 84142.34, 96114.12, 39395.74, 65664.07, 144056.21, 86980.31, 59813.24, 77635.73, 23204.68, 96896.27, 154955.6, 69686.16, 96414.91, 168685.67, 42894.46, 73134.24, 88777.73, 214843.63, 92981.84, 140412.56], \"y\": [23.89, 23.66, 21.57, 11.62, 16.05, 48.4, 20.03, 21.7, 24.02, 12.05, 21.74, 18.12, 23.54, 29.32, 26.97, 14.9, 23.5, 40.06, 22.52, 16.57, 16.04, 27.45, 27.18, 21.83, 14.27, 19.22, 18.77, 20.56, 11.29, 17.08, 19.08, 22.63, 21.95, 35.23, 11.98, 22.97, 20.04, 17.41, 16.92, 26.67, 9.27, 18.57, 21.45, 17.15, 25.88, 24.48, 12.39, 24.54, 22.74, 26.92, 21.46, 9.38, 32.69, 36.33, 23.42, 16.57, 23.96, 11.21, 33.93, 25.48, 19.99, 19.34, 22.53, 11.75, 15.21, 20.23, 21.0, 35.75, 19.46, 12.18, 18.4, 18.69, 19.94, 27.12, 27.0, 7.72, 23.86, 17.63, 25.66, 30.75, 22.77, 16.54, 16.47, 15.38, 20.33, 23.59, 27.2, 12.88, 15.03, 35.35, 22.99, 25.21, 21.55, 9.62, 19.03, 29.5, 15.92, 12.91, 20.26, 10.59, 17.61, 22.03, 24.02, 24.03, 22.81, 13.15, 30.81, 15.67, 28.17, 19.97, 17.79, 22.5, 20.83, 15.28, 21.05, 23.92, 20.84, 23.52, 12.52, 20.41, 22.7, 21.73, 33.55, 23.33, 12.69, 30.21, 35.48, 28.27, 20.66, 26.52, 15.47, 21.88, 30.47, 21.6, 37.04, 25.06, 11.64, 19.64, 21.92, 27.22, 23.15, 16.2, 15.52, 23.32, 20.34, 30.57, 11.64, 17.24, 32.71, 34.89, 25.45, 22.18, 19.36, 22.16, 20.18, 20.73, 14.23, 21.75, 10.43, 17.06, 38.11, 22.67, 35.02, 14.62, 10.09, 32.93, 32.33, 18.53, 22.25, 22.34, 7.37, 18.67, 24.04, 15.9, 22.7, 15.45, 14.18, 18.27, 31.3, 22.03, 22.96, 19.28, 25.07, 18.06, 20.52, 26.99, 41.59, 18.3, 26.29, 19.51, 22.12, 19.84, 42.52, 15.67, 14.35, 18.08, 29.27, 26.51, 36.53, 25.36, 10.63, 18.73, 17.1, 33.91, 36.61, 21.06, 13.71, 23.39, 16.57, 25.24, 18.72, 27.92, 9.03, 22.66, 26.74, 26.38, 26.43, 12.89, 25.81, 24.24, 22.34, 16.48, 19.62, 17.43, 19.38, 25.42, 19.4, 43.75, 18.63, 12.39, 33.68, 22.1, 23.6, 16.73, 15.78, 18.8, 21.32, 18.28, 19.92, 27.55, 8.16, 33.3, 18.77, 34.2, 22.74, 25.01, 10.05, 15.57, 25.73, 18.9, 16.74, 21.1, 17.66, 19.13, 18.14, 16.92, 26.49, 45.69, 7.14, 20.02, 16.96, 19.58, 20.98, 25.99, 11.8, 17.57, 16.79, 22.0, 30.82, 22.54, 12.47, 16.5, 16.53, 28.11, 21.87, 15.14, 10.48, 19.63, 21.46, 17.63, 18.25, 16.77, 9.7, 19.14, 17.39, 21.54, 15.77, 15.46, 7.04, 18.12, 17.86, 19.41, 20.75, 22.47, 10.41, 16.64, 17.93, 31.81, 19.86, 25.73]}, {\"marker\": {\"color\": \"rgb(235, 120, 179)\"}, \"mode\": \"lines\", \"name\": \"Fit\", \"type\": \"scatter\", \"x\": [105016.12, 113909.91, 147541.7, 62092.55, 66770.95, 176214.34, 105160.23, 214986.4, 78496.37, 68073.72, 73143.65, 90293.52, 74093.33, 96229.75, 100340.86, 48557.77, 97360.03, 137206.47, 157982.06, 77124.5, 60204.13, 219886.85, 107771.7, 124702.55, 49056.18, 83512.24, 85142.49, 102885.98, 115012.02, 75678.17, 98169.96, 56591.89, 77522.97, 70121.31, 42555.48, 62735.61, 68399.04, 96327.4, 46481.97, 78309.13, 26850.36, 81898.75, 97772.15, 67975.93, 102369.64, 125642.89, 35921.05, 167175.44, 96750.49, 48056.52, 82026.77, 27247.18, 191114.83, 114272.9, 107360.95, 54194.05, 72124.08, 63545.64, 93674.9, 223736.0, 98332.1, 52685.21, 141440.02, 46684.62, 48616.4, 73344.72, 200664.79, 125351.86, 66694.47, 46383.42, 86224.46, 68733.99, 97670.47, 96729.21, 115927.04, 20301.1, 106121.66, 66225.53, 120028.35, 156641.1, 89330.94, 83969.46, 76006.73, 58242.53, 102088.92, 101044.01, 152533.48, 57947.81, 98108.85, 69387.5, 110175.01, 75222.65, 97321.45, 55002.04, 77372.27, 172434.21, 47711.31, 75577.35, 77399.35, 44224.5, 101048.16, 59385.23, 104463.69, 104799.51, 64721.97, 59943.93, 235799.22, 88124.21, 122507.97, 97385.37, 113037.14, 190314.45, 59195.8, 46289.46, 90054.83, 81813.75, 104636.48, 101978.05, 43166.48, 91107.0, 78016.92, 103713.53, 123883.59, 122691.62, 41546.61, 92572.52, 112972.27, 79175.41, 72851.83, 106498.57, 64210.78, 122410.52, 147924.42, 131462.12, 121395.43, 238036.57, 56061.59, 132472.46, 86439.67, 83717.71, 165367.14, 66442.09, 49617.29, 94920.08, 77541.61, 86676.99, 40678.54, 64015.95, 155302.21, 73156.68, 103343.26, 93434.15, 66404.51, 172083.59, 62838.01, 73990.44, 43831.71, 73826.59, 36393.23, 106054.65, 162486.73, 72335.61, 94398.06, 67690.94, 34703.32, 165608.06, 134362.76, 94744.73, 112007.49, 75209.51, 26915.42, 62473.42, 116908.09, 51677.68, 79045.58, 73719.86, 47692.57, 56731.03, 109699.77, 121093.08, 124082.19, 81414.29, 86321.73, 64010.36, 58459.92, 139224.27, 173176.58, 72484.7, 103552.81, 95262.52, 118146.77, 77245.07, 131798.72, 68241.42, 49797.22, 94437.21, 56294.38, 86421.81, 82644.42, 93147.9, 42353.12, 49098.69, 51173.68, 130301.44, 109345.98, 71194.12, 97624.57, 113191.86, 80586.41, 112642.04, 75471.22, 119135.05, 58254.21, 130479.0, 123783.62, 97273.33, 167522.99, 40182.24, 109204.83, 78070.44, 86666.72, 78855.33, 75178.15, 72103.72, 62533.55, 103272.2, 82816.26, 96076.78, 50849.39, 68240.94, 135453.27, 72538.86, 59590.91, 53676.22, 50932.66, 72027.08, 85819.63, 101866.14, 78436.68, 142097.24, 37974.05, 188830.16, 148406.96, 84469.41, 74620.66, 93005.97, 34768.92, 105160.71, 73400.74, 59424.14, 48497.03, 63159.92, 53339.68, 97923.97, 96020.37, 60094.96, 65950.36, 124346.26, 18914.89, 88388.73, 93127.91, 119706.95, 69039.83, 136921.29, 49948.43, 70346.25, 59568.76, 123280.43, 164833.84, 129643.49, 51932.05, 73744.62, 59760.55, 140074.38, 97849.11, 63695.72, 40696.86, 75302.0, 87023.77, 96391.72, 84142.34, 96114.12, 39395.74, 65664.07, 144056.21, 86980.31, 59813.24, 77635.73, 23204.68, 96896.27, 154955.6, 69686.16, 96414.91, 168685.67, 42894.46, 73134.24, 88777.73, 214843.63, 92981.84, 140412.56], \"y\": [22.790626490592114, 23.74649497227022, 27.361103372447968, 18.177375257529064, 18.680190716931957, 30.442722441765195, 22.806114848974158, 34.60978621589662, 19.940391307730486, 18.820207153330365, 19.36510266933808, 21.208301148038036, 19.467170424443616, 21.846303074887217, 22.288148505655393, 16.722711991537047, 21.967780985594704, 26.250314765128252, 28.483190925827664, 19.79294828355747, 17.974415534152353, 35.136466708806786, 23.086785054122686, 24.90644415142763, 16.776279077104974, 20.47947667417098, 20.65468933292003, 22.561687681877068, 23.864945285617203, 19.637502600546576, 22.054828977436827, 17.586186627886644, 19.835774223218095, 19.040273822815394, 16.077610203784957, 18.24648873848914, 18.855171227640586, 21.856798100881296, 16.499613425653727, 19.92026751185613, 14.389687596103368, 20.30606531225409, 22.012073971899664, 18.809697080704034, 22.50619355262175, 25.007508081210226, 15.364568572388254, 29.471258125760407, 21.902270098298956, 16.66883967428634, 20.31982438268688, 14.432336200455337, 32.044166680111246, 23.785507665415025, 23.042639309861883, 17.328476508791518, 19.255523420461667, 18.333547477925727, 21.5717181577242, 35.55015774111711, 22.072255127100725, 17.166312504481187, 26.705319550558123, 16.521393425834983, 16.72901330617128, 19.386712857526806, 33.07055765238366, 24.976229357041703, 18.671970956685904, 16.489021671309473, 20.770975080741966, 18.89117029529769, 22.001145817848688, 21.89998301019702, 23.96328792448152, 13.685799690911638, 22.90944544642921, 18.621571187206513, 24.404080090992224, 28.339069983103464, 21.104846953246646, 20.528616825579192, 19.67281489691743, 17.7635907211469, 22.476022905442463, 22.363720216128876, 27.897599643382083, 17.731915410742655, 22.04826112245989, 18.961406899879254, 23.345083066634988, 19.588545158244244, 21.9636345636505, 17.41531599730104, 19.81957759836088, 30.036449399153906, 16.63173790343723, 19.626666875807988, 19.822488046941725, 16.256989704907692, 22.36416624129913, 17.886403483086813, 22.731253554494742, 22.767346126223686, 18.459974655883876, 17.946450293357074, 36.84666370601497, 20.975152506571447, 24.670579592839992, 21.970504426031876, 23.65269319206693, 31.95814508354044, 17.866044314893692, 16.478923231551114, 21.182647714811957, 20.296929856959707, 22.749824322969054, 22.464107047460246, 16.14327800595988, 21.295730679483626, 19.88886196607293, 22.650629399863746, 24.81842565180541, 24.690317550073093, 15.96918094751619, 21.453238825872162, 23.645721227538147, 20.013371773178704, 19.33373903917329, 22.949954204723404, 18.40503402774345, 24.660106062034842, 27.402236565980516, 25.632935322536554, 24.55100830539042, 37.08712501075485, 17.529192134444152, 25.74152256844394, 20.7941049787879, 20.50155975651612, 29.27690937506824, 18.64484617777771, 16.836584904401818, 21.705545054470797, 19.837777574826184, 20.819611169969818, 15.875884304252708, 18.38409448944928, 28.195171515584665, 19.366503080896734, 22.61083428184196, 21.545843324052164, 18.640807231778144, 29.998766183444296, 18.25749427522026, 19.456112224499627, 16.21477422861262, 19.43850229097039, 15.415316563928279, 22.902243483378896, 28.96733458936828, 19.278257807031327, 21.649440461849924, 18.779067511241138, 15.233691890322017, 29.30280247965086, 25.944684346596578, 21.686699147578206, 23.54203058566855, 19.58713292433168, 14.396679981061633, 18.21830962056403, 24.068727199970407, 17.05802726597824, 19.99941817128612, 19.427031383398987, 16.62972380423468, 17.601140830823827, 23.294006198704366, 24.51851295352857, 24.839770374410875, 20.253997516113884, 20.78142926587708, 18.38349369891874, 17.786954916752148, 26.46717972622246, 30.11623631617616, 19.294281395617677, 22.633355866041235, 21.742349116953257, 24.20185550307685, 19.805906658202694, 25.669111725502315, 18.83823086924646, 16.85592305112086, 21.653648145082574, 17.554211459596853, 20.792185458416633, 20.386206899893658, 21.515078334899016, 16.055861371627643, 16.78084787951161, 17.00385938987977, 25.508190143112017, 23.255982284250244, 19.155575090984428, 21.99621267198972, 23.6693218702216, 20.165020331065477, 23.61022944633974, 19.615260453803366, 24.30807182964548, 17.764846040180295, 25.527273571842265, 24.807681281619764, 21.958462821194434, 29.508611390319974, 15.822543992927969, 23.24081205466434, 19.894614078630056, 20.81850739201837, 19.978970872818394, 19.583762478707776, 19.2533352102288, 18.22477214911522, 22.603197041215857, 20.40467556622056, 21.829862479635665, 16.96900601579253, 18.83817928079303, 26.061887938985734, 19.300102292779368, 17.908509135380328, 17.272822240378687, 16.977955537702687, 19.245098253831607, 20.72746559407343, 22.452079414495604, 19.933976068594937, 26.7759548908943, 15.585216686733785, 31.798619613671015, 27.454098008307007, 20.582349424101864, 19.523845714330527, 21.49982427407629, 15.240742312290388, 22.806166437427585, 19.39273365994553, 17.890585372092747, 16.716183902659623, 18.29209185655926, 17.236652285969605, 22.02839096981488, 21.823799761598536, 17.962682385276025, 18.591997031519973, 24.868151547111907, 13.536815461692486, 21.00358204344757, 21.51292989076567, 24.36953732238499, 18.92404073820633, 26.21966477523587, 16.872174488709845, 19.064449461802674, 17.906128543206556, 24.75360046103646, 29.219592453791826, 25.437476345336258, 17.085365922016265, 19.429692487788266, 17.926741354629026, 26.558546101520214, 22.020345320599144, 18.34967746769727, 15.87785326355851, 19.597073374451416, 20.856881678052012, 21.863710953640528, 20.547197266888524, 21.833875631408517, 15.738014162468758, 18.561227743329045, 26.98649704216535, 20.852210773497966, 17.932404262152097, 19.847893210735684, 13.9978646942489, 21.917937941508548, 28.15791927841306, 18.99350566550538, 21.86620332079673, 29.63357152163379, 16.114042399498956, 19.36409132069902, 21.045390185912453, 34.594441875280395, 21.497230879532133, 26.594892316478504]}],\n",
       "                        {\"annotations\": [{\"font\": {\"size\": 15}, \"showarrow\": false, \"text\": \"$ R^2 = 0.896, y = 0.000107 * x + 11.54$\", \"x\": 50000, \"y\": 48}], \"plot_bgcolor\": \"rgb(240, 240, 240)\", \"template\": {\"data\": {\"bar\": [{\"error_x\": {\"color\": \"#2a3f5f\"}, \"error_y\": {\"color\": \"#2a3f5f\"}, \"marker\": {\"line\": {\"color\": \"#E5ECF6\", \"width\": 0.5}}, \"type\": \"bar\"}], \"barpolar\": [{\"marker\": {\"line\": {\"color\": \"#E5ECF6\", \"width\": 0.5}}, \"type\": \"barpolar\"}], \"carpet\": [{\"aaxis\": {\"endlinecolor\": \"#2a3f5f\", \"gridcolor\": \"white\", \"linecolor\": \"white\", \"minorgridcolor\": \"white\", \"startlinecolor\": \"#2a3f5f\"}, \"baxis\": {\"endlinecolor\": \"#2a3f5f\", \"gridcolor\": \"white\", \"linecolor\": \"white\", \"minorgridcolor\": \"white\", \"startlinecolor\": \"#2a3f5f\"}, \"type\": \"carpet\"}], \"choropleth\": [{\"colorbar\": {\"outlinewidth\": 0, \"ticks\": \"\"}, \"type\": \"choropleth\"}], \"contour\": [{\"colorbar\": {\"outlinewidth\": 0, \"ticks\": \"\"}, \"colorscale\": [[0.0, \"#0d0887\"], [0.1111111111111111, \"#46039f\"], [0.2222222222222222, \"#7201a8\"], [0.3333333333333333, \"#9c179e\"], [0.4444444444444444, \"#bd3786\"], [0.5555555555555556, \"#d8576b\"], [0.6666666666666666, \"#ed7953\"], [0.7777777777777778, \"#fb9f3a\"], [0.8888888888888888, \"#fdca26\"], [1.0, \"#f0f921\"]], \"type\": \"contour\"}], \"contourcarpet\": [{\"colorbar\": {\"outlinewidth\": 0, \"ticks\": \"\"}, \"type\": \"contourcarpet\"}], \"heatmap\": [{\"colorbar\": {\"outlinewidth\": 0, \"ticks\": \"\"}, \"colorscale\": [[0.0, \"#0d0887\"], [0.1111111111111111, \"#46039f\"], [0.2222222222222222, \"#7201a8\"], [0.3333333333333333, \"#9c179e\"], [0.4444444444444444, \"#bd3786\"], [0.5555555555555556, \"#d8576b\"], [0.6666666666666666, \"#ed7953\"], [0.7777777777777778, \"#fb9f3a\"], [0.8888888888888888, \"#fdca26\"], [1.0, \"#f0f921\"]], \"type\": \"heatmap\"}], \"heatmapgl\": [{\"colorbar\": {\"outlinewidth\": 0, \"ticks\": \"\"}, \"colorscale\": [[0.0, \"#0d0887\"], [0.1111111111111111, \"#46039f\"], [0.2222222222222222, \"#7201a8\"], [0.3333333333333333, \"#9c179e\"], [0.4444444444444444, \"#bd3786\"], [0.5555555555555556, \"#d8576b\"], [0.6666666666666666, \"#ed7953\"], [0.7777777777777778, \"#fb9f3a\"], [0.8888888888888888, \"#fdca26\"], [1.0, \"#f0f921\"]], \"type\": \"heatmapgl\"}], \"histogram\": [{\"marker\": {\"colorbar\": {\"outlinewidth\": 0, \"ticks\": \"\"}}, \"type\": \"histogram\"}], \"histogram2d\": [{\"colorbar\": {\"outlinewidth\": 0, \"ticks\": \"\"}, \"colorscale\": [[0.0, \"#0d0887\"], [0.1111111111111111, \"#46039f\"], [0.2222222222222222, \"#7201a8\"], [0.3333333333333333, \"#9c179e\"], [0.4444444444444444, \"#bd3786\"], [0.5555555555555556, \"#d8576b\"], [0.6666666666666666, \"#ed7953\"], [0.7777777777777778, \"#fb9f3a\"], [0.8888888888888888, \"#fdca26\"], [1.0, \"#f0f921\"]], \"type\": \"histogram2d\"}], \"histogram2dcontour\": [{\"colorbar\": {\"outlinewidth\": 0, \"ticks\": \"\"}, \"colorscale\": [[0.0, \"#0d0887\"], [0.1111111111111111, \"#46039f\"], [0.2222222222222222, \"#7201a8\"], [0.3333333333333333, \"#9c179e\"], [0.4444444444444444, \"#bd3786\"], [0.5555555555555556, \"#d8576b\"], [0.6666666666666666, \"#ed7953\"], [0.7777777777777778, \"#fb9f3a\"], [0.8888888888888888, \"#fdca26\"], [1.0, \"#f0f921\"]], \"type\": \"histogram2dcontour\"}], \"mesh3d\": [{\"colorbar\": {\"outlinewidth\": 0, \"ticks\": \"\"}, \"type\": \"mesh3d\"}], \"parcoords\": [{\"line\": {\"colorbar\": {\"outlinewidth\": 0, \"ticks\": \"\"}}, \"type\": \"parcoords\"}], \"scatter\": [{\"marker\": {\"colorbar\": {\"outlinewidth\": 0, \"ticks\": \"\"}}, \"type\": \"scatter\"}], \"scatter3d\": [{\"line\": {\"colorbar\": {\"outlinewidth\": 0, \"ticks\": \"\"}}, \"marker\": {\"colorbar\": {\"outlinewidth\": 0, \"ticks\": \"\"}}, \"type\": \"scatter3d\"}], \"scattercarpet\": [{\"marker\": {\"colorbar\": {\"outlinewidth\": 0, \"ticks\": \"\"}}, \"type\": \"scattercarpet\"}], \"scattergeo\": [{\"marker\": {\"colorbar\": {\"outlinewidth\": 0, \"ticks\": \"\"}}, \"type\": \"scattergeo\"}], \"scattergl\": [{\"marker\": {\"colorbar\": {\"outlinewidth\": 0, \"ticks\": \"\"}}, \"type\": \"scattergl\"}], \"scattermapbox\": [{\"marker\": {\"colorbar\": {\"outlinewidth\": 0, \"ticks\": \"\"}}, \"type\": \"scattermapbox\"}], \"scatterpolar\": [{\"marker\": {\"colorbar\": {\"outlinewidth\": 0, \"ticks\": \"\"}}, \"type\": \"scatterpolar\"}], \"scatterpolargl\": [{\"marker\": {\"colorbar\": {\"outlinewidth\": 0, \"ticks\": \"\"}}, \"type\": \"scatterpolargl\"}], \"scatterternary\": [{\"marker\": {\"colorbar\": {\"outlinewidth\": 0, \"ticks\": \"\"}}, \"type\": \"scatterternary\"}], \"surface\": [{\"colorbar\": {\"outlinewidth\": 0, \"ticks\": \"\"}, \"colorscale\": [[0.0, \"#0d0887\"], [0.1111111111111111, \"#46039f\"], [0.2222222222222222, \"#7201a8\"], [0.3333333333333333, \"#9c179e\"], [0.4444444444444444, \"#bd3786\"], [0.5555555555555556, \"#d8576b\"], [0.6666666666666666, \"#ed7953\"], [0.7777777777777778, \"#fb9f3a\"], [0.8888888888888888, \"#fdca26\"], [1.0, \"#f0f921\"]], \"type\": \"surface\"}], \"table\": [{\"cells\": {\"fill\": {\"color\": \"#EBF0F8\"}, \"line\": {\"color\": \"white\"}}, \"header\": {\"fill\": {\"color\": \"#C8D4E3\"}, \"line\": {\"color\": \"white\"}}, \"type\": \"table\"}]}, \"layout\": {\"annotationdefaults\": {\"arrowcolor\": \"#2a3f5f\", \"arrowhead\": 0, \"arrowwidth\": 1}, \"colorscale\": {\"diverging\": [[0, \"#8e0152\"], [0.1, \"#c51b7d\"], [0.2, \"#de77ae\"], [0.3, \"#f1b6da\"], [0.4, \"#fde0ef\"], [0.5, \"#f7f7f7\"], [0.6, \"#e6f5d0\"], [0.7, \"#b8e186\"], [0.8, \"#7fbc41\"], [0.9, \"#4d9221\"], [1, \"#276419\"]], \"sequential\": [[0.0, \"#0d0887\"], [0.1111111111111111, \"#46039f\"], [0.2222222222222222, \"#7201a8\"], [0.3333333333333333, \"#9c179e\"], [0.4444444444444444, \"#bd3786\"], [0.5555555555555556, \"#d8576b\"], [0.6666666666666666, \"#ed7953\"], [0.7777777777777778, \"#fb9f3a\"], [0.8888888888888888, \"#fdca26\"], [1.0, \"#f0f921\"]], \"sequentialminus\": [[0.0, \"#0d0887\"], [0.1111111111111111, \"#46039f\"], [0.2222222222222222, \"#7201a8\"], [0.3333333333333333, \"#9c179e\"], [0.4444444444444444, \"#bd3786\"], [0.5555555555555556, \"#d8576b\"], [0.6666666666666666, \"#ed7953\"], [0.7777777777777778, \"#fb9f3a\"], [0.8888888888888888, \"#fdca26\"], [1.0, \"#f0f921\"]]}, \"colorway\": [\"#636efa\", \"#EF553B\", \"#00cc96\", \"#ab63fa\", \"#FFA15A\", \"#19d3f3\", \"#FF6692\", \"#B6E880\", \"#FF97FF\", \"#FECB52\"], \"font\": {\"color\": \"#2a3f5f\"}, \"geo\": {\"bgcolor\": \"white\", \"lakecolor\": \"white\", \"landcolor\": \"#E5ECF6\", \"showlakes\": true, \"showland\": true, \"subunitcolor\": \"white\"}, \"hoverlabel\": {\"align\": \"left\"}, \"hovermode\": \"closest\", \"mapbox\": {\"style\": \"light\"}, \"paper_bgcolor\": \"white\", \"plot_bgcolor\": \"#E5ECF6\", \"polar\": {\"angularaxis\": {\"gridcolor\": \"white\", \"linecolor\": \"white\", \"ticks\": \"\"}, \"bgcolor\": \"#E5ECF6\", \"radialaxis\": {\"gridcolor\": \"white\", \"linecolor\": \"white\", \"ticks\": \"\"}}, \"scene\": {\"xaxis\": {\"backgroundcolor\": \"#E5ECF6\", \"gridcolor\": \"white\", \"gridwidth\": 2, \"linecolor\": \"white\", \"showbackground\": true, \"ticks\": \"\", \"zerolinecolor\": \"white\"}, \"yaxis\": {\"backgroundcolor\": \"#E5ECF6\", \"gridcolor\": \"white\", \"gridwidth\": 2, \"linecolor\": \"white\", \"showbackground\": true, \"ticks\": \"\", \"zerolinecolor\": \"white\"}, \"zaxis\": {\"backgroundcolor\": \"#E5ECF6\", \"gridcolor\": \"white\", \"gridwidth\": 2, \"linecolor\": \"white\", \"showbackground\": true, \"ticks\": \"\", \"zerolinecolor\": \"white\"}}, \"shapedefaults\": {\"line\": {\"color\": \"#2a3f5f\"}}, \"ternary\": {\"aaxis\": {\"gridcolor\": \"white\", \"linecolor\": \"white\", \"ticks\": \"\"}, \"baxis\": {\"gridcolor\": \"white\", \"linecolor\": \"white\", \"ticks\": \"\"}, \"bgcolor\": \"#E5ECF6\", \"caxis\": {\"gridcolor\": \"white\", \"linecolor\": \"white\", \"ticks\": \"\"}}, \"title\": {\"x\": 0.05}, \"xaxis\": {\"automargin\": true, \"gridcolor\": \"white\", \"linecolor\": \"white\", \"ticks\": \"\", \"zerolinecolor\": \"white\", \"zerolinewidth\": 2}, \"yaxis\": {\"automargin\": true, \"gridcolor\": \"white\", \"linecolor\": \"white\", \"ticks\": \"\", \"zerolinecolor\": \"white\", \"zerolinewidth\": 2}}}, \"title\": {\"text\": \"Linear Fit between Customer Lifetime Value & Revenue\"}, \"xaxis\": {\"gridcolor\": \"rgb(255,255,255)\", \"title\": {\"text\": \"Customer Lifetime Value\"}, \"zerolinecolor\": \"rgb(255,255,255)\"}, \"yaxis\": {\"gridcolor\": \"rgb(255,255,255)\", \"title\": {\"text\": \"Revenue\"}, \"zerolinecolor\": \"rgb(255,255,255)\"}},\n",
       "                        {\"responsive\": true}\n",
       "                    ).then(function(){\n",
       "                            \n",
       "var gd = document.getElementById('24e1f369-9958-4634-93e4-b9c4a648b825');\n",
       "var x = new MutationObserver(function (mutations, observer) {{\n",
       "        var display = window.getComputedStyle(gd).display;\n",
       "        if (!display || display === 'none') {{\n",
       "            console.log([gd, 'removed!']);\n",
       "            Plotly.purge(gd);\n",
       "            observer.disconnect();\n",
       "        }}\n",
       "}});\n",
       "\n",
       "// Listen for the removal of the full notebook cells\n",
       "var notebookContainer = gd.closest('#notebook-container');\n",
       "if (notebookContainer) {{\n",
       "    x.observe(notebookContainer, {childList: true});\n",
       "}}\n",
       "\n",
       "// Listen for the clearing of the current output cell\n",
       "var outputEl = gd.closest('.output');\n",
       "if (outputEl) {{\n",
       "    x.observe(outputEl, {childList: true});\n",
       "}}\n",
       "\n",
       "                        })\n",
       "                };\n",
       "                });\n",
       "            </script>\n",
       "        </div>"
      ]
     },
     "metadata": {},
     "output_type": "display_data"
    }
   ],
   "source": [
    "# regplot cltv & revenue: is avg cltv predictor for avg revenue over time? \n",
    "x = result2.cltv\n",
    "y = result2.Revenue\n",
    "\n",
    "slope, intercept, r_value, p_value, std_err = stats.linregress(x,y)\n",
    "line = slope*x+intercept\n",
    "\n",
    "# line data (scatter dots)\n",
    "line1 = go.Scatter(x=x, y=y, mode='markers', marker=go.Marker(color='rgb(93, 151, 201)'), name='Data')\n",
    "\n",
    "# line fit (regression line)\n",
    "line2 = go.Scatter(x=x, y=line, mode='lines', marker=go.Marker(color='rgb(235, 120, 179)'), name='Fit')\n",
    "\n",
    "# text in plot \n",
    "annotation = go.Annotation(x=50000, y=48, text='$ R^2 = 0.896, y = 0.000107 * x + 11.54$',\n",
    "                           showarrow=False,font=go.Font(size=15))\n",
    "\n",
    "# layout setup \n",
    "layout = go.Layout(title='Linear Fit between Customer Lifetime Value & Revenue', \n",
    "                   plot_bgcolor='rgb(240, 240, 240)', #achtergrond kleur\n",
    "                   xaxis=go.XAxis(zerolinecolor='rgb(255,255,255)', gridcolor='rgb(255,255,255)'), #lijnen achtergrond\n",
    "                   yaxis=go.YAxis(zerolinecolor='rgb(255,255,255)', gridcolor='rgb(255,255,255)'), #lijnen achtergrond\n",
    "                   annotations=[annotation], \n",
    "                   xaxis_title=\"Customer Lifetime Value\",\n",
    "                   yaxis_title=\"Revenue\",) #text \n",
    "\n",
    "# plot regression \n",
    "data = [line1, line2]\n",
    "go.Figure(data=data, layout=layout) "
   ]
  },
  {
   "cell_type": "code",
   "execution_count": 28,
   "metadata": {},
   "outputs": [],
   "source": [
    "# PREDICTION MODEL CLTV "
   ]
  },
  {
   "cell_type": "code",
   "execution_count": 29,
   "metadata": {},
   "outputs": [
    {
     "data": {
      "text/plain": [
       "DatetimeIndex(['2010-12-01', '2010-12-02', '2010-12-03', '2010-12-04',\n",
       "               '2010-12-05', '2010-12-06', '2010-12-07', '2010-12-08',\n",
       "               '2010-12-09', '2010-12-10',\n",
       "               ...\n",
       "               '2011-11-30', '2011-12-01', '2011-12-02', '2011-12-03',\n",
       "               '2011-12-04', '2011-12-05', '2011-12-06', '2011-12-07',\n",
       "               '2011-12-08', '2011-12-09'],\n",
       "              dtype='datetime64[ns]', length=374, freq='D')"
      ]
     },
     "execution_count": 29,
     "metadata": {},
     "output_type": "execute_result"
    }
   ],
   "source": [
    "# step 1: set Date to index (for empty date, fill in the mean cltv) \n",
    "result2.index = pd.DatetimeIndex(result2.Date) \n",
    "result3 = result2.reindex(pd.date_range(min(result2.Date),max(result2.Date)), fill_value=(result2['cltv'].mean())) \n",
    "result3 = pd.DataFrame(result3['cltv']) \n",
    "\n",
    "result3.index \n",
    "\n",
    "# I made a df with all the days within the time period of the dataset (date.max, date.min) \n",
    "# filled the dates which were empty with mean value of cltv over time (on dates there were no orders for example)\n",
    "# checked the freq of the index >> in this example, it should be 'D' (days) "
   ]
  },
  {
   "cell_type": "code",
   "execution_count": 30,
   "metadata": {},
   "outputs": [
    {
     "data": {
      "image/png": "[encoded data removed]",
      "text/plain": [
       "<Figure size 432x288 with 4 Axes>"
      ]
     },
     "metadata": {
      "needs_background": "light"
     },
     "output_type": "display_data"
    }
   ],
   "source": [
    "# step 2: decompose the time series and evaluate the patterns in the data\n",
    "res = sm.tsa.seasonal_decompose(result3.cltv)  \n",
    "resplot = res.plot() \n",
    "\n",
    "# you can see a seasonal trend: probably per week "
   ]
  },
  {
   "cell_type": "code",
   "execution_count": 31,
   "metadata": {},
   "outputs": [],
   "source": [
    "# MODDELING THE DATA "
   ]
  },
  {
   "cell_type": "code",
   "execution_count": 32,
   "metadata": {},
   "outputs": [
    {
     "data": {
      "image/png": "[encoded data removed]",
      "text/plain": [
       "<Figure size 432x288 with 1 Axes>"
      ]
     },
     "metadata": {
      "needs_background": "light"
     },
     "output_type": "display_data"
    }
   ],
   "source": [
    "# step 3: check for autocorrelation (line in diagonal = autocorrelation)\n",
    "lag_plot(result3.cltv); \n",
    "\n",
    "# conclusion: there is no diagonal, so if you make a model the fit would not be very good\n",
    "# but: let's try anyway and check the RMSE score afterwords "
   ]
  },
  {
   "cell_type": "code",
   "execution_count": 33,
   "metadata": {},
   "outputs": [
    {
     "data": {
      "text/plain": [
       "5.985087544567146e-06"
      ]
     },
     "execution_count": 33,
     "metadata": {},
     "output_type": "execute_result"
    }
   ],
   "source": [
    "# step 4: check for stationarity (p<0.05 = stationary)\n",
    "adfuller(result3.cltv)[1] \n",
    "\n",
    "# conclusion: stationary "
   ]
  },
  {
   "cell_type": "code",
   "execution_count": 34,
   "metadata": {},
   "outputs": [],
   "source": [
    "# step 5: ARMA mmodel \n",
    "train, test = result3.cltv[:-75], result3.cltv[-75:] # train=80% of total, test=20% of total\n",
    "\n",
    "model = ARMA(result3.cltv, order=(14,1)) # compare with steps of 14 days = lowest RMSE\n",
    "model_fit = model.fit(disp=False)\n",
    "\n",
    "predictions = model_fit.predict(start=len(train), end=len(train)+len(test)-1, dynamic=False) "
   ]
  },
  {
   "cell_type": "code",
   "execution_count": 35,
   "metadata": {},
   "outputs": [
    {
     "name": "stdout",
     "output_type": "stream",
     "text": [
      "RMSE score: 33856.98 \n",
      "This is 14.0 % of the maximum value of cltv \n",
      "Conclusion: not a very good prediction model based on this dataset\n"
     ]
    }
   ],
   "source": [
    "# check RMSE score for prediction \n",
    "compare_data = pd.DataFrame({'observed':test, 'predicted':predictions}) # df with test values and prediction values\n",
    "\n",
    "RMSE = rmse(compare_data.observed, compare_data.predicted) # this nr should be as low as possible, \n",
    "                                                        # but it depends on the range of your variable (cltv)\n",
    "print('RMSE score:', round(RMSE,2), '\\nThis is', round((round(RMSE,2)/round(result3.cltv.max(),2))*100), \n",
    "      '% of the maximum value of cltv \\nConclusion: not a very good prediction model based on this dataset') "
   ]
  },
  {
   "cell_type": "code",
   "execution_count": 36,
   "metadata": {},
   "outputs": [],
   "source": [
    "# PRODUCT CATEGORIES: UNIT PRICE CATEGORIES"
   ]
  },
  {
   "cell_type": "code",
   "execution_count": 37,
   "metadata": {},
   "outputs": [
    {
     "data": {
      "text/html": [
       "<div>\n",
       "<style scoped>\n",
       "    .dataframe tbody tr th:only-of-type {\n",
       "        vertical-align: middle;\n",
       "    }\n",
       "\n",
       "    .dataframe tbody tr th {\n",
       "        vertical-align: top;\n",
       "    }\n",
       "\n",
       "    .dataframe thead th {\n",
       "        text-align: right;\n",
       "    }\n",
       "</style>\n",
       "<table border=\"1\" class=\"dataframe\">\n",
       "  <thead>\n",
       "    <tr style=\"text-align: right;\">\n",
       "      <th></th>\n",
       "      <th>InvoiceNo</th>\n",
       "      <th>StockCode</th>\n",
       "      <th>Description</th>\n",
       "      <th>Quantity</th>\n",
       "      <th>UnitPrice</th>\n",
       "      <th>CustomerID</th>\n",
       "      <th>Country</th>\n",
       "      <th>Date</th>\n",
       "      <th>Revenue</th>\n",
       "      <th>PriceCategory</th>\n",
       "    </tr>\n",
       "  </thead>\n",
       "  <tbody>\n",
       "    <tr>\n",
       "      <th>0</th>\n",
       "      <td>536365</td>\n",
       "      <td>85123A</td>\n",
       "      <td>WHITE HANGING HEART T-LIGHT HOLDER</td>\n",
       "      <td>6</td>\n",
       "      <td>2.55</td>\n",
       "      <td>17850</td>\n",
       "      <td>United Kingdom</td>\n",
       "      <td>2010-12-01</td>\n",
       "      <td>15.30</td>\n",
       "      <td>High</td>\n",
       "    </tr>\n",
       "    <tr>\n",
       "      <th>1</th>\n",
       "      <td>536365</td>\n",
       "      <td>71053</td>\n",
       "      <td>WHITE METAL LANTERN</td>\n",
       "      <td>6</td>\n",
       "      <td>3.39</td>\n",
       "      <td>17850</td>\n",
       "      <td>United Kingdom</td>\n",
       "      <td>2010-12-01</td>\n",
       "      <td>20.34</td>\n",
       "      <td>High</td>\n",
       "    </tr>\n",
       "    <tr>\n",
       "      <th>2</th>\n",
       "      <td>536365</td>\n",
       "      <td>84406B</td>\n",
       "      <td>CREAM CUPID HEARTS COAT HANGER</td>\n",
       "      <td>8</td>\n",
       "      <td>2.75</td>\n",
       "      <td>17850</td>\n",
       "      <td>United Kingdom</td>\n",
       "      <td>2010-12-01</td>\n",
       "      <td>22.00</td>\n",
       "      <td>High</td>\n",
       "    </tr>\n",
       "    <tr>\n",
       "      <th>3</th>\n",
       "      <td>536365</td>\n",
       "      <td>84029G</td>\n",
       "      <td>KNITTED UNION FLAG HOT WATER BOTTLE</td>\n",
       "      <td>6</td>\n",
       "      <td>3.39</td>\n",
       "      <td>17850</td>\n",
       "      <td>United Kingdom</td>\n",
       "      <td>2010-12-01</td>\n",
       "      <td>20.34</td>\n",
       "      <td>High</td>\n",
       "    </tr>\n",
       "    <tr>\n",
       "      <th>4</th>\n",
       "      <td>536365</td>\n",
       "      <td>84029E</td>\n",
       "      <td>RED WOOLLY HOTTIE WHITE HEART.</td>\n",
       "      <td>6</td>\n",
       "      <td>3.39</td>\n",
       "      <td>17850</td>\n",
       "      <td>United Kingdom</td>\n",
       "      <td>2010-12-01</td>\n",
       "      <td>20.34</td>\n",
       "      <td>High</td>\n",
       "    </tr>\n",
       "  </tbody>\n",
       "</table>\n",
       "</div>"
      ],
      "text/plain": [
       "  InvoiceNo StockCode                          Description  Quantity  \\\n",
       "0    536365    85123A   WHITE HANGING HEART T-LIGHT HOLDER         6   \n",
       "1    536365     71053                  WHITE METAL LANTERN         6   \n",
       "2    536365    84406B       CREAM CUPID HEARTS COAT HANGER         8   \n",
       "3    536365    84029G  KNITTED UNION FLAG HOT WATER BOTTLE         6   \n",
       "4    536365    84029E       RED WOOLLY HOTTIE WHITE HEART.         6   \n",
       "\n",
       "   UnitPrice CustomerID         Country       Date  Revenue PriceCategory  \n",
       "0       2.55      17850  United Kingdom 2010-12-01    15.30          High  \n",
       "1       3.39      17850  United Kingdom 2010-12-01    20.34          High  \n",
       "2       2.75      17850  United Kingdom 2010-12-01    22.00          High  \n",
       "3       3.39      17850  United Kingdom 2010-12-01    20.34          High  \n",
       "4       3.39      17850  United Kingdom 2010-12-01    20.34          High  "
      ]
     },
     "execution_count": 37,
     "metadata": {},
     "output_type": "execute_result"
    }
   ],
   "source": [
    "# copy df \n",
    "data5 = data4.copy()\n",
    "\n",
    "# make column with price categories: very low, low, medium, high, very high \n",
    "data5['PriceCategory'] = pd.qcut(data5.UnitPrice, 5, labels=[\"Very Low\", \"Low\", \"Medium\", \"High\", \"Very High\"])\n",
    "data5.head() "
   ]
  },
  {
   "cell_type": "code",
   "execution_count": 38,
   "metadata": {},
   "outputs": [
    {
     "data": {
      "application/vnd.plotly.v1+json": {
       "config": {
        "linkText": "Export to plot.ly",
        "plotlyServerURL": "https://plot.ly",
        "showLink": true
       },
       "data": [
        {
         "marker": {
          "color": "rgba(235, 120, 179, 0.6)",
          "line": {
           "color": "rgba(235, 120, 179, 1.0)",
           "width": 1
          }
         },
         "name": "Revenue",
         "orientation": "v",
         "text": "",
         "type": "bar",
         "x": [
          "Very Low",
          "Low",
          "Medium",
          "High",
          "Very High"
         ],
         "y": [
          1029895.8539999065,
          1836040.4499998223,
          1259543.6700000053,
          1990354.6799996714,
          2406429.7999999076
         ]
        }
       ],
       "layout": {
        "legend": {
         "bgcolor": "#F5F6F9",
         "font": {
          "color": "#4D5663"
         }
        },
        "paper_bgcolor": "#F5F6F9",
        "plot_bgcolor": "#F5F6F9",
        "template": {
         "data": {
          "bar": [
           {
            "error_x": {
             "color": "#2a3f5f"
            },
            "error_y": {
             "color": "#2a3f5f"
            },
            "marker": {
             "line": {
              "color": "#E5ECF6",
              "width": 0.5
             }
            },
            "type": "bar"
           }
          ],
          "barpolar": [
           {
            "marker": {
             "line": {
              "color": "#E5ECF6",
              "width": 0.5
             }
            },
            "type": "barpolar"
           }
          ],
          "carpet": [
           {
            "aaxis": {
             "endlinecolor": "#2a3f5f",
             "gridcolor": "white",
             "linecolor": "white",
             "minorgridcolor": "white",
             "startlinecolor": "#2a3f5f"
            },
            "baxis": {
             "endlinecolor": "#2a3f5f",
             "gridcolor": "white",
             "linecolor": "white",
             "minorgridcolor": "white",
             "startlinecolor": "#2a3f5f"
            },
            "type": "carpet"
           }
          ],
          "choropleth": [
           {
            "colorbar": {
             "outlinewidth": 0,
             "ticks": ""
            },
            "type": "choropleth"
           }
          ],
          "contour": [
           {
            "colorbar": {
             "outlinewidth": 0,
             "ticks": ""
            },
            "colorscale": [
             [
              0,
              "#0d0887"
             ],
             [
              0.1111111111111111,
              "#46039f"
             ],
             [
              0.2222222222222222,
              "#7201a8"
             ],
             [
              0.3333333333333333,
              "#9c179e"
             ],
             [
              0.4444444444444444,
              "#bd3786"
             ],
             [
              0.5555555555555556,
              "#d8576b"
             ],
             [
              0.6666666666666666,
              "#ed7953"
             ],
             [
              0.7777777777777778,
              "#fb9f3a"
             ],
             [
              0.8888888888888888,
              "#fdca26"
             ],
             [
              1,
              "#f0f921"
             ]
            ],
            "type": "contour"
           }
          ],
          "contourcarpet": [
           {
            "colorbar": {
             "outlinewidth": 0,
             "ticks": ""
            },
            "type": "contourcarpet"
           }
          ],
          "heatmap": [
           {
            "colorbar": {
             "outlinewidth": 0,
             "ticks": ""
            },
            "colorscale": [
             [
              0,
              "#0d0887"
             ],
             [
              0.1111111111111111,
              "#46039f"
             ],
             [
              0.2222222222222222,
              "#7201a8"
             ],
             [
              0.3333333333333333,
              "#9c179e"
             ],
             [
              0.4444444444444444,
              "#bd3786"
             ],
             [
              0.5555555555555556,
              "#d8576b"
             ],
             [
              0.6666666666666666,
              "#ed7953"
             ],
             [
              0.7777777777777778,
              "#fb9f3a"
             ],
             [
              0.8888888888888888,
              "#fdca26"
             ],
             [
              1,
              "#f0f921"
             ]
            ],
            "type": "heatmap"
           }
          ],
          "heatmapgl": [
           {
            "colorbar": {
             "outlinewidth": 0,
             "ticks": ""
            },
            "colorscale": [
             [
              0,
              "#0d0887"
             ],
             [
              0.1111111111111111,
              "#46039f"
             ],
             [
              0.2222222222222222,
              "#7201a8"
             ],
             [
              0.3333333333333333,
              "#9c179e"
             ],
             [
              0.4444444444444444,
              "#bd3786"
             ],
             [
              0.5555555555555556,
              "#d8576b"
             ],
             [
              0.6666666666666666,
              "#ed7953"
             ],
             [
              0.7777777777777778,
              "#fb9f3a"
             ],
             [
              0.8888888888888888,
              "#fdca26"
             ],
             [
              1,
              "#f0f921"
             ]
            ],
            "type": "heatmapgl"
           }
          ],
          "histogram": [
           {
            "marker": {
             "colorbar": {
              "outlinewidth": 0,
              "ticks": ""
             }
            },
            "type": "histogram"
           }
          ],
          "histogram2d": [
           {
            "colorbar": {
             "outlinewidth": 0,
             "ticks": ""
            },
            "colorscale": [
             [
              0,
              "#0d0887"
             ],
             [
              0.1111111111111111,
              "#46039f"
             ],
             [
              0.2222222222222222,
              "#7201a8"
             ],
             [
              0.3333333333333333,
              "#9c179e"
             ],
             [
              0.4444444444444444,
              "#bd3786"
             ],
             [
              0.5555555555555556,
              "#d8576b"
             ],
             [
              0.6666666666666666,
              "#ed7953"
             ],
             [
              0.7777777777777778,
              "#fb9f3a"
             ],
             [
              0.8888888888888888,
              "#fdca26"
             ],
             [
              1,
              "#f0f921"
             ]
            ],
            "type": "histogram2d"
           }
          ],
          "histogram2dcontour": [
           {
            "colorbar": {
             "outlinewidth": 0,
             "ticks": ""
            },
            "colorscale": [
             [
              0,
              "#0d0887"
             ],
             [
              0.1111111111111111,
              "#46039f"
             ],
             [
              0.2222222222222222,
              "#7201a8"
             ],
             [
              0.3333333333333333,
              "#9c179e"
             ],
             [
              0.4444444444444444,
              "#bd3786"
             ],
             [
              0.5555555555555556,
              "#d8576b"
             ],
             [
              0.6666666666666666,
              "#ed7953"
             ],
             [
              0.7777777777777778,
              "#fb9f3a"
             ],
             [
              0.8888888888888888,
              "#fdca26"
             ],
             [
              1,
              "#f0f921"
             ]
            ],
            "type": "histogram2dcontour"
           }
          ],
          "mesh3d": [
           {
            "colorbar": {
             "outlinewidth": 0,
             "ticks": ""
            },
            "type": "mesh3d"
           }
          ],
          "parcoords": [
           {
            "line": {
             "colorbar": {
              "outlinewidth": 0,
              "ticks": ""
             }
            },
            "type": "parcoords"
           }
          ],
          "scatter": [
           {
            "marker": {
             "colorbar": {
              "outlinewidth": 0,
              "ticks": ""
             }
            },
            "type": "scatter"
           }
          ],
          "scatter3d": [
           {
            "line": {
             "colorbar": {
              "outlinewidth": 0,
              "ticks": ""
             }
            },
            "marker": {
             "colorbar": {
              "outlinewidth": 0,
              "ticks": ""
             }
            },
            "type": "scatter3d"
           }
          ],
          "scattercarpet": [
           {
            "marker": {
             "colorbar": {
              "outlinewidth": 0,
              "ticks": ""
             }
            },
            "type": "scattercarpet"
           }
          ],
          "scattergeo": [
           {
            "marker": {
             "colorbar": {
              "outlinewidth": 0,
              "ticks": ""
             }
            },
            "type": "scattergeo"
           }
          ],
          "scattergl": [
           {
            "marker": {
             "colorbar": {
              "outlinewidth": 0,
              "ticks": ""
             }
            },
            "type": "scattergl"
           }
          ],
          "scattermapbox": [
           {
            "marker": {
             "colorbar": {
              "outlinewidth": 0,
              "ticks": ""
             }
            },
            "type": "scattermapbox"
           }
          ],
          "scatterpolar": [
           {
            "marker": {
             "colorbar": {
              "outlinewidth": 0,
              "ticks": ""
             }
            },
            "type": "scatterpolar"
           }
          ],
          "scatterpolargl": [
           {
            "marker": {
             "colorbar": {
              "outlinewidth": 0,
              "ticks": ""
             }
            },
            "type": "scatterpolargl"
           }
          ],
          "scatterternary": [
           {
            "marker": {
             "colorbar": {
              "outlinewidth": 0,
              "ticks": ""
             }
            },
            "type": "scatterternary"
           }
          ],
          "surface": [
           {
            "colorbar": {
             "outlinewidth": 0,
             "ticks": ""
            },
            "colorscale": [
             [
              0,
              "#0d0887"
             ],
             [
              0.1111111111111111,
              "#46039f"
             ],
             [
              0.2222222222222222,
              "#7201a8"
             ],
             [
              0.3333333333333333,
              "#9c179e"
             ],
             [
              0.4444444444444444,
              "#bd3786"
             ],
             [
              0.5555555555555556,
              "#d8576b"
             ],
             [
              0.6666666666666666,
              "#ed7953"
             ],
             [
              0.7777777777777778,
              "#fb9f3a"
             ],
             [
              0.8888888888888888,
              "#fdca26"
             ],
             [
              1,
              "#f0f921"
             ]
            ],
            "type": "surface"
           }
          ],
          "table": [
           {
            "cells": {
             "fill": {
              "color": "#EBF0F8"
             },
             "line": {
              "color": "white"
             }
            },
            "header": {
             "fill": {
              "color": "#C8D4E3"
             },
             "line": {
              "color": "white"
             }
            },
            "type": "table"
           }
          ]
         },
         "layout": {
          "annotationdefaults": {
           "arrowcolor": "#2a3f5f",
           "arrowhead": 0,
           "arrowwidth": 1
          },
          "colorscale": {
           "diverging": [
            [
             0,
             "#8e0152"
            ],
            [
             0.1,
             "#c51b7d"
            ],
            [
             0.2,
             "#de77ae"
            ],
            [
             0.3,
             "#f1b6da"
            ],
            [
             0.4,
             "#fde0ef"
            ],
            [
             0.5,
             "#f7f7f7"
            ],
            [
             0.6,
             "#e6f5d0"
            ],
            [
             0.7,
             "#b8e186"
            ],
            [
             0.8,
             "#7fbc41"
            ],
            [
             0.9,
             "#4d9221"
            ],
            [
             1,
             "#276419"
            ]
           ],
           "sequential": [
            [
             0,
             "#0d0887"
            ],
            [
             0.1111111111111111,
             "#46039f"
            ],
            [
             0.2222222222222222,
             "#7201a8"
            ],
            [
             0.3333333333333333,
             "#9c179e"
            ],
            [
             0.4444444444444444,
             "#bd3786"
            ],
            [
             0.5555555555555556,
             "#d8576b"
            ],
            [
             0.6666666666666666,
             "#ed7953"
            ],
            [
             0.7777777777777778,
             "#fb9f3a"
            ],
            [
             0.8888888888888888,
             "#fdca26"
            ],
            [
             1,
             "#f0f921"
            ]
           ],
           "sequentialminus": [
            [
             0,
             "#0d0887"
            ],
            [
             0.1111111111111111,
             "#46039f"
            ],
            [
             0.2222222222222222,
             "#7201a8"
            ],
            [
             0.3333333333333333,
             "#9c179e"
            ],
            [
             0.4444444444444444,
             "#bd3786"
            ],
            [
             0.5555555555555556,
             "#d8576b"
            ],
            [
             0.6666666666666666,
             "#ed7953"
            ],
            [
             0.7777777777777778,
             "#fb9f3a"
            ],
            [
             0.8888888888888888,
             "#fdca26"
            ],
            [
             1,
             "#f0f921"
            ]
           ]
          },
          "colorway": [
           "#636efa",
           "#EF553B",
           "#00cc96",
           "#ab63fa",
           "#FFA15A",
           "#19d3f3",
           "#FF6692",
           "#B6E880",
           "#FF97FF",
           "#FECB52"
          ],
          "font": {
           "color": "#2a3f5f"
          },
          "geo": {
           "bgcolor": "white",
           "lakecolor": "white",
           "landcolor": "#E5ECF6",
           "showlakes": true,
           "showland": true,
           "subunitcolor": "white"
          },
          "hoverlabel": {
           "align": "left"
          },
          "hovermode": "closest",
          "mapbox": {
           "style": "light"
          },
          "paper_bgcolor": "white",
          "plot_bgcolor": "#E5ECF6",
          "polar": {
           "angularaxis": {
            "gridcolor": "white",
            "linecolor": "white",
            "ticks": ""
           },
           "bgcolor": "#E5ECF6",
           "radialaxis": {
            "gridcolor": "white",
            "linecolor": "white",
            "ticks": ""
           }
          },
          "scene": {
           "xaxis": {
            "backgroundcolor": "#E5ECF6",
            "gridcolor": "white",
            "gridwidth": 2,
            "linecolor": "white",
            "showbackground": true,
            "ticks": "",
            "zerolinecolor": "white"
           },
           "yaxis": {
            "backgroundcolor": "#E5ECF6",
            "gridcolor": "white",
            "gridwidth": 2,
            "linecolor": "white",
            "showbackground": true,
            "ticks": "",
            "zerolinecolor": "white"
           },
           "zaxis": {
            "backgroundcolor": "#E5ECF6",
            "gridcolor": "white",
            "gridwidth": 2,
            "linecolor": "white",
            "showbackground": true,
            "ticks": "",
            "zerolinecolor": "white"
           }
          },
          "shapedefaults": {
           "line": {
            "color": "#2a3f5f"
           }
          },
          "ternary": {
           "aaxis": {
            "gridcolor": "white",
            "linecolor": "white",
            "ticks": ""
           },
           "baxis": {
            "gridcolor": "white",
            "linecolor": "white",
            "ticks": ""
           },
           "bgcolor": "#E5ECF6",
           "caxis": {
            "gridcolor": "white",
            "linecolor": "white",
            "ticks": ""
           }
          },
          "title": {
           "x": 0.05
          },
          "xaxis": {
           "automargin": true,
           "gridcolor": "white",
           "linecolor": "white",
           "ticks": "",
           "zerolinecolor": "white",
           "zerolinewidth": 2
          },
          "yaxis": {
           "automargin": true,
           "gridcolor": "white",
           "linecolor": "white",
           "ticks": "",
           "zerolinecolor": "white",
           "zerolinewidth": 2
          }
         }
        },
        "title": {
         "font": {
          "color": "#4D5663"
         },
         "text": "Total Revenue by Product Category"
        },
        "xaxis": {
         "gridcolor": "#E1E5ED",
         "showgrid": true,
         "tickfont": {
          "color": "#4D5663"
         },
         "title": {
          "font": {
           "color": "#4D5663"
          },
          "text": "Product Category (Unit Price)"
         },
         "zerolinecolor": "#E1E5ED"
        },
        "yaxis": {
         "gridcolor": "#E1E5ED",
         "showgrid": true,
         "tickfont": {
          "color": "#4D5663"
         },
         "title": {
          "font": {
           "color": "#4D5663"
          },
          "text": "Total Revenue"
         },
         "zerolinecolor": "#E1E5ED"
        }
       }
      },
      "text/html": [
       "<div>\n",
       "        \n",
       "        \n",
       "            <div id=\"ff559700-f945-4713-879d-33f5a411647f\" class=\"plotly-graph-div\" style=\"height:525px; width:100%;\"></div>\n",
       "            <script type=\"text/javascript\">\n",
       "                require([\"plotly\"], function(Plotly) {\n",
       "                    window.PLOTLYENV=window.PLOTLYENV || {};\n",
       "                    window.PLOTLYENV.BASE_URL='https://plot.ly';\n",
       "                    \n",
       "                if (document.getElementById(\"ff559700-f945-4713-879d-33f5a411647f\")) {\n",
       "                    Plotly.newPlot(\n",
       "                        'ff559700-f945-4713-879d-33f5a411647f',\n",
       "                        [{\"marker\": {\"color\": \"rgba(235, 120, 179, 0.6)\", \"line\": {\"color\": \"rgba(235, 120, 179, 1.0)\", \"width\": 1}}, \"name\": \"Revenue\", \"orientation\": \"v\", \"text\": \"\", \"type\": \"bar\", \"x\": [\"Very Low\", \"Low\", \"Medium\", \"High\", \"Very High\"], \"y\": [1029895.8539999065, 1836040.4499998223, 1259543.6700000053, 1990354.6799996714, 2406429.7999999076]}],\n",
       "                        {\"legend\": {\"bgcolor\": \"#F5F6F9\", \"font\": {\"color\": \"#4D5663\"}}, \"paper_bgcolor\": \"#F5F6F9\", \"plot_bgcolor\": \"#F5F6F9\", \"template\": {\"data\": {\"bar\": [{\"error_x\": {\"color\": \"#2a3f5f\"}, \"error_y\": {\"color\": \"#2a3f5f\"}, \"marker\": {\"line\": {\"color\": \"#E5ECF6\", \"width\": 0.5}}, \"type\": \"bar\"}], \"barpolar\": [{\"marker\": {\"line\": {\"color\": \"#E5ECF6\", \"width\": 0.5}}, \"type\": \"barpolar\"}], \"carpet\": [{\"aaxis\": {\"endlinecolor\": \"#2a3f5f\", \"gridcolor\": \"white\", \"linecolor\": \"white\", \"minorgridcolor\": \"white\", \"startlinecolor\": \"#2a3f5f\"}, \"baxis\": {\"endlinecolor\": \"#2a3f5f\", \"gridcolor\": \"white\", \"linecolor\": \"white\", \"minorgridcolor\": \"white\", \"startlinecolor\": \"#2a3f5f\"}, \"type\": \"carpet\"}], \"choropleth\": [{\"colorbar\": {\"outlinewidth\": 0, \"ticks\": \"\"}, \"type\": \"choropleth\"}], \"contour\": [{\"colorbar\": {\"outlinewidth\": 0, \"ticks\": \"\"}, \"colorscale\": [[0.0, \"#0d0887\"], [0.1111111111111111, \"#46039f\"], [0.2222222222222222, \"#7201a8\"], [0.3333333333333333, \"#9c179e\"], [0.4444444444444444, \"#bd3786\"], [0.5555555555555556, \"#d8576b\"], [0.6666666666666666, \"#ed7953\"], [0.7777777777777778, \"#fb9f3a\"], [0.8888888888888888, \"#fdca26\"], [1.0, \"#f0f921\"]], \"type\": \"contour\"}], \"contourcarpet\": [{\"colorbar\": {\"outlinewidth\": 0, \"ticks\": \"\"}, \"type\": \"contourcarpet\"}], \"heatmap\": [{\"colorbar\": {\"outlinewidth\": 0, \"ticks\": \"\"}, \"colorscale\": [[0.0, \"#0d0887\"], [0.1111111111111111, \"#46039f\"], [0.2222222222222222, \"#7201a8\"], [0.3333333333333333, \"#9c179e\"], [0.4444444444444444, \"#bd3786\"], [0.5555555555555556, \"#d8576b\"], [0.6666666666666666, \"#ed7953\"], [0.7777777777777778, \"#fb9f3a\"], [0.8888888888888888, \"#fdca26\"], [1.0, \"#f0f921\"]], \"type\": \"heatmap\"}], \"heatmapgl\": [{\"colorbar\": {\"outlinewidth\": 0, \"ticks\": \"\"}, \"colorscale\": [[0.0, \"#0d0887\"], [0.1111111111111111, \"#46039f\"], [0.2222222222222222, \"#7201a8\"], [0.3333333333333333, \"#9c179e\"], [0.4444444444444444, \"#bd3786\"], [0.5555555555555556, \"#d8576b\"], [0.6666666666666666, \"#ed7953\"], [0.7777777777777778, \"#fb9f3a\"], [0.8888888888888888, \"#fdca26\"], [1.0, \"#f0f921\"]], \"type\": \"heatmapgl\"}], \"histogram\": [{\"marker\": {\"colorbar\": {\"outlinewidth\": 0, \"ticks\": \"\"}}, \"type\": \"histogram\"}], \"histogram2d\": [{\"colorbar\": {\"outlinewidth\": 0, \"ticks\": \"\"}, \"colorscale\": [[0.0, \"#0d0887\"], [0.1111111111111111, \"#46039f\"], [0.2222222222222222, \"#7201a8\"], [0.3333333333333333, \"#9c179e\"], [0.4444444444444444, \"#bd3786\"], [0.5555555555555556, \"#d8576b\"], [0.6666666666666666, \"#ed7953\"], [0.7777777777777778, \"#fb9f3a\"], [0.8888888888888888, \"#fdca26\"], [1.0, \"#f0f921\"]], \"type\": \"histogram2d\"}], \"histogram2dcontour\": [{\"colorbar\": {\"outlinewidth\": 0, \"ticks\": \"\"}, \"colorscale\": [[0.0, \"#0d0887\"], [0.1111111111111111, \"#46039f\"], [0.2222222222222222, \"#7201a8\"], [0.3333333333333333, \"#9c179e\"], [0.4444444444444444, \"#bd3786\"], [0.5555555555555556, \"#d8576b\"], [0.6666666666666666, \"#ed7953\"], [0.7777777777777778, \"#fb9f3a\"], [0.8888888888888888, \"#fdca26\"], [1.0, \"#f0f921\"]], \"type\": \"histogram2dcontour\"}], \"mesh3d\": [{\"colorbar\": {\"outlinewidth\": 0, \"ticks\": \"\"}, \"type\": \"mesh3d\"}], \"parcoords\": [{\"line\": {\"colorbar\": {\"outlinewidth\": 0, \"ticks\": \"\"}}, \"type\": \"parcoords\"}], \"scatter\": [{\"marker\": {\"colorbar\": {\"outlinewidth\": 0, \"ticks\": \"\"}}, \"type\": \"scatter\"}], \"scatter3d\": [{\"line\": {\"colorbar\": {\"outlinewidth\": 0, \"ticks\": \"\"}}, \"marker\": {\"colorbar\": {\"outlinewidth\": 0, \"ticks\": \"\"}}, \"type\": \"scatter3d\"}], \"scattercarpet\": [{\"marker\": {\"colorbar\": {\"outlinewidth\": 0, \"ticks\": \"\"}}, \"type\": \"scattercarpet\"}], \"scattergeo\": [{\"marker\": {\"colorbar\": {\"outlinewidth\": 0, \"ticks\": \"\"}}, \"type\": \"scattergeo\"}], \"scattergl\": [{\"marker\": {\"colorbar\": {\"outlinewidth\": 0, \"ticks\": \"\"}}, \"type\": \"scattergl\"}], \"scattermapbox\": [{\"marker\": {\"colorbar\": {\"outlinewidth\": 0, \"ticks\": \"\"}}, \"type\": \"scattermapbox\"}], \"scatterpolar\": [{\"marker\": {\"colorbar\": {\"outlinewidth\": 0, \"ticks\": \"\"}}, \"type\": \"scatterpolar\"}], \"scatterpolargl\": [{\"marker\": {\"colorbar\": {\"outlinewidth\": 0, \"ticks\": \"\"}}, \"type\": \"scatterpolargl\"}], \"scatterternary\": [{\"marker\": {\"colorbar\": {\"outlinewidth\": 0, \"ticks\": \"\"}}, \"type\": \"scatterternary\"}], \"surface\": [{\"colorbar\": {\"outlinewidth\": 0, \"ticks\": \"\"}, \"colorscale\": [[0.0, \"#0d0887\"], [0.1111111111111111, \"#46039f\"], [0.2222222222222222, \"#7201a8\"], [0.3333333333333333, \"#9c179e\"], [0.4444444444444444, \"#bd3786\"], [0.5555555555555556, \"#d8576b\"], [0.6666666666666666, \"#ed7953\"], [0.7777777777777778, \"#fb9f3a\"], [0.8888888888888888, \"#fdca26\"], [1.0, \"#f0f921\"]], \"type\": \"surface\"}], \"table\": [{\"cells\": {\"fill\": {\"color\": \"#EBF0F8\"}, \"line\": {\"color\": \"white\"}}, \"header\": {\"fill\": {\"color\": \"#C8D4E3\"}, \"line\": {\"color\": \"white\"}}, \"type\": \"table\"}]}, \"layout\": {\"annotationdefaults\": {\"arrowcolor\": \"#2a3f5f\", \"arrowhead\": 0, \"arrowwidth\": 1}, \"colorscale\": {\"diverging\": [[0, \"#8e0152\"], [0.1, \"#c51b7d\"], [0.2, \"#de77ae\"], [0.3, \"#f1b6da\"], [0.4, \"#fde0ef\"], [0.5, \"#f7f7f7\"], [0.6, \"#e6f5d0\"], [0.7, \"#b8e186\"], [0.8, \"#7fbc41\"], [0.9, \"#4d9221\"], [1, \"#276419\"]], \"sequential\": [[0.0, \"#0d0887\"], [0.1111111111111111, \"#46039f\"], [0.2222222222222222, \"#7201a8\"], [0.3333333333333333, \"#9c179e\"], [0.4444444444444444, \"#bd3786\"], [0.5555555555555556, \"#d8576b\"], [0.6666666666666666, \"#ed7953\"], [0.7777777777777778, \"#fb9f3a\"], [0.8888888888888888, \"#fdca26\"], [1.0, \"#f0f921\"]], \"sequentialminus\": [[0.0, \"#0d0887\"], [0.1111111111111111, \"#46039f\"], [0.2222222222222222, \"#7201a8\"], [0.3333333333333333, \"#9c179e\"], [0.4444444444444444, \"#bd3786\"], [0.5555555555555556, \"#d8576b\"], [0.6666666666666666, \"#ed7953\"], [0.7777777777777778, \"#fb9f3a\"], [0.8888888888888888, \"#fdca26\"], [1.0, \"#f0f921\"]]}, \"colorway\": [\"#636efa\", \"#EF553B\", \"#00cc96\", \"#ab63fa\", \"#FFA15A\", \"#19d3f3\", \"#FF6692\", \"#B6E880\", \"#FF97FF\", \"#FECB52\"], \"font\": {\"color\": \"#2a3f5f\"}, \"geo\": {\"bgcolor\": \"white\", \"lakecolor\": \"white\", \"landcolor\": \"#E5ECF6\", \"showlakes\": true, \"showland\": true, \"subunitcolor\": \"white\"}, \"hoverlabel\": {\"align\": \"left\"}, \"hovermode\": \"closest\", \"mapbox\": {\"style\": \"light\"}, \"paper_bgcolor\": \"white\", \"plot_bgcolor\": \"#E5ECF6\", \"polar\": {\"angularaxis\": {\"gridcolor\": \"white\", \"linecolor\": \"white\", \"ticks\": \"\"}, \"bgcolor\": \"#E5ECF6\", \"radialaxis\": {\"gridcolor\": \"white\", \"linecolor\": \"white\", \"ticks\": \"\"}}, \"scene\": {\"xaxis\": {\"backgroundcolor\": \"#E5ECF6\", \"gridcolor\": \"white\", \"gridwidth\": 2, \"linecolor\": \"white\", \"showbackground\": true, \"ticks\": \"\", \"zerolinecolor\": \"white\"}, \"yaxis\": {\"backgroundcolor\": \"#E5ECF6\", \"gridcolor\": \"white\", \"gridwidth\": 2, \"linecolor\": \"white\", \"showbackground\": true, \"ticks\": \"\", \"zerolinecolor\": \"white\"}, \"zaxis\": {\"backgroundcolor\": \"#E5ECF6\", \"gridcolor\": \"white\", \"gridwidth\": 2, \"linecolor\": \"white\", \"showbackground\": true, \"ticks\": \"\", \"zerolinecolor\": \"white\"}}, \"shapedefaults\": {\"line\": {\"color\": \"#2a3f5f\"}}, \"ternary\": {\"aaxis\": {\"gridcolor\": \"white\", \"linecolor\": \"white\", \"ticks\": \"\"}, \"baxis\": {\"gridcolor\": \"white\", \"linecolor\": \"white\", \"ticks\": \"\"}, \"bgcolor\": \"#E5ECF6\", \"caxis\": {\"gridcolor\": \"white\", \"linecolor\": \"white\", \"ticks\": \"\"}}, \"title\": {\"x\": 0.05}, \"xaxis\": {\"automargin\": true, \"gridcolor\": \"white\", \"linecolor\": \"white\", \"ticks\": \"\", \"zerolinecolor\": \"white\", \"zerolinewidth\": 2}, \"yaxis\": {\"automargin\": true, \"gridcolor\": \"white\", \"linecolor\": \"white\", \"ticks\": \"\", \"zerolinecolor\": \"white\", \"zerolinewidth\": 2}}}, \"title\": {\"font\": {\"color\": \"#4D5663\"}, \"text\": \"Total Revenue by Product Category\"}, \"xaxis\": {\"gridcolor\": \"#E1E5ED\", \"showgrid\": true, \"tickfont\": {\"color\": \"#4D5663\"}, \"title\": {\"font\": {\"color\": \"#4D5663\"}, \"text\": \"Product Category (Unit Price)\"}, \"zerolinecolor\": \"#E1E5ED\"}, \"yaxis\": {\"gridcolor\": \"#E1E5ED\", \"showgrid\": true, \"tickfont\": {\"color\": \"#4D5663\"}, \"title\": {\"font\": {\"color\": \"#4D5663\"}, \"text\": \"Total Revenue\"}, \"zerolinecolor\": \"#E1E5ED\"}},\n",
       "                        {\"showLink\": true, \"linkText\": \"Export to plot.ly\", \"plotlyServerURL\": \"https://plot.ly\", \"responsive\": true}\n",
       "                    ).then(function(){\n",
       "                            \n",
       "var gd = document.getElementById('ff559700-f945-4713-879d-33f5a411647f');\n",
       "var x = new MutationObserver(function (mutations, observer) {{\n",
       "        var display = window.getComputedStyle(gd).display;\n",
       "        if (!display || display === 'none') {{\n",
       "            console.log([gd, 'removed!']);\n",
       "            Plotly.purge(gd);\n",
       "            observer.disconnect();\n",
       "        }}\n",
       "}});\n",
       "\n",
       "// Listen for the removal of the full notebook cells\n",
       "var notebookContainer = gd.closest('#notebook-container');\n",
       "if (notebookContainer) {{\n",
       "    x.observe(notebookContainer, {childList: true});\n",
       "}}\n",
       "\n",
       "// Listen for the clearing of the current output cell\n",
       "var outputEl = gd.closest('.output');\n",
       "if (outputEl) {{\n",
       "    x.observe(outputEl, {childList: true});\n",
       "}}\n",
       "\n",
       "                        })\n",
       "                };\n",
       "                });\n",
       "            </script>\n",
       "        </div>"
      ]
     },
     "metadata": {},
     "output_type": "display_data"
    }
   ],
   "source": [
    "# Which product type (price category) performs the best (total revenue)? \n",
    "data6 = data5.groupby('PriceCategory')['Revenue'].sum().reset_index()\n",
    "\n",
    "data6.iplot(kind='bar', x='PriceCategory', xTitle='Product Category (Unit Price)', yTitle='Total Revenue', \n",
    "           title='Total Revenue by Product Category', color='rgb(235, 120, 179)') "
   ]
  },
  {
   "cell_type": "code",
   "execution_count": 39,
   "metadata": {},
   "outputs": [
    {
     "data": {
      "application/vnd.plotly.v1+json": {
       "config": {
        "linkText": "Export to plot.ly",
        "plotlyServerURL": "https://plot.ly",
        "showLink": true
       },
       "data": [
        {
         "line": {
          "color": "rgba(255, 153, 51, 1.0)",
          "dash": "solid",
          "shape": "linear",
          "width": 1.3
         },
         "mode": "lines",
         "name": "Very Low",
         "text": "",
         "type": "scatter",
         "x": [
          "2010-12-01",
          "2010-12-02",
          "2010-12-03",
          "2010-12-05",
          "2010-12-06",
          "2010-12-07",
          "2010-12-08",
          "2010-12-09",
          "2010-12-10",
          "2010-12-12",
          "2010-12-13",
          "2010-12-14",
          "2010-12-15",
          "2010-12-16",
          "2010-12-17",
          "2010-12-19",
          "2010-12-20",
          "2010-12-21",
          "2010-12-22",
          "2010-12-23",
          "2011-01-04",
          "2011-01-05",
          "2011-01-06",
          "2011-01-07",
          "2011-01-09",
          "2011-01-10",
          "2011-01-11",
          "2011-01-12",
          "2011-01-13",
          "2011-01-14",
          "2011-01-16",
          "2011-01-17",
          "2011-01-18",
          "2011-01-19",
          "2011-01-20",
          "2011-01-21",
          "2011-01-23",
          "2011-01-24",
          "2011-01-25",
          "2011-01-26",
          "2011-01-27",
          "2011-01-28",
          "2011-01-30",
          "2011-01-31",
          "2011-02-01",
          "2011-02-02",
          "2011-02-03",
          "2011-02-04",
          "2011-02-06",
          "2011-02-07",
          "2011-02-08",
          "2011-02-09",
          "2011-02-10",
          "2011-02-11",
          "2011-02-13",
          "2011-02-14",
          "2011-02-15",
          "2011-02-16",
          "2011-02-17",
          "2011-02-18",
          "2011-02-20",
          "2011-02-21",
          "2011-02-22",
          "2011-02-23",
          "2011-02-24",
          "2011-02-25",
          "2011-02-27",
          "2011-02-28",
          "2011-03-01",
          "2011-03-02",
          "2011-03-03",
          "2011-03-04",
          "2011-03-06",
          "2011-03-07",
          "2011-03-08",
          "2011-03-09",
          "2011-03-10",
          "2011-03-11",
          "2011-03-13",
          "2011-03-14",
          "2011-03-15",
          "2011-03-16",
          "2011-03-17",
          "2011-03-18",
          "2011-03-20",
          "2011-03-21",
          "2011-03-22",
          "2011-03-23",
          "2011-03-24",
          "2011-03-25",
          "2011-03-27",
          "2011-03-28",
          "2011-03-29",
          "2011-03-30",
          "2011-03-31",
          "2011-04-01",
          "2011-04-03",
          "2011-04-04",
          "2011-04-05",
          "2011-04-06",
          "2011-04-07",
          "2011-04-08",
          "2011-04-10",
          "2011-04-11",
          "2011-04-12",
          "2011-04-13",
          "2011-04-14",
          "2011-04-15",
          "2011-04-17",
          "2011-04-18",
          "2011-04-19",
          "2011-04-20",
          "2011-04-21",
          "2011-04-26",
          "2011-04-27",
          "2011-04-28",
          "2011-05-01",
          "2011-05-03",
          "2011-05-04",
          "2011-05-05",
          "2011-05-06",
          "2011-05-08",
          "2011-05-09",
          "2011-05-10",
          "2011-05-11",
          "2011-05-12",
          "2011-05-13",
          "2011-05-15",
          "2011-05-16",
          "2011-05-17",
          "2011-05-18",
          "2011-05-19",
          "2011-05-20",
          "2011-05-22",
          "2011-05-23",
          "2011-05-24",
          "2011-05-25",
          "2011-05-26",
          "2011-05-27",
          "2011-05-29",
          "2011-05-31",
          "2011-06-01",
          "2011-06-02",
          "2011-06-03",
          "2011-06-05",
          "2011-06-06",
          "2011-06-07",
          "2011-06-08",
          "2011-06-09",
          "2011-06-10",
          "2011-06-12",
          "2011-06-13",
          "2011-06-14",
          "2011-06-15",
          "2011-06-16",
          "2011-06-17",
          "2011-06-19",
          "2011-06-20",
          "2011-06-21",
          "2011-06-22",
          "2011-06-23",
          "2011-06-24",
          "2011-06-26",
          "2011-06-27",
          "2011-06-28",
          "2011-06-29",
          "2011-06-30",
          "2011-07-01",
          "2011-07-03",
          "2011-07-04",
          "2011-07-05",
          "2011-07-06",
          "2011-07-07",
          "2011-07-08",
          "2011-07-10",
          "2011-07-11",
          "2011-07-12",
          "2011-07-13",
          "2011-07-14",
          "2011-07-15",
          "2011-07-17",
          "2011-07-18",
          "2011-07-19",
          "2011-07-20",
          "2011-07-21",
          "2011-07-22",
          "2011-07-24",
          "2011-07-25",
          "2011-07-26",
          "2011-07-27",
          "2011-07-28",
          "2011-07-29",
          "2011-07-31",
          "2011-08-01",
          "2011-08-02",
          "2011-08-03",
          "2011-08-04",
          "2011-08-05",
          "2011-08-07",
          "2011-08-08",
          "2011-08-09",
          "2011-08-10",
          "2011-08-11",
          "2011-08-12",
          "2011-08-14",
          "2011-08-15",
          "2011-08-16",
          "2011-08-17",
          "2011-08-18",
          "2011-08-19",
          "2011-08-21",
          "2011-08-22",
          "2011-08-23",
          "2011-08-24",
          "2011-08-25",
          "2011-08-26",
          "2011-08-28",
          "2011-08-30",
          "2011-08-31",
          "2011-09-01",
          "2011-09-02",
          "2011-09-04",
          "2011-09-05",
          "2011-09-06",
          "2011-09-07",
          "2011-09-08",
          "2011-09-09",
          "2011-09-11",
          "2011-09-12",
          "2011-09-13",
          "2011-09-14",
          "2011-09-15",
          "2011-09-16",
          "2011-09-18",
          "2011-09-19",
          "2011-09-20",
          "2011-09-21",
          "2011-09-22",
          "2011-09-23",
          "2011-09-25",
          "2011-09-26",
          "2011-09-27",
          "2011-09-28",
          "2011-09-29",
          "2011-09-30",
          "2011-10-02",
          "2011-10-03",
          "2011-10-04",
          "2011-10-05",
          "2011-10-06",
          "2011-10-07",
          "2011-10-09",
          "2011-10-10",
          "2011-10-11",
          "2011-10-12",
          "2011-10-13",
          "2011-10-14",
          "2011-10-16",
          "2011-10-17",
          "2011-10-18",
          "2011-10-19",
          "2011-10-20",
          "2011-10-21",
          "2011-10-23",
          "2011-10-24",
          "2011-10-25",
          "2011-10-26",
          "2011-10-27",
          "2011-10-28",
          "2011-10-30",
          "2011-10-31",
          "2011-11-01",
          "2011-11-02",
          "2011-11-03",
          "2011-11-04",
          "2011-11-06",
          "2011-11-07",
          "2011-11-08",
          "2011-11-09",
          "2011-11-10",
          "2011-11-11",
          "2011-11-13",
          "2011-11-14",
          "2011-11-15",
          "2011-11-16",
          "2011-11-17",
          "2011-11-18",
          "2011-11-20",
          "2011-11-21",
          "2011-11-22",
          "2011-11-23",
          "2011-11-24",
          "2011-11-25",
          "2011-11-27",
          "2011-11-28",
          "2011-11-29",
          "2011-11-30",
          "2011-12-01",
          "2011-12-02",
          "2011-12-04",
          "2011-12-05",
          "2011-12-06",
          "2011-12-07",
          "2011-12-08",
          "2011-12-09"
         ],
         "y": [
          3625.709999999992,
          6781.85999999999,
          2071.630000000002,
          3282.759999999997,
          3169.819999999996,
          1425.7199999999993,
          4030.6799999999953,
          3268.119999999995,
          2629.029999999996,
          2172.2700000000004,
          3065.889999999995,
          4434.009999999998,
          4449.699999999995,
          5476.709999999992,
          3446.869999999999,
          527.2400000000002,
          3389.2000000000016,
          2198.6799999999994,
          588.91,
          611.7100000000002,
          1526.3600000000004,
          3685.449999999994,
          5050.769999999993,
          3121.299999999998,
          1625.9399999999994,
          1995.139999999999,
          1987.4999999999995,
          1535.8199999999997,
          1987.4399999999996,
          3583.7999999999984,
          745.4400000000005,
          1610.1199999999994,
          1337.1699999999998,
          3397.449999999997,
          1318.7799999999993,
          2119.8300000000013,
          902.39,
          2039.5200000000007,
          3159.1399999999967,
          2191.959999999998,
          2078.9999999999995,
          2065.430000000001,
          751.0200000000001,
          3032.769999999995,
          2880.8099999999995,
          1630.5799999999997,
          2846.8999999999974,
          2774.2099999999973,
          403.33,
          1153.1700000000005,
          1857.1599999999999,
          1056.8600000000001,
          2761.079999999996,
          1231.8099999999997,
          473.4300000000001,
          1736.7900000000004,
          5099.009999999997,
          3346.119999999999,
          2714.8199999999947,
          1631.6200000000003,
          1227.8199999999983,
          4454.270000000001,
          6807.159999999995,
          3209.399999999994,
          2314.0300000000007,
          1848.9200000000003,
          1122.770000000001,
          1926.1000000000001,
          2335.359999999999,
          1868.0899999999992,
          3447.509999999996,
          2240.3399999999983,
          1004.6599999999996,
          1898.9999999999998,
          3050.7499999999986,
          3047.2099999999987,
          3820.9199999999937,
          2014.9199999999996,
          750.42,
          4566.510000000004,
          1740.5699999999988,
          3100.609999999996,
          3363.9899999999966,
          3199.7699999999945,
          2867.729999999998,
          1911.359999999999,
          3460.9699999999975,
          3487.499999999998,
          2586.369999999995,
          1832.2000000000019,
          1014.7199999999999,
          2389.2000000000016,
          4395.759999999997,
          4241.919999999993,
          3269.769999999995,
          3805.509999999999,
          1208.5199999999982,
          2377.169999999998,
          2894.3099999999945,
          2002.4899999999989,
          2661.079999999998,
          2977.3299999999977,
          1308.1000000000004,
          3191.2799999999957,
          3195.6699999999964,
          4542.219999999999,
          3710.9499999999953,
          2993.0209999999993,
          1902.93,
          4301.779999999993,
          3419.369999999995,
          4417.949999999998,
          3833.399999999998,
          3520.6999999999966,
          3993.1599999999976,
          2796.3299999999986,
          788.8100000000002,
          2432.129999999999,
          4295.959999999993,
          4674.499999999995,
          4307.320000000001,
          2398.779999999997,
          2114.33,
          3696.3399999999965,
          4497.24,
          8842.980000000005,
          2392.439999999999,
          936.0399999999998,
          2444.3400000000015,
          4813.740000000004,
          3386.959999999997,
          3330.539999999997,
          3335.2199999999984,
          2778.7999999999947,
          3722.1399999999962,
          2351.5399999999963,
          2047.3699999999997,
          2275.330000000001,
          5355.249999999996,
          909.7900000000002,
          1953.5899999999995,
          1984.6200000000001,
          1714.2300000000002,
          1371.0199999999998,
          2460.2899999999972,
          1670.2099999999996,
          3719.499999999996,
          4278.6799999999985,
          5809.440000000002,
          1962.4399999999985,
          2744.5000000000005,
          2115.3399999999997,
          1919.8000000000006,
          6204.069999999997,
          5040.839999999998,
          2400.1399999999994,
          3134.3799999999974,
          2585.5600000000004,
          2898.1299999999974,
          4134.889999999994,
          3176.8099999999986,
          2082.5799999999995,
          920.6800000000003,
          1907.329999999999,
          4998.959999999995,
          1571.57,
          2460.7699999999986,
          1737.759999999999,
          626.4299999999996,
          1872.8100000000009,
          4916.129999999999,
          5025.259999999998,
          3576.7399999999984,
          1709.2999999999995,
          936.8399999999996,
          3551.3499999999985,
          3213.9299999999957,
          4276.449999999997,
          3821.1399999999985,
          1405.889999999999,
          2148.640000000001,
          3076.029999999997,
          5123.559999999996,
          2991.3199999999947,
          4680.879999999996,
          1790.1100000000004,
          3678.209999999999,
          3695.7499999999973,
          3419.580999999999,
          2731.56,
          4676.529999999998,
          2914.649999999998,
          4334.439999999999,
          1823.9900000000002,
          2881.0700000000006,
          2987.699999999998,
          7840.249999999994,
          2369.2399999999993,
          1244.730000000001,
          2726.5200000000013,
          3415.23,
          2539.210000000002,
          7288.5099999999975,
          2690.359999999996,
          764.8799999999997,
          2310.459999999998,
          2229.590000000002,
          2924.2400000000034,
          7085.189999999994,
          2472.8299999999967,
          1381.2199999999991,
          2982.919999999997,
          2804.8999999999974,
          5722.320000000001,
          2934.6599999999985,
          4640.279999999998,
          1434.7199999999991,
          459.67999999999995,
          2021.6400000000008,
          6462.769999999994,
          2553.62,
          2845.53,
          4605.620000000002,
          2684.7799999999966,
          2588.5199999999973,
          4292.289999999996,
          3952.5800000000017,
          4710.879999999997,
          3703.5699999999997,
          8132.179999999994,
          3050.509999999997,
          3784.4799999999973,
          3047.4999999999977,
          2079.91,
          6554.299999999996,
          2846.01,
          4032.419999999994,
          7522.209999999982,
          4286.979999999994,
          4315.160999999996,
          3381.5109999999963,
          5214.169999999996,
          5285.769999999992,
          5729.1099999999915,
          4589.909999999996,
          1820.9599999999996,
          2989.7199999999975,
          5081.520000000001,
          9222.789999999994,
          5196.260000000002,
          4347.949999999998,
          1778.8999999999996,
          4906.369999999994,
          4374.3799999999965,
          3516.5399999999963,
          3332.619999999998,
          3207.529999999998,
          1848.17,
          6991.789999999984,
          6651.28,
          3903.1999999999957,
          9069.960000000014,
          4337.259999999996,
          1605.0499999999977,
          5078.1399999999985,
          6405.0399999999845,
          3410.8699999999994,
          6342.449999999996,
          5978.520000000007,
          4116.480000000002,
          2429.5500000000015,
          2911.1699999999955,
          5619.910000000011,
          4557.089999999993,
          7143.639999999997,
          4225.0799999999945,
          3146.409999999994,
          4172.829999999999,
          6318.66999999999,
          7856.729999999997,
          5574.969999999991,
          5201.040000000013,
          5960.789999999994,
          4508.259999999999,
          6530.960000000009,
          5387.639999999988,
          3995.670000000001,
          4189.099999999998,
          4899.239999999989,
          7171.190000000003,
          7558.789999999997,
          5421.1,
          2514.979999999999,
          2078.649999999998,
          5074.599999999992,
          4175.839999999996,
          4596.5499999999965,
          5108.599999999998,
          4878.119999999987,
          2419.019999999999,
          9406.750000000004,
          6336.250000000004,
          6808.909999999984,
          6606.48999999999,
          2123.699999999999
         ]
        },
        {
         "line": {
          "color": "rgba(55, 128, 191, 1.0)",
          "dash": "solid",
          "shape": "linear",
          "width": 1.3
         },
         "mode": "lines",
         "name": "Low",
         "text": "",
         "type": "scatter",
         "x": [
          "2010-12-01",
          "2010-12-02",
          "2010-12-03",
          "2010-12-05",
          "2010-12-06",
          "2010-12-07",
          "2010-12-08",
          "2010-12-09",
          "2010-12-10",
          "2010-12-12",
          "2010-12-13",
          "2010-12-14",
          "2010-12-15",
          "2010-12-16",
          "2010-12-17",
          "2010-12-19",
          "2010-12-20",
          "2010-12-21",
          "2010-12-22",
          "2010-12-23",
          "2011-01-04",
          "2011-01-05",
          "2011-01-06",
          "2011-01-07",
          "2011-01-09",
          "2011-01-10",
          "2011-01-11",
          "2011-01-12",
          "2011-01-13",
          "2011-01-14",
          "2011-01-16",
          "2011-01-17",
          "2011-01-18",
          "2011-01-19",
          "2011-01-20",
          "2011-01-21",
          "2011-01-23",
          "2011-01-24",
          "2011-01-25",
          "2011-01-26",
          "2011-01-27",
          "2011-01-28",
          "2011-01-30",
          "2011-01-31",
          "2011-02-01",
          "2011-02-02",
          "2011-02-03",
          "2011-02-04",
          "2011-02-06",
          "2011-02-07",
          "2011-02-08",
          "2011-02-09",
          "2011-02-10",
          "2011-02-11",
          "2011-02-13",
          "2011-02-14",
          "2011-02-15",
          "2011-02-16",
          "2011-02-17",
          "2011-02-18",
          "2011-02-20",
          "2011-02-21",
          "2011-02-22",
          "2011-02-23",
          "2011-02-24",
          "2011-02-25",
          "2011-02-27",
          "2011-02-28",
          "2011-03-01",
          "2011-03-02",
          "2011-03-03",
          "2011-03-04",
          "2011-03-06",
          "2011-03-07",
          "2011-03-08",
          "2011-03-09",
          "2011-03-10",
          "2011-03-11",
          "2011-03-13",
          "2011-03-14",
          "2011-03-15",
          "2011-03-16",
          "2011-03-17",
          "2011-03-18",
          "2011-03-20",
          "2011-03-21",
          "2011-03-22",
          "2011-03-23",
          "2011-03-24",
          "2011-03-25",
          "2011-03-27",
          "2011-03-28",
          "2011-03-29",
          "2011-03-30",
          "2011-03-31",
          "2011-04-01",
          "2011-04-03",
          "2011-04-04",
          "2011-04-05",
          "2011-04-06",
          "2011-04-07",
          "2011-04-08",
          "2011-04-10",
          "2011-04-11",
          "2011-04-12",
          "2011-04-13",
          "2011-04-14",
          "2011-04-15",
          "2011-04-17",
          "2011-04-18",
          "2011-04-19",
          "2011-04-20",
          "2011-04-21",
          "2011-04-26",
          "2011-04-27",
          "2011-04-28",
          "2011-05-01",
          "2011-05-03",
          "2011-05-04",
          "2011-05-05",
          "2011-05-06",
          "2011-05-08",
          "2011-05-09",
          "2011-05-10",
          "2011-05-11",
          "2011-05-12",
          "2011-05-13",
          "2011-05-15",
          "2011-05-16",
          "2011-05-17",
          "2011-05-18",
          "2011-05-19",
          "2011-05-20",
          "2011-05-22",
          "2011-05-23",
          "2011-05-24",
          "2011-05-25",
          "2011-05-26",
          "2011-05-27",
          "2011-05-29",
          "2011-05-31",
          "2011-06-01",
          "2011-06-02",
          "2011-06-03",
          "2011-06-05",
          "2011-06-06",
          "2011-06-07",
          "2011-06-08",
          "2011-06-09",
          "2011-06-10",
          "2011-06-12",
          "2011-06-13",
          "2011-06-14",
          "2011-06-15",
          "2011-06-16",
          "2011-06-17",
          "2011-06-19",
          "2011-06-20",
          "2011-06-21",
          "2011-06-22",
          "2011-06-23",
          "2011-06-24",
          "2011-06-26",
          "2011-06-27",
          "2011-06-28",
          "2011-06-29",
          "2011-06-30",
          "2011-07-01",
          "2011-07-03",
          "2011-07-04",
          "2011-07-05",
          "2011-07-06",
          "2011-07-07",
          "2011-07-08",
          "2011-07-10",
          "2011-07-11",
          "2011-07-12",
          "2011-07-13",
          "2011-07-14",
          "2011-07-15",
          "2011-07-17",
          "2011-07-18",
          "2011-07-19",
          "2011-07-20",
          "2011-07-21",
          "2011-07-22",
          "2011-07-24",
          "2011-07-25",
          "2011-07-26",
          "2011-07-27",
          "2011-07-28",
          "2011-07-29",
          "2011-07-31",
          "2011-08-01",
          "2011-08-02",
          "2011-08-03",
          "2011-08-04",
          "2011-08-05",
          "2011-08-07",
          "2011-08-08",
          "2011-08-09",
          "2011-08-10",
          "2011-08-11",
          "2011-08-12",
          "2011-08-14",
          "2011-08-15",
          "2011-08-16",
          "2011-08-17",
          "2011-08-18",
          "2011-08-19",
          "2011-08-21",
          "2011-08-22",
          "2011-08-23",
          "2011-08-24",
          "2011-08-25",
          "2011-08-26",
          "2011-08-28",
          "2011-08-30",
          "2011-08-31",
          "2011-09-01",
          "2011-09-02",
          "2011-09-04",
          "2011-09-05",
          "2011-09-06",
          "2011-09-07",
          "2011-09-08",
          "2011-09-09",
          "2011-09-11",
          "2011-09-12",
          "2011-09-13",
          "2011-09-14",
          "2011-09-15",
          "2011-09-16",
          "2011-09-18",
          "2011-09-19",
          "2011-09-20",
          "2011-09-21",
          "2011-09-22",
          "2011-09-23",
          "2011-09-25",
          "2011-09-26",
          "2011-09-27",
          "2011-09-28",
          "2011-09-29",
          "2011-09-30",
          "2011-10-02",
          "2011-10-03",
          "2011-10-04",
          "2011-10-05",
          "2011-10-06",
          "2011-10-07",
          "2011-10-09",
          "2011-10-10",
          "2011-10-11",
          "2011-10-12",
          "2011-10-13",
          "2011-10-14",
          "2011-10-16",
          "2011-10-17",
          "2011-10-18",
          "2011-10-19",
          "2011-10-20",
          "2011-10-21",
          "2011-10-23",
          "2011-10-24",
          "2011-10-25",
          "2011-10-26",
          "2011-10-27",
          "2011-10-28",
          "2011-10-30",
          "2011-10-31",
          "2011-11-01",
          "2011-11-02",
          "2011-11-03",
          "2011-11-04",
          "2011-11-06",
          "2011-11-07",
          "2011-11-08",
          "2011-11-09",
          "2011-11-10",
          "2011-11-11",
          "2011-11-13",
          "2011-11-14",
          "2011-11-15",
          "2011-11-16",
          "2011-11-17",
          "2011-11-18",
          "2011-11-20",
          "2011-11-21",
          "2011-11-22",
          "2011-11-23",
          "2011-11-24",
          "2011-11-25",
          "2011-11-27",
          "2011-11-28",
          "2011-11-29",
          "2011-11-30",
          "2011-12-01",
          "2011-12-02",
          "2011-12-04",
          "2011-12-05",
          "2011-12-06",
          "2011-12-07",
          "2011-12-08",
          "2011-12-09"
         ],
         "y": [
          10391.57999999998,
          11681.08999999998,
          3885.8700000000035,
          5702.719999999993,
          5495.249999999998,
          5496.329999999999,
          9832.080000000002,
          5387.169999999998,
          7159.040000000003,
          3738.030000000004,
          6298,
          6355.809999999992,
          6316.829999999998,
          13845.799999999961,
          3387.3600000000015,
          1422.7799999999995,
          2773.8399999999992,
          5344.609999999999,
          1449.9300000000003,
          1295.34,
          1901.0300000000002,
          6972.769999999999,
          9223.519999999991,
          7468.360000000001,
          2849.2200000000016,
          4193.6100000000015,
          5031.519999999999,
          3098.090000000004,
          4176.580000000003,
          10075.009999999998,
          2466.870000000002,
          4279.5300000000025,
          2196.67,
          8343.980000000003,
          3578.940000000002,
          5797.329999999999,
          2616.7500000000005,
          3920.800000000004,
          6302.93,
          3554.060000000002,
          4470.149999999999,
          3143.8300000000017,
          1351.6699999999996,
          5306.129999999995,
          6377.219999999995,
          4050.710000000005,
          4759.810000000001,
          3997.920000000001,
          504.44,
          2667.2300000000023,
          3640.3600000000006,
          2965.030000000001,
          2146.289999999999,
          5182.040000000003,
          1437.2200000000005,
          8315.509999999995,
          7914.589999999999,
          5369.440000000005,
          4776.13,
          4713.519999999998,
          2007.540000000001,
          11064.669999999971,
          7852.45,
          3537.3100000000027,
          4798.11,
          4785.780000000004,
          1910.4600000000007,
          2917.54,
          5161.040000000002,
          2737.9900000000025,
          8457.209999999997,
          6097.299999999998,
          1972.5400000000006,
          6046.400000000002,
          4858.609999999992,
          3223.1200000000017,
          5337.469999999999,
          3555.6100000000015,
          692.9099999999996,
          6858.5800000000045,
          3814.5699999999997,
          3690.900000000006,
          14827.999999999965,
          4276.460000000001,
          4042.39000000001,
          4969.3,
          4028.9000000000074,
          5690.949999999999,
          7943.480000000002,
          8369.650000000001,
          2141.780000000001,
          6656.650000000004,
          14537.009999999984,
          9315.649999999996,
          5182.670000000001,
          6496.229999999999,
          1750.190000000001,
          4376.180000000003,
          5995.449999999999,
          3009.1500000000005,
          3288.060000000002,
          4646.900000000002,
          2156.8200000000006,
          4488.540000000004,
          6009.289999999997,
          5814.470000000003,
          6447.910000000002,
          2825.67,
          2774.0000000000045,
          4334.900000000005,
          3478.8100000000018,
          6097.56,
          5778.000000000002,
          3593.380000000002,
          4681.780000000004,
          5390.839999999999,
          1355.88,
          3485.8900000000017,
          5074.499999999999,
          4219.080000000002,
          5401.619999999998,
          3765.710000000006,
          5634.69,
          5695.53,
          7288.639999999998,
          15102.779999999984,
          5866.750000000002,
          1994.69,
          5590.680000000001,
          10137.919999999998,
          7382.500000000006,
          6849.270000000001,
          7202.910000000004,
          5162.480000000004,
          5898.810000000005,
          3629.530000000004,
          6648.380000000005,
          6451.090000000004,
          4108.150000000003,
          1486.0000000000005,
          3852.4100000000017,
          4722.6299999999965,
          5944.149999999996,
          3153.1900000000023,
          5659.489999999998,
          4293.330000000001,
          5577.159999999998,
          7003.120000000001,
          4631.430000000005,
          3431.12,
          2450.250000000002,
          4171.580000000004,
          3423.1400000000003,
          10707.570000000007,
          6095.4800000000005,
          4687.8099999999995,
          6518.809999999989,
          4950.79,
          3966.3800000000037,
          4094.7200000000034,
          6680.969999999993,
          4108.300000000003,
          1014.6499999999991,
          3198.7100000000014,
          8068.389999999994,
          2169.6200000000003,
          10519.16999999999,
          3106.2100000000037,
          1533.000000000001,
          3873.110000000004,
          5668.760000000003,
          4582.500000000004,
          5919.250000000005,
          4052.750000000001,
          1467.7100000000014,
          4589.720000000005,
          3079.930000000001,
          5508.070000000002,
          4947.490000000004,
          2259.590000000001,
          3775.530000000003,
          4382.450000000002,
          10691.889999999976,
          5396.280000000005,
          7816.130000000005,
          3087.1100000000015,
          6001.549999999998,
          5275.860000000003,
          4310.700000000002,
          5060.959999999997,
          9421.14,
          3894.040000000003,
          6380.980000000009,
          4888.880000000003,
          6867.63,
          7713.2999999999965,
          19315.78000000001,
          4432.730000000002,
          2127.3800000000006,
          5568.319999999997,
          6069.799999999997,
          5059.840000000005,
          21585.70999999999,
          5570.08,
          1243.8399999999995,
          4210.570000000002,
          4682.81,
          11578.829999999998,
          13039.849999999959,
          3836.180000000005,
          2650.1300000000033,
          5311.810000000003,
          5159.900000000001,
          6898.930000000003,
          5498.149999999999,
          7312.390000000004,
          2723.100000000003,
          2066.45,
          4015.090000000003,
          9303.71999999999,
          6308.209999999996,
          3676.330000000004,
          7348.520000000003,
          5288.13,
          6108.530000000003,
          5903.079999999999,
          4231.410000000003,
          6306.0599999999895,
          7093.049999999998,
          12531.949999999977,
          5051.910000000005,
          8012.290000000002,
          4355.350000000009,
          2255.0300000000007,
          12444.349999999979,
          16513.989999999958,
          5658.770000000005,
          9869.559999999987,
          7433.639999999993,
          5898.569999999997,
          4802.360000000008,
          5108.049999999999,
          7037.299999999998,
          9636.94999999999,
          7125.18,
          1974.3200000000008,
          10277.32999999999,
          8969.079999999994,
          16466.379999999943,
          11019.549999999987,
          12673.979999999989,
          2017.5000000000014,
          8549.199999999972,
          10123.84999999998,
          5512.2800000000025,
          6776.559999999995,
          6803.180000000001,
          2555.970000000003,
          10883.489999999983,
          9661.50999999997,
          7289.019999999993,
          14787.58999999998,
          9182.229999999996,
          2586.7400000000043,
          7217.240000000007,
          7237.209999999996,
          7339.109999999993,
          9399.969999999994,
          5759.739999999998,
          7001.439999999996,
          4634.520000000006,
          5958.259999999996,
          7609.949999999999,
          11499.72999999999,
          11644.29999999997,
          9600.829999999998,
          5761.120000000002,
          8953.150000000001,
          11787.96999999999,
          11997.219999999961,
          9063.929999999997,
          6456.54999999999,
          10964.56999999995,
          10668.40999999997,
          11156.44999999997,
          10404.059999999961,
          7565.189999999996,
          6745.679999999993,
          9318.159999999987,
          8931.72999999997,
          15213.499999999925,
          7348.849999999988,
          4753.330000000003,
          3970.2200000000057,
          9268.919999999971,
          9093.119999999966,
          7850.540000000007,
          8298.379999999994,
          8603.709999999986,
          3600.200000000007,
          10348.969999999974,
          7108.559999999995,
          13040.17999999998,
          5512.710000000001,
          2711.2800000000025
         ]
        },
        {
         "line": {
          "color": "rgba(50, 171, 96, 1.0)",
          "dash": "solid",
          "shape": "linear",
          "width": 1.3
         },
         "mode": "lines",
         "name": "Medium",
         "text": "",
         "type": "scatter",
         "x": [
          "2010-12-01",
          "2010-12-02",
          "2010-12-03",
          "2010-12-05",
          "2010-12-06",
          "2010-12-07",
          "2010-12-08",
          "2010-12-09",
          "2010-12-10",
          "2010-12-12",
          "2010-12-13",
          "2010-12-14",
          "2010-12-15",
          "2010-12-16",
          "2010-12-17",
          "2010-12-19",
          "2010-12-20",
          "2010-12-21",
          "2010-12-22",
          "2010-12-23",
          "2011-01-04",
          "2011-01-05",
          "2011-01-06",
          "2011-01-07",
          "2011-01-09",
          "2011-01-10",
          "2011-01-11",
          "2011-01-12",
          "2011-01-13",
          "2011-01-14",
          "2011-01-16",
          "2011-01-17",
          "2011-01-18",
          "2011-01-19",
          "2011-01-20",
          "2011-01-21",
          "2011-01-23",
          "2011-01-24",
          "2011-01-25",
          "2011-01-26",
          "2011-01-27",
          "2011-01-28",
          "2011-01-30",
          "2011-01-31",
          "2011-02-01",
          "2011-02-02",
          "2011-02-03",
          "2011-02-04",
          "2011-02-06",
          "2011-02-07",
          "2011-02-08",
          "2011-02-09",
          "2011-02-10",
          "2011-02-11",
          "2011-02-13",
          "2011-02-14",
          "2011-02-15",
          "2011-02-16",
          "2011-02-17",
          "2011-02-18",
          "2011-02-20",
          "2011-02-21",
          "2011-02-22",
          "2011-02-23",
          "2011-02-24",
          "2011-02-25",
          "2011-02-27",
          "2011-02-28",
          "2011-03-01",
          "2011-03-02",
          "2011-03-03",
          "2011-03-04",
          "2011-03-06",
          "2011-03-07",
          "2011-03-08",
          "2011-03-09",
          "2011-03-10",
          "2011-03-11",
          "2011-03-13",
          "2011-03-14",
          "2011-03-15",
          "2011-03-16",
          "2011-03-17",
          "2011-03-18",
          "2011-03-20",
          "2011-03-21",
          "2011-03-22",
          "2011-03-23",
          "2011-03-24",
          "2011-03-25",
          "2011-03-27",
          "2011-03-28",
          "2011-03-29",
          "2011-03-30",
          "2011-03-31",
          "2011-04-01",
          "2011-04-03",
          "2011-04-04",
          "2011-04-05",
          "2011-04-06",
          "2011-04-07",
          "2011-04-08",
          "2011-04-10",
          "2011-04-11",
          "2011-04-12",
          "2011-04-13",
          "2011-04-14",
          "2011-04-15",
          "2011-04-17",
          "2011-04-18",
          "2011-04-19",
          "2011-04-20",
          "2011-04-21",
          "2011-04-26",
          "2011-04-27",
          "2011-04-28",
          "2011-05-01",
          "2011-05-03",
          "2011-05-04",
          "2011-05-05",
          "2011-05-06",
          "2011-05-08",
          "2011-05-09",
          "2011-05-10",
          "2011-05-11",
          "2011-05-12",
          "2011-05-13",
          "2011-05-15",
          "2011-05-16",
          "2011-05-17",
          "2011-05-18",
          "2011-05-19",
          "2011-05-20",
          "2011-05-22",
          "2011-05-23",
          "2011-05-24",
          "2011-05-25",
          "2011-05-26",
          "2011-05-27",
          "2011-05-29",
          "2011-05-31",
          "2011-06-01",
          "2011-06-02",
          "2011-06-03",
          "2011-06-05",
          "2011-06-06",
          "2011-06-07",
          "2011-06-08",
          "2011-06-09",
          "2011-06-10",
          "2011-06-12",
          "2011-06-13",
          "2011-06-14",
          "2011-06-15",
          "2011-06-16",
          "2011-06-17",
          "2011-06-19",
          "2011-06-20",
          "2011-06-21",
          "2011-06-22",
          "2011-06-23",
          "2011-06-24",
          "2011-06-26",
          "2011-06-27",
          "2011-06-28",
          "2011-06-29",
          "2011-06-30",
          "2011-07-01",
          "2011-07-03",
          "2011-07-04",
          "2011-07-05",
          "2011-07-06",
          "2011-07-07",
          "2011-07-08",
          "2011-07-10",
          "2011-07-11",
          "2011-07-12",
          "2011-07-13",
          "2011-07-14",
          "2011-07-15",
          "2011-07-17",
          "2011-07-18",
          "2011-07-19",
          "2011-07-20",
          "2011-07-21",
          "2011-07-22",
          "2011-07-24",
          "2011-07-25",
          "2011-07-26",
          "2011-07-27",
          "2011-07-28",
          "2011-07-29",
          "2011-07-31",
          "2011-08-01",
          "2011-08-02",
          "2011-08-03",
          "2011-08-04",
          "2011-08-05",
          "2011-08-07",
          "2011-08-08",
          "2011-08-09",
          "2011-08-10",
          "2011-08-11",
          "2011-08-12",
          "2011-08-14",
          "2011-08-15",
          "2011-08-16",
          "2011-08-17",
          "2011-08-18",
          "2011-08-19",
          "2011-08-21",
          "2011-08-22",
          "2011-08-23",
          "2011-08-24",
          "2011-08-25",
          "2011-08-26",
          "2011-08-28",
          "2011-08-30",
          "2011-08-31",
          "2011-09-01",
          "2011-09-02",
          "2011-09-04",
          "2011-09-05",
          "2011-09-06",
          "2011-09-07",
          "2011-09-08",
          "2011-09-09",
          "2011-09-11",
          "2011-09-12",
          "2011-09-13",
          "2011-09-14",
          "2011-09-15",
          "2011-09-16",
          "2011-09-18",
          "2011-09-19",
          "2011-09-20",
          "2011-09-21",
          "2011-09-22",
          "2011-09-23",
          "2011-09-25",
          "2011-09-26",
          "2011-09-27",
          "2011-09-28",
          "2011-09-29",
          "2011-09-30",
          "2011-10-02",
          "2011-10-03",
          "2011-10-04",
          "2011-10-05",
          "2011-10-06",
          "2011-10-07",
          "2011-10-09",
          "2011-10-10",
          "2011-10-11",
          "2011-10-12",
          "2011-10-13",
          "2011-10-14",
          "2011-10-16",
          "2011-10-17",
          "2011-10-18",
          "2011-10-19",
          "2011-10-20",
          "2011-10-21",
          "2011-10-23",
          "2011-10-24",
          "2011-10-25",
          "2011-10-26",
          "2011-10-27",
          "2011-10-28",
          "2011-10-30",
          "2011-10-31",
          "2011-11-01",
          "2011-11-02",
          "2011-11-03",
          "2011-11-04",
          "2011-11-06",
          "2011-11-07",
          "2011-11-08",
          "2011-11-09",
          "2011-11-10",
          "2011-11-11",
          "2011-11-13",
          "2011-11-14",
          "2011-11-15",
          "2011-11-16",
          "2011-11-17",
          "2011-11-18",
          "2011-11-20",
          "2011-11-21",
          "2011-11-22",
          "2011-11-23",
          "2011-11-24",
          "2011-11-25",
          "2011-11-27",
          "2011-11-28",
          "2011-11-29",
          "2011-11-30",
          "2011-12-01",
          "2011-12-02",
          "2011-12-04",
          "2011-12-05",
          "2011-12-06",
          "2011-12-07",
          "2011-12-08",
          "2011-12-09"
         ],
         "y": [
          5949.879999999988,
          4732.709999999995,
          2505.93,
          4085.299999999989,
          5596.659999999996,
          5342.42,
          4346.179999999993,
          2870.309999999997,
          4737.249999999997,
          2041.370000000002,
          2984.119999999999,
          3136.3699999999967,
          3507.1399999999962,
          5390.449999999998,
          903.59,
          1040.8500000000008,
          2274.470000000001,
          984.0100000000002,
          403.34999999999997,
          614.6200000000002,
          1414.8299999999997,
          4022.219999999999,
          3378.8899999999994,
          1638.6100000000001,
          2272.789999999999,
          1451.6399999999996,
          14501.740000000002,
          1265.7800000000002,
          1375.6999999999998,
          3810.9899999999984,
          656.1600000000001,
          1424.3900000000006,
          1232.4500000000003,
          2005.7500000000007,
          1860.2500000000002,
          2973.5499999999997,
          754.6100000000001,
          1634.9900000000002,
          2637.7499999999986,
          1375.7599999999993,
          2127.1299999999983,
          1184.1299999999999,
          416.4599999999997,
          1819.9800000000005,
          3728.3599999999956,
          2505.8499999999967,
          2493.67,
          1533.9300000000007,
          691.9400000000002,
          1365.1200000000006,
          2209.19,
          1200.8100000000002,
          1530.29,
          1393.6599999999996,
          431.53,
          1478.7800000000002,
          4414.309999999997,
          2818.15,
          2737.67,
          1492.5999999999995,
          853.0700000000012,
          3896.919999999996,
          2800.5699999999997,
          1912.549999999999,
          2447.129999999999,
          2246.8199999999993,
          1022.7699999999999,
          2224.91,
          2185.1699999999987,
          1672.9999999999995,
          1716.5800000000006,
          2697.939999999999,
          1028.4200000000005,
          2340.0199999999995,
          3061.2799999999993,
          2729.1999999999985,
          3206.549999999996,
          2393.6400000000003,
          453.56000000000006,
          2532.1199999999976,
          1327.5800000000004,
          3531.949999999999,
          2580.079999999998,
          3325.6099999999983,
          2574.510000000001,
          1946.550000000001,
          2038.1699999999996,
          2570.6899999999996,
          4971.6900000000005,
          2867.289999999999,
          545.2000000000006,
          1868.420000000001,
          4673.24,
          2615.7400000000007,
          3677.1600000000008,
          4226.219999999998,
          723.2900000000009,
          5740.620000000002,
          1967.8400000000006,
          1479.9399999999998,
          2362.2100000000005,
          1827.8099999999984,
          1242.57,
          2361.4100000000003,
          3154.6199999999976,
          3867.970000000001,
          7148.609999999995,
          1836.2099999999994,
          1776.8799999999994,
          15194.540000000003,
          3539.049999999996,
          2989.2600000000016,
          3628.6700000000023,
          2947.899999999997,
          3726.029999999999,
          2030.6799999999987,
          1968.6799999999996,
          2969.319999999999,
          2651.559999999999,
          3000.370000000002,
          3623.6599999999967,
          2952.309999999997,
          2746.4900000000016,
          5694.809999999996,
          4962.929999999999,
          7447.820000000002,
          5022.840000000002,
          1129.6200000000001,
          3948.66,
          5399.279999999997,
          5041.149999999999,
          4183.140000000001,
          3977.3099999999986,
          2576.459999999999,
          5618.710000000005,
          2639.6200000000013,
          4870.160000000003,
          6845.250000000001,
          2689.560000000002,
          780.15,
          3037.269999999999,
          1739.5399999999997,
          5406.359999999993,
          1401.7399999999993,
          4837.019999999996,
          2288.3599999999988,
          4053.97,
          3945.3199999999997,
          3927.1199999999994,
          2242.5700000000006,
          1425.4000000000012,
          2806.02,
          2161.8999999999996,
          6887.449999999997,
          4172.64,
          2553.6600000000003,
          2845.1199999999994,
          5642.779999999996,
          3506.109999999999,
          3881.46,
          2655.039999999999,
          2031.649999999999,
          668.0400000000003,
          2213.1399999999994,
          5230.449999999997,
          3008.3999999999996,
          3918.790000000002,
          1902.2299999999993,
          614.1300000000002,
          1205.5200000000004,
          3493.0700000000015,
          3481.760000000001,
          5216.6600000000035,
          4432.25,
          625.310000000001,
          2248.3299999999995,
          2023.929999999999,
          2475.9299999999985,
          2811.439999999998,
          989.0700000000002,
          2775.439999999995,
          2378.0999999999967,
          4586.419999999998,
          3543.3999999999974,
          2859.69,
          1457.5999999999995,
          4095.3800000000015,
          2639.909999999997,
          2675.670000000002,
          4217.280000000001,
          6239.7500000000055,
          3549.080000000002,
          2181.3399999999983,
          4629.559999999997,
          2387.189999999999,
          2700.6299999999997,
          11339.319999999998,
          3581.0199999999973,
          852.6299999999999,
          2973.259999999999,
          5660.4,
          4747.800000000004,
          7137,
          1728.8799999999999,
          756.6700000000003,
          2310.4499999999975,
          2167.5899999999992,
          6247.95,
          9253.620000000003,
          2834.769999999999,
          3257.3599999999956,
          4730.5300000000025,
          4896.330000000003,
          13153.599999999997,
          3198.140000000002,
          3594.9900000000002,
          1997.5400000000025,
          1576.9199999999994,
          5318.860000000003,
          5621.739999999993,
          3840.59,
          1953.35,
          7663.4500000000035,
          4649.839999999999,
          5966.929999999992,
          4039.160000000003,
          3650.11,
          5520.839999999997,
          3626.5399999999995,
          9942.119999999986,
          3070.0199999999973,
          7276.140000000004,
          3682.790000000001,
          3072.0199999999954,
          8016.110000000005,
          12426.31999999999,
          9447.109999999999,
          9729.539999999999,
          6529.149999999998,
          4686.210000000001,
          3775.14,
          4465.650000000003,
          6331.5699999999915,
          9559.489999999989,
          5589.849999999996,
          857.3400000000008,
          4457.479999999998,
          4292.9299999999985,
          10062.300000000007,
          21830.789999999983,
          8834.409999999994,
          1675.8700000000006,
          6274.009999999992,
          7844.649999999993,
          4000.290000000001,
          4879.059999999995,
          4303.5300000000025,
          1613.9599999999996,
          6608.270000000006,
          4280.189999999999,
          3987.1099999999965,
          8732.190000000006,
          4503.759999999999,
          1211.5500000000004,
          6388.3200000000015,
          5505.8700000000035,
          6431.94,
          12292.749999999998,
          8426.180000000002,
          5519.639999999994,
          5627.840000000004,
          6176.709999999986,
          6539.400000000001,
          9694.3,
          8686.759999999991,
          7596.319999999982,
          4544.350000000002,
          7135.500000000006,
          18403.729999999985,
          12148.120000000006,
          6477.529999999997,
          4079.109999999991,
          10056.549999999983,
          8523.009999999995,
          8051.260000000003,
          9608.649999999994,
          5211.679999999998,
          4023.3699999999935,
          4231.309999999999,
          7277.950000000006,
          6358.269999999994,
          6531.919999999995,
          4706.449999999995,
          3087.8799999999933,
          8335.509999999987,
          11952.499999999995,
          8936.769999999988,
          8113.4699999999975,
          12390.399999999989,
          3851.4499999999975,
          9807.419999999993,
          8063.339999999995,
          14966.619999999994,
          6821.8899999999985,
          2583.460000000001
         ]
        },
        {
         "line": {
          "color": "rgba(128, 0, 128, 1.0)",
          "dash": "solid",
          "shape": "linear",
          "width": 1.3
         },
         "mode": "lines",
         "name": "High",
         "text": "",
         "type": "scatter",
         "x": [
          "2010-12-01",
          "2010-12-02",
          "2010-12-03",
          "2010-12-05",
          "2010-12-06",
          "2010-12-07",
          "2010-12-08",
          "2010-12-09",
          "2010-12-10",
          "2010-12-12",
          "2010-12-13",
          "2010-12-14",
          "2010-12-15",
          "2010-12-16",
          "2010-12-17",
          "2010-12-19",
          "2010-12-20",
          "2010-12-21",
          "2010-12-22",
          "2010-12-23",
          "2011-01-04",
          "2011-01-05",
          "2011-01-06",
          "2011-01-07",
          "2011-01-09",
          "2011-01-10",
          "2011-01-11",
          "2011-01-12",
          "2011-01-13",
          "2011-01-14",
          "2011-01-16",
          "2011-01-17",
          "2011-01-18",
          "2011-01-19",
          "2011-01-20",
          "2011-01-21",
          "2011-01-23",
          "2011-01-24",
          "2011-01-25",
          "2011-01-26",
          "2011-01-27",
          "2011-01-28",
          "2011-01-30",
          "2011-01-31",
          "2011-02-01",
          "2011-02-02",
          "2011-02-03",
          "2011-02-04",
          "2011-02-06",
          "2011-02-07",
          "2011-02-08",
          "2011-02-09",
          "2011-02-10",
          "2011-02-11",
          "2011-02-13",
          "2011-02-14",
          "2011-02-15",
          "2011-02-16",
          "2011-02-17",
          "2011-02-18",
          "2011-02-20",
          "2011-02-21",
          "2011-02-22",
          "2011-02-23",
          "2011-02-24",
          "2011-02-25",
          "2011-02-27",
          "2011-02-28",
          "2011-03-01",
          "2011-03-02",
          "2011-03-03",
          "2011-03-04",
          "2011-03-06",
          "2011-03-07",
          "2011-03-08",
          "2011-03-09",
          "2011-03-10",
          "2011-03-11",
          "2011-03-13",
          "2011-03-14",
          "2011-03-15",
          "2011-03-16",
          "2011-03-17",
          "2011-03-18",
          "2011-03-20",
          "2011-03-21",
          "2011-03-22",
          "2011-03-23",
          "2011-03-24",
          "2011-03-25",
          "2011-03-27",
          "2011-03-28",
          "2011-03-29",
          "2011-03-30",
          "2011-03-31",
          "2011-04-01",
          "2011-04-03",
          "2011-04-04",
          "2011-04-05",
          "2011-04-06",
          "2011-04-07",
          "2011-04-08",
          "2011-04-10",
          "2011-04-11",
          "2011-04-12",
          "2011-04-13",
          "2011-04-14",
          "2011-04-15",
          "2011-04-17",
          "2011-04-18",
          "2011-04-19",
          "2011-04-20",
          "2011-04-21",
          "2011-04-26",
          "2011-04-27",
          "2011-04-28",
          "2011-05-01",
          "2011-05-03",
          "2011-05-04",
          "2011-05-05",
          "2011-05-06",
          "2011-05-08",
          "2011-05-09",
          "2011-05-10",
          "2011-05-11",
          "2011-05-12",
          "2011-05-13",
          "2011-05-15",
          "2011-05-16",
          "2011-05-17",
          "2011-05-18",
          "2011-05-19",
          "2011-05-20",
          "2011-05-22",
          "2011-05-23",
          "2011-05-24",
          "2011-05-25",
          "2011-05-26",
          "2011-05-27",
          "2011-05-29",
          "2011-05-31",
          "2011-06-01",
          "2011-06-02",
          "2011-06-03",
          "2011-06-05",
          "2011-06-06",
          "2011-06-07",
          "2011-06-08",
          "2011-06-09",
          "2011-06-10",
          "2011-06-12",
          "2011-06-13",
          "2011-06-14",
          "2011-06-15",
          "2011-06-16",
          "2011-06-17",
          "2011-06-19",
          "2011-06-20",
          "2011-06-21",
          "2011-06-22",
          "2011-06-23",
          "2011-06-24",
          "2011-06-26",
          "2011-06-27",
          "2011-06-28",
          "2011-06-29",
          "2011-06-30",
          "2011-07-01",
          "2011-07-03",
          "2011-07-04",
          "2011-07-05",
          "2011-07-06",
          "2011-07-07",
          "2011-07-08",
          "2011-07-10",
          "2011-07-11",
          "2011-07-12",
          "2011-07-13",
          "2011-07-14",
          "2011-07-15",
          "2011-07-17",
          "2011-07-18",
          "2011-07-19",
          "2011-07-20",
          "2011-07-21",
          "2011-07-22",
          "2011-07-24",
          "2011-07-25",
          "2011-07-26",
          "2011-07-27",
          "2011-07-28",
          "2011-07-29",
          "2011-07-31",
          "2011-08-01",
          "2011-08-02",
          "2011-08-03",
          "2011-08-04",
          "2011-08-05",
          "2011-08-07",
          "2011-08-08",
          "2011-08-09",
          "2011-08-10",
          "2011-08-11",
          "2011-08-12",
          "2011-08-14",
          "2011-08-15",
          "2011-08-16",
          "2011-08-17",
          "2011-08-18",
          "2011-08-19",
          "2011-08-21",
          "2011-08-22",
          "2011-08-23",
          "2011-08-24",
          "2011-08-25",
          "2011-08-26",
          "2011-08-28",
          "2011-08-30",
          "2011-08-31",
          "2011-09-01",
          "2011-09-02",
          "2011-09-04",
          "2011-09-05",
          "2011-09-06",
          "2011-09-07",
          "2011-09-08",
          "2011-09-09",
          "2011-09-11",
          "2011-09-12",
          "2011-09-13",
          "2011-09-14",
          "2011-09-15",
          "2011-09-16",
          "2011-09-18",
          "2011-09-19",
          "2011-09-20",
          "2011-09-21",
          "2011-09-22",
          "2011-09-23",
          "2011-09-25",
          "2011-09-26",
          "2011-09-27",
          "2011-09-28",
          "2011-09-29",
          "2011-09-30",
          "2011-10-02",
          "2011-10-03",
          "2011-10-04",
          "2011-10-05",
          "2011-10-06",
          "2011-10-07",
          "2011-10-09",
          "2011-10-10",
          "2011-10-11",
          "2011-10-12",
          "2011-10-13",
          "2011-10-14",
          "2011-10-16",
          "2011-10-17",
          "2011-10-18",
          "2011-10-19",
          "2011-10-20",
          "2011-10-21",
          "2011-10-23",
          "2011-10-24",
          "2011-10-25",
          "2011-10-26",
          "2011-10-27",
          "2011-10-28",
          "2011-10-30",
          "2011-10-31",
          "2011-11-01",
          "2011-11-02",
          "2011-11-03",
          "2011-11-04",
          "2011-11-06",
          "2011-11-07",
          "2011-11-08",
          "2011-11-09",
          "2011-11-10",
          "2011-11-11",
          "2011-11-13",
          "2011-11-14",
          "2011-11-15",
          "2011-11-16",
          "2011-11-17",
          "2011-11-18",
          "2011-11-20",
          "2011-11-21",
          "2011-11-22",
          "2011-11-23",
          "2011-11-24",
          "2011-11-25",
          "2011-11-27",
          "2011-11-28",
          "2011-11-29",
          "2011-11-30",
          "2011-12-01",
          "2011-12-02",
          "2011-12-04",
          "2011-12-05",
          "2011-12-06",
          "2011-12-07",
          "2011-12-08",
          "2011-12-09"
         ],
         "y": [
          15021.080000000034,
          9539.42000000001,
          5795.979999999991,
          8565.609999999986,
          7722.449999999992,
          18671.069999999992,
          9872.249999999993,
          13401.710000000025,
          5840.019999999993,
          4106.399999999997,
          7137.159999999999,
          7103.129999999991,
          5590.7999999999965,
          12638.940000000008,
          3545.939999999999,
          2276.020000000001,
          4915.849999999996,
          4019.2599999999993,
          977.3500000000001,
          1639.0000000000005,
          3052.4899999999993,
          7753.339999999996,
          7156.319999999994,
          4909.419999999997,
          4376.749999999995,
          2663.7100000000005,
          27383.130000000034,
          3843.249999999998,
          3037.0400000000004,
          10508.410000000002,
          1428.090000000001,
          4018.7099999999987,
          1568.3000000000004,
          4632.859999999995,
          4840.109999999997,
          5592.330000000001,
          2253.4000000000024,
          3168.5699999999997,
          4915.9299999999985,
          4211.6399999999985,
          4865.8600000000015,
          4538.710000000004,
          1834.0000000000007,
          3107.899999999998,
          5860.659999999996,
          3751.739999999998,
          6548.019999999992,
          4104.349999999998,
          635.85,
          6181.759999999999,
          3510.2199999999975,
          3478.2299999999977,
          3022.1,
          3838.1999999999994,
          1031.3000000000006,
          6098.909999999994,
          8609.599999999999,
          5308.709999999997,
          2825.1200000000013,
          3573.5699999999997,
          2064.4100000000003,
          7284.029999999996,
          5992.549999999999,
          3547.5099999999984,
          4199.559999999996,
          4325.469999999995,
          2011.3500000000022,
          3292.419999999999,
          4856.5499999999965,
          3627.32,
          7236.599999999996,
          3446.8399999999974,
          2403.550000000001,
          3365.209999999999,
          4208.669999999996,
          4113.689999999996,
          5112.579999999998,
          3993.8399999999997,
          882.5500000000001,
          4242.439999999994,
          3432.6099999999997,
          4083.759999999999,
          3846.17,
          5036.549999999998,
          4320.389999999999,
          3174.789999999999,
          3957.95,
          3841.41,
          11385.639999999996,
          5815.370000000002,
          1807.0500000000009,
          3013.339999999998,
          7347.279999999996,
          6130.809999999999,
          5960.859999999999,
          4192.459999999996,
          1360.35,
          4958.529999999997,
          9930.970000000001,
          2721.199999999999,
          3911.919999999997,
          5453.509999999998,
          2336.710000000001,
          5463.259999999997,
          5295.960000000003,
          5032.819999999998,
          8304.629999999996,
          3427.529999999998,
          3059.6299999999997,
          10077.720000000007,
          3638.6600000000008,
          6039.510000000002,
          6814.349999999997,
          6069.129999999992,
          4652.159999999996,
          4444.639999999997,
          1110.54,
          6784.3199999999915,
          6660.229999999996,
          6108.170000000001,
          6102.249999999994,
          4207.35,
          4764.559999999999,
          5762.059999999994,
          6113.010000000003,
          12444.020000000015,
          4267.599999999999,
          2603.9199999999983,
          5585.109999999997,
          10021.800000000001,
          7820.429999999991,
          7118.859999999992,
          4853.219999999997,
          5574.519999999997,
          5220.150000000002,
          11677.41000000001,
          3350.079999999998,
          10900.259999999998,
          3315.959999999999,
          1389.1600000000012,
          3512.929999999998,
          4137.819999999998,
          4860.079999999999,
          3559.3099999999977,
          5328.289999999998,
          3099.42,
          3790.929999999999,
          6226.979999999995,
          4517.049999999999,
          4313.190000000002,
          2557.06,
          5171.059999999998,
          10885.710000000003,
          14527.390000000005,
          10045.509999999998,
          3276.0300000000007,
          3829.1499999999983,
          6075.649999999995,
          4107.189999999998,
          3503.95,
          4091.489999999999,
          3080.4799999999996,
          1716.8700000000008,
          3109.609999999999,
          5290.300000000003,
          2719.69,
          13886.310000000001,
          2185.5100000000007,
          1124.4300000000003,
          6201.300000000001,
          4204.6,
          4660.209999999999,
          6370.71,
          4192.400000000001,
          1233.3600000000008,
          4364.609999999997,
          6029.649999999998,
          3057.8000000000025,
          9324.419999999991,
          2628.220000000001,
          2752.94,
          4650.439999999998,
          11356.599999999995,
          8554.499999999995,
          4553.609999999999,
          3626.0499999999993,
          6064.529999999998,
          3087.4899999999993,
          2535.3999999999996,
          5318.519999999997,
          17340.8,
          3285.8899999999985,
          11273.219999999996,
          2739.120000000001,
          4040.1099999999997,
          6115.039999999994,
          10250.189999999997,
          4282.620000000002,
          1413.7200000000005,
          3371.620000000001,
          6426.32,
          3359.709999999998,
          8541.699999999999,
          3678.499999999999,
          1307.08,
          2929.739999999997,
          3133.849999999999,
          14716.280000000008,
          13596.570000000022,
          2618.459999999998,
          3032.8300000000004,
          9298.170000000006,
          3972.0899999999983,
          5601.159999999996,
          4803.789999999997,
          3894.8300000000004,
          2210.4699999999993,
          2102.3399999999997,
          3888.3999999999983,
          8217.279999999999,
          8516.54,
          3808.720000000001,
          7511.990000000001,
          5292.519999999995,
          4029.009999999999,
          3694.0899999999997,
          5956.1100000000015,
          8591.96,
          6097.749999999992,
          9117.260000000002,
          5365.509999999994,
          9047.26000000001,
          5645.94,
          4112.429999999999,
          11572.060000000012,
          27985.310000000012,
          7523.269999999998,
          11774.890000000014,
          6876.850000000001,
          7369.419999999987,
          7606.420000000008,
          6506.590000000002,
          9490.509999999995,
          9795.340000000011,
          7849.969999999989,
          2313.330000000001,
          20472.070000000018,
          10383.85000000001,
          18605.87000000002,
          10607.850000000017,
          15238.980000000023,
          2936.910000000001,
          9847.719999999961,
          13572.39000000001,
          7314.080000000001,
          8424.489999999994,
          7185.420000000002,
          5782.239999999996,
          9990.01000000001,
          7226.399999999999,
          6245.939999999996,
          14466.350000000026,
          8874.759999999995,
          2633.24,
          8241.520000000006,
          10006.790000000005,
          7998.549999999987,
          8611.169999999998,
          7607.659999999992,
          8136.629999999997,
          8870.100000000013,
          6267.8099999999895,
          11148.540000000014,
          19754.910000000018,
          15326.840000000031,
          9658.170000000002,
          5316.209999999999,
          7478.339999999994,
          12059.830000000022,
          17009.370000000014,
          7788.960000000001,
          6357.389999999997,
          16956.439999999988,
          11613.249999999993,
          10095.11,
          13906.120000000019,
          9263.95999999999,
          6955.539999999992,
          12470.010000000013,
          10102.079999999996,
          20108.219999999994,
          8666.389999999983,
          7950.84,
          3136.5399999999995,
          16738.41999999994,
          9646.839999999993,
          9706.819999999996,
          12244.82000000001,
          8734.559999999996,
          4433.439999999998,
          14502.809999999976,
          11105.139999999998,
          22070.800000000036,
          18138.47000000002,
          3451.189999999999
         ]
        },
        {
         "line": {
          "color": "rgba(219, 64, 82, 1.0)",
          "dash": "solid",
          "shape": "linear",
          "width": 1.3
         },
         "mode": "lines",
         "name": "Very High",
         "text": "",
         "type": "scatter",
         "x": [
          "2010-12-01",
          "2010-12-02",
          "2010-12-03",
          "2010-12-05",
          "2010-12-06",
          "2010-12-07",
          "2010-12-08",
          "2010-12-09",
          "2010-12-10",
          "2010-12-12",
          "2010-12-13",
          "2010-12-14",
          "2010-12-15",
          "2010-12-16",
          "2010-12-17",
          "2010-12-19",
          "2010-12-20",
          "2010-12-21",
          "2010-12-22",
          "2010-12-23",
          "2011-01-04",
          "2011-01-05",
          "2011-01-06",
          "2011-01-07",
          "2011-01-09",
          "2011-01-10",
          "2011-01-11",
          "2011-01-12",
          "2011-01-13",
          "2011-01-14",
          "2011-01-16",
          "2011-01-17",
          "2011-01-18",
          "2011-01-19",
          "2011-01-20",
          "2011-01-21",
          "2011-01-23",
          "2011-01-24",
          "2011-01-25",
          "2011-01-26",
          "2011-01-27",
          "2011-01-28",
          "2011-01-30",
          "2011-01-31",
          "2011-02-01",
          "2011-02-02",
          "2011-02-03",
          "2011-02-04",
          "2011-02-06",
          "2011-02-07",
          "2011-02-08",
          "2011-02-09",
          "2011-02-10",
          "2011-02-11",
          "2011-02-13",
          "2011-02-14",
          "2011-02-15",
          "2011-02-16",
          "2011-02-17",
          "2011-02-18",
          "2011-02-20",
          "2011-02-21",
          "2011-02-22",
          "2011-02-23",
          "2011-02-24",
          "2011-02-25",
          "2011-02-27",
          "2011-02-28",
          "2011-03-01",
          "2011-03-02",
          "2011-03-03",
          "2011-03-04",
          "2011-03-06",
          "2011-03-07",
          "2011-03-08",
          "2011-03-09",
          "2011-03-10",
          "2011-03-11",
          "2011-03-13",
          "2011-03-14",
          "2011-03-15",
          "2011-03-16",
          "2011-03-17",
          "2011-03-18",
          "2011-03-20",
          "2011-03-21",
          "2011-03-22",
          "2011-03-23",
          "2011-03-24",
          "2011-03-25",
          "2011-03-27",
          "2011-03-28",
          "2011-03-29",
          "2011-03-30",
          "2011-03-31",
          "2011-04-01",
          "2011-04-03",
          "2011-04-04",
          "2011-04-05",
          "2011-04-06",
          "2011-04-07",
          "2011-04-08",
          "2011-04-10",
          "2011-04-11",
          "2011-04-12",
          "2011-04-13",
          "2011-04-14",
          "2011-04-15",
          "2011-04-17",
          "2011-04-18",
          "2011-04-19",
          "2011-04-20",
          "2011-04-21",
          "2011-04-26",
          "2011-04-27",
          "2011-04-28",
          "2011-05-01",
          "2011-05-03",
          "2011-05-04",
          "2011-05-05",
          "2011-05-06",
          "2011-05-08",
          "2011-05-09",
          "2011-05-10",
          "2011-05-11",
          "2011-05-12",
          "2011-05-13",
          "2011-05-15",
          "2011-05-16",
          "2011-05-17",
          "2011-05-18",
          "2011-05-19",
          "2011-05-20",
          "2011-05-22",
          "2011-05-23",
          "2011-05-24",
          "2011-05-25",
          "2011-05-26",
          "2011-05-27",
          "2011-05-29",
          "2011-05-31",
          "2011-06-01",
          "2011-06-02",
          "2011-06-03",
          "2011-06-05",
          "2011-06-06",
          "2011-06-07",
          "2011-06-08",
          "2011-06-09",
          "2011-06-10",
          "2011-06-12",
          "2011-06-13",
          "2011-06-14",
          "2011-06-15",
          "2011-06-16",
          "2011-06-17",
          "2011-06-19",
          "2011-06-20",
          "2011-06-21",
          "2011-06-22",
          "2011-06-23",
          "2011-06-24",
          "2011-06-26",
          "2011-06-27",
          "2011-06-28",
          "2011-06-29",
          "2011-06-30",
          "2011-07-01",
          "2011-07-03",
          "2011-07-04",
          "2011-07-05",
          "2011-07-06",
          "2011-07-07",
          "2011-07-08",
          "2011-07-10",
          "2011-07-11",
          "2011-07-12",
          "2011-07-13",
          "2011-07-14",
          "2011-07-15",
          "2011-07-17",
          "2011-07-18",
          "2011-07-19",
          "2011-07-20",
          "2011-07-21",
          "2011-07-22",
          "2011-07-24",
          "2011-07-25",
          "2011-07-26",
          "2011-07-27",
          "2011-07-28",
          "2011-07-29",
          "2011-07-31",
          "2011-08-01",
          "2011-08-02",
          "2011-08-03",
          "2011-08-04",
          "2011-08-05",
          "2011-08-07",
          "2011-08-08",
          "2011-08-09",
          "2011-08-10",
          "2011-08-11",
          "2011-08-12",
          "2011-08-14",
          "2011-08-15",
          "2011-08-16",
          "2011-08-17",
          "2011-08-18",
          "2011-08-19",
          "2011-08-21",
          "2011-08-22",
          "2011-08-23",
          "2011-08-24",
          "2011-08-25",
          "2011-08-26",
          "2011-08-28",
          "2011-08-30",
          "2011-08-31",
          "2011-09-01",
          "2011-09-02",
          "2011-09-04",
          "2011-09-05",
          "2011-09-06",
          "2011-09-07",
          "2011-09-08",
          "2011-09-09",
          "2011-09-11",
          "2011-09-12",
          "2011-09-13",
          "2011-09-14",
          "2011-09-15",
          "2011-09-16",
          "2011-09-18",
          "2011-09-19",
          "2011-09-20",
          "2011-09-21",
          "2011-09-22",
          "2011-09-23",
          "2011-09-25",
          "2011-09-26",
          "2011-09-27",
          "2011-09-28",
          "2011-09-29",
          "2011-09-30",
          "2011-10-02",
          "2011-10-03",
          "2011-10-04",
          "2011-10-05",
          "2011-10-06",
          "2011-10-07",
          "2011-10-09",
          "2011-10-10",
          "2011-10-11",
          "2011-10-12",
          "2011-10-13",
          "2011-10-14",
          "2011-10-16",
          "2011-10-17",
          "2011-10-18",
          "2011-10-19",
          "2011-10-20",
          "2011-10-21",
          "2011-10-23",
          "2011-10-24",
          "2011-10-25",
          "2011-10-26",
          "2011-10-27",
          "2011-10-28",
          "2011-10-30",
          "2011-10-31",
          "2011-11-01",
          "2011-11-02",
          "2011-11-03",
          "2011-11-04",
          "2011-11-06",
          "2011-11-07",
          "2011-11-08",
          "2011-11-09",
          "2011-11-10",
          "2011-11-11",
          "2011-11-13",
          "2011-11-14",
          "2011-11-15",
          "2011-11-16",
          "2011-11-17",
          "2011-11-18",
          "2011-11-20",
          "2011-11-21",
          "2011-11-22",
          "2011-11-23",
          "2011-11-24",
          "2011-11-25",
          "2011-11-27",
          "2011-11-28",
          "2011-11-29",
          "2011-11-30",
          "2011-12-01",
          "2011-12-02",
          "2011-12-04",
          "2011-12-05",
          "2011-12-06",
          "2011-12-07",
          "2011-12-08",
          "2011-12-09"
         ],
         "y": [
          11281.039999999994,
          14563.450000000003,
          9316.600000000013,
          9679.249999999987,
          9130.02999999999,
          22643.76999999999,
          10815.670000000004,
          12811.590000000002,
          12706.94,
          5247.699999999993,
          8016.259999999992,
          8251.719999999985,
          10430.44000000001,
          11432.180000000017,
          7862.799999999995,
          2078.5000000000014,
          6037.599999999992,
          3237.1,
          1421.980000000001,
          1358.7000000000007,
          4019.5999999999995,
          6224.899999999993,
          9459.039999999995,
          6134.099999999995,
          4513.499999999993,
          4838.029999999995,
          10986.14,
          7134.999999999988,
          4308.549999999999,
          11283.810000000001,
          1943.0000000000018,
          5030.599999999993,
          3642.5199999999973,
          3070.939999999998,
          3506.099999999999,
          7650.719999999997,
          3765.0999999999985,
          6627.489999999992,
          6871.549999999991,
          5889.399999999992,
          8520.89,
          6135.399999999997,
          2262.6000000000017,
          5173.349999999992,
          7301.449999999991,
          5057.349999999993,
          5165.599999999996,
          5435.899999999998,
          1221.5500000000009,
          12047.730000000001,
          2765.1000000000004,
          2957.0999999999967,
          4684.749999999995,
          6938.749999999998,
          2340.150000000001,
          5217.999999999997,
          11706.550000000001,
          6530.800000000001,
          4414.05,
          2918.7499999999986,
          3468.4499999999944,
          5400.149999999989,
          5697.249999999993,
          7021.299999999999,
          7674.059999999991,
          4971.699999999998,
          3441.1499999999965,
          4442.649999999994,
          7494.249999999991,
          8780.589999999998,
          11786.150000000003,
          2663.2000000000016,
          3588.2499999999995,
          6551.549999999993,
          6948.699999999991,
          7102.699999999996,
          6954.199999999996,
          5427.65,
          1320.6000000000015,
          7667.7499999999945,
          4567.0999999999985,
          7117.799999999991,
          7243.699999999997,
          7270.349999999996,
          6072.779999999989,
          4019.049999999999,
          5289.299999999993,
          5351.25,
          9443.95999999999,
          7694.24,
          3664.699999999997,
          5626.549999999995,
          6237.229999999993,
          6685.649999999994,
          7523.149999999993,
          5352.7999999999965,
          1876.1500000000015,
          5212.429999999995,
          6794.4999999999945,
          3509.5399999999972,
          4482.799999999991,
          5775.299999999998,
          2824.7800000000016,
          4461.199999999995,
          6023.59999999999,
          5222.049999999996,
          9718.599999999995,
          6644.0499999999965,
          3176.0599999999986,
          9538.800000000005,
          4432.149999999996,
          6066.669999999991,
          7458.099999999997,
          5317.9999999999945,
          6343.149999999992,
          6005.799999999994,
          1605.7500000000014,
          4920.049999999998,
          8517.74999999999,
          7083.249999999991,
          11169.850000000013,
          5434.249999999994,
          6256.339999999997,
          8549.249999999985,
          8845.879999999983,
          14638.890000000016,
          8210.19999999999,
          2994.4799999999973,
          18053.91,
          15578.349999999999,
          9025.829999999984,
          9837.700000000003,
          5928.999999999996,
          7868.8299999999845,
          7441.99999999999,
          12092.380000000005,
          4704.94,
          6120.449999999997,
          5503.799999999998,
          2757.1999999999935,
          5380.149999999995,
          2715.3299999999986,
          10139.740000000002,
          5495.999999999997,
          6787.449999999998,
          4713.979999999995,
          16717.94999999999,
          8226.649999999987,
          23550.780000000013,
          46151.8,
          3205.000000000002,
          4953.739999999996,
          14943.530000000012,
          6505.059999999997,
          6587.299999999997,
          6045.589999999993,
          6012.719999999993,
          6449.949999999997,
          5273.849999999998,
          4738.399999999997,
          5729.249999999997,
          4508.7000000000035,
          2614.249999999999,
          2965.4099999999985,
          6326.269999999999,
          3091.549999999998,
          10816.999999999993,
          3202.5799999999967,
          2134.400000000001,
          17340.850000000002,
          7549.699999999995,
          4983.899999999998,
          6598.300000000001,
          2969.649999999999,
          1724.3500000000017,
          5115.199999999993,
          3394.749999999999,
          3773.6000000000004,
          10688,
          3808.699999999999,
          5452.049999999995,
          6962.699999999987,
          14629.570000000009,
          5951.0499999999965,
          10190.39999999999,
          4480.899999999999,
          6864.349999999995,
          4446.2999999999965,
          4315.15,
          5313.999999999997,
          16268.150000000005,
          3542.9500000000007,
          8820.449999999997,
          5368.8499999999885,
          3907.100000000001,
          6966.099999999989,
          12859.649999999989,
          4844.689999999994,
          1938.5000000000005,
          4962.899999999994,
          4159.030000000001,
          3776.9999999999995,
          7168.249999999999,
          4009.7000000000025,
          1646.1000000000017,
          5374.7499999999945,
          3772.999999999998,
          13088.80999999999,
          11027.180000000013,
          5152.350000000003,
          4155.2999999999965,
          7097.749999999993,
          5370.890000000002,
          6966.899999999994,
          5616.549999999995,
          4430.1500000000015,
          2439.200000000001,
          2541.1500000000005,
          4753.849999999998,
          7196.849999999999,
          7964.829999999991,
          4559.099999999999,
          8185.119999999999,
          7272.549999999996,
          3133.430000000001,
          5026.679999999996,
          7125.779999999991,
          10129.930000000008,
          7468.489999999993,
          8272.119999999994,
          5399.9999999999945,
          41567.399999999994,
          6373.399999999998,
          4224.689999999996,
          7454.400000000001,
          43566.82999999992,
          10597.940000000019,
          18420.519999999997,
          6212.749999999997,
          8905.299999999992,
          9010.329999999998,
          7892.899999999997,
          10388.099999999993,
          9736.480000000003,
          14703.530000000006,
          4616.999999999995,
          20070.2,
          9865.909999999998,
          19172.09000000003,
          11120.600000000026,
          7567.349999999998,
          4057.629999999996,
          12741.420000000027,
          10237.500000000004,
          6601.199999999996,
          9147.449999999992,
          9714.039999999999,
          10210.230000000014,
          10805.17000000001,
          9144.020000000004,
          9486.899999999998,
          13773.72000000003,
          33324.25000000001,
          4252.1999999999925,
          10114.859999999997,
          6026.959999999989,
          8553.84999999999,
          10368.680000000004,
          8930.350000000006,
          9380.499999999993,
          10409.979999999992,
          7536.859999999995,
          7744.8999999999905,
          14621.740000000002,
          12886.350000000011,
          11501.199999999984,
          9732.14999999999,
          10305.7,
          12437.73,
          19227.370000000017,
          7480.029999999997,
          6513.399999999986,
          12845.65,
          11312.270000000008,
          12248.979999999998,
          15194.250000000033,
          9776.74999999999,
          8063.2299999999705,
          13802.340000000007,
          15289.490000000022,
          21254.14000000001,
          10076.849999999999,
          6229.359999999996,
          5021.3899999999885,
          10527.45999999998,
          13555.380000000036,
          9856.300000000005,
          10498.08000000001,
          9709.899999999996,
          5837.849999999991,
          11904.649999999983,
          12970.899999999989,
          11827.700000000003,
          13134.59000000001,
          4851.049999999999
         ]
        }
       ],
       "layout": {
        "legend": {
         "bgcolor": "#F5F6F9",
         "font": {
          "color": "#4D5663"
         }
        },
        "paper_bgcolor": "#F5F6F9",
        "plot_bgcolor": "#F5F6F9",
        "template": {
         "data": {
          "bar": [
           {
            "error_x": {
             "color": "#2a3f5f"
            },
            "error_y": {
             "color": "#2a3f5f"
            },
            "marker": {
             "line": {
              "color": "#E5ECF6",
              "width": 0.5
             }
            },
            "type": "bar"
           }
          ],
          "barpolar": [
           {
            "marker": {
             "line": {
              "color": "#E5ECF6",
              "width": 0.5
             }
            },
            "type": "barpolar"
           }
          ],
          "carpet": [
           {
            "aaxis": {
             "endlinecolor": "#2a3f5f",
             "gridcolor": "white",
             "linecolor": "white",
             "minorgridcolor": "white",
             "startlinecolor": "#2a3f5f"
            },
            "baxis": {
             "endlinecolor": "#2a3f5f",
             "gridcolor": "white",
             "linecolor": "white",
             "minorgridcolor": "white",
             "startlinecolor": "#2a3f5f"
            },
            "type": "carpet"
           }
          ],
          "choropleth": [
           {
            "colorbar": {
             "outlinewidth": 0,
             "ticks": ""
            },
            "type": "choropleth"
           }
          ],
          "contour": [
           {
            "colorbar": {
             "outlinewidth": 0,
             "ticks": ""
            },
            "colorscale": [
             [
              0,
              "#0d0887"
             ],
             [
              0.1111111111111111,
              "#46039f"
             ],
             [
              0.2222222222222222,
              "#7201a8"
             ],
             [
              0.3333333333333333,
              "#9c179e"
             ],
             [
              0.4444444444444444,
              "#bd3786"
             ],
             [
              0.5555555555555556,
              "#d8576b"
             ],
             [
              0.6666666666666666,
              "#ed7953"
             ],
             [
              0.7777777777777778,
              "#fb9f3a"
             ],
             [
              0.8888888888888888,
              "#fdca26"
             ],
             [
              1,
              "#f0f921"
             ]
            ],
            "type": "contour"
           }
          ],
          "contourcarpet": [
           {
            "colorbar": {
             "outlinewidth": 0,
             "ticks": ""
            },
            "type": "contourcarpet"
           }
          ],
          "heatmap": [
           {
            "colorbar": {
             "outlinewidth": 0,
             "ticks": ""
            },
            "colorscale": [
             [
              0,
              "#0d0887"
             ],
             [
              0.1111111111111111,
              "#46039f"
             ],
             [
              0.2222222222222222,
              "#7201a8"
             ],
             [
              0.3333333333333333,
              "#9c179e"
             ],
             [
              0.4444444444444444,
              "#bd3786"
             ],
             [
              0.5555555555555556,
              "#d8576b"
             ],
             [
              0.6666666666666666,
              "#ed7953"
             ],
             [
              0.7777777777777778,
              "#fb9f3a"
             ],
             [
              0.8888888888888888,
              "#fdca26"
             ],
             [
              1,
              "#f0f921"
             ]
            ],
            "type": "heatmap"
           }
          ],
          "heatmapgl": [
           {
            "colorbar": {
             "outlinewidth": 0,
             "ticks": ""
            },
            "colorscale": [
             [
              0,
              "#0d0887"
             ],
             [
              0.1111111111111111,
              "#46039f"
             ],
             [
              0.2222222222222222,
              "#7201a8"
             ],
             [
              0.3333333333333333,
              "#9c179e"
             ],
             [
              0.4444444444444444,
              "#bd3786"
             ],
             [
              0.5555555555555556,
              "#d8576b"
             ],
             [
              0.6666666666666666,
              "#ed7953"
             ],
             [
              0.7777777777777778,
              "#fb9f3a"
             ],
             [
              0.8888888888888888,
              "#fdca26"
             ],
             [
              1,
              "#f0f921"
             ]
            ],
            "type": "heatmapgl"
           }
          ],
          "histogram": [
           {
            "marker": {
             "colorbar": {
              "outlinewidth": 0,
              "ticks": ""
             }
            },
            "type": "histogram"
           }
          ],
          "histogram2d": [
           {
            "colorbar": {
             "outlinewidth": 0,
             "ticks": ""
            },
            "colorscale": [
             [
              0,
              "#0d0887"
             ],
             [
              0.1111111111111111,
              "#46039f"
             ],
             [
              0.2222222222222222,
              "#7201a8"
             ],
             [
              0.3333333333333333,
              "#9c179e"
             ],
             [
              0.4444444444444444,
              "#bd3786"
             ],
             [
              0.5555555555555556,
              "#d8576b"
             ],
             [
              0.6666666666666666,
              "#ed7953"
             ],
             [
              0.7777777777777778,
              "#fb9f3a"
             ],
             [
              0.8888888888888888,
              "#fdca26"
             ],
             [
              1,
              "#f0f921"
             ]
            ],
            "type": "histogram2d"
           }
          ],
          "histogram2dcontour": [
           {
            "colorbar": {
             "outlinewidth": 0,
             "ticks": ""
            },
            "colorscale": [
             [
              0,
              "#0d0887"
             ],
             [
              0.1111111111111111,
              "#46039f"
             ],
             [
              0.2222222222222222,
              "#7201a8"
             ],
             [
              0.3333333333333333,
              "#9c179e"
             ],
             [
              0.4444444444444444,
              "#bd3786"
             ],
             [
              0.5555555555555556,
              "#d8576b"
             ],
             [
              0.6666666666666666,
              "#ed7953"
             ],
             [
              0.7777777777777778,
              "#fb9f3a"
             ],
             [
              0.8888888888888888,
              "#fdca26"
             ],
             [
              1,
              "#f0f921"
             ]
            ],
            "type": "histogram2dcontour"
           }
          ],
          "mesh3d": [
           {
            "colorbar": {
             "outlinewidth": 0,
             "ticks": ""
            },
            "type": "mesh3d"
           }
          ],
          "parcoords": [
           {
            "line": {
             "colorbar": {
              "outlinewidth": 0,
              "ticks": ""
             }
            },
            "type": "parcoords"
           }
          ],
          "scatter": [
           {
            "marker": {
             "colorbar": {
              "outlinewidth": 0,
              "ticks": ""
             }
            },
            "type": "scatter"
           }
          ],
          "scatter3d": [
           {
            "line": {
             "colorbar": {
              "outlinewidth": 0,
              "ticks": ""
             }
            },
            "marker": {
             "colorbar": {
              "outlinewidth": 0,
              "ticks": ""
             }
            },
            "type": "scatter3d"
           }
          ],
          "scattercarpet": [
           {
            "marker": {
             "colorbar": {
              "outlinewidth": 0,
              "ticks": ""
             }
            },
            "type": "scattercarpet"
           }
          ],
          "scattergeo": [
           {
            "marker": {
             "colorbar": {
              "outlinewidth": 0,
              "ticks": ""
             }
            },
            "type": "scattergeo"
           }
          ],
          "scattergl": [
           {
            "marker": {
             "colorbar": {
              "outlinewidth": 0,
              "ticks": ""
             }
            },
            "type": "scattergl"
           }
          ],
          "scattermapbox": [
           {
            "marker": {
             "colorbar": {
              "outlinewidth": 0,
              "ticks": ""
             }
            },
            "type": "scattermapbox"
           }
          ],
          "scatterpolar": [
           {
            "marker": {
             "colorbar": {
              "outlinewidth": 0,
              "ticks": ""
             }
            },
            "type": "scatterpolar"
           }
          ],
          "scatterpolargl": [
           {
            "marker": {
             "colorbar": {
              "outlinewidth": 0,
              "ticks": ""
             }
            },
            "type": "scatterpolargl"
           }
          ],
          "scatterternary": [
           {
            "marker": {
             "colorbar": {
              "outlinewidth": 0,
              "ticks": ""
             }
            },
            "type": "scatterternary"
           }
          ],
          "surface": [
           {
            "colorbar": {
             "outlinewidth": 0,
             "ticks": ""
            },
            "colorscale": [
             [
              0,
              "#0d0887"
             ],
             [
              0.1111111111111111,
              "#46039f"
             ],
             [
              0.2222222222222222,
              "#7201a8"
             ],
             [
              0.3333333333333333,
              "#9c179e"
             ],
             [
              0.4444444444444444,
              "#bd3786"
             ],
             [
              0.5555555555555556,
              "#d8576b"
             ],
             [
              0.6666666666666666,
              "#ed7953"
             ],
             [
              0.7777777777777778,
              "#fb9f3a"
             ],
             [
              0.8888888888888888,
              "#fdca26"
             ],
             [
              1,
              "#f0f921"
             ]
            ],
            "type": "surface"
           }
          ],
          "table": [
           {
            "cells": {
             "fill": {
              "color": "#EBF0F8"
             },
             "line": {
              "color": "white"
             }
            },
            "header": {
             "fill": {
              "color": "#C8D4E3"
             },
             "line": {
              "color": "white"
             }
            },
            "type": "table"
           }
          ]
         },
         "layout": {
          "annotationdefaults": {
           "arrowcolor": "#2a3f5f",
           "arrowhead": 0,
           "arrowwidth": 1
          },
          "colorscale": {
           "diverging": [
            [
             0,
             "#8e0152"
            ],
            [
             0.1,
             "#c51b7d"
            ],
            [
             0.2,
             "#de77ae"
            ],
            [
             0.3,
             "#f1b6da"
            ],
            [
             0.4,
             "#fde0ef"
            ],
            [
             0.5,
             "#f7f7f7"
            ],
            [
             0.6,
             "#e6f5d0"
            ],
            [
             0.7,
             "#b8e186"
            ],
            [
             0.8,
             "#7fbc41"
            ],
            [
             0.9,
             "#4d9221"
            ],
            [
             1,
             "#276419"
            ]
           ],
           "sequential": [
            [
             0,
             "#0d0887"
            ],
            [
             0.1111111111111111,
             "#46039f"
            ],
            [
             0.2222222222222222,
             "#7201a8"
            ],
            [
             0.3333333333333333,
             "#9c179e"
            ],
            [
             0.4444444444444444,
             "#bd3786"
            ],
            [
             0.5555555555555556,
             "#d8576b"
            ],
            [
             0.6666666666666666,
             "#ed7953"
            ],
            [
             0.7777777777777778,
             "#fb9f3a"
            ],
            [
             0.8888888888888888,
             "#fdca26"
            ],
            [
             1,
             "#f0f921"
            ]
           ],
           "sequentialminus": [
            [
             0,
             "#0d0887"
            ],
            [
             0.1111111111111111,
             "#46039f"
            ],
            [
             0.2222222222222222,
             "#7201a8"
            ],
            [
             0.3333333333333333,
             "#9c179e"
            ],
            [
             0.4444444444444444,
             "#bd3786"
            ],
            [
             0.5555555555555556,
             "#d8576b"
            ],
            [
             0.6666666666666666,
             "#ed7953"
            ],
            [
             0.7777777777777778,
             "#fb9f3a"
            ],
            [
             0.8888888888888888,
             "#fdca26"
            ],
            [
             1,
             "#f0f921"
            ]
           ]
          },
          "colorway": [
           "#636efa",
           "#EF553B",
           "#00cc96",
           "#ab63fa",
           "#FFA15A",
           "#19d3f3",
           "#FF6692",
           "#B6E880",
           "#FF97FF",
           "#FECB52"
          ],
          "font": {
           "color": "#2a3f5f"
          },
          "geo": {
           "bgcolor": "white",
           "lakecolor": "white",
           "landcolor": "#E5ECF6",
           "showlakes": true,
           "showland": true,
           "subunitcolor": "white"
          },
          "hoverlabel": {
           "align": "left"
          },
          "hovermode": "closest",
          "mapbox": {
           "style": "light"
          },
          "paper_bgcolor": "white",
          "plot_bgcolor": "#E5ECF6",
          "polar": {
           "angularaxis": {
            "gridcolor": "white",
            "linecolor": "white",
            "ticks": ""
           },
           "bgcolor": "#E5ECF6",
           "radialaxis": {
            "gridcolor": "white",
            "linecolor": "white",
            "ticks": ""
           }
          },
          "scene": {
           "xaxis": {
            "backgroundcolor": "#E5ECF6",
            "gridcolor": "white",
            "gridwidth": 2,
            "linecolor": "white",
            "showbackground": true,
            "ticks": "",
            "zerolinecolor": "white"
           },
           "yaxis": {
            "backgroundcolor": "#E5ECF6",
            "gridcolor": "white",
            "gridwidth": 2,
            "linecolor": "white",
            "showbackground": true,
            "ticks": "",
            "zerolinecolor": "white"
           },
           "zaxis": {
            "backgroundcolor": "#E5ECF6",
            "gridcolor": "white",
            "gridwidth": 2,
            "linecolor": "white",
            "showbackground": true,
            "ticks": "",
            "zerolinecolor": "white"
           }
          },
          "shapedefaults": {
           "line": {
            "color": "#2a3f5f"
           }
          },
          "ternary": {
           "aaxis": {
            "gridcolor": "white",
            "linecolor": "white",
            "ticks": ""
           },
           "baxis": {
            "gridcolor": "white",
            "linecolor": "white",
            "ticks": ""
           },
           "bgcolor": "#E5ECF6",
           "caxis": {
            "gridcolor": "white",
            "linecolor": "white",
            "ticks": ""
           }
          },
          "title": {
           "x": 0.05
          },
          "xaxis": {
           "automargin": true,
           "gridcolor": "white",
           "linecolor": "white",
           "ticks": "",
           "zerolinecolor": "white",
           "zerolinewidth": 2
          },
          "yaxis": {
           "automargin": true,
           "gridcolor": "white",
           "linecolor": "white",
           "ticks": "",
           "zerolinecolor": "white",
           "zerolinewidth": 2
          }
         }
        },
        "title": {
         "font": {
          "color": "#4D5663"
         },
         "text": "Total Revenue by Product Category by Time"
        },
        "xaxis": {
         "gridcolor": "#E1E5ED",
         "showgrid": true,
         "tickfont": {
          "color": "#4D5663"
         },
         "title": {
          "font": {
           "color": "#4D5663"
          },
          "text": "Date"
         },
         "zerolinecolor": "#E1E5ED"
        },
        "yaxis": {
         "gridcolor": "#E1E5ED",
         "showgrid": true,
         "tickfont": {
          "color": "#4D5663"
         },
         "title": {
          "font": {
           "color": "#4D5663"
          },
          "text": "Total Revenue"
         },
         "zerolinecolor": "#E1E5ED"
        }
       }
      },
      "text/html": [
       "<div>\n",
       "        \n",
       "        \n",
       "            <div id=\"6501e733-21ca-40b6-b101-f91f7e1d09ec\" class=\"plotly-graph-div\" style=\"height:525px; width:100%;\"></div>\n",
       "            <script type=\"text/javascript\">\n",
       "                require([\"plotly\"], function(Plotly) {\n",
       "                    window.PLOTLYENV=window.PLOTLYENV || {};\n",
       "                    window.PLOTLYENV.BASE_URL='https://plot.ly';\n",
       "                    \n",
       "                if (document.getElementById(\"6501e733-21ca-40b6-b101-f91f7e1d09ec\")) {\n",
       "                    Plotly.newPlot(\n",
       "                        '6501e733-21ca-40b6-b101-f91f7e1d09ec',\n",
       "                        [{\"line\": {\"color\": \"rgba(255, 153, 51, 1.0)\", \"dash\": \"solid\", \"shape\": \"linear\", \"width\": 1.3}, \"mode\": \"lines\", \"name\": \"Very Low\", \"text\": \"\", \"type\": \"scatter\", \"x\": [\"2010-12-01\", \"2010-12-02\", \"2010-12-03\", \"2010-12-05\", \"2010-12-06\", \"2010-12-07\", \"2010-12-08\", \"2010-12-09\", \"2010-12-10\", \"2010-12-12\", \"2010-12-13\", \"2010-12-14\", \"2010-12-15\", \"2010-12-16\", \"2010-12-17\", \"2010-12-19\", \"2010-12-20\", \"2010-12-21\", \"2010-12-22\", \"2010-12-23\", \"2011-01-04\", \"2011-01-05\", \"2011-01-06\", \"2011-01-07\", \"2011-01-09\", \"2011-01-10\", \"2011-01-11\", \"2011-01-12\", \"2011-01-13\", \"2011-01-14\", \"2011-01-16\", \"2011-01-17\", \"2011-01-18\", \"2011-01-19\", \"2011-01-20\", \"2011-01-21\", \"2011-01-23\", \"2011-01-24\", \"2011-01-25\", \"2011-01-26\", \"2011-01-27\", \"2011-01-28\", \"2011-01-30\", \"2011-01-31\", \"2011-02-01\", \"2011-02-02\", \"2011-02-03\", \"2011-02-04\", \"2011-02-06\", \"2011-02-07\", \"2011-02-08\", \"2011-02-09\", \"2011-02-10\", \"2011-02-11\", \"2011-02-13\", \"2011-02-14\", \"2011-02-15\", \"2011-02-16\", \"2011-02-17\", \"2011-02-18\", \"2011-02-20\", \"2011-02-21\", \"2011-02-22\", \"2011-02-23\", \"2011-02-24\", \"2011-02-25\", \"2011-02-27\", \"2011-02-28\", \"2011-03-01\", \"2011-03-02\", \"2011-03-03\", \"2011-03-04\", \"2011-03-06\", \"2011-03-07\", \"2011-03-08\", \"2011-03-09\", \"2011-03-10\", \"2011-03-11\", \"2011-03-13\", \"2011-03-14\", \"2011-03-15\", \"2011-03-16\", \"2011-03-17\", \"2011-03-18\", \"2011-03-20\", \"2011-03-21\", \"2011-03-22\", \"2011-03-23\", \"2011-03-24\", \"2011-03-25\", \"2011-03-27\", \"2011-03-28\", \"2011-03-29\", \"2011-03-30\", \"2011-03-31\", \"2011-04-01\", \"2011-04-03\", \"2011-04-04\", \"2011-04-05\", \"2011-04-06\", \"2011-04-07\", \"2011-04-08\", \"2011-04-10\", \"2011-04-11\", \"2011-04-12\", \"2011-04-13\", \"2011-04-14\", \"2011-04-15\", \"2011-04-17\", \"2011-04-18\", \"2011-04-19\", \"2011-04-20\", \"2011-04-21\", \"2011-04-26\", \"2011-04-27\", \"2011-04-28\", \"2011-05-01\", \"2011-05-03\", \"2011-05-04\", \"2011-05-05\", \"2011-05-06\", \"2011-05-08\", \"2011-05-09\", \"2011-05-10\", \"2011-05-11\", \"2011-05-12\", \"2011-05-13\", \"2011-05-15\", \"2011-05-16\", \"2011-05-17\", \"2011-05-18\", \"2011-05-19\", \"2011-05-20\", \"2011-05-22\", \"2011-05-23\", \"2011-05-24\", \"2011-05-25\", \"2011-05-26\", \"2011-05-27\", \"2011-05-29\", \"2011-05-31\", \"2011-06-01\", \"2011-06-02\", \"2011-06-03\", \"2011-06-05\", \"2011-06-06\", \"2011-06-07\", \"2011-06-08\", \"2011-06-09\", \"2011-06-10\", \"2011-06-12\", \"2011-06-13\", \"2011-06-14\", \"2011-06-15\", \"2011-06-16\", \"2011-06-17\", \"2011-06-19\", \"2011-06-20\", \"2011-06-21\", \"2011-06-22\", \"2011-06-23\", \"2011-06-24\", \"2011-06-26\", \"2011-06-27\", \"2011-06-28\", \"2011-06-29\", \"2011-06-30\", \"2011-07-01\", \"2011-07-03\", \"2011-07-04\", \"2011-07-05\", \"2011-07-06\", \"2011-07-07\", \"2011-07-08\", \"2011-07-10\", \"2011-07-11\", \"2011-07-12\", \"2011-07-13\", \"2011-07-14\", \"2011-07-15\", \"2011-07-17\", \"2011-07-18\", \"2011-07-19\", \"2011-07-20\", \"2011-07-21\", \"2011-07-22\", \"2011-07-24\", \"2011-07-25\", \"2011-07-26\", \"2011-07-27\", \"2011-07-28\", \"2011-07-29\", \"2011-07-31\", \"2011-08-01\", \"2011-08-02\", \"2011-08-03\", \"2011-08-04\", \"2011-08-05\", \"2011-08-07\", \"2011-08-08\", \"2011-08-09\", \"2011-08-10\", \"2011-08-11\", \"2011-08-12\", \"2011-08-14\", \"2011-08-15\", \"2011-08-16\", \"2011-08-17\", \"2011-08-18\", \"2011-08-19\", \"2011-08-21\", \"2011-08-22\", \"2011-08-23\", \"2011-08-24\", \"2011-08-25\", \"2011-08-26\", \"2011-08-28\", \"2011-08-30\", \"2011-08-31\", \"2011-09-01\", \"2011-09-02\", \"2011-09-04\", \"2011-09-05\", \"2011-09-06\", \"2011-09-07\", \"2011-09-08\", \"2011-09-09\", \"2011-09-11\", \"2011-09-12\", \"2011-09-13\", \"2011-09-14\", \"2011-09-15\", \"2011-09-16\", \"2011-09-18\", \"2011-09-19\", \"2011-09-20\", \"2011-09-21\", \"2011-09-22\", \"2011-09-23\", \"2011-09-25\", \"2011-09-26\", \"2011-09-27\", \"2011-09-28\", \"2011-09-29\", \"2011-09-30\", \"2011-10-02\", \"2011-10-03\", \"2011-10-04\", \"2011-10-05\", \"2011-10-06\", \"2011-10-07\", \"2011-10-09\", \"2011-10-10\", \"2011-10-11\", \"2011-10-12\", \"2011-10-13\", \"2011-10-14\", \"2011-10-16\", \"2011-10-17\", \"2011-10-18\", \"2011-10-19\", \"2011-10-20\", \"2011-10-21\", \"2011-10-23\", \"2011-10-24\", \"2011-10-25\", \"2011-10-26\", \"2011-10-27\", \"2011-10-28\", \"2011-10-30\", \"2011-10-31\", \"2011-11-01\", \"2011-11-02\", \"2011-11-03\", \"2011-11-04\", \"2011-11-06\", \"2011-11-07\", \"2011-11-08\", \"2011-11-09\", \"2011-11-10\", \"2011-11-11\", \"2011-11-13\", \"2011-11-14\", \"2011-11-15\", \"2011-11-16\", \"2011-11-17\", \"2011-11-18\", \"2011-11-20\", \"2011-11-21\", \"2011-11-22\", \"2011-11-23\", \"2011-11-24\", \"2011-11-25\", \"2011-11-27\", \"2011-11-28\", \"2011-11-29\", \"2011-11-30\", \"2011-12-01\", \"2011-12-02\", \"2011-12-04\", \"2011-12-05\", \"2011-12-06\", \"2011-12-07\", \"2011-12-08\", \"2011-12-09\"], \"y\": [3625.709999999992, 6781.85999999999, 2071.630000000002, 3282.759999999997, 3169.819999999996, 1425.7199999999993, 4030.6799999999953, 3268.119999999995, 2629.029999999996, 2172.2700000000004, 3065.889999999995, 4434.009999999998, 4449.699999999995, 5476.709999999992, 3446.869999999999, 527.2400000000002, 3389.2000000000016, 2198.6799999999994, 588.91, 611.7100000000002, 1526.3600000000004, 3685.449999999994, 5050.769999999993, 3121.299999999998, 1625.9399999999994, 1995.139999999999, 1987.4999999999995, 1535.8199999999997, 1987.4399999999996, 3583.7999999999984, 745.4400000000005, 1610.1199999999994, 1337.1699999999998, 3397.449999999997, 1318.7799999999993, 2119.8300000000013, 902.39, 2039.5200000000007, 3159.1399999999967, 2191.959999999998, 2078.9999999999995, 2065.430000000001, 751.0200000000001, 3032.769999999995, 2880.8099999999995, 1630.5799999999997, 2846.8999999999974, 2774.2099999999973, 403.33, 1153.1700000000005, 1857.1599999999999, 1056.8600000000001, 2761.079999999996, 1231.8099999999997, 473.4300000000001, 1736.7900000000004, 5099.009999999997, 3346.119999999999, 2714.8199999999947, 1631.6200000000003, 1227.8199999999983, 4454.270000000001, 6807.159999999995, 3209.399999999994, 2314.0300000000007, 1848.9200000000003, 1122.770000000001, 1926.1000000000001, 2335.359999999999, 1868.0899999999992, 3447.509999999996, 2240.3399999999983, 1004.6599999999996, 1898.9999999999998, 3050.7499999999986, 3047.2099999999987, 3820.9199999999937, 2014.9199999999996, 750.42, 4566.510000000004, 1740.5699999999988, 3100.609999999996, 3363.9899999999966, 3199.7699999999945, 2867.729999999998, 1911.359999999999, 3460.9699999999975, 3487.499999999998, 2586.369999999995, 1832.2000000000019, 1014.7199999999999, 2389.2000000000016, 4395.759999999997, 4241.919999999993, 3269.769999999995, 3805.509999999999, 1208.5199999999982, 2377.169999999998, 2894.3099999999945, 2002.4899999999989, 2661.079999999998, 2977.3299999999977, 1308.1000000000004, 3191.2799999999957, 3195.6699999999964, 4542.219999999999, 3710.9499999999953, 2993.0209999999993, 1902.93, 4301.779999999993, 3419.369999999995, 4417.949999999998, 3833.399999999998, 3520.6999999999966, 3993.1599999999976, 2796.3299999999986, 788.8100000000002, 2432.129999999999, 4295.959999999993, 4674.499999999995, 4307.320000000001, 2398.779999999997, 2114.33, 3696.3399999999965, 4497.24, 8842.980000000005, 2392.439999999999, 936.0399999999998, 2444.3400000000015, 4813.740000000004, 3386.959999999997, 3330.539999999997, 3335.2199999999984, 2778.7999999999947, 3722.1399999999962, 2351.5399999999963, 2047.3699999999997, 2275.330000000001, 5355.249999999996, 909.7900000000002, 1953.5899999999995, 1984.6200000000001, 1714.2300000000002, 1371.0199999999998, 2460.2899999999972, 1670.2099999999996, 3719.499999999996, 4278.6799999999985, 5809.440000000002, 1962.4399999999985, 2744.5000000000005, 2115.3399999999997, 1919.8000000000006, 6204.069999999997, 5040.839999999998, 2400.1399999999994, 3134.3799999999974, 2585.5600000000004, 2898.1299999999974, 4134.889999999994, 3176.8099999999986, 2082.5799999999995, 920.6800000000003, 1907.329999999999, 4998.959999999995, 1571.57, 2460.7699999999986, 1737.759999999999, 626.4299999999996, 1872.8100000000009, 4916.129999999999, 5025.259999999998, 3576.7399999999984, 1709.2999999999995, 936.8399999999996, 3551.3499999999985, 3213.9299999999957, 4276.449999999997, 3821.1399999999985, 1405.889999999999, 2148.640000000001, 3076.029999999997, 5123.559999999996, 2991.3199999999947, 4680.879999999996, 1790.1100000000004, 3678.209999999999, 3695.7499999999973, 3419.580999999999, 2731.56, 4676.529999999998, 2914.649999999998, 4334.439999999999, 1823.9900000000002, 2881.0700000000006, 2987.699999999998, 7840.249999999994, 2369.2399999999993, 1244.730000000001, 2726.5200000000013, 3415.23, 2539.210000000002, 7288.5099999999975, 2690.359999999996, 764.8799999999997, 2310.459999999998, 2229.590000000002, 2924.2400000000034, 7085.189999999994, 2472.8299999999967, 1381.2199999999991, 2982.919999999997, 2804.8999999999974, 5722.320000000001, 2934.6599999999985, 4640.279999999998, 1434.7199999999991, 459.67999999999995, 2021.6400000000008, 6462.769999999994, 2553.62, 2845.53, 4605.620000000002, 2684.7799999999966, 2588.5199999999973, 4292.289999999996, 3952.5800000000017, 4710.879999999997, 3703.5699999999997, 8132.179999999994, 3050.509999999997, 3784.4799999999973, 3047.4999999999977, 2079.91, 6554.299999999996, 2846.01, 4032.419999999994, 7522.209999999982, 4286.979999999994, 4315.160999999996, 3381.5109999999963, 5214.169999999996, 5285.769999999992, 5729.1099999999915, 4589.909999999996, 1820.9599999999996, 2989.7199999999975, 5081.520000000001, 9222.789999999994, 5196.260000000002, 4347.949999999998, 1778.8999999999996, 4906.369999999994, 4374.3799999999965, 3516.5399999999963, 3332.619999999998, 3207.529999999998, 1848.17, 6991.789999999984, 6651.28, 3903.1999999999957, 9069.960000000014, 4337.259999999996, 1605.0499999999977, 5078.1399999999985, 6405.0399999999845, 3410.8699999999994, 6342.449999999996, 5978.520000000007, 4116.480000000002, 2429.5500000000015, 2911.1699999999955, 5619.910000000011, 4557.089999999993, 7143.639999999997, 4225.0799999999945, 3146.409999999994, 4172.829999999999, 6318.66999999999, 7856.729999999997, 5574.969999999991, 5201.040000000013, 5960.789999999994, 4508.259999999999, 6530.960000000009, 5387.639999999988, 3995.670000000001, 4189.099999999998, 4899.239999999989, 7171.190000000003, 7558.789999999997, 5421.1, 2514.979999999999, 2078.649999999998, 5074.599999999992, 4175.839999999996, 4596.5499999999965, 5108.599999999998, 4878.119999999987, 2419.019999999999, 9406.750000000004, 6336.250000000004, 6808.909999999984, 6606.48999999999, 2123.699999999999]}, {\"line\": {\"color\": \"rgba(55, 128, 191, 1.0)\", \"dash\": \"solid\", \"shape\": \"linear\", \"width\": 1.3}, \"mode\": \"lines\", \"name\": \"Low\", \"text\": \"\", \"type\": \"scatter\", \"x\": [\"2010-12-01\", \"2010-12-02\", \"2010-12-03\", \"2010-12-05\", \"2010-12-06\", \"2010-12-07\", \"2010-12-08\", \"2010-12-09\", \"2010-12-10\", \"2010-12-12\", \"2010-12-13\", \"2010-12-14\", \"2010-12-15\", \"2010-12-16\", \"2010-12-17\", \"2010-12-19\", \"2010-12-20\", \"2010-12-21\", \"2010-12-22\", \"2010-12-23\", \"2011-01-04\", \"2011-01-05\", \"2011-01-06\", \"2011-01-07\", \"2011-01-09\", \"2011-01-10\", \"2011-01-11\", \"2011-01-12\", \"2011-01-13\", \"2011-01-14\", \"2011-01-16\", \"2011-01-17\", \"2011-01-18\", \"2011-01-19\", \"2011-01-20\", \"2011-01-21\", \"2011-01-23\", \"2011-01-24\", \"2011-01-25\", \"2011-01-26\", \"2011-01-27\", \"2011-01-28\", \"2011-01-30\", \"2011-01-31\", \"2011-02-01\", \"2011-02-02\", \"2011-02-03\", \"2011-02-04\", \"2011-02-06\", \"2011-02-07\", \"2011-02-08\", \"2011-02-09\", \"2011-02-10\", \"2011-02-11\", \"2011-02-13\", \"2011-02-14\", \"2011-02-15\", \"2011-02-16\", \"2011-02-17\", \"2011-02-18\", \"2011-02-20\", \"2011-02-21\", \"2011-02-22\", \"2011-02-23\", \"2011-02-24\", \"2011-02-25\", \"2011-02-27\", \"2011-02-28\", \"2011-03-01\", \"2011-03-02\", \"2011-03-03\", \"2011-03-04\", \"2011-03-06\", \"2011-03-07\", \"2011-03-08\", \"2011-03-09\", \"2011-03-10\", \"2011-03-11\", \"2011-03-13\", \"2011-03-14\", \"2011-03-15\", \"2011-03-16\", \"2011-03-17\", \"2011-03-18\", \"2011-03-20\", \"2011-03-21\", \"2011-03-22\", \"2011-03-23\", \"2011-03-24\", \"2011-03-25\", \"2011-03-27\", \"2011-03-28\", \"2011-03-29\", \"2011-03-30\", \"2011-03-31\", \"2011-04-01\", \"2011-04-03\", \"2011-04-04\", \"2011-04-05\", \"2011-04-06\", \"2011-04-07\", \"2011-04-08\", \"2011-04-10\", \"2011-04-11\", \"2011-04-12\", \"2011-04-13\", \"2011-04-14\", \"2011-04-15\", \"2011-04-17\", \"2011-04-18\", \"2011-04-19\", \"2011-04-20\", \"2011-04-21\", \"2011-04-26\", \"2011-04-27\", \"2011-04-28\", \"2011-05-01\", \"2011-05-03\", \"2011-05-04\", \"2011-05-05\", \"2011-05-06\", \"2011-05-08\", \"2011-05-09\", \"2011-05-10\", \"2011-05-11\", \"2011-05-12\", \"2011-05-13\", \"2011-05-15\", \"2011-05-16\", \"2011-05-17\", \"2011-05-18\", \"2011-05-19\", \"2011-05-20\", \"2011-05-22\", \"2011-05-23\", \"2011-05-24\", \"2011-05-25\", \"2011-05-26\", \"2011-05-27\", \"2011-05-29\", \"2011-05-31\", \"2011-06-01\", \"2011-06-02\", \"2011-06-03\", \"2011-06-05\", \"2011-06-06\", \"2011-06-07\", \"2011-06-08\", \"2011-06-09\", \"2011-06-10\", \"2011-06-12\", \"2011-06-13\", \"2011-06-14\", \"2011-06-15\", \"2011-06-16\", \"2011-06-17\", \"2011-06-19\", \"2011-06-20\", \"2011-06-21\", \"2011-06-22\", \"2011-06-23\", \"2011-06-24\", \"2011-06-26\", \"2011-06-27\", \"2011-06-28\", \"2011-06-29\", \"2011-06-30\", \"2011-07-01\", \"2011-07-03\", \"2011-07-04\", \"2011-07-05\", \"2011-07-06\", \"2011-07-07\", \"2011-07-08\", \"2011-07-10\", \"2011-07-11\", \"2011-07-12\", \"2011-07-13\", \"2011-07-14\", \"2011-07-15\", \"2011-07-17\", \"2011-07-18\", \"2011-07-19\", \"2011-07-20\", \"2011-07-21\", \"2011-07-22\", \"2011-07-24\", \"2011-07-25\", \"2011-07-26\", \"2011-07-27\", \"2011-07-28\", \"2011-07-29\", \"2011-07-31\", \"2011-08-01\", \"2011-08-02\", \"2011-08-03\", \"2011-08-04\", \"2011-08-05\", \"2011-08-07\", \"2011-08-08\", \"2011-08-09\", \"2011-08-10\", \"2011-08-11\", \"2011-08-12\", \"2011-08-14\", \"2011-08-15\", \"2011-08-16\", \"2011-08-17\", \"2011-08-18\", \"2011-08-19\", \"2011-08-21\", \"2011-08-22\", \"2011-08-23\", \"2011-08-24\", \"2011-08-25\", \"2011-08-26\", \"2011-08-28\", \"2011-08-30\", \"2011-08-31\", \"2011-09-01\", \"2011-09-02\", \"2011-09-04\", \"2011-09-05\", \"2011-09-06\", \"2011-09-07\", \"2011-09-08\", \"2011-09-09\", \"2011-09-11\", \"2011-09-12\", \"2011-09-13\", \"2011-09-14\", \"2011-09-15\", \"2011-09-16\", \"2011-09-18\", \"2011-09-19\", \"2011-09-20\", \"2011-09-21\", \"2011-09-22\", \"2011-09-23\", \"2011-09-25\", \"2011-09-26\", \"2011-09-27\", \"2011-09-28\", \"2011-09-29\", \"2011-09-30\", \"2011-10-02\", \"2011-10-03\", \"2011-10-04\", \"2011-10-05\", \"2011-10-06\", \"2011-10-07\", \"2011-10-09\", \"2011-10-10\", \"2011-10-11\", \"2011-10-12\", \"2011-10-13\", \"2011-10-14\", \"2011-10-16\", \"2011-10-17\", \"2011-10-18\", \"2011-10-19\", \"2011-10-20\", \"2011-10-21\", \"2011-10-23\", \"2011-10-24\", \"2011-10-25\", \"2011-10-26\", \"2011-10-27\", \"2011-10-28\", \"2011-10-30\", \"2011-10-31\", \"2011-11-01\", \"2011-11-02\", \"2011-11-03\", \"2011-11-04\", \"2011-11-06\", \"2011-11-07\", \"2011-11-08\", \"2011-11-09\", \"2011-11-10\", \"2011-11-11\", \"2011-11-13\", \"2011-11-14\", \"2011-11-15\", \"2011-11-16\", \"2011-11-17\", \"2011-11-18\", \"2011-11-20\", \"2011-11-21\", \"2011-11-22\", \"2011-11-23\", \"2011-11-24\", \"2011-11-25\", \"2011-11-27\", \"2011-11-28\", \"2011-11-29\", \"2011-11-30\", \"2011-12-01\", \"2011-12-02\", \"2011-12-04\", \"2011-12-05\", \"2011-12-06\", \"2011-12-07\", \"2011-12-08\", \"2011-12-09\"], \"y\": [10391.57999999998, 11681.08999999998, 3885.8700000000035, 5702.719999999993, 5495.249999999998, 5496.329999999999, 9832.080000000002, 5387.169999999998, 7159.040000000003, 3738.030000000004, 6298.0, 6355.809999999992, 6316.829999999998, 13845.799999999961, 3387.3600000000015, 1422.7799999999995, 2773.8399999999992, 5344.609999999999, 1449.9300000000003, 1295.34, 1901.0300000000002, 6972.769999999999, 9223.519999999991, 7468.360000000001, 2849.2200000000016, 4193.6100000000015, 5031.519999999999, 3098.090000000004, 4176.580000000003, 10075.009999999998, 2466.870000000002, 4279.5300000000025, 2196.67, 8343.980000000003, 3578.940000000002, 5797.329999999999, 2616.7500000000005, 3920.800000000004, 6302.93, 3554.060000000002, 4470.149999999999, 3143.8300000000017, 1351.6699999999996, 5306.129999999995, 6377.219999999995, 4050.710000000005, 4759.810000000001, 3997.920000000001, 504.44, 2667.2300000000023, 3640.3600000000006, 2965.030000000001, 2146.289999999999, 5182.040000000003, 1437.2200000000005, 8315.509999999995, 7914.589999999999, 5369.440000000005, 4776.13, 4713.519999999998, 2007.540000000001, 11064.669999999971, 7852.45, 3537.3100000000027, 4798.11, 4785.780000000004, 1910.4600000000007, 2917.54, 5161.040000000002, 2737.9900000000025, 8457.209999999997, 6097.299999999998, 1972.5400000000006, 6046.400000000002, 4858.609999999992, 3223.1200000000017, 5337.469999999999, 3555.6100000000015, 692.9099999999996, 6858.5800000000045, 3814.5699999999997, 3690.900000000006, 14827.999999999965, 4276.460000000001, 4042.39000000001, 4969.3, 4028.9000000000074, 5690.949999999999, 7943.480000000002, 8369.650000000001, 2141.780000000001, 6656.650000000004, 14537.009999999984, 9315.649999999996, 5182.670000000001, 6496.229999999999, 1750.190000000001, 4376.180000000003, 5995.449999999999, 3009.1500000000005, 3288.060000000002, 4646.900000000002, 2156.8200000000006, 4488.540000000004, 6009.289999999997, 5814.470000000003, 6447.910000000002, 2825.67, 2774.0000000000045, 4334.900000000005, 3478.8100000000018, 6097.56, 5778.000000000002, 3593.380000000002, 4681.780000000004, 5390.839999999999, 1355.88, 3485.8900000000017, 5074.499999999999, 4219.080000000002, 5401.619999999998, 3765.710000000006, 5634.69, 5695.53, 7288.639999999998, 15102.779999999984, 5866.750000000002, 1994.69, 5590.680000000001, 10137.919999999998, 7382.500000000006, 6849.270000000001, 7202.910000000004, 5162.480000000004, 5898.810000000005, 3629.530000000004, 6648.380000000005, 6451.090000000004, 4108.150000000003, 1486.0000000000005, 3852.4100000000017, 4722.6299999999965, 5944.149999999996, 3153.1900000000023, 5659.489999999998, 4293.330000000001, 5577.159999999998, 7003.120000000001, 4631.430000000005, 3431.12, 2450.250000000002, 4171.580000000004, 3423.1400000000003, 10707.570000000007, 6095.4800000000005, 4687.8099999999995, 6518.809999999989, 4950.79, 3966.3800000000037, 4094.7200000000034, 6680.969999999993, 4108.300000000003, 1014.6499999999991, 3198.7100000000014, 8068.389999999994, 2169.6200000000003, 10519.16999999999, 3106.2100000000037, 1533.000000000001, 3873.110000000004, 5668.760000000003, 4582.500000000004, 5919.250000000005, 4052.750000000001, 1467.7100000000014, 4589.720000000005, 3079.930000000001, 5508.070000000002, 4947.490000000004, 2259.590000000001, 3775.530000000003, 4382.450000000002, 10691.889999999976, 5396.280000000005, 7816.130000000005, 3087.1100000000015, 6001.549999999998, 5275.860000000003, 4310.700000000002, 5060.959999999997, 9421.14, 3894.040000000003, 6380.980000000009, 4888.880000000003, 6867.63, 7713.2999999999965, 19315.78000000001, 4432.730000000002, 2127.3800000000006, 5568.319999999997, 6069.799999999997, 5059.840000000005, 21585.70999999999, 5570.08, 1243.8399999999995, 4210.570000000002, 4682.81, 11578.829999999998, 13039.849999999959, 3836.180000000005, 2650.1300000000033, 5311.810000000003, 5159.900000000001, 6898.930000000003, 5498.149999999999, 7312.390000000004, 2723.100000000003, 2066.45, 4015.090000000003, 9303.71999999999, 6308.209999999996, 3676.330000000004, 7348.520000000003, 5288.13, 6108.530000000003, 5903.079999999999, 4231.410000000003, 6306.0599999999895, 7093.049999999998, 12531.949999999977, 5051.910000000005, 8012.290000000002, 4355.350000000009, 2255.0300000000007, 12444.349999999979, 16513.989999999958, 5658.770000000005, 9869.559999999987, 7433.639999999993, 5898.569999999997, 4802.360000000008, 5108.049999999999, 7037.299999999998, 9636.94999999999, 7125.18, 1974.3200000000008, 10277.32999999999, 8969.079999999994, 16466.379999999943, 11019.549999999987, 12673.979999999989, 2017.5000000000014, 8549.199999999972, 10123.84999999998, 5512.2800000000025, 6776.559999999995, 6803.180000000001, 2555.970000000003, 10883.489999999983, 9661.50999999997, 7289.019999999993, 14787.58999999998, 9182.229999999996, 2586.7400000000043, 7217.240000000007, 7237.209999999996, 7339.109999999993, 9399.969999999994, 5759.739999999998, 7001.439999999996, 4634.520000000006, 5958.259999999996, 7609.949999999999, 11499.72999999999, 11644.29999999997, 9600.829999999998, 5761.120000000002, 8953.150000000001, 11787.96999999999, 11997.219999999961, 9063.929999999997, 6456.54999999999, 10964.56999999995, 10668.40999999997, 11156.44999999997, 10404.059999999961, 7565.189999999996, 6745.679999999993, 9318.159999999987, 8931.72999999997, 15213.499999999925, 7348.849999999988, 4753.330000000003, 3970.2200000000057, 9268.919999999971, 9093.119999999966, 7850.540000000007, 8298.379999999994, 8603.709999999986, 3600.200000000007, 10348.969999999974, 7108.559999999995, 13040.17999999998, 5512.710000000001, 2711.2800000000025]}, {\"line\": {\"color\": \"rgba(50, 171, 96, 1.0)\", \"dash\": \"solid\", \"shape\": \"linear\", \"width\": 1.3}, \"mode\": \"lines\", \"name\": \"Medium\", \"text\": \"\", \"type\": \"scatter\", \"x\": [\"2010-12-01\", \"2010-12-02\", \"2010-12-03\", \"2010-12-05\", \"2010-12-06\", \"2010-12-07\", \"2010-12-08\", \"2010-12-09\", \"2010-12-10\", \"2010-12-12\", \"2010-12-13\", \"2010-12-14\", \"2010-12-15\", \"2010-12-16\", \"2010-12-17\", \"2010-12-19\", \"2010-12-20\", \"2010-12-21\", \"2010-12-22\", \"2010-12-23\", \"2011-01-04\", \"2011-01-05\", \"2011-01-06\", \"2011-01-07\", \"2011-01-09\", \"2011-01-10\", \"2011-01-11\", \"2011-01-12\", \"2011-01-13\", \"2011-01-14\", \"2011-01-16\", \"2011-01-17\", \"2011-01-18\", \"2011-01-19\", \"2011-01-20\", \"2011-01-21\", \"2011-01-23\", \"2011-01-24\", \"2011-01-25\", \"2011-01-26\", \"2011-01-27\", \"2011-01-28\", \"2011-01-30\", \"2011-01-31\", \"2011-02-01\", \"2011-02-02\", \"2011-02-03\", \"2011-02-04\", \"2011-02-06\", \"2011-02-07\", \"2011-02-08\", \"2011-02-09\", \"2011-02-10\", \"2011-02-11\", \"2011-02-13\", \"2011-02-14\", \"2011-02-15\", \"2011-02-16\", \"2011-02-17\", \"2011-02-18\", \"2011-02-20\", \"2011-02-21\", \"2011-02-22\", \"2011-02-23\", \"2011-02-24\", \"2011-02-25\", \"2011-02-27\", \"2011-02-28\", \"2011-03-01\", \"2011-03-02\", \"2011-03-03\", \"2011-03-04\", \"2011-03-06\", \"2011-03-07\", \"2011-03-08\", \"2011-03-09\", \"2011-03-10\", \"2011-03-11\", \"2011-03-13\", \"2011-03-14\", \"2011-03-15\", \"2011-03-16\", \"2011-03-17\", \"2011-03-18\", \"2011-03-20\", \"2011-03-21\", \"2011-03-22\", \"2011-03-23\", \"2011-03-24\", \"2011-03-25\", \"2011-03-27\", \"2011-03-28\", \"2011-03-29\", \"2011-03-30\", \"2011-03-31\", \"2011-04-01\", \"2011-04-03\", \"2011-04-04\", \"2011-04-05\", \"2011-04-06\", \"2011-04-07\", \"2011-04-08\", \"2011-04-10\", \"2011-04-11\", \"2011-04-12\", \"2011-04-13\", \"2011-04-14\", \"2011-04-15\", \"2011-04-17\", \"2011-04-18\", \"2011-04-19\", \"2011-04-20\", \"2011-04-21\", \"2011-04-26\", \"2011-04-27\", \"2011-04-28\", \"2011-05-01\", \"2011-05-03\", \"2011-05-04\", \"2011-05-05\", \"2011-05-06\", \"2011-05-08\", \"2011-05-09\", \"2011-05-10\", \"2011-05-11\", \"2011-05-12\", \"2011-05-13\", \"2011-05-15\", \"2011-05-16\", \"2011-05-17\", \"2011-05-18\", \"2011-05-19\", \"2011-05-20\", \"2011-05-22\", \"2011-05-23\", \"2011-05-24\", \"2011-05-25\", \"2011-05-26\", \"2011-05-27\", \"2011-05-29\", \"2011-05-31\", \"2011-06-01\", \"2011-06-02\", \"2011-06-03\", \"2011-06-05\", \"2011-06-06\", \"2011-06-07\", \"2011-06-08\", \"2011-06-09\", \"2011-06-10\", \"2011-06-12\", \"2011-06-13\", \"2011-06-14\", \"2011-06-15\", \"2011-06-16\", \"2011-06-17\", \"2011-06-19\", \"2011-06-20\", \"2011-06-21\", \"2011-06-22\", \"2011-06-23\", \"2011-06-24\", \"2011-06-26\", \"2011-06-27\", \"2011-06-28\", \"2011-06-29\", \"2011-06-30\", \"2011-07-01\", \"2011-07-03\", \"2011-07-04\", \"2011-07-05\", \"2011-07-06\", \"2011-07-07\", \"2011-07-08\", \"2011-07-10\", \"2011-07-11\", \"2011-07-12\", \"2011-07-13\", \"2011-07-14\", \"2011-07-15\", \"2011-07-17\", \"2011-07-18\", \"2011-07-19\", \"2011-07-20\", \"2011-07-21\", \"2011-07-22\", \"2011-07-24\", \"2011-07-25\", \"2011-07-26\", \"2011-07-27\", \"2011-07-28\", \"2011-07-29\", \"2011-07-31\", \"2011-08-01\", \"2011-08-02\", \"2011-08-03\", \"2011-08-04\", \"2011-08-05\", \"2011-08-07\", \"2011-08-08\", \"2011-08-09\", \"2011-08-10\", \"2011-08-11\", \"2011-08-12\", \"2011-08-14\", \"2011-08-15\", \"2011-08-16\", \"2011-08-17\", \"2011-08-18\", \"2011-08-19\", \"2011-08-21\", \"2011-08-22\", \"2011-08-23\", \"2011-08-24\", \"2011-08-25\", \"2011-08-26\", \"2011-08-28\", \"2011-08-30\", \"2011-08-31\", \"2011-09-01\", \"2011-09-02\", \"2011-09-04\", \"2011-09-05\", \"2011-09-06\", \"2011-09-07\", \"2011-09-08\", \"2011-09-09\", \"2011-09-11\", \"2011-09-12\", \"2011-09-13\", \"2011-09-14\", \"2011-09-15\", \"2011-09-16\", \"2011-09-18\", \"2011-09-19\", \"2011-09-20\", \"2011-09-21\", \"2011-09-22\", \"2011-09-23\", \"2011-09-25\", \"2011-09-26\", \"2011-09-27\", \"2011-09-28\", \"2011-09-29\", \"2011-09-30\", \"2011-10-02\", \"2011-10-03\", \"2011-10-04\", \"2011-10-05\", \"2011-10-06\", \"2011-10-07\", \"2011-10-09\", \"2011-10-10\", \"2011-10-11\", \"2011-10-12\", \"2011-10-13\", \"2011-10-14\", \"2011-10-16\", \"2011-10-17\", \"2011-10-18\", \"2011-10-19\", \"2011-10-20\", \"2011-10-21\", \"2011-10-23\", \"2011-10-24\", \"2011-10-25\", \"2011-10-26\", \"2011-10-27\", \"2011-10-28\", \"2011-10-30\", \"2011-10-31\", \"2011-11-01\", \"2011-11-02\", \"2011-11-03\", \"2011-11-04\", \"2011-11-06\", \"2011-11-07\", \"2011-11-08\", \"2011-11-09\", \"2011-11-10\", \"2011-11-11\", \"2011-11-13\", \"2011-11-14\", \"2011-11-15\", \"2011-11-16\", \"2011-11-17\", \"2011-11-18\", \"2011-11-20\", \"2011-11-21\", \"2011-11-22\", \"2011-11-23\", \"2011-11-24\", \"2011-11-25\", \"2011-11-27\", \"2011-11-28\", \"2011-11-29\", \"2011-11-30\", \"2011-12-01\", \"2011-12-02\", \"2011-12-04\", \"2011-12-05\", \"2011-12-06\", \"2011-12-07\", \"2011-12-08\", \"2011-12-09\"], \"y\": [5949.879999999988, 4732.709999999995, 2505.93, 4085.299999999989, 5596.659999999996, 5342.42, 4346.179999999993, 2870.309999999997, 4737.249999999997, 2041.370000000002, 2984.119999999999, 3136.3699999999967, 3507.1399999999962, 5390.449999999998, 903.59, 1040.8500000000008, 2274.470000000001, 984.0100000000002, 403.34999999999997, 614.6200000000002, 1414.8299999999997, 4022.219999999999, 3378.8899999999994, 1638.6100000000001, 2272.789999999999, 1451.6399999999996, 14501.740000000002, 1265.7800000000002, 1375.6999999999998, 3810.9899999999984, 656.1600000000001, 1424.3900000000006, 1232.4500000000003, 2005.7500000000007, 1860.2500000000002, 2973.5499999999997, 754.6100000000001, 1634.9900000000002, 2637.7499999999986, 1375.7599999999993, 2127.1299999999983, 1184.1299999999999, 416.4599999999997, 1819.9800000000005, 3728.3599999999956, 2505.8499999999967, 2493.67, 1533.9300000000007, 691.9400000000002, 1365.1200000000006, 2209.19, 1200.8100000000002, 1530.29, 1393.6599999999996, 431.53, 1478.7800000000002, 4414.309999999997, 2818.15, 2737.67, 1492.5999999999995, 853.0700000000012, 3896.919999999996, 2800.5699999999997, 1912.549999999999, 2447.129999999999, 2246.8199999999993, 1022.7699999999999, 2224.91, 2185.1699999999987, 1672.9999999999995, 1716.5800000000006, 2697.939999999999, 1028.4200000000005, 2340.0199999999995, 3061.2799999999993, 2729.1999999999985, 3206.549999999996, 2393.6400000000003, 453.56000000000006, 2532.1199999999976, 1327.5800000000004, 3531.949999999999, 2580.079999999998, 3325.6099999999983, 2574.510000000001, 1946.550000000001, 2038.1699999999996, 2570.6899999999996, 4971.6900000000005, 2867.289999999999, 545.2000000000006, 1868.420000000001, 4673.24, 2615.7400000000007, 3677.1600000000008, 4226.219999999998, 723.2900000000009, 5740.620000000002, 1967.8400000000006, 1479.9399999999998, 2362.2100000000005, 1827.8099999999984, 1242.57, 2361.4100000000003, 3154.6199999999976, 3867.970000000001, 7148.609999999995, 1836.2099999999994, 1776.8799999999994, 15194.540000000003, 3539.049999999996, 2989.2600000000016, 3628.6700000000023, 2947.899999999997, 3726.029999999999, 2030.6799999999987, 1968.6799999999996, 2969.319999999999, 2651.559999999999, 3000.370000000002, 3623.6599999999967, 2952.309999999997, 2746.4900000000016, 5694.809999999996, 4962.929999999999, 7447.820000000002, 5022.840000000002, 1129.6200000000001, 3948.66, 5399.279999999997, 5041.149999999999, 4183.140000000001, 3977.3099999999986, 2576.459999999999, 5618.710000000005, 2639.6200000000013, 4870.160000000003, 6845.250000000001, 2689.560000000002, 780.15, 3037.269999999999, 1739.5399999999997, 5406.359999999993, 1401.7399999999993, 4837.019999999996, 2288.3599999999988, 4053.97, 3945.3199999999997, 3927.1199999999994, 2242.5700000000006, 1425.4000000000012, 2806.02, 2161.8999999999996, 6887.449999999997, 4172.64, 2553.6600000000003, 2845.1199999999994, 5642.779999999996, 3506.109999999999, 3881.46, 2655.039999999999, 2031.649999999999, 668.0400000000003, 2213.1399999999994, 5230.449999999997, 3008.3999999999996, 3918.790000000002, 1902.2299999999993, 614.1300000000002, 1205.5200000000004, 3493.0700000000015, 3481.760000000001, 5216.6600000000035, 4432.25, 625.310000000001, 2248.3299999999995, 2023.929999999999, 2475.9299999999985, 2811.439999999998, 989.0700000000002, 2775.439999999995, 2378.0999999999967, 4586.419999999998, 3543.3999999999974, 2859.69, 1457.5999999999995, 4095.3800000000015, 2639.909999999997, 2675.670000000002, 4217.280000000001, 6239.7500000000055, 3549.080000000002, 2181.3399999999983, 4629.559999999997, 2387.189999999999, 2700.6299999999997, 11339.319999999998, 3581.0199999999973, 852.6299999999999, 2973.259999999999, 5660.4, 4747.800000000004, 7137.0, 1728.8799999999999, 756.6700000000003, 2310.4499999999975, 2167.5899999999992, 6247.95, 9253.620000000003, 2834.769999999999, 3257.3599999999956, 4730.5300000000025, 4896.330000000003, 13153.599999999997, 3198.140000000002, 3594.9900000000002, 1997.5400000000025, 1576.9199999999994, 5318.860000000003, 5621.739999999993, 3840.59, 1953.35, 7663.4500000000035, 4649.839999999999, 5966.929999999992, 4039.160000000003, 3650.11, 5520.839999999997, 3626.5399999999995, 9942.119999999986, 3070.0199999999973, 7276.140000000004, 3682.790000000001, 3072.0199999999954, 8016.110000000005, 12426.31999999999, 9447.109999999999, 9729.539999999999, 6529.149999999998, 4686.210000000001, 3775.14, 4465.650000000003, 6331.5699999999915, 9559.489999999989, 5589.849999999996, 857.3400000000008, 4457.479999999998, 4292.9299999999985, 10062.300000000007, 21830.789999999983, 8834.409999999994, 1675.8700000000006, 6274.009999999992, 7844.649999999993, 4000.290000000001, 4879.059999999995, 4303.5300000000025, 1613.9599999999996, 6608.270000000006, 4280.189999999999, 3987.1099999999965, 8732.190000000006, 4503.759999999999, 1211.5500000000004, 6388.3200000000015, 5505.8700000000035, 6431.94, 12292.749999999998, 8426.180000000002, 5519.639999999994, 5627.840000000004, 6176.709999999986, 6539.400000000001, 9694.3, 8686.759999999991, 7596.319999999982, 4544.350000000002, 7135.500000000006, 18403.729999999985, 12148.120000000006, 6477.529999999997, 4079.109999999991, 10056.549999999983, 8523.009999999995, 8051.260000000003, 9608.649999999994, 5211.679999999998, 4023.3699999999935, 4231.309999999999, 7277.950000000006, 6358.269999999994, 6531.919999999995, 4706.449999999995, 3087.8799999999933, 8335.509999999987, 11952.499999999995, 8936.769999999988, 8113.4699999999975, 12390.399999999989, 3851.4499999999975, 9807.419999999993, 8063.339999999995, 14966.619999999994, 6821.8899999999985, 2583.460000000001]}, {\"line\": {\"color\": \"rgba(128, 0, 128, 1.0)\", \"dash\": \"solid\", \"shape\": \"linear\", \"width\": 1.3}, \"mode\": \"lines\", \"name\": \"High\", \"text\": \"\", \"type\": \"scatter\", \"x\": [\"2010-12-01\", \"2010-12-02\", \"2010-12-03\", \"2010-12-05\", \"2010-12-06\", \"2010-12-07\", \"2010-12-08\", \"2010-12-09\", \"2010-12-10\", \"2010-12-12\", \"2010-12-13\", \"2010-12-14\", \"2010-12-15\", \"2010-12-16\", \"2010-12-17\", \"2010-12-19\", \"2010-12-20\", \"2010-12-21\", \"2010-12-22\", \"2010-12-23\", \"2011-01-04\", \"2011-01-05\", \"2011-01-06\", \"2011-01-07\", \"2011-01-09\", \"2011-01-10\", \"2011-01-11\", \"2011-01-12\", \"2011-01-13\", \"2011-01-14\", \"2011-01-16\", \"2011-01-17\", \"2011-01-18\", \"2011-01-19\", \"2011-01-20\", \"2011-01-21\", \"2011-01-23\", \"2011-01-24\", \"2011-01-25\", \"2011-01-26\", \"2011-01-27\", \"2011-01-28\", \"2011-01-30\", \"2011-01-31\", \"2011-02-01\", \"2011-02-02\", \"2011-02-03\", \"2011-02-04\", \"2011-02-06\", \"2011-02-07\", \"2011-02-08\", \"2011-02-09\", \"2011-02-10\", \"2011-02-11\", \"2011-02-13\", \"2011-02-14\", \"2011-02-15\", \"2011-02-16\", \"2011-02-17\", \"2011-02-18\", \"2011-02-20\", \"2011-02-21\", \"2011-02-22\", \"2011-02-23\", \"2011-02-24\", \"2011-02-25\", \"2011-02-27\", \"2011-02-28\", \"2011-03-01\", \"2011-03-02\", \"2011-03-03\", \"2011-03-04\", \"2011-03-06\", \"2011-03-07\", \"2011-03-08\", \"2011-03-09\", \"2011-03-10\", \"2011-03-11\", \"2011-03-13\", \"2011-03-14\", \"2011-03-15\", \"2011-03-16\", \"2011-03-17\", \"2011-03-18\", \"2011-03-20\", \"2011-03-21\", \"2011-03-22\", \"2011-03-23\", \"2011-03-24\", \"2011-03-25\", \"2011-03-27\", \"2011-03-28\", \"2011-03-29\", \"2011-03-30\", \"2011-03-31\", \"2011-04-01\", \"2011-04-03\", \"2011-04-04\", \"2011-04-05\", \"2011-04-06\", \"2011-04-07\", \"2011-04-08\", \"2011-04-10\", \"2011-04-11\", \"2011-04-12\", \"2011-04-13\", \"2011-04-14\", \"2011-04-15\", \"2011-04-17\", \"2011-04-18\", \"2011-04-19\", \"2011-04-20\", \"2011-04-21\", \"2011-04-26\", \"2011-04-27\", \"2011-04-28\", \"2011-05-01\", \"2011-05-03\", \"2011-05-04\", \"2011-05-05\", \"2011-05-06\", \"2011-05-08\", \"2011-05-09\", \"2011-05-10\", \"2011-05-11\", \"2011-05-12\", \"2011-05-13\", \"2011-05-15\", \"2011-05-16\", \"2011-05-17\", \"2011-05-18\", \"2011-05-19\", \"2011-05-20\", \"2011-05-22\", \"2011-05-23\", \"2011-05-24\", \"2011-05-25\", \"2011-05-26\", \"2011-05-27\", \"2011-05-29\", \"2011-05-31\", \"2011-06-01\", \"2011-06-02\", \"2011-06-03\", \"2011-06-05\", \"2011-06-06\", \"2011-06-07\", \"2011-06-08\", \"2011-06-09\", \"2011-06-10\", \"2011-06-12\", \"2011-06-13\", \"2011-06-14\", \"2011-06-15\", \"2011-06-16\", \"2011-06-17\", \"2011-06-19\", \"2011-06-20\", \"2011-06-21\", \"2011-06-22\", \"2011-06-23\", \"2011-06-24\", \"2011-06-26\", \"2011-06-27\", \"2011-06-28\", \"2011-06-29\", \"2011-06-30\", \"2011-07-01\", \"2011-07-03\", \"2011-07-04\", \"2011-07-05\", \"2011-07-06\", \"2011-07-07\", \"2011-07-08\", \"2011-07-10\", \"2011-07-11\", \"2011-07-12\", \"2011-07-13\", \"2011-07-14\", \"2011-07-15\", \"2011-07-17\", \"2011-07-18\", \"2011-07-19\", \"2011-07-20\", \"2011-07-21\", \"2011-07-22\", \"2011-07-24\", \"2011-07-25\", \"2011-07-26\", \"2011-07-27\", \"2011-07-28\", \"2011-07-29\", \"2011-07-31\", \"2011-08-01\", \"2011-08-02\", \"2011-08-03\", \"2011-08-04\", \"2011-08-05\", \"2011-08-07\", \"2011-08-08\", \"2011-08-09\", \"2011-08-10\", \"2011-08-11\", \"2011-08-12\", \"2011-08-14\", \"2011-08-15\", \"2011-08-16\", \"2011-08-17\", \"2011-08-18\", \"2011-08-19\", \"2011-08-21\", \"2011-08-22\", \"2011-08-23\", \"2011-08-24\", \"2011-08-25\", \"2011-08-26\", \"2011-08-28\", \"2011-08-30\", \"2011-08-31\", \"2011-09-01\", \"2011-09-02\", \"2011-09-04\", \"2011-09-05\", \"2011-09-06\", \"2011-09-07\", \"2011-09-08\", \"2011-09-09\", \"2011-09-11\", \"2011-09-12\", \"2011-09-13\", \"2011-09-14\", \"2011-09-15\", \"2011-09-16\", \"2011-09-18\", \"2011-09-19\", \"2011-09-20\", \"2011-09-21\", \"2011-09-22\", \"2011-09-23\", \"2011-09-25\", \"2011-09-26\", \"2011-09-27\", \"2011-09-28\", \"2011-09-29\", \"2011-09-30\", \"2011-10-02\", \"2011-10-03\", \"2011-10-04\", \"2011-10-05\", \"2011-10-06\", \"2011-10-07\", \"2011-10-09\", \"2011-10-10\", \"2011-10-11\", \"2011-10-12\", \"2011-10-13\", \"2011-10-14\", \"2011-10-16\", \"2011-10-17\", \"2011-10-18\", \"2011-10-19\", \"2011-10-20\", \"2011-10-21\", \"2011-10-23\", \"2011-10-24\", \"2011-10-25\", \"2011-10-26\", \"2011-10-27\", \"2011-10-28\", \"2011-10-30\", \"2011-10-31\", \"2011-11-01\", \"2011-11-02\", \"2011-11-03\", \"2011-11-04\", \"2011-11-06\", \"2011-11-07\", \"2011-11-08\", \"2011-11-09\", \"2011-11-10\", \"2011-11-11\", \"2011-11-13\", \"2011-11-14\", \"2011-11-15\", \"2011-11-16\", \"2011-11-17\", \"2011-11-18\", \"2011-11-20\", \"2011-11-21\", \"2011-11-22\", \"2011-11-23\", \"2011-11-24\", \"2011-11-25\", \"2011-11-27\", \"2011-11-28\", \"2011-11-29\", \"2011-11-30\", \"2011-12-01\", \"2011-12-02\", \"2011-12-04\", \"2011-12-05\", \"2011-12-06\", \"2011-12-07\", \"2011-12-08\", \"2011-12-09\"], \"y\": [15021.080000000034, 9539.42000000001, 5795.979999999991, 8565.609999999986, 7722.449999999992, 18671.069999999992, 9872.249999999993, 13401.710000000025, 5840.019999999993, 4106.399999999997, 7137.159999999999, 7103.129999999991, 5590.7999999999965, 12638.940000000008, 3545.939999999999, 2276.020000000001, 4915.849999999996, 4019.2599999999993, 977.3500000000001, 1639.0000000000005, 3052.4899999999993, 7753.339999999996, 7156.319999999994, 4909.419999999997, 4376.749999999995, 2663.7100000000005, 27383.130000000034, 3843.249999999998, 3037.0400000000004, 10508.410000000002, 1428.090000000001, 4018.7099999999987, 1568.3000000000004, 4632.859999999995, 4840.109999999997, 5592.330000000001, 2253.4000000000024, 3168.5699999999997, 4915.9299999999985, 4211.6399999999985, 4865.8600000000015, 4538.710000000004, 1834.0000000000007, 3107.899999999998, 5860.659999999996, 3751.739999999998, 6548.019999999992, 4104.349999999998, 635.85, 6181.759999999999, 3510.2199999999975, 3478.2299999999977, 3022.1, 3838.1999999999994, 1031.3000000000006, 6098.909999999994, 8609.599999999999, 5308.709999999997, 2825.1200000000013, 3573.5699999999997, 2064.4100000000003, 7284.029999999996, 5992.549999999999, 3547.5099999999984, 4199.559999999996, 4325.469999999995, 2011.3500000000022, 3292.419999999999, 4856.5499999999965, 3627.32, 7236.599999999996, 3446.8399999999974, 2403.550000000001, 3365.209999999999, 4208.669999999996, 4113.689999999996, 5112.579999999998, 3993.8399999999997, 882.5500000000001, 4242.439999999994, 3432.6099999999997, 4083.759999999999, 3846.17, 5036.549999999998, 4320.389999999999, 3174.789999999999, 3957.95, 3841.41, 11385.639999999996, 5815.370000000002, 1807.0500000000009, 3013.339999999998, 7347.279999999996, 6130.809999999999, 5960.859999999999, 4192.459999999996, 1360.35, 4958.529999999997, 9930.970000000001, 2721.199999999999, 3911.919999999997, 5453.509999999998, 2336.710000000001, 5463.259999999997, 5295.960000000003, 5032.819999999998, 8304.629999999996, 3427.529999999998, 3059.6299999999997, 10077.720000000007, 3638.6600000000008, 6039.510000000002, 6814.349999999997, 6069.129999999992, 4652.159999999996, 4444.639999999997, 1110.54, 6784.3199999999915, 6660.229999999996, 6108.170000000001, 6102.249999999994, 4207.35, 4764.559999999999, 5762.059999999994, 6113.010000000003, 12444.020000000015, 4267.599999999999, 2603.9199999999983, 5585.109999999997, 10021.800000000001, 7820.429999999991, 7118.859999999992, 4853.219999999997, 5574.519999999997, 5220.150000000002, 11677.41000000001, 3350.079999999998, 10900.259999999998, 3315.959999999999, 1389.1600000000012, 3512.929999999998, 4137.819999999998, 4860.079999999999, 3559.3099999999977, 5328.289999999998, 3099.42, 3790.929999999999, 6226.979999999995, 4517.049999999999, 4313.190000000002, 2557.06, 5171.059999999998, 10885.710000000003, 14527.390000000005, 10045.509999999998, 3276.0300000000007, 3829.1499999999983, 6075.649999999995, 4107.189999999998, 3503.95, 4091.489999999999, 3080.4799999999996, 1716.8700000000008, 3109.609999999999, 5290.300000000003, 2719.69, 13886.310000000001, 2185.5100000000007, 1124.4300000000003, 6201.300000000001, 4204.6, 4660.209999999999, 6370.71, 4192.400000000001, 1233.3600000000008, 4364.609999999997, 6029.649999999998, 3057.8000000000025, 9324.419999999991, 2628.220000000001, 2752.94, 4650.439999999998, 11356.599999999995, 8554.499999999995, 4553.609999999999, 3626.0499999999993, 6064.529999999998, 3087.4899999999993, 2535.3999999999996, 5318.519999999997, 17340.8, 3285.8899999999985, 11273.219999999996, 2739.120000000001, 4040.1099999999997, 6115.039999999994, 10250.189999999997, 4282.620000000002, 1413.7200000000005, 3371.620000000001, 6426.32, 3359.709999999998, 8541.699999999999, 3678.499999999999, 1307.08, 2929.739999999997, 3133.849999999999, 14716.280000000008, 13596.570000000022, 2618.459999999998, 3032.8300000000004, 9298.170000000006, 3972.0899999999983, 5601.159999999996, 4803.789999999997, 3894.8300000000004, 2210.4699999999993, 2102.3399999999997, 3888.3999999999983, 8217.279999999999, 8516.54, 3808.720000000001, 7511.990000000001, 5292.519999999995, 4029.009999999999, 3694.0899999999997, 5956.1100000000015, 8591.96, 6097.749999999992, 9117.260000000002, 5365.509999999994, 9047.26000000001, 5645.94, 4112.429999999999, 11572.060000000012, 27985.310000000012, 7523.269999999998, 11774.890000000014, 6876.850000000001, 7369.419999999987, 7606.420000000008, 6506.590000000002, 9490.509999999995, 9795.340000000011, 7849.969999999989, 2313.330000000001, 20472.070000000018, 10383.85000000001, 18605.87000000002, 10607.850000000017, 15238.980000000023, 2936.910000000001, 9847.719999999961, 13572.39000000001, 7314.080000000001, 8424.489999999994, 7185.420000000002, 5782.239999999996, 9990.01000000001, 7226.399999999999, 6245.939999999996, 14466.350000000026, 8874.759999999995, 2633.24, 8241.520000000006, 10006.790000000005, 7998.549999999987, 8611.169999999998, 7607.659999999992, 8136.629999999997, 8870.100000000013, 6267.8099999999895, 11148.540000000014, 19754.910000000018, 15326.840000000031, 9658.170000000002, 5316.209999999999, 7478.339999999994, 12059.830000000022, 17009.370000000014, 7788.960000000001, 6357.389999999997, 16956.439999999988, 11613.249999999993, 10095.11, 13906.120000000019, 9263.95999999999, 6955.539999999992, 12470.010000000013, 10102.079999999996, 20108.219999999994, 8666.389999999983, 7950.84, 3136.5399999999995, 16738.41999999994, 9646.839999999993, 9706.819999999996, 12244.82000000001, 8734.559999999996, 4433.439999999998, 14502.809999999976, 11105.139999999998, 22070.800000000036, 18138.47000000002, 3451.189999999999]}, {\"line\": {\"color\": \"rgba(219, 64, 82, 1.0)\", \"dash\": \"solid\", \"shape\": \"linear\", \"width\": 1.3}, \"mode\": \"lines\", \"name\": \"Very High\", \"text\": \"\", \"type\": \"scatter\", \"x\": [\"2010-12-01\", \"2010-12-02\", \"2010-12-03\", \"2010-12-05\", \"2010-12-06\", \"2010-12-07\", \"2010-12-08\", \"2010-12-09\", \"2010-12-10\", \"2010-12-12\", \"2010-12-13\", \"2010-12-14\", \"2010-12-15\", \"2010-12-16\", \"2010-12-17\", \"2010-12-19\", \"2010-12-20\", \"2010-12-21\", \"2010-12-22\", \"2010-12-23\", \"2011-01-04\", \"2011-01-05\", \"2011-01-06\", \"2011-01-07\", \"2011-01-09\", \"2011-01-10\", \"2011-01-11\", \"2011-01-12\", \"2011-01-13\", \"2011-01-14\", \"2011-01-16\", \"2011-01-17\", \"2011-01-18\", \"2011-01-19\", \"2011-01-20\", \"2011-01-21\", \"2011-01-23\", \"2011-01-24\", \"2011-01-25\", \"2011-01-26\", \"2011-01-27\", \"2011-01-28\", \"2011-01-30\", \"2011-01-31\", \"2011-02-01\", \"2011-02-02\", \"2011-02-03\", \"2011-02-04\", \"2011-02-06\", \"2011-02-07\", \"2011-02-08\", \"2011-02-09\", \"2011-02-10\", \"2011-02-11\", \"2011-02-13\", \"2011-02-14\", \"2011-02-15\", \"2011-02-16\", \"2011-02-17\", \"2011-02-18\", \"2011-02-20\", \"2011-02-21\", \"2011-02-22\", \"2011-02-23\", \"2011-02-24\", \"2011-02-25\", \"2011-02-27\", \"2011-02-28\", \"2011-03-01\", \"2011-03-02\", \"2011-03-03\", \"2011-03-04\", \"2011-03-06\", \"2011-03-07\", \"2011-03-08\", \"2011-03-09\", \"2011-03-10\", \"2011-03-11\", \"2011-03-13\", \"2011-03-14\", \"2011-03-15\", \"2011-03-16\", \"2011-03-17\", \"2011-03-18\", \"2011-03-20\", \"2011-03-21\", \"2011-03-22\", \"2011-03-23\", \"2011-03-24\", \"2011-03-25\", \"2011-03-27\", \"2011-03-28\", \"2011-03-29\", \"2011-03-30\", \"2011-03-31\", \"2011-04-01\", \"2011-04-03\", \"2011-04-04\", \"2011-04-05\", \"2011-04-06\", \"2011-04-07\", \"2011-04-08\", \"2011-04-10\", \"2011-04-11\", \"2011-04-12\", \"2011-04-13\", \"2011-04-14\", \"2011-04-15\", \"2011-04-17\", \"2011-04-18\", \"2011-04-19\", \"2011-04-20\", \"2011-04-21\", \"2011-04-26\", \"2011-04-27\", \"2011-04-28\", \"2011-05-01\", \"2011-05-03\", \"2011-05-04\", \"2011-05-05\", \"2011-05-06\", \"2011-05-08\", \"2011-05-09\", \"2011-05-10\", \"2011-05-11\", \"2011-05-12\", \"2011-05-13\", \"2011-05-15\", \"2011-05-16\", \"2011-05-17\", \"2011-05-18\", \"2011-05-19\", \"2011-05-20\", \"2011-05-22\", \"2011-05-23\", \"2011-05-24\", \"2011-05-25\", \"2011-05-26\", \"2011-05-27\", \"2011-05-29\", \"2011-05-31\", \"2011-06-01\", \"2011-06-02\", \"2011-06-03\", \"2011-06-05\", \"2011-06-06\", \"2011-06-07\", \"2011-06-08\", \"2011-06-09\", \"2011-06-10\", \"2011-06-12\", \"2011-06-13\", \"2011-06-14\", \"2011-06-15\", \"2011-06-16\", \"2011-06-17\", \"2011-06-19\", \"2011-06-20\", \"2011-06-21\", \"2011-06-22\", \"2011-06-23\", \"2011-06-24\", \"2011-06-26\", \"2011-06-27\", \"2011-06-28\", \"2011-06-29\", \"2011-06-30\", \"2011-07-01\", \"2011-07-03\", \"2011-07-04\", \"2011-07-05\", \"2011-07-06\", \"2011-07-07\", \"2011-07-08\", \"2011-07-10\", \"2011-07-11\", \"2011-07-12\", \"2011-07-13\", \"2011-07-14\", \"2011-07-15\", \"2011-07-17\", \"2011-07-18\", \"2011-07-19\", \"2011-07-20\", \"2011-07-21\", \"2011-07-22\", \"2011-07-24\", \"2011-07-25\", \"2011-07-26\", \"2011-07-27\", \"2011-07-28\", \"2011-07-29\", \"2011-07-31\", \"2011-08-01\", \"2011-08-02\", \"2011-08-03\", \"2011-08-04\", \"2011-08-05\", \"2011-08-07\", \"2011-08-08\", \"2011-08-09\", \"2011-08-10\", \"2011-08-11\", \"2011-08-12\", \"2011-08-14\", \"2011-08-15\", \"2011-08-16\", \"2011-08-17\", \"2011-08-18\", \"2011-08-19\", \"2011-08-21\", \"2011-08-22\", \"2011-08-23\", \"2011-08-24\", \"2011-08-25\", \"2011-08-26\", \"2011-08-28\", \"2011-08-30\", \"2011-08-31\", \"2011-09-01\", \"2011-09-02\", \"2011-09-04\", \"2011-09-05\", \"2011-09-06\", \"2011-09-07\", \"2011-09-08\", \"2011-09-09\", \"2011-09-11\", \"2011-09-12\", \"2011-09-13\", \"2011-09-14\", \"2011-09-15\", \"2011-09-16\", \"2011-09-18\", \"2011-09-19\", \"2011-09-20\", \"2011-09-21\", \"2011-09-22\", \"2011-09-23\", \"2011-09-25\", \"2011-09-26\", \"2011-09-27\", \"2011-09-28\", \"2011-09-29\", \"2011-09-30\", \"2011-10-02\", \"2011-10-03\", \"2011-10-04\", \"2011-10-05\", \"2011-10-06\", \"2011-10-07\", \"2011-10-09\", \"2011-10-10\", \"2011-10-11\", \"2011-10-12\", \"2011-10-13\", \"2011-10-14\", \"2011-10-16\", \"2011-10-17\", \"2011-10-18\", \"2011-10-19\", \"2011-10-20\", \"2011-10-21\", \"2011-10-23\", \"2011-10-24\", \"2011-10-25\", \"2011-10-26\", \"2011-10-27\", \"2011-10-28\", \"2011-10-30\", \"2011-10-31\", \"2011-11-01\", \"2011-11-02\", \"2011-11-03\", \"2011-11-04\", \"2011-11-06\", \"2011-11-07\", \"2011-11-08\", \"2011-11-09\", \"2011-11-10\", \"2011-11-11\", \"2011-11-13\", \"2011-11-14\", \"2011-11-15\", \"2011-11-16\", \"2011-11-17\", \"2011-11-18\", \"2011-11-20\", \"2011-11-21\", \"2011-11-22\", \"2011-11-23\", \"2011-11-24\", \"2011-11-25\", \"2011-11-27\", \"2011-11-28\", \"2011-11-29\", \"2011-11-30\", \"2011-12-01\", \"2011-12-02\", \"2011-12-04\", \"2011-12-05\", \"2011-12-06\", \"2011-12-07\", \"2011-12-08\", \"2011-12-09\"], \"y\": [11281.039999999994, 14563.450000000003, 9316.600000000013, 9679.249999999987, 9130.02999999999, 22643.76999999999, 10815.670000000004, 12811.590000000002, 12706.94, 5247.699999999993, 8016.259999999992, 8251.719999999985, 10430.44000000001, 11432.180000000017, 7862.799999999995, 2078.5000000000014, 6037.599999999992, 3237.1, 1421.980000000001, 1358.7000000000007, 4019.5999999999995, 6224.899999999993, 9459.039999999995, 6134.099999999995, 4513.499999999993, 4838.029999999995, 10986.14, 7134.999999999988, 4308.549999999999, 11283.810000000001, 1943.0000000000018, 5030.599999999993, 3642.5199999999973, 3070.939999999998, 3506.099999999999, 7650.719999999997, 3765.0999999999985, 6627.489999999992, 6871.549999999991, 5889.399999999992, 8520.89, 6135.399999999997, 2262.6000000000017, 5173.349999999992, 7301.449999999991, 5057.349999999993, 5165.599999999996, 5435.899999999998, 1221.5500000000009, 12047.730000000001, 2765.1000000000004, 2957.0999999999967, 4684.749999999995, 6938.749999999998, 2340.150000000001, 5217.999999999997, 11706.550000000001, 6530.800000000001, 4414.05, 2918.7499999999986, 3468.4499999999944, 5400.149999999989, 5697.249999999993, 7021.299999999999, 7674.059999999991, 4971.699999999998, 3441.1499999999965, 4442.649999999994, 7494.249999999991, 8780.589999999998, 11786.150000000003, 2663.2000000000016, 3588.2499999999995, 6551.549999999993, 6948.699999999991, 7102.699999999996, 6954.199999999996, 5427.65, 1320.6000000000015, 7667.7499999999945, 4567.0999999999985, 7117.799999999991, 7243.699999999997, 7270.349999999996, 6072.779999999989, 4019.049999999999, 5289.299999999993, 5351.25, 9443.95999999999, 7694.24, 3664.699999999997, 5626.549999999995, 6237.229999999993, 6685.649999999994, 7523.149999999993, 5352.7999999999965, 1876.1500000000015, 5212.429999999995, 6794.4999999999945, 3509.5399999999972, 4482.799999999991, 5775.299999999998, 2824.7800000000016, 4461.199999999995, 6023.59999999999, 5222.049999999996, 9718.599999999995, 6644.0499999999965, 3176.0599999999986, 9538.800000000005, 4432.149999999996, 6066.669999999991, 7458.099999999997, 5317.9999999999945, 6343.149999999992, 6005.799999999994, 1605.7500000000014, 4920.049999999998, 8517.74999999999, 7083.249999999991, 11169.850000000013, 5434.249999999994, 6256.339999999997, 8549.249999999985, 8845.879999999983, 14638.890000000016, 8210.19999999999, 2994.4799999999973, 18053.91, 15578.349999999999, 9025.829999999984, 9837.700000000003, 5928.999999999996, 7868.8299999999845, 7441.99999999999, 12092.380000000005, 4704.94, 6120.449999999997, 5503.799999999998, 2757.1999999999935, 5380.149999999995, 2715.3299999999986, 10139.740000000002, 5495.999999999997, 6787.449999999998, 4713.979999999995, 16717.94999999999, 8226.649999999987, 23550.780000000013, 46151.8, 3205.000000000002, 4953.739999999996, 14943.530000000012, 6505.059999999997, 6587.299999999997, 6045.589999999993, 6012.719999999993, 6449.949999999997, 5273.849999999998, 4738.399999999997, 5729.249999999997, 4508.7000000000035, 2614.249999999999, 2965.4099999999985, 6326.269999999999, 3091.549999999998, 10816.999999999993, 3202.5799999999967, 2134.400000000001, 17340.850000000002, 7549.699999999995, 4983.899999999998, 6598.300000000001, 2969.649999999999, 1724.3500000000017, 5115.199999999993, 3394.749999999999, 3773.6000000000004, 10688.0, 3808.699999999999, 5452.049999999995, 6962.699999999987, 14629.570000000009, 5951.0499999999965, 10190.39999999999, 4480.899999999999, 6864.349999999995, 4446.2999999999965, 4315.15, 5313.999999999997, 16268.150000000005, 3542.9500000000007, 8820.449999999997, 5368.8499999999885, 3907.100000000001, 6966.099999999989, 12859.649999999989, 4844.689999999994, 1938.5000000000005, 4962.899999999994, 4159.030000000001, 3776.9999999999995, 7168.249999999999, 4009.7000000000025, 1646.1000000000017, 5374.7499999999945, 3772.999999999998, 13088.80999999999, 11027.180000000013, 5152.350000000003, 4155.2999999999965, 7097.749999999993, 5370.890000000002, 6966.899999999994, 5616.549999999995, 4430.1500000000015, 2439.200000000001, 2541.1500000000005, 4753.849999999998, 7196.849999999999, 7964.829999999991, 4559.099999999999, 8185.119999999999, 7272.549999999996, 3133.430000000001, 5026.679999999996, 7125.779999999991, 10129.930000000008, 7468.489999999993, 8272.119999999994, 5399.9999999999945, 41567.399999999994, 6373.399999999998, 4224.689999999996, 7454.400000000001, 43566.82999999992, 10597.940000000019, 18420.519999999997, 6212.749999999997, 8905.299999999992, 9010.329999999998, 7892.899999999997, 10388.099999999993, 9736.480000000003, 14703.530000000006, 4616.999999999995, 20070.2, 9865.909999999998, 19172.09000000003, 11120.600000000026, 7567.349999999998, 4057.629999999996, 12741.420000000027, 10237.500000000004, 6601.199999999996, 9147.449999999992, 9714.039999999999, 10210.230000000014, 10805.17000000001, 9144.020000000004, 9486.899999999998, 13773.72000000003, 33324.25000000001, 4252.1999999999925, 10114.859999999997, 6026.959999999989, 8553.84999999999, 10368.680000000004, 8930.350000000006, 9380.499999999993, 10409.979999999992, 7536.859999999995, 7744.8999999999905, 14621.740000000002, 12886.350000000011, 11501.199999999984, 9732.14999999999, 10305.7, 12437.73, 19227.370000000017, 7480.029999999997, 6513.399999999986, 12845.65, 11312.270000000008, 12248.979999999998, 15194.250000000033, 9776.74999999999, 8063.2299999999705, 13802.340000000007, 15289.490000000022, 21254.14000000001, 10076.849999999999, 6229.359999999996, 5021.3899999999885, 10527.45999999998, 13555.380000000036, 9856.300000000005, 10498.08000000001, 9709.899999999996, 5837.849999999991, 11904.649999999983, 12970.899999999989, 11827.700000000003, 13134.59000000001, 4851.049999999999]}],\n",
       "                        {\"legend\": {\"bgcolor\": \"#F5F6F9\", \"font\": {\"color\": \"#4D5663\"}}, \"paper_bgcolor\": \"#F5F6F9\", \"plot_bgcolor\": \"#F5F6F9\", \"template\": {\"data\": {\"bar\": [{\"error_x\": {\"color\": \"#2a3f5f\"}, \"error_y\": {\"color\": \"#2a3f5f\"}, \"marker\": {\"line\": {\"color\": \"#E5ECF6\", \"width\": 0.5}}, \"type\": \"bar\"}], \"barpolar\": [{\"marker\": {\"line\": {\"color\": \"#E5ECF6\", \"width\": 0.5}}, \"type\": \"barpolar\"}], \"carpet\": [{\"aaxis\": {\"endlinecolor\": \"#2a3f5f\", \"gridcolor\": \"white\", \"linecolor\": \"white\", \"minorgridcolor\": \"white\", \"startlinecolor\": \"#2a3f5f\"}, \"baxis\": {\"endlinecolor\": \"#2a3f5f\", \"gridcolor\": \"white\", \"linecolor\": \"white\", \"minorgridcolor\": \"white\", \"startlinecolor\": \"#2a3f5f\"}, \"type\": \"carpet\"}], \"choropleth\": [{\"colorbar\": {\"outlinewidth\": 0, \"ticks\": \"\"}, \"type\": \"choropleth\"}], \"contour\": [{\"colorbar\": {\"outlinewidth\": 0, \"ticks\": \"\"}, \"colorscale\": [[0.0, \"#0d0887\"], [0.1111111111111111, \"#46039f\"], [0.2222222222222222, \"#7201a8\"], [0.3333333333333333, \"#9c179e\"], [0.4444444444444444, \"#bd3786\"], [0.5555555555555556, \"#d8576b\"], [0.6666666666666666, \"#ed7953\"], [0.7777777777777778, \"#fb9f3a\"], [0.8888888888888888, \"#fdca26\"], [1.0, \"#f0f921\"]], \"type\": \"contour\"}], \"contourcarpet\": [{\"colorbar\": {\"outlinewidth\": 0, \"ticks\": \"\"}, \"type\": \"contourcarpet\"}], \"heatmap\": [{\"colorbar\": {\"outlinewidth\": 0, \"ticks\": \"\"}, \"colorscale\": [[0.0, \"#0d0887\"], [0.1111111111111111, \"#46039f\"], [0.2222222222222222, \"#7201a8\"], [0.3333333333333333, \"#9c179e\"], [0.4444444444444444, \"#bd3786\"], [0.5555555555555556, \"#d8576b\"], [0.6666666666666666, \"#ed7953\"], [0.7777777777777778, \"#fb9f3a\"], [0.8888888888888888, \"#fdca26\"], [1.0, \"#f0f921\"]], \"type\": \"heatmap\"}], \"heatmapgl\": [{\"colorbar\": {\"outlinewidth\": 0, \"ticks\": \"\"}, \"colorscale\": [[0.0, \"#0d0887\"], [0.1111111111111111, \"#46039f\"], [0.2222222222222222, \"#7201a8\"], [0.3333333333333333, \"#9c179e\"], [0.4444444444444444, \"#bd3786\"], [0.5555555555555556, \"#d8576b\"], [0.6666666666666666, \"#ed7953\"], [0.7777777777777778, \"#fb9f3a\"], [0.8888888888888888, \"#fdca26\"], [1.0, \"#f0f921\"]], \"type\": \"heatmapgl\"}], \"histogram\": [{\"marker\": {\"colorbar\": {\"outlinewidth\": 0, \"ticks\": \"\"}}, \"type\": \"histogram\"}], \"histogram2d\": [{\"colorbar\": {\"outlinewidth\": 0, \"ticks\": \"\"}, \"colorscale\": [[0.0, \"#0d0887\"], [0.1111111111111111, \"#46039f\"], [0.2222222222222222, \"#7201a8\"], [0.3333333333333333, \"#9c179e\"], [0.4444444444444444, \"#bd3786\"], [0.5555555555555556, \"#d8576b\"], [0.6666666666666666, \"#ed7953\"], [0.7777777777777778, \"#fb9f3a\"], [0.8888888888888888, \"#fdca26\"], [1.0, \"#f0f921\"]], \"type\": \"histogram2d\"}], \"histogram2dcontour\": [{\"colorbar\": {\"outlinewidth\": 0, \"ticks\": \"\"}, \"colorscale\": [[0.0, \"#0d0887\"], [0.1111111111111111, \"#46039f\"], [0.2222222222222222, \"#7201a8\"], [0.3333333333333333, \"#9c179e\"], [0.4444444444444444, \"#bd3786\"], [0.5555555555555556, \"#d8576b\"], [0.6666666666666666, \"#ed7953\"], [0.7777777777777778, \"#fb9f3a\"], [0.8888888888888888, \"#fdca26\"], [1.0, \"#f0f921\"]], \"type\": \"histogram2dcontour\"}], \"mesh3d\": [{\"colorbar\": {\"outlinewidth\": 0, \"ticks\": \"\"}, \"type\": \"mesh3d\"}], \"parcoords\": [{\"line\": {\"colorbar\": {\"outlinewidth\": 0, \"ticks\": \"\"}}, \"type\": \"parcoords\"}], \"scatter\": [{\"marker\": {\"colorbar\": {\"outlinewidth\": 0, \"ticks\": \"\"}}, \"type\": \"scatter\"}], \"scatter3d\": [{\"line\": {\"colorbar\": {\"outlinewidth\": 0, \"ticks\": \"\"}}, \"marker\": {\"colorbar\": {\"outlinewidth\": 0, \"ticks\": \"\"}}, \"type\": \"scatter3d\"}], \"scattercarpet\": [{\"marker\": {\"colorbar\": {\"outlinewidth\": 0, \"ticks\": \"\"}}, \"type\": \"scattercarpet\"}], \"scattergeo\": [{\"marker\": {\"colorbar\": {\"outlinewidth\": 0, \"ticks\": \"\"}}, \"type\": \"scattergeo\"}], \"scattergl\": [{\"marker\": {\"colorbar\": {\"outlinewidth\": 0, \"ticks\": \"\"}}, \"type\": \"scattergl\"}], \"scattermapbox\": [{\"marker\": {\"colorbar\": {\"outlinewidth\": 0, \"ticks\": \"\"}}, \"type\": \"scattermapbox\"}], \"scatterpolar\": [{\"marker\": {\"colorbar\": {\"outlinewidth\": 0, \"ticks\": \"\"}}, \"type\": \"scatterpolar\"}], \"scatterpolargl\": [{\"marker\": {\"colorbar\": {\"outlinewidth\": 0, \"ticks\": \"\"}}, \"type\": \"scatterpolargl\"}], \"scatterternary\": [{\"marker\": {\"colorbar\": {\"outlinewidth\": 0, \"ticks\": \"\"}}, \"type\": \"scatterternary\"}], \"surface\": [{\"colorbar\": {\"outlinewidth\": 0, \"ticks\": \"\"}, \"colorscale\": [[0.0, \"#0d0887\"], [0.1111111111111111, \"#46039f\"], [0.2222222222222222, \"#7201a8\"], [0.3333333333333333, \"#9c179e\"], [0.4444444444444444, \"#bd3786\"], [0.5555555555555556, \"#d8576b\"], [0.6666666666666666, \"#ed7953\"], [0.7777777777777778, \"#fb9f3a\"], [0.8888888888888888, \"#fdca26\"], [1.0, \"#f0f921\"]], \"type\": \"surface\"}], \"table\": [{\"cells\": {\"fill\": {\"color\": \"#EBF0F8\"}, \"line\": {\"color\": \"white\"}}, \"header\": {\"fill\": {\"color\": \"#C8D4E3\"}, \"line\": {\"color\": \"white\"}}, \"type\": \"table\"}]}, \"layout\": {\"annotationdefaults\": {\"arrowcolor\": \"#2a3f5f\", \"arrowhead\": 0, \"arrowwidth\": 1}, \"colorscale\": {\"diverging\": [[0, \"#8e0152\"], [0.1, \"#c51b7d\"], [0.2, \"#de77ae\"], [0.3, \"#f1b6da\"], [0.4, \"#fde0ef\"], [0.5, \"#f7f7f7\"], [0.6, \"#e6f5d0\"], [0.7, \"#b8e186\"], [0.8, \"#7fbc41\"], [0.9, \"#4d9221\"], [1, \"#276419\"]], \"sequential\": [[0.0, \"#0d0887\"], [0.1111111111111111, \"#46039f\"], [0.2222222222222222, \"#7201a8\"], [0.3333333333333333, \"#9c179e\"], [0.4444444444444444, \"#bd3786\"], [0.5555555555555556, \"#d8576b\"], [0.6666666666666666, \"#ed7953\"], [0.7777777777777778, \"#fb9f3a\"], [0.8888888888888888, \"#fdca26\"], [1.0, \"#f0f921\"]], \"sequentialminus\": [[0.0, \"#0d0887\"], [0.1111111111111111, \"#46039f\"], [0.2222222222222222, \"#7201a8\"], [0.3333333333333333, \"#9c179e\"], [0.4444444444444444, \"#bd3786\"], [0.5555555555555556, \"#d8576b\"], [0.6666666666666666, \"#ed7953\"], [0.7777777777777778, \"#fb9f3a\"], [0.8888888888888888, \"#fdca26\"], [1.0, \"#f0f921\"]]}, \"colorway\": [\"#636efa\", \"#EF553B\", \"#00cc96\", \"#ab63fa\", \"#FFA15A\", \"#19d3f3\", \"#FF6692\", \"#B6E880\", \"#FF97FF\", \"#FECB52\"], \"font\": {\"color\": \"#2a3f5f\"}, \"geo\": {\"bgcolor\": \"white\", \"lakecolor\": \"white\", \"landcolor\": \"#E5ECF6\", \"showlakes\": true, \"showland\": true, \"subunitcolor\": \"white\"}, \"hoverlabel\": {\"align\": \"left\"}, \"hovermode\": \"closest\", \"mapbox\": {\"style\": \"light\"}, \"paper_bgcolor\": \"white\", \"plot_bgcolor\": \"#E5ECF6\", \"polar\": {\"angularaxis\": {\"gridcolor\": \"white\", \"linecolor\": \"white\", \"ticks\": \"\"}, \"bgcolor\": \"#E5ECF6\", \"radialaxis\": {\"gridcolor\": \"white\", \"linecolor\": \"white\", \"ticks\": \"\"}}, \"scene\": {\"xaxis\": {\"backgroundcolor\": \"#E5ECF6\", \"gridcolor\": \"white\", \"gridwidth\": 2, \"linecolor\": \"white\", \"showbackground\": true, \"ticks\": \"\", \"zerolinecolor\": \"white\"}, \"yaxis\": {\"backgroundcolor\": \"#E5ECF6\", \"gridcolor\": \"white\", \"gridwidth\": 2, \"linecolor\": \"white\", \"showbackground\": true, \"ticks\": \"\", \"zerolinecolor\": \"white\"}, \"zaxis\": {\"backgroundcolor\": \"#E5ECF6\", \"gridcolor\": \"white\", \"gridwidth\": 2, \"linecolor\": \"white\", \"showbackground\": true, \"ticks\": \"\", \"zerolinecolor\": \"white\"}}, \"shapedefaults\": {\"line\": {\"color\": \"#2a3f5f\"}}, \"ternary\": {\"aaxis\": {\"gridcolor\": \"white\", \"linecolor\": \"white\", \"ticks\": \"\"}, \"baxis\": {\"gridcolor\": \"white\", \"linecolor\": \"white\", \"ticks\": \"\"}, \"bgcolor\": \"#E5ECF6\", \"caxis\": {\"gridcolor\": \"white\", \"linecolor\": \"white\", \"ticks\": \"\"}}, \"title\": {\"x\": 0.05}, \"xaxis\": {\"automargin\": true, \"gridcolor\": \"white\", \"linecolor\": \"white\", \"ticks\": \"\", \"zerolinecolor\": \"white\", \"zerolinewidth\": 2}, \"yaxis\": {\"automargin\": true, \"gridcolor\": \"white\", \"linecolor\": \"white\", \"ticks\": \"\", \"zerolinecolor\": \"white\", \"zerolinewidth\": 2}}}, \"title\": {\"font\": {\"color\": \"#4D5663\"}, \"text\": \"Total Revenue by Product Category by Time\"}, \"xaxis\": {\"gridcolor\": \"#E1E5ED\", \"showgrid\": true, \"tickfont\": {\"color\": \"#4D5663\"}, \"title\": {\"font\": {\"color\": \"#4D5663\"}, \"text\": \"Date\"}, \"zerolinecolor\": \"#E1E5ED\"}, \"yaxis\": {\"gridcolor\": \"#E1E5ED\", \"showgrid\": true, \"tickfont\": {\"color\": \"#4D5663\"}, \"title\": {\"font\": {\"color\": \"#4D5663\"}, \"text\": \"Total Revenue\"}, \"zerolinecolor\": \"#E1E5ED\"}},\n",
       "                        {\"showLink\": true, \"linkText\": \"Export to plot.ly\", \"plotlyServerURL\": \"https://plot.ly\", \"responsive\": true}\n",
       "                    ).then(function(){\n",
       "                            \n",
       "var gd = document.getElementById('6501e733-21ca-40b6-b101-f91f7e1d09ec');\n",
       "var x = new MutationObserver(function (mutations, observer) {{\n",
       "        var display = window.getComputedStyle(gd).display;\n",
       "        if (!display || display === 'none') {{\n",
       "            console.log([gd, 'removed!']);\n",
       "            Plotly.purge(gd);\n",
       "            observer.disconnect();\n",
       "        }}\n",
       "}});\n",
       "\n",
       "// Listen for the removal of the full notebook cells\n",
       "var notebookContainer = gd.closest('#notebook-container');\n",
       "if (notebookContainer) {{\n",
       "    x.observe(notebookContainer, {childList: true});\n",
       "}}\n",
       "\n",
       "// Listen for the clearing of the current output cell\n",
       "var outputEl = gd.closest('.output');\n",
       "if (outputEl) {{\n",
       "    x.observe(outputEl, {childList: true});\n",
       "}}\n",
       "\n",
       "                        })\n",
       "                };\n",
       "                });\n",
       "            </script>\n",
       "        </div>"
      ]
     },
     "metadata": {},
     "output_type": "display_data"
    }
   ],
   "source": [
    "# Plot revenue by product category by date: which product category performs the best (highest revenue) over time\n",
    "data7 = data5.pivot_table(values='Revenue', columns='PriceCategory', index='Date', aggfunc='sum').rename(columns=str).reset_index()\n",
    "\n",
    "data7.iplot(kind='line', x='Date', xTitle='Date', yTitle='Total Revenue', \n",
    "            title='Total Revenue by Product Category by Time') "
   ]
  },
  {
   "cell_type": "code",
   "execution_count": 40,
   "metadata": {},
   "outputs": [
    {
     "data": {
      "text/plain": [
       "F_onewayResult(statistic=70.36264898177728, pvalue=1.0147795890582934e-54)"
      ]
     },
     "execution_count": 40,
     "metadata": {},
     "output_type": "execute_result"
    }
   ],
   "source": [
    "# Is the total Revenue by category over time significantly different? \n",
    "data8 = data7[['Very Low', 'Low', 'Medium', 'High', 'Very High']]\n",
    "stats.f_oneway(data8['Very Low'], data8['Low'], data8['Medium'], data8['High'], data8['Very High']) # Yes it is "
   ]
  },
  {
   "cell_type": "code",
   "execution_count": null,
   "metadata": {},
   "outputs": [],
   "source": []
  }
 ],
 "metadata": {
  "kernelspec": {
   "display_name": "Python 3",
   "language": "python",
   "name": "python3"
  },
  "language_info": {
   "codemirror_mode": {
    "name": "ipython",
    "version": 3
   },
   "file_extension": ".py",
   "mimetype": "text/x-python",
   "name": "python",
   "nbconvert_exporter": "python",
   "pygments_lexer": "ipython3",
   "version": "3.6.4"
  }
 },
 "nbformat": 4,
 "nbformat_minor": 2
}
